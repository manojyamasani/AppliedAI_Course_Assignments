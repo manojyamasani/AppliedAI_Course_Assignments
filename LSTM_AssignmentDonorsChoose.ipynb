{
  "cells": [
    {
      "cell_type": "markdown",
      "metadata": {
        "id": "view-in-github",
        "colab_type": "text"
      },
      "source": [
        "<a href=\"https://colab.research.google.com/github/manojyamasani/AppliedAI_Course_Assignments/blob/main/LSTM_AssignmentDonorsChoose.ipynb\" target=\"_parent\"><img src=\"https://colab.research.google.com/assets/colab-badge.svg\" alt=\"Open In Colab\"/></a>"
      ]
    },
    {
      "cell_type": "markdown",
      "metadata": {
        "id": "v9yOLbhfUCTE"
      },
      "source": [
        "## Assignment : 14"
      ]
    },
    {
      "cell_type": "markdown",
      "metadata": {
        "id": "gWu_M7bXUCTI"
      },
      "source": [
        "<pre>\n",
        "1. You can work with preprocessed_data.csv for the assignment. You can get the data from - <a href='https://drive.google.com/drive/u/0/folders/1CJnItndeSSJu7aragQoXWZS9-0apN6pp'>Data folder </a>\n",
        "2. Load the data in your notebook.\n",
        "3. After step 2 you have to train 3 types of models as discussed below. \n",
        "4. For all the model use <a href='https://scikit-learn.org/stable/modules/model_evaluation.html#roc-metrics'>'auc'</a> as a metric. check <a  href='https://stackoverflow.com/a/46844409'>this</a> and <a  href='https://www.kaggle.com/c/santander-customer-transaction-prediction/discussion/80807'>this</a> for using auc as a metric \n",
        "5. You are free to choose any number of layers/hiddden units but you have to use same type of architectures shown below. \n",
        "6. You can use any one of the optimizers and choice of Learning rate and momentum.\n",
        "7. For all the model's use <a href='https://www.youtube.com/watch?v=2U6Jl7oqRkM'>TensorBoard</a> and plot the Metric value and Loss with epoch. While submitting, take a screenshot of plots and include those images in a separate pad and write your observations about them.\n",
        "8. Make sure that you are using GPU to train the given models.\n",
        "</pre>"
      ]
    },
    {
      "cell_type": "code",
      "execution_count": 1,
      "metadata": {
        "id": "jNNsO5zAUCTJ"
      },
      "outputs": [],
      "source": [
        "#you can use gdown modules to import dataset for the assignment\n",
        "#for importing any file from drive to Colab you can write the syntax as !gdown --id file_id\n",
        "#you can run the below cell to import the required preprocessed data.csv file and glove vector"
      ]
    },
    {
      "cell_type": "markdown",
      "metadata": {
        "id": "gh6GQ4GpUCTK"
      },
      "source": [
        "## <font color='red'> Model-1 </font>\n",
        "Build and Train deep neural network as shown below"
      ]
    },
    {
      "cell_type": "markdown",
      "metadata": {
        "id": "ReKOVEVxUCTK"
      },
      "source": [
        "<img src='https://i.imgur.com/w395Yk9.png'>\n",
        "ref: https://i.imgur.com/w395Yk9.png"
      ]
    },
    {
      "cell_type": "markdown",
      "metadata": {
        "id": "4EO5YSHmUCTL"
      },
      "source": [
        "- __Input_seq_total_text_data__ --- You have to give Total text data columns. After this use the Embedding layer to get word vectors. Use given predefined glove word vectors, don't train any word vectors. After this use LSTM and get the LSTM output and Flatten that output. \n",
        "- __Input_school_state__ --- Give 'school_state' column as input to embedding layer and Train the Keras Embedding layer. \n",
        "- __Project_grade_category__  --- Give 'project_grade_category' column as input to embedding layer and Train the Keras Embedding layer.\n",
        "- __Input_clean_categories__ --- Give 'input_clean_categories' column as input to embedding layer and Train the Keras Embedding layer.\n",
        "- __Input_clean_subcategories__ --- Give 'input_clean_subcategories' column as input to embedding layer and Train the Keras Embedding layer.\n",
        "- __Input_clean_subcategories__ --- Give 'input_teacher_prefix' column as input to embedding layer and Train the Keras Embedding layer.\n",
        "- __Input_remaining_teacher_number_of_previously_posted_projects._resource_summary_contains_numerical_digits._price._quantity__ ---concatenate remaining columns and add a Dense layer after that. \n",
        "\n"
      ]
    },
    {
      "cell_type": "markdown",
      "metadata": {
        "id": "ng_PesM5UCTM"
      },
      "source": [
        "Below is an example of embedding layer for a categorical columns. In below code all are dummy values, we gave only for referance. "
      ]
    },
    {
      "cell_type": "code",
      "execution_count": 2,
      "metadata": {
        "id": "l4hWyxoNUCTM"
      },
      "outputs": [],
      "source": [
        "# # https://stats.stackexchange.com/questions/270546/how-does-keras-embedding-layer-work\n",
        "# input_layer = Input(shape=(n,))\n",
        "# embedding = Embedding(no_1, no_2, input_length=n)(input_layer)\n",
        "# flatten = Flatten()(embedding)"
      ]
    },
    {
      "cell_type": "markdown",
      "metadata": {
        "id": "iqJ7_0VQUCTN"
      },
      "source": [
        "### 1. Go through this blog, if you have any doubt on using predefined Embedding values in Embedding layer - https://machinelearningmastery.com/use-word-embedding-layers-deep-learning-keras/\n",
        "### 2. Please go through this link https://keras.io/getting-started/functional-api-guide/ and check the 'Multi-input and multi-output models' then you will get to know how to give multiple inputs. "
      ]
    },
    {
      "cell_type": "code",
      "execution_count": 3,
      "metadata": {
        "colab": {
          "base_uri": "https://localhost:8080/"
        },
        "id": "FIcZ0oZANYXX",
        "outputId": "b76ffc64-5998-462a-d2f6-65cabebbcf15"
      },
      "outputs": [
        {
          "output_type": "stream",
          "name": "stdout",
          "text": [
            "Drive already mounted at /content/drive; to attempt to forcibly remount, call drive.mount(\"/content/drive\", force_remount=True).\n"
          ]
        }
      ],
      "source": [
        "from google.colab import drive\n",
        "drive.mount('/content/drive')"
      ]
    },
    {
      "cell_type": "markdown",
      "metadata": {
        "id": "ZblKDGNkUCTN"
      },
      "source": [
        "# <font color='red'> Model-1 </font>"
      ]
    },
    {
      "cell_type": "code",
      "execution_count": 4,
      "metadata": {
        "id": "pQHmeRQEUCTO"
      },
      "outputs": [],
      "source": [
        "# import all the libraries\n",
        "#make sure that you import your libraries from tf.keras and not just keras\n",
        "import tensorflow as tf"
      ]
    },
    {
      "cell_type": "code",
      "execution_count": 5,
      "metadata": {
        "id": "iIvhwgQ0SSUN"
      },
      "outputs": [],
      "source": [
        "\n",
        "# path = \"/Users/yamasanimanoj-kumarreddy/Documents/AAIC/Named_Assignments/LSTM Assignment/\"\n",
        "path = \"/content/drive/MyDrive/Named_Assignments/LSTM_DonorsChoose\"\n",
        "# path = \"/content/drive/MyDrive/DeepLearn/LSTM_DonorsChoose\""
      ]
    },
    {
      "cell_type": "code",
      "execution_count": 6,
      "metadata": {
        "colab": {
          "base_uri": "https://localhost:8080/",
          "height": 249
        },
        "id": "go9RrQnVUCTO",
        "outputId": "e97670ec-8dbc-4d32-b89b-920167d0a617"
      },
      "outputs": [
        {
          "output_type": "execute_result",
          "data": {
            "text/plain": [
              "  school_state teacher_prefix project_grade_category  \\\n",
              "0           ca            mrs          grades_prek_2   \n",
              "\n",
              "   teacher_number_of_previously_posted_projects  project_is_approved  \\\n",
              "0                                            53                    1   \n",
              "\n",
              "  clean_categories                 clean_subcategories  \\\n",
              "0     math_science  appliedsciences health_lifescience   \n",
              "\n",
              "                                               essay   price  \n",
              "0  i fortunate enough use fairy tale stem kits cl...  725.05  "
            ],
            "text/html": [
              "\n",
              "  <div id=\"df-33568337-a736-476b-a65d-27c5f502444c\">\n",
              "    <div class=\"colab-df-container\">\n",
              "      <div>\n",
              "<style scoped>\n",
              "    .dataframe tbody tr th:only-of-type {\n",
              "        vertical-align: middle;\n",
              "    }\n",
              "\n",
              "    .dataframe tbody tr th {\n",
              "        vertical-align: top;\n",
              "    }\n",
              "\n",
              "    .dataframe thead th {\n",
              "        text-align: right;\n",
              "    }\n",
              "</style>\n",
              "<table border=\"1\" class=\"dataframe\">\n",
              "  <thead>\n",
              "    <tr style=\"text-align: right;\">\n",
              "      <th></th>\n",
              "      <th>school_state</th>\n",
              "      <th>teacher_prefix</th>\n",
              "      <th>project_grade_category</th>\n",
              "      <th>teacher_number_of_previously_posted_projects</th>\n",
              "      <th>project_is_approved</th>\n",
              "      <th>clean_categories</th>\n",
              "      <th>clean_subcategories</th>\n",
              "      <th>essay</th>\n",
              "      <th>price</th>\n",
              "    </tr>\n",
              "  </thead>\n",
              "  <tbody>\n",
              "    <tr>\n",
              "      <th>0</th>\n",
              "      <td>ca</td>\n",
              "      <td>mrs</td>\n",
              "      <td>grades_prek_2</td>\n",
              "      <td>53</td>\n",
              "      <td>1</td>\n",
              "      <td>math_science</td>\n",
              "      <td>appliedsciences health_lifescience</td>\n",
              "      <td>i fortunate enough use fairy tale stem kits cl...</td>\n",
              "      <td>725.05</td>\n",
              "    </tr>\n",
              "  </tbody>\n",
              "</table>\n",
              "</div>\n",
              "      <button class=\"colab-df-convert\" onclick=\"convertToInteractive('df-33568337-a736-476b-a65d-27c5f502444c')\"\n",
              "              title=\"Convert this dataframe to an interactive table.\"\n",
              "              style=\"display:none;\">\n",
              "        \n",
              "  <svg xmlns=\"http://www.w3.org/2000/svg\" height=\"24px\"viewBox=\"0 0 24 24\"\n",
              "       width=\"24px\">\n",
              "    <path d=\"M0 0h24v24H0V0z\" fill=\"none\"/>\n",
              "    <path d=\"M18.56 5.44l.94 2.06.94-2.06 2.06-.94-2.06-.94-.94-2.06-.94 2.06-2.06.94zm-11 1L8.5 8.5l.94-2.06 2.06-.94-2.06-.94L8.5 2.5l-.94 2.06-2.06.94zm10 10l.94 2.06.94-2.06 2.06-.94-2.06-.94-.94-2.06-.94 2.06-2.06.94z\"/><path d=\"M17.41 7.96l-1.37-1.37c-.4-.4-.92-.59-1.43-.59-.52 0-1.04.2-1.43.59L10.3 9.45l-7.72 7.72c-.78.78-.78 2.05 0 2.83L4 21.41c.39.39.9.59 1.41.59.51 0 1.02-.2 1.41-.59l7.78-7.78 2.81-2.81c.8-.78.8-2.07 0-2.86zM5.41 20L4 18.59l7.72-7.72 1.47 1.35L5.41 20z\"/>\n",
              "  </svg>\n",
              "      </button>\n",
              "      \n",
              "  <style>\n",
              "    .colab-df-container {\n",
              "      display:flex;\n",
              "      flex-wrap:wrap;\n",
              "      gap: 12px;\n",
              "    }\n",
              "\n",
              "    .colab-df-convert {\n",
              "      background-color: #E8F0FE;\n",
              "      border: none;\n",
              "      border-radius: 50%;\n",
              "      cursor: pointer;\n",
              "      display: none;\n",
              "      fill: #1967D2;\n",
              "      height: 32px;\n",
              "      padding: 0 0 0 0;\n",
              "      width: 32px;\n",
              "    }\n",
              "\n",
              "    .colab-df-convert:hover {\n",
              "      background-color: #E2EBFA;\n",
              "      box-shadow: 0px 1px 2px rgba(60, 64, 67, 0.3), 0px 1px 3px 1px rgba(60, 64, 67, 0.15);\n",
              "      fill: #174EA6;\n",
              "    }\n",
              "\n",
              "    [theme=dark] .colab-df-convert {\n",
              "      background-color: #3B4455;\n",
              "      fill: #D2E3FC;\n",
              "    }\n",
              "\n",
              "    [theme=dark] .colab-df-convert:hover {\n",
              "      background-color: #434B5C;\n",
              "      box-shadow: 0px 1px 3px 1px rgba(0, 0, 0, 0.15);\n",
              "      filter: drop-shadow(0px 1px 2px rgba(0, 0, 0, 0.3));\n",
              "      fill: #FFFFFF;\n",
              "    }\n",
              "  </style>\n",
              "\n",
              "      <script>\n",
              "        const buttonEl =\n",
              "          document.querySelector('#df-33568337-a736-476b-a65d-27c5f502444c button.colab-df-convert');\n",
              "        buttonEl.style.display =\n",
              "          google.colab.kernel.accessAllowed ? 'block' : 'none';\n",
              "\n",
              "        async function convertToInteractive(key) {\n",
              "          const element = document.querySelector('#df-33568337-a736-476b-a65d-27c5f502444c');\n",
              "          const dataTable =\n",
              "            await google.colab.kernel.invokeFunction('convertToInteractive',\n",
              "                                                     [key], {});\n",
              "          if (!dataTable) return;\n",
              "\n",
              "          const docLinkHtml = 'Like what you see? Visit the ' +\n",
              "            '<a target=\"_blank\" href=https://colab.research.google.com/notebooks/data_table.ipynb>data table notebook</a>'\n",
              "            + ' to learn more about interactive tables.';\n",
              "          element.innerHTML = '';\n",
              "          dataTable['output_type'] = 'display_data';\n",
              "          await google.colab.output.renderOutput(dataTable, element);\n",
              "          const docLink = document.createElement('div');\n",
              "          docLink.innerHTML = docLinkHtml;\n",
              "          element.appendChild(docLink);\n",
              "        }\n",
              "      </script>\n",
              "    </div>\n",
              "  </div>\n",
              "  "
            ]
          },
          "metadata": {},
          "execution_count": 6
        }
      ],
      "source": [
        "#read the csv file\n",
        "import pandas as pd\n",
        "\n",
        "data = pd.read_csv(path+'/preprocessed_data.csv')\n",
        "data.head(1)"
      ]
    },
    {
      "cell_type": "code",
      "execution_count": 7,
      "metadata": {
        "id": "q4r1EoAodyrM"
      },
      "outputs": [],
      "source": [
        "Y=data['project_is_approved']       \n",
        "X=data.drop('project_is_approved',axis=1)"
      ]
    },
    {
      "cell_type": "code",
      "source": [
        "print(Y.value_counts())"
      ],
      "metadata": {
        "colab": {
          "base_uri": "https://localhost:8080/"
        },
        "id": "9yWsIUfHoizG",
        "outputId": "c1d6c45a-f576-47c0-832a-38b6c4ebe698"
      },
      "execution_count": 8,
      "outputs": [
        {
          "output_type": "stream",
          "name": "stdout",
          "text": [
            "1    92706\n",
            "0    16542\n",
            "Name: project_is_approved, dtype: int64\n"
          ]
        }
      ]
    },
    {
      "cell_type": "code",
      "source": [
        "import matplotlib.pyplot as plt\n",
        "import numpy as np\n",
        "\n",
        "pos_class = Y.value_counts()[1]/sum(Y.value_counts())\n",
        "neg_class = Y.value_counts()[0]/sum(Y.value_counts())\n",
        "y = np.array([neg_class, pos_class])\n",
        "print(y)\n",
        "mylabels = [\"Negative\",\"Positive\"]\n",
        "\n",
        "plt.pie(y, labels = mylabels)\n",
        "plt.legend(title = \"Distribution of classes\")\n",
        "plt.show() "
      ],
      "metadata": {
        "colab": {
          "base_uri": "https://localhost:8080/",
          "height": 266
        },
        "id": "gvIeOfFdptVs",
        "outputId": "e4d8c845-488e-488b-acc1-99736810a313"
      },
      "execution_count": 9,
      "outputs": [
        {
          "output_type": "stream",
          "name": "stdout",
          "text": [
            "[0.15141696 0.84858304]\n"
          ]
        },
        {
          "output_type": "display_data",
          "data": {
            "text/plain": [
              "<Figure size 432x288 with 1 Axes>"
            ],
            "image/png": "[encoded data removed]"
          },
          "metadata": {}
        }
      ]
    },
    {
      "cell_type": "markdown",
      "source": [
        "From the above plot we can conclude that 85% of the times a project is approved. "
      ],
      "metadata": {
        "id": "3MLy8BpFZz_U"
      }
    },
    {
      "cell_type": "markdown",
      "source": [
        "From the above pie chart, we can observe that given data is highly imbalanced data set with 85% points of positive class and remaining 15% of points as negative class. "
      ],
      "metadata": {
        "id": "xlJeWZSsq5vW"
      }
    },
    {
      "cell_type": "code",
      "source": [
        "# Scaling by total/2 helps keep the loss to a similar magnitude.\n",
        "# The sum of the weights of all examples stays the same.\n",
        "\n",
        "total = sum(Y.value_counts())\n",
        "weight_for_0 = (1 / Y.value_counts()[0]) * (total / 2.0)\n",
        "weight_for_1 = (1 / Y.value_counts()[1]) * (total / 2.0)\n",
        "\n",
        "class_weight = {0: weight_for_0, 1: weight_for_1}\n",
        "\n",
        "print('Weight for class 0: {:.2f}'.format(weight_for_0))\n",
        "print('Weight for class 1: {:.2f}'.format(weight_for_1))"
      ],
      "metadata": {
        "colab": {
          "base_uri": "https://localhost:8080/"
        },
        "id": "cv43lI4FvZmZ",
        "outputId": "fc1c06b1-4ae7-4318-c46a-6c5f023ebe31"
      },
      "execution_count": 10,
      "outputs": [
        {
          "output_type": "stream",
          "name": "stdout",
          "text": [
            "Weight for class 0: 3.30\n",
            "Weight for class 1: 0.59\n"
          ]
        }
      ]
    },
    {
      "cell_type": "markdown",
      "metadata": {
        "id": "QdSiwtf8JNRw"
      },
      "source": [
        "### perform stratified train test split on the dataset\n"
      ]
    },
    {
      "cell_type": "code",
      "execution_count": 11,
      "metadata": {
        "id": "i-PyprDNb3dI"
      },
      "outputs": [],
      "source": [
        "from sklearn.model_selection import train_test_split\n",
        "\n",
        "X_train,X_test,Y_train,Y_test = train_test_split(X,Y,test_size=0.33, stratify=Y, random_state=10)"
      ]
    },
    {
      "cell_type": "code",
      "execution_count": 12,
      "metadata": {
        "colab": {
          "base_uri": "https://localhost:8080/"
        },
        "id": "suS_QAHdldJ5",
        "outputId": "d9daa04a-0151-4813-d653-b626a6fd90ab"
      },
      "outputs": [
        {
          "output_type": "stream",
          "name": "stdout",
          "text": [
            "(73196, 8) (73196,) (36052, 8) (36052,) "
          ]
        }
      ],
      "source": [
        "print(X_train.shape,Y_train.shape,X_test.shape,Y_test.shape,end=\" \")"
      ]
    },
    {
      "cell_type": "code",
      "source": [
        "import matplotlib.pyplot as plt\n",
        "import numpy as np\n",
        "\n",
        "pos_class = Y_train.value_counts()[1]/sum(Y_train.value_counts())\n",
        "neg_class = Y_train.value_counts()[0]/sum(Y_train.value_counts())\n",
        "y = np.array([neg_class, pos_class])\n",
        "print(y)\n",
        "mylabels = [\"Negative\",\"Positive\"]\n",
        "\n",
        "plt.pie(y, labels = mylabels)\n",
        "plt.legend(title = \"Distribution of classes\")\n",
        "plt.show() "
      ],
      "metadata": {
        "colab": {
          "base_uri": "https://localhost:8080/",
          "height": 266
        },
        "id": "-0PUcGXjsDv7",
        "outputId": "7ae3d1de-19fd-42d6-e103-427476beddde"
      },
      "execution_count": 13,
      "outputs": [
        {
          "output_type": "stream",
          "name": "stdout",
          "text": [
            "[0.15141538 0.84858462]\n"
          ]
        },
        {
          "output_type": "display_data",
          "data": {
            "text/plain": [
              "<Figure size 432x288 with 1 Axes>"
            ],
            "image/png": "[encoded data removed]"
          },
          "metadata": {}
        }
      ]
    },
    {
      "cell_type": "markdown",
      "source": [
        "We got similar distribution of points in class due to stratified sampling. "
      ],
      "metadata": {
        "id": "SeL7Yp_Zae8A"
      }
    },
    {
      "cell_type": "markdown",
      "metadata": {
        "id": "-WrG9MuRUCTP"
      },
      "source": [
        "## 1.1 Text Vectorization"
      ]
    },
    {
      "cell_type": "code",
      "execution_count": 14,
      "metadata": {
        "id": "tiP5qRQFUCTP"
      },
      "outputs": [],
      "source": [
        "#since the data is already preprocessed, we can directly move to vectorization part\n",
        "#first we will vectorize the text data\n",
        "#for vectorization of text data in deep learning we use tokenizer, you can go through below references\n",
        "# https://www.kdnuggets.com/2020/03/tensorflow-keras-tokenization-text-data-prep.html\n",
        "#https://stackoverflow.com/questions/51956000/what-does-keras-tokenizer-method-exactly-do\n",
        "# after text vectorization you should get train_padded_docs and test_padded_docs"
      ]
    },
    {
      "cell_type": "code",
      "execution_count": 15,
      "metadata": {
        "id": "PY_jlZFqUCTP",
        "colab": {
          "base_uri": "https://localhost:8080/"
        },
        "outputId": "c3e151e9-3ec1-4979-9f06-595256a6bf0c"
      },
      "outputs": [
        {
          "output_type": "stream",
          "name": "stdout",
          "text": [
            "48232\n"
          ]
        }
      ],
      "source": [
        "from tensorflow.keras.preprocessing.text import Tokenizer\n",
        "from tensorflow.keras.preprocessing.sequence import pad_sequences\n",
        "\n",
        "tokenizer = Tokenizer()\n",
        "tokenizer.fit_on_texts(X_train['essay'])\n",
        "vocab_size = len(tokenizer.word_index) + 1\n",
        "print(vocab_size)\n",
        "# integer encode the documents\n",
        "train_encoded_docs = tokenizer.texts_to_sequences(X_train['essay'])\n",
        "test_encoded_docs = tokenizer.texts_to_sequences(X_test['essay'])"
      ]
    },
    {
      "cell_type": "code",
      "execution_count": 16,
      "metadata": {
        "colab": {
          "base_uri": "https://localhost:8080/"
        },
        "id": "krVqiukO7fJe",
        "outputId": "c8aa98e7-c90a-42dc-ba1a-e4827b2b3ebd"
      },
      "outputs": [
        {
          "output_type": "stream",
          "name": "stdout",
          "text": [
            "339\n",
            "(73196, 339)\n",
            "(36052, 339)\n",
            "[0 0 0 0 0 0 0 0 0 0]\n",
            "[0 0 0 0 0 0 0 0 0 0]\n"
          ]
        }
      ],
      "source": [
        "max_length = max([len(seq) for seq in train_encoded_docs])\n",
        "print(max_length)\n",
        "train_padded_docs = pad_sequences(train_encoded_docs, maxlen=max_length, padding='post')\n",
        "test_padded_docs = pad_sequences(test_encoded_docs, maxlen=max_length, padding='post')\n",
        "print(train_padded_docs.shape)\n",
        "print(test_padded_docs.shape)\n",
        "print(train_padded_docs[0][-10:])\n",
        "print(test_padded_docs[0][-10:])"
      ]
    },
    {
      "cell_type": "code",
      "execution_count": 17,
      "metadata": {
        "id": "337qiVBgUCTP"
      },
      "outputs": [],
      "source": [
        "#after getting the padded_docs you have to use predefined glove vectors to get 300 dim representation for each word\n",
        "# we will be storing this data in form of an embedding matrix and will use it while defining our model\n",
        "# Please go through following blog's 'Example of Using Pre-Trained GloVe Embedding' section to understand how to create embedding matrix\n",
        "# https://machinelearningmastery.com/use-word-embedding-layers-deep-learning-keras/\n",
        "import pickle\n",
        "import numpy as np\n",
        "\n",
        "with open(path+'/glove_vectors', 'rb') as f:\n",
        "    model = pickle.load(f)\n",
        "    glove_words =  set(model.keys())"
      ]
    },
    {
      "cell_type": "code",
      "execution_count": 18,
      "metadata": {
        "colab": {
          "base_uri": "https://localhost:8080/"
        },
        "id": "gHrPfULLUCTQ",
        "outputId": "b733bdbd-c349-462e-f8ca-5ad1915d7268"
      },
      "outputs": [
        {
          "output_type": "stream",
          "name": "stdout",
          "text": [
            "[ 0.15243  -0.16945  -0.022748 -0.25051  -0.15213 ]\n",
            "(48232, 300)\n",
            "The number of tokens present in this vocabulary are 48232\n"
          ]
        }
      ],
      "source": [
        "embedding_matrix = np.zeros((vocab_size, 300))\n",
        "for word, i in tokenizer.word_index.items():\n",
        "\tembedding_vector = model.get(word)\n",
        "\tif embedding_vector is not None:\n",
        "\t\tembedding_matrix[i] = embedding_vector\n",
        "print(embedding_matrix[1][:5])\n",
        "print(embedding_matrix.shape)\n",
        "print(\"The number of tokens present in this vocabulary are\", embedding_matrix.shape[0])"
      ]
    },
    {
      "cell_type": "markdown",
      "metadata": {
        "id": "iWL1zBgvUCTQ"
      },
      "source": [
        "## 1.2 Categorical feature Vectorization"
      ]
    },
    {
      "cell_type": "code",
      "execution_count": 19,
      "metadata": {
        "id": "H5ElAH_TUCTQ"
      },
      "outputs": [],
      "source": [
        "# for model 1 and model 2, we have to assign a unique number to each feature in a particular categorical column.\n",
        "# you can either use tokenizer,label encoder or ordinal encoder to perform the task\n",
        "# label encoder gives an error for 'unseen values' (values present in test but not in train)\n",
        "# handle unseen values with label encoder - https://stackoverflow.com/a/56876351\n",
        "# ordinal encoder also gives error with unseen values but you can use modify handle_unknown parameter\n",
        "# documentation of ordianl encoder https://scikit-learn.org/stable/modules/generated/sklearn.preprocessing.OrdinalEncoder.html\n",
        "# after categorical feature vectorization you will have column_train_data and column_test_data.\n"
      ]
    },
    {
      "cell_type": "markdown",
      "metadata": {
        "id": "qyTrUAGDG-gz"
      },
      "source": [
        "### School_State"
      ]
    },
    {
      "cell_type": "code",
      "execution_count": 20,
      "metadata": {
        "colab": {
          "base_uri": "https://localhost:8080/"
        },
        "id": "9WavQDNxUCTQ",
        "outputId": "8354b007-c115-4726-ad1a-5dc9b20fca2c"
      },
      "outputs": [
        {
          "output_type": "stream",
          "name": "stdout",
          "text": [
            "No of categories present in school state are  51\n",
            "(73196, 1)\n",
            "(36052, 1)\n"
          ]
        }
      ],
      "source": [
        "from sklearn.preprocessing import OrdinalEncoder\n",
        "encoder = OrdinalEncoder(handle_unknown = 'use_encoded_value',unknown_value=-1)\n",
        "train_school_state = encoder.fit_transform(X_train['school_state'].to_numpy().reshape(-1,1))\n",
        "test_school_state = encoder.transform(X_test['school_state'].to_numpy().reshape(-1,1))\n",
        "no_of_school_state = len(encoder.categories_[0])\n",
        "print(\"No of categories present in school state are \",no_of_school_state)\n",
        "print(train_school_state.shape)\n",
        "print(test_school_state.shape)"
      ]
    },
    {
      "cell_type": "markdown",
      "metadata": {
        "id": "TBhdsuPLHFDf"
      },
      "source": [
        "### project_grade_category"
      ]
    },
    {
      "cell_type": "code",
      "execution_count": 21,
      "metadata": {
        "colab": {
          "base_uri": "https://localhost:8080/"
        },
        "id": "TrQfpLVjUCTQ",
        "outputId": "fb898e5e-b33b-419d-ff14-1e4861d47766"
      },
      "outputs": [
        {
          "output_type": "stream",
          "name": "stdout",
          "text": [
            "No of categories present in project grade are  4\n",
            "(73196, 1)\n",
            "(36052, 1)\n"
          ]
        }
      ],
      "source": [
        "from sklearn.preprocessing import OrdinalEncoder\n",
        "encoder = OrdinalEncoder(handle_unknown = 'use_encoded_value',unknown_value=-1)\n",
        "train_project_grade = encoder.fit_transform(X_train['project_grade_category'].to_numpy().reshape(-1,1))\n",
        "test_project_grade = encoder.transform(X_test['project_grade_category'].to_numpy().reshape(-1,1))\n",
        "no_of_project_grade = len(encoder.categories_[0])\n",
        "print(\"No of categories present in project grade are \",no_of_project_grade)\n",
        "print(train_project_grade.shape)\n",
        "print(test_project_grade.shape)"
      ]
    },
    {
      "cell_type": "markdown",
      "metadata": {
        "id": "57u4OKa3HI67"
      },
      "source": [
        "### clean_categories"
      ]
    },
    {
      "cell_type": "code",
      "execution_count": 22,
      "metadata": {
        "colab": {
          "base_uri": "https://localhost:8080/"
        },
        "id": "UvnPkBOzUCTQ",
        "outputId": "849d05a3-f4cf-4890-bba2-2eb5847c4c6d"
      },
      "outputs": [
        {
          "output_type": "stream",
          "name": "stdout",
          "text": [
            "No of categories present in clean categories are  51\n",
            "(73196, 1)\n",
            "(36052, 1)\n"
          ]
        }
      ],
      "source": [
        "from sklearn.preprocessing import OrdinalEncoder\n",
        "encoder = OrdinalEncoder(handle_unknown = 'use_encoded_value',unknown_value=-1)\n",
        "train_clean_categories = encoder.fit_transform(X_train['clean_categories'].to_numpy().reshape(-1,1))\n",
        "test_clean_categories  = encoder.transform(X_test['clean_categories'].to_numpy().reshape(-1,1))\n",
        "no_of_clean_categories = len(encoder.categories_[0])\n",
        "print(\"No of categories present in clean categories are \",no_of_clean_categories)\n",
        "print(train_clean_categories.shape)\n",
        "print(test_clean_categories.shape)"
      ]
    },
    {
      "cell_type": "markdown",
      "metadata": {
        "id": "gkvzRFTNHLnd"
      },
      "source": [
        "### clean_subcategories"
      ]
    },
    {
      "cell_type": "code",
      "execution_count": 23,
      "metadata": {
        "colab": {
          "base_uri": "https://localhost:8080/"
        },
        "id": "apOENctuKtUd",
        "outputId": "b9e57db0-39eb-48d6-cfcd-139bdebf41a4"
      },
      "outputs": [
        {
          "output_type": "stream",
          "name": "stdout",
          "text": [
            "No of categories present in clean sub categories are  390\n",
            "(73196, 1)\n",
            "(36052, 1)\n"
          ]
        }
      ],
      "source": [
        "from sklearn.preprocessing import OrdinalEncoder\n",
        "encoder = OrdinalEncoder(handle_unknown = 'use_encoded_value',unknown_value=-1)\n",
        "train_clean_subcategories = encoder.fit_transform(X_train['clean_subcategories'].to_numpy().reshape(-1,1))\n",
        "test_clean_subcategories  = encoder.transform(X_test['clean_subcategories'].to_numpy().reshape(-1,1))\n",
        "no_of_clean_subcategories = len(encoder.categories_[0])\n",
        "print(\"No of categories present in clean sub categories are \",no_of_clean_subcategories)\n",
        "print(train_clean_subcategories.shape)\n",
        "print(test_clean_subcategories.shape)"
      ]
    },
    {
      "cell_type": "markdown",
      "metadata": {
        "id": "gEHU990WHOep"
      },
      "source": [
        "### teacher_prefix"
      ]
    },
    {
      "cell_type": "code",
      "execution_count": 24,
      "metadata": {
        "colab": {
          "base_uri": "https://localhost:8080/"
        },
        "id": "SJXWJ2EBKdMi",
        "outputId": "861c0ce6-6262-4b5b-e8f0-a32968912e66"
      },
      "outputs": [
        {
          "output_type": "stream",
          "name": "stdout",
          "text": [
            "No of categories present in teacher prefix are  5\n",
            "(73196, 1)\n",
            "(36052, 1)\n"
          ]
        }
      ],
      "source": [
        "from sklearn.preprocessing import OrdinalEncoder\n",
        "encoder = OrdinalEncoder(handle_unknown = 'use_encoded_value',unknown_value=-1)\n",
        "train_teacher_prefix = encoder.fit_transform(X_train['teacher_prefix'].to_numpy().reshape(-1,1))\n",
        "test_teacher_prefix  = encoder.transform(X_test['teacher_prefix'].to_numpy().reshape(-1,1))\n",
        "no_of_teacher_prefix = len(encoder.categories_[0])\n",
        "print(\"No of categories present in teacher prefix are \",no_of_teacher_prefix)\n",
        "print(train_teacher_prefix.shape)\n",
        "print(test_teacher_prefix.shape)"
      ]
    },
    {
      "cell_type": "markdown",
      "metadata": {
        "id": "YhBWeqgzUCTQ"
      },
      "source": [
        "## 1.3 Numerical feature Vectorization"
      ]
    },
    {
      "cell_type": "code",
      "execution_count": 25,
      "metadata": {
        "id": "TXne0c-VUCTR"
      },
      "outputs": [],
      "source": [
        "# you have to standardise the numerical columns\n",
        "# stack both the numerical features\n",
        "#after numerical feature vectorization you will have numerical_data_train and numerical_data_test"
      ]
    },
    {
      "cell_type": "markdown",
      "metadata": {
        "id": "lCIBsv6kVogT"
      },
      "source": [
        "#### teacher_number_of_previously_posted_projects"
      ]
    },
    {
      "cell_type": "markdown",
      "metadata": {
        "id": "m9Fp08c_RpCZ"
      },
      "source": [
        "##### Min-Max scaling of features"
      ]
    },
    {
      "cell_type": "code",
      "execution_count": 26,
      "metadata": {
        "id": "IWKhIXn8a_At"
      },
      "outputs": [],
      "source": [
        "#For z-score normalization the values will be both negative and positive.  \n",
        "from sklearn.preprocessing import MinMaxScaler\n",
        "\n",
        "scaler = MinMaxScaler()\n",
        "scaler.fit(X_train['teacher_number_of_previously_posted_projects'].values.reshape(-1, 1))\n",
        "\n",
        "train_tchr_prj = scaler.transform(X_train['teacher_number_of_previously_posted_projects'].values.reshape(-1, 1))\n",
        "test_tchr_prj = scaler.transform(X_test['teacher_number_of_previously_posted_projects'].values.reshape(-1, 1))"
      ]
    },
    {
      "cell_type": "markdown",
      "metadata": {
        "id": "GwYyQqEIR6Qh"
      },
      "source": [
        "##### Standard scaling of features"
      ]
    },
    {
      "cell_type": "code",
      "execution_count": 27,
      "metadata": {
        "id": "U1PHHvZyRvg-"
      },
      "outputs": [],
      "source": [
        "from sklearn.preprocessing import StandardScaler\n",
        "\n",
        "scaler = StandardScaler()\n",
        "scaler.fit(X_train['teacher_number_of_previously_posted_projects'].values.reshape(-1, 1))\n",
        "\n",
        "train_tchr_prj = scaler.transform(X_train['teacher_number_of_previously_posted_projects'].values.reshape(-1, 1))\n",
        "test_tchr_prj = scaler.transform(X_test['teacher_number_of_previously_posted_projects'].values.reshape(-1, 1))"
      ]
    },
    {
      "cell_type": "code",
      "execution_count": 28,
      "metadata": {
        "colab": {
          "base_uri": "https://localhost:8080/"
        },
        "id": "GGIv9fvrYW8-",
        "outputId": "449adb46-62ef-4a1c-ee71-657361738cee"
      },
      "outputs": [
        {
          "output_type": "stream",
          "name": "stdout",
          "text": [
            "(73196, 1)\n",
            "(36052, 1)\n",
            "[array([-0.40195905]), array([-0.40195905]), array([-0.29393921]), array([-0.18591938]), array([-0.36595244])] \n",
            " [array([-0.40195905]), array([-0.32994582]), array([-0.22192599]), array([-0.40195905]), array([-0.40195905])]\n"
          ]
        }
      ],
      "source": [
        "print(train_tchr_prj.shape)\n",
        "print(test_tchr_prj.shape)\n",
        "print(list(train_tchr_prj[:5]),'\\n',list(test_tchr_prj[:5]))"
      ]
    },
    {
      "cell_type": "markdown",
      "metadata": {
        "id": "Ok5kLD4QwQAi"
      },
      "source": [
        "#### price"
      ]
    },
    {
      "cell_type": "markdown",
      "metadata": {
        "id": "-Eev9PJtSGL-"
      },
      "source": [
        "##### Min-Max scaling of features"
      ]
    },
    {
      "cell_type": "code",
      "execution_count": 29,
      "metadata": {
        "id": "2hFVkQSUa0bF"
      },
      "outputs": [],
      "source": [
        "from sklearn.preprocessing import MinMaxScaler\n",
        "# Min-Max Normalization\n",
        "\n",
        "scaler = MinMaxScaler()\n",
        "scaler.fit(X_train['price'].values.reshape(-1, 1))\n",
        "\n",
        "train_price = scaler.transform(X_train['price'].values.reshape(-1, 1) )\n",
        "test_price = scaler.transform(X_test['price'].values.reshape(-1, 1) )"
      ]
    },
    {
      "cell_type": "markdown",
      "metadata": {
        "id": "Ql99lOsgSGL_"
      },
      "source": [
        "##### Standard scaling of features"
      ]
    },
    {
      "cell_type": "code",
      "execution_count": 30,
      "metadata": {
        "id": "JeLdl9wmSGL_"
      },
      "outputs": [],
      "source": [
        "from sklearn.preprocessing import StandardScaler\n",
        "\n",
        "scaler = StandardScaler()\n",
        "scaler.fit(X_train['price'].values.reshape(-1, 1))\n",
        "\n",
        "train_price = scaler.transform(X_train['price'].values.reshape(-1, 1))\n",
        "test_price = scaler.transform(X_test['price'].values.reshape(-1, 1))"
      ]
    },
    {
      "cell_type": "code",
      "execution_count": 31,
      "metadata": {
        "colab": {
          "base_uri": "https://localhost:8080/"
        },
        "id": "bKFSNh2KZJg0",
        "outputId": "eb2d82ba-8a9b-4ff8-9256-37bdf0237298"
      },
      "outputs": [
        {
          "output_type": "stream",
          "name": "stdout",
          "text": [
            "(73196, 1)\n",
            "(36052, 1)\n",
            "[array([0.32681192]), array([-0.69986663]), array([0.54299574]), array([-0.57785898]), array([-0.14243176])] \n",
            " [array([0.16712307]), array([-0.58569581]), array([-0.4021744]), array([-0.59028519]), array([-0.76221238])]\n"
          ]
        }
      ],
      "source": [
        "print(train_price.shape)\n",
        "print(test_price.shape)\n",
        "print(list(train_price[:5]),'\\n',list(test_price[:5]))"
      ]
    },
    {
      "cell_type": "code",
      "execution_count": 32,
      "metadata": {
        "colab": {
          "base_uri": "https://localhost:8080/"
        },
        "id": "DO1Slo6oN93R",
        "outputId": "4d2fe8d0-da19-400a-d367-9588c77551f3"
      },
      "outputs": [
        {
          "output_type": "stream",
          "name": "stdout",
          "text": [
            "(73196, 2)\n",
            "(36052, 2)\n"
          ]
        }
      ],
      "source": [
        "numerical_data_train = np.concatenate((train_tchr_prj,train_price),axis=1)\n",
        "numerical_data_test = np.concatenate((test_tchr_prj,test_price),axis=1)\n",
        "print(numerical_data_train.shape)\n",
        "print(numerical_data_test.shape)"
      ]
    },
    {
      "cell_type": "markdown",
      "metadata": {
        "id": "LfO67QPPUCTR"
      },
      "source": [
        "## 1.4 Defining the model"
      ]
    },
    {
      "cell_type": "markdown",
      "metadata": {
        "id": "005sT89yUCTR"
      },
      "source": [
        "<img src='https://i.imgur.com/w395Yk9.png'>"
      ]
    },
    {
      "cell_type": "code",
      "execution_count": 33,
      "metadata": {
        "id": "69N8bsjRUCTR"
      },
      "outputs": [],
      "source": [
        "# as of now we have vectorized all our features now we will define our model.\n",
        "# as it is clear from above image that the given model has multiple input layers and hence we have to use functional API\n",
        "# Please go through - https://keras.io/guides/functional_api/\n",
        "# it is a good programming practise to define your complete model i.e all inputs , intermediate and output layers at one place.\n",
        "# while defining your model make sure that you use variable names while defining any length,dimension or size.\n",
        "#for ex.- you should write the code as 'input_text = Input(shape=(pad_length,))' and not as 'input_text = Input(shape=(300,))'\n",
        "# the embedding layer for text data should be non trainable\n",
        "# the embedding layer for categorical data should be trainable\n",
        "# https://stats.stackexchange.com/questions/270546/how-does-keras-embedding-layer-work\n",
        "# https://towardsdatascience.com/deep-embeddings-for-categorical-variables-cat2vec-b05c8ab63ac0\n",
        "#print model.summary() after you have defined the model\n",
        "#plot the model using utils.plot_model module and make sure that it is similar to the above image."
      ]
    },
    {
      "cell_type": "code",
      "execution_count": 34,
      "metadata": {
        "id": "EgrTnDGYUCTR"
      },
      "outputs": [],
      "source": [
        "from tensorflow.keras import layers,Input,Model\n",
        "\n",
        "# Hyper Parameters\n",
        "Embedding_vector_size_text = 300\n",
        "categorical_ftr_embedding_size = 20\n",
        "max_seq_length = train_padded_docs.shape[1]\n",
        "no_of_lstm_units_on_text = 150\n",
        "no_of_Dense_units_on_numerical_ftr = 150\n",
        "no_of_units_on_dense_layer1 = 128\n",
        "no_of_units_on_dense_layer2 = 64\n",
        "no_of_units_on_dense_layer3 = 32\n",
        "no_of_units_on_output_dense_layer = 1\n",
        "\n",
        "vocab_size_school_state = no_of_school_state\n",
        "vocab_size_project_grade = no_of_project_grade\n",
        "vocab_size_input_clean = no_of_clean_categories\n",
        "vocab_size_input_clean_sub = no_of_clean_subcategories\n",
        "vocab_size_teacher_prefix = no_of_teacher_prefix\n",
        "\n",
        "def create_model(max_seq_length, vocab_size_text, embedding_matrix, categories_dim,\n",
        "                 categorical_ftr_embedding_size, intializer, numerical_ftr_dim, activation_function, dropout_rate):\n",
        "  tf.keras.backend.clear_session()\n",
        "  # Text Feature block\n",
        "  input1 = Input(shape = (max_seq_length,),name = \"Text_Input\")\n",
        "  x = layers.Embedding(input_dim = vocab_size_text, output_dim=embedding_matrix.shape[1],\n",
        "                       input_length = max_seq_length, weights=[embedding_matrix], \n",
        "                       name = \"Text_Embedding_layer\", trainable = False)(input1)\n",
        "  x = layers.LSTM(no_of_lstm_units_on_text, name = \"Text_LSTM\")(x)\n",
        "  text_lstm_output = layers.Flatten(name = \"Output_from_text_lstm\")(x)\n",
        "\n",
        "  # Categorical feature school_state block\n",
        "  input2 = Input(shape = (categories_dim,),name = \"School_state_Input\")\n",
        "  x = layers.Embedding(input_dim = vocab_size_school_state,\n",
        "                       output_dim= categorical_ftr_embedding_size,\n",
        "                       embeddings_initializer = intializer,\n",
        "                       input_length = categories_dim,\n",
        "                       name = \"School_state_Embedding_layer\")(input2)\n",
        "  school_state_output = layers.Flatten(name = \"school_state_output\")(x)\n",
        "\n",
        "  # Categorical feature project_grade block\n",
        "  input3 = Input(shape = (categories_dim,),name = \"project_grade_Input\")\n",
        "  x = layers.Embedding(input_dim = vocab_size_project_grade,\n",
        "                        output_dim = categorical_ftr_embedding_size,\n",
        "                        embeddings_initializer = intializer,\n",
        "                        input_length = categories_dim,\n",
        "                        name = \"Project_grade_Embedding_layer\")(input3)\n",
        "  project_grade_output = layers.Flatten(name = \"project_grade_output\")(x)\n",
        "\n",
        "  # Categorical feature input_clean_categories block\n",
        "  input4 = Input(shape = (categories_dim,),name = \"input_clean_categories_Input\")\n",
        "  x = layers.Embedding(input_dim = vocab_size_input_clean,\n",
        "                        output_dim = categorical_ftr_embedding_size,\n",
        "                        embeddings_initializer = intializer,\n",
        "                        input_length = categories_dim,\n",
        "                        name = \"Clean_categories_Embedding_layer\")(input4)\n",
        "  clean_cat_output = layers.Flatten(name = \"clean_cat_output\")(x)\n",
        "\n",
        "  # Categorical feature input_clean_subcategories block\n",
        "  input5 = Input(shape = (categories_dim,),name = \"input_clean_subcategories_Input\")\n",
        "  x = layers.Embedding(input_dim = vocab_size_input_clean_sub,\n",
        "                        output_dim = categorical_ftr_embedding_size,\n",
        "                        embeddings_initializer = intializer,\n",
        "                        input_length = categories_dim,\n",
        "                        name = \"Clean_subcategories_Embedding_layer\")(input5)\n",
        "  clean_subcat_output = layers.Flatten(name = \"clean_subcat_output\")(x)\n",
        "\n",
        "  # Categorical feature teacher_prefix block\n",
        "  input6 = Input(shape = (categories_dim,),name = \"teacher_prefix_Input\")\n",
        "  x = layers.Embedding(input_dim = vocab_size_teacher_prefix,\n",
        "                        output_dim = categorical_ftr_embedding_size,\n",
        "                        embeddings_initializer = intializer,\n",
        "                        input_length = categories_dim,\n",
        "                        name = \"Teacher_prefix_Embedding_layer\")(input6)\n",
        "  teacher_prefix_output = layers.Flatten(name = \"teacher_prefix_output\")(x)\n",
        "\n",
        "  # Numerical features block  \n",
        "  input7 = Input(shape = (numerical_ftr_dim,),name = \"numerical_ftrs_Input\")\n",
        "  numerical_ftr_output = layers.Dense(no_of_Dense_units_on_numerical_ftr, \n",
        "                                      activation= activation_function, \n",
        "                                      kernel_initializer = intializer)(input7)\n",
        "\n",
        "  concat_output = layers.Concatenate(axis=1)([text_lstm_output, school_state_output, project_grade_output,\n",
        "                                              clean_cat_output, clean_subcat_output, teacher_prefix_output,\n",
        "                                              numerical_ftr_output])\n",
        "\n",
        "  dense_layer1_after_concat = layers.Dense(no_of_units_on_dense_layer1, \n",
        "                                           activation = activation_function,\n",
        "                                           kernel_initializer=intializer)(concat_output)\n",
        "  dropout_layer1 = layers.Dropout(dropout_rate)(dense_layer1_after_concat)\n",
        "\n",
        "  dense_layer2_after_concat = layers.Dense(no_of_units_on_dense_layer2, \n",
        "                                           activation = activation_function,\n",
        "                                           kernel_initializer=intializer)(dropout_layer1)\n",
        "  dropout_layer2 = layers.Dropout(dropout_rate)(dense_layer2_after_concat)\n",
        "\n",
        "  dense_layer3_after_concat = layers.Dense(no_of_units_on_dense_layer3,\n",
        "                                           activation = activation_function,\n",
        "                                           kernel_initializer=intializer)(dropout_layer2)\n",
        "  output = layers.Dense(no_of_units_on_output_dense_layer,\n",
        "                        activation = 'sigmoid',\n",
        "                        kernel_initializer=intializer)(dense_layer3_after_concat)\n",
        "\n",
        "  return Model(inputs = [input1,input2,input3,input4,input5,input6,input7],outputs = output, name = \"Model_1\")"
      ]
    },
    {
      "cell_type": "code",
      "execution_count": 35,
      "metadata": {
        "colab": {
          "base_uri": "https://localhost:8080/",
          "height": 447
        },
        "id": "cdXBe_zPUCTS",
        "outputId": "ccd3a837-ed85-4e0e-97c8-ce545d314c9b"
      },
      "outputs": [
        {
          "output_type": "execute_result",
          "data": {
            "text/plain": [
              "<IPython.core.display.Image object>"
            ],
            "image/png": "[encoded data removed]"
          },
          "metadata": {},
          "execution_count": 35
        }
      ],
      "source": [
        "from tensorflow.keras import utils,initializers\n",
        "\n",
        "max_seq_length = train_padded_docs.shape[1]\n",
        "vocab_size_text = vocab_size\n",
        "categories_dim = 1\n",
        "categorical_ftr_embedding_size = 10\n",
        "initializer = initializers.HeUniform()\n",
        "activation_function = 'relu'\n",
        "dropout_rate = 0.3\n",
        "numerical_ftr_dim = 2\n",
        "\n",
        "model = create_model(max_seq_length, vocab_size_text, embedding_matrix, categories_dim,\n",
        "                 categorical_ftr_embedding_size, initializer,numerical_ftr_dim, activation_function, dropout_rate)\n",
        "\n",
        "utils.plot_model(model, \"Model_1.png\", show_shapes=True,show_dtype = True)"
      ]
    },
    {
      "cell_type": "markdown",
      "metadata": {
        "id": "Bzt7RWF2UCTS"
      },
      "source": [
        "## 1.5 Compiling and fititng your model"
      ]
    },
    {
      "cell_type": "code",
      "execution_count": 36,
      "metadata": {
        "id": "all4SGJqUCTS"
      },
      "outputs": [],
      "source": [
        "#define custom auc as metric , do not use tf.keras.metrics\n",
        "# https://stackoverflow.com/a/46844409 - custom AUC reference 1\n",
        "# https://www.kaggle.com/c/santander-customer-transaction-prediction/discussion/80807  - custom AUC reference 2\n",
        "# compile and fit your model"
      ]
    },
    {
      "cell_type": "code",
      "execution_count": 37,
      "metadata": {
        "id": "dyg1lD2x8yjO"
      },
      "outputs": [],
      "source": [
        "from sklearn.metrics import roc_auc_score,roc_curve,auc\n",
        "from keras.callbacks import Callback\n",
        "class RocCallback(Callback):\n",
        "    def __init__(self,training_data,validation_data):\n",
        "        self.x = training_data[0]\n",
        "        self.y = training_data[1]\n",
        "        self.x_val = validation_data[0]\n",
        "        self.y_val = validation_data[1]\n",
        "\n",
        "\n",
        "    def on_train_begin(self, logs={}):\n",
        "        self.model.auc_train = []\n",
        "        self.model.auc_val = []\n",
        "        return\n",
        "\n",
        "    def on_train_end(self, logs={}):\n",
        "        return\n",
        "\n",
        "    def on_epoch_begin(self, epoch, logs={}):\n",
        "        return\n",
        "\n",
        "    def on_epoch_end(self, epoch, logs={}):\n",
        "        y_pred_train = self.model.predict(self.x)\n",
        "        auc_train = roc_auc_score(self.y, y_pred_train)\n",
        "        y_pred_val = self.model.predict(self.x_val)\n",
        "        auc_val = roc_auc_score(self.y_val, y_pred_val)\n",
        "        self.model.auc_train.append(auc_train)\n",
        "        self.model.auc_val.append(auc_val)\n",
        "        print('\\rauc_train: %s - auc_val: %s' % (str(round(auc_train,4)),str(round(auc_val,4))),end=100*' '+'\\n')\n",
        "        return\n",
        "\n",
        "    def on_batch_begin(self, batch, logs={}):\n",
        "        return\n",
        "\n",
        "    def on_batch_end(self, batch, logs={}):\n",
        "        return"
      ]
    },
    {
      "cell_type": "code",
      "execution_count": 38,
      "metadata": {
        "id": "fXRjRpg382Jn"
      },
      "outputs": [],
      "source": [
        "from tensorflow.keras import callbacks\n",
        "import os\n",
        "\n",
        "# path = \"/Users/yamasanimanoj-kumarreddy/Documents/AAIC/Named_Assignments/LSTM Assignment/Assignment_Submission/\"\n",
        "# path = \"/content/drive/MyDrive/Named_Assignments/LSTM_DonorsChoose\"\n",
        "\n",
        "graph_saving_dir = os.path.join(path,'model_1', \"Tensorboard_graphs\")\n",
        "\n",
        "roc_callback = RocCallback(training_data=([train_padded_docs,train_school_state,\n",
        "                                  train_project_grade,train_clean_categories,\n",
        "                                  train_clean_subcategories,train_teacher_prefix,\n",
        "                                  numerical_data_train ], \n",
        "                                  Y_train),\n",
        "                  validation_data=([test_padded_docs,test_school_state,\n",
        "                                  test_project_grade,test_clean_categories,\n",
        "                                  test_clean_subcategories,test_teacher_prefix,\n",
        "                                  numerical_data_test ], \n",
        "                                  Y_test))\n",
        "\n",
        "\n",
        "tensorboard_callback = callbacks.TensorBoard(log_dir=graph_saving_dir,histogram_freq=1,write_graph=True)\n",
        "\n",
        "callbacksList = [roc_callback, tensorboard_callback]"
      ]
    },
    {
      "cell_type": "code",
      "execution_count": 39,
      "metadata": {
        "colab": {
          "base_uri": "https://localhost:8080/",
          "height": 463
        },
        "id": "3lpqjWn8ye1s",
        "outputId": "19c17e68-c646-4cb0-e345-9372ae4996c6"
      },
      "outputs": [
        {
          "output_type": "stream",
          "name": "stdout",
          "text": [
            "{0: 3.3021745014887665, 1: 0.5892164281229372}\n",
            "WARNING:tensorflow:Callback method `on_train_batch_end` is slow compared to the batch time (batch time: 0.1009s vs `on_train_batch_end` time: 0.1649s). Check your callbacks.\n",
            "auc_train: 0.5962 - auc_val: 0.6068                                                                                                    \n"
          ]
        },
        {
          "output_type": "error",
          "ename": "KeyboardInterrupt",
          "evalue": "ignored",
          "traceback": [
            "\u001b[0;31m---------------------------------------------------------------------------\u001b[0m",
            "\u001b[0;31mKeyboardInterrupt\u001b[0m                         Traceback (most recent call last)",
            "\u001b[0;32m<ipython-input-39-d8c591add9b8>\u001b[0m in \u001b[0;36m<module>\u001b[0;34m()\u001b[0m\n\u001b[1;32m     55\u001b[0m                                   \u001b[0mtest_clean_subcategories\u001b[0m\u001b[0;34m,\u001b[0m\u001b[0mtest_teacher_prefix\u001b[0m\u001b[0;34m,\u001b[0m\u001b[0;34m\u001b[0m\u001b[0;34m\u001b[0m\u001b[0m\n\u001b[1;32m     56\u001b[0m                                   numerical_data_test ], \n\u001b[0;32m---> 57\u001b[0;31m                                   Y_test))\n\u001b[0m\u001b[1;32m     58\u001b[0m \u001b[0;31m# evaluate the model\u001b[0m\u001b[0;34m\u001b[0m\u001b[0;34m\u001b[0m\u001b[0;34m\u001b[0m\u001b[0m\n\u001b[1;32m     59\u001b[0m loss, accuracy = model.evaluate([ test_padded_docs,test_school_state,\n",
            "\u001b[0;32m/usr/local/lib/python3.7/dist-packages/keras/utils/traceback_utils.py\u001b[0m in \u001b[0;36merror_handler\u001b[0;34m(*args, **kwargs)\u001b[0m\n\u001b[1;32m     62\u001b[0m     \u001b[0mfiltered_tb\u001b[0m \u001b[0;34m=\u001b[0m \u001b[0;32mNone\u001b[0m\u001b[0;34m\u001b[0m\u001b[0;34m\u001b[0m\u001b[0m\n\u001b[1;32m     63\u001b[0m     \u001b[0;32mtry\u001b[0m\u001b[0;34m:\u001b[0m\u001b[0;34m\u001b[0m\u001b[0;34m\u001b[0m\u001b[0m\n\u001b[0;32m---> 64\u001b[0;31m       \u001b[0;32mreturn\u001b[0m \u001b[0mfn\u001b[0m\u001b[0;34m(\u001b[0m\u001b[0;34m*\u001b[0m\u001b[0margs\u001b[0m\u001b[0;34m,\u001b[0m \u001b[0;34m**\u001b[0m\u001b[0mkwargs\u001b[0m\u001b[0;34m)\u001b[0m\u001b[0;34m\u001b[0m\u001b[0;34m\u001b[0m\u001b[0m\n\u001b[0m\u001b[1;32m     65\u001b[0m     \u001b[0;32mexcept\u001b[0m \u001b[0mException\u001b[0m \u001b[0;32mas\u001b[0m \u001b[0me\u001b[0m\u001b[0;34m:\u001b[0m  \u001b[0;31m# pylint: disable=broad-except\u001b[0m\u001b[0;34m\u001b[0m\u001b[0;34m\u001b[0m\u001b[0m\n\u001b[1;32m     66\u001b[0m       \u001b[0mfiltered_tb\u001b[0m \u001b[0;34m=\u001b[0m \u001b[0m_process_traceback_frames\u001b[0m\u001b[0;34m(\u001b[0m\u001b[0me\u001b[0m\u001b[0;34m.\u001b[0m\u001b[0m__traceback__\u001b[0m\u001b[0;34m)\u001b[0m\u001b[0;34m\u001b[0m\u001b[0;34m\u001b[0m\u001b[0m\n",
            "\u001b[0;32m/usr/local/lib/python3.7/dist-packages/keras/engine/training.py\u001b[0m in \u001b[0;36mfit\u001b[0;34m(self, x, y, batch_size, epochs, verbose, callbacks, validation_split, validation_data, shuffle, class_weight, sample_weight, initial_epoch, steps_per_epoch, validation_steps, validation_batch_size, validation_freq, max_queue_size, workers, use_multiprocessing)\u001b[0m\n\u001b[1;32m   1433\u001b[0m           \u001b[0mepoch_logs\u001b[0m\u001b[0;34m.\u001b[0m\u001b[0mupdate\u001b[0m\u001b[0;34m(\u001b[0m\u001b[0mval_logs\u001b[0m\u001b[0;34m)\u001b[0m\u001b[0;34m\u001b[0m\u001b[0;34m\u001b[0m\u001b[0m\n\u001b[1;32m   1434\u001b[0m \u001b[0;34m\u001b[0m\u001b[0m\n\u001b[0;32m-> 1435\u001b[0;31m         \u001b[0mcallbacks\u001b[0m\u001b[0;34m.\u001b[0m\u001b[0mon_epoch_end\u001b[0m\u001b[0;34m(\u001b[0m\u001b[0mepoch\u001b[0m\u001b[0;34m,\u001b[0m \u001b[0mepoch_logs\u001b[0m\u001b[0;34m)\u001b[0m\u001b[0;34m\u001b[0m\u001b[0;34m\u001b[0m\u001b[0m\n\u001b[0m\u001b[1;32m   1436\u001b[0m         \u001b[0mtraining_logs\u001b[0m \u001b[0;34m=\u001b[0m \u001b[0mepoch_logs\u001b[0m\u001b[0;34m\u001b[0m\u001b[0;34m\u001b[0m\u001b[0m\n\u001b[1;32m   1437\u001b[0m         \u001b[0;32mif\u001b[0m \u001b[0mself\u001b[0m\u001b[0;34m.\u001b[0m\u001b[0mstop_training\u001b[0m\u001b[0;34m:\u001b[0m\u001b[0;34m\u001b[0m\u001b[0;34m\u001b[0m\u001b[0m\n",
            "\u001b[0;32m/usr/local/lib/python3.7/dist-packages/keras/callbacks.py\u001b[0m in \u001b[0;36mon_epoch_end\u001b[0;34m(self, epoch, logs)\u001b[0m\n\u001b[1;32m    414\u001b[0m     \u001b[0mlogs\u001b[0m \u001b[0;34m=\u001b[0m \u001b[0mself\u001b[0m\u001b[0;34m.\u001b[0m\u001b[0m_process_logs\u001b[0m\u001b[0;34m(\u001b[0m\u001b[0mlogs\u001b[0m\u001b[0;34m)\u001b[0m\u001b[0;34m\u001b[0m\u001b[0;34m\u001b[0m\u001b[0m\n\u001b[1;32m    415\u001b[0m     \u001b[0;32mfor\u001b[0m \u001b[0mcallback\u001b[0m \u001b[0;32min\u001b[0m \u001b[0mself\u001b[0m\u001b[0;34m.\u001b[0m\u001b[0mcallbacks\u001b[0m\u001b[0;34m:\u001b[0m\u001b[0;34m\u001b[0m\u001b[0;34m\u001b[0m\u001b[0m\n\u001b[0;32m--> 416\u001b[0;31m       \u001b[0mcallback\u001b[0m\u001b[0;34m.\u001b[0m\u001b[0mon_epoch_end\u001b[0m\u001b[0;34m(\u001b[0m\u001b[0mepoch\u001b[0m\u001b[0;34m,\u001b[0m \u001b[0mlogs\u001b[0m\u001b[0;34m)\u001b[0m\u001b[0;34m\u001b[0m\u001b[0;34m\u001b[0m\u001b[0m\n\u001b[0m\u001b[1;32m    417\u001b[0m \u001b[0;34m\u001b[0m\u001b[0m\n\u001b[1;32m    418\u001b[0m   \u001b[0;32mdef\u001b[0m \u001b[0mon_train_batch_begin\u001b[0m\u001b[0;34m(\u001b[0m\u001b[0mself\u001b[0m\u001b[0;34m,\u001b[0m \u001b[0mbatch\u001b[0m\u001b[0;34m,\u001b[0m \u001b[0mlogs\u001b[0m\u001b[0;34m=\u001b[0m\u001b[0;32mNone\u001b[0m\u001b[0;34m)\u001b[0m\u001b[0;34m:\u001b[0m\u001b[0;34m\u001b[0m\u001b[0;34m\u001b[0m\u001b[0m\n",
            "\u001b[0;32m/usr/local/lib/python3.7/dist-packages/keras/callbacks.py\u001b[0m in \u001b[0;36mon_epoch_end\u001b[0;34m(self, epoch, logs)\u001b[0m\n\u001b[1;32m   2504\u001b[0m \u001b[0;34m\u001b[0m\u001b[0m\n\u001b[1;32m   2505\u001b[0m     \u001b[0;32mif\u001b[0m \u001b[0mself\u001b[0m\u001b[0;34m.\u001b[0m\u001b[0mhistogram_freq\u001b[0m \u001b[0;32mand\u001b[0m \u001b[0mepoch\u001b[0m \u001b[0;34m%\u001b[0m \u001b[0mself\u001b[0m\u001b[0;34m.\u001b[0m\u001b[0mhistogram_freq\u001b[0m \u001b[0;34m==\u001b[0m \u001b[0;36m0\u001b[0m\u001b[0;34m:\u001b[0m\u001b[0;34m\u001b[0m\u001b[0;34m\u001b[0m\u001b[0m\n\u001b[0;32m-> 2506\u001b[0;31m       \u001b[0mself\u001b[0m\u001b[0;34m.\u001b[0m\u001b[0m_log_weights\u001b[0m\u001b[0;34m(\u001b[0m\u001b[0mepoch\u001b[0m\u001b[0;34m)\u001b[0m\u001b[0;34m\u001b[0m\u001b[0;34m\u001b[0m\u001b[0m\n\u001b[0m\u001b[1;32m   2507\u001b[0m \u001b[0;34m\u001b[0m\u001b[0m\n\u001b[1;32m   2508\u001b[0m     \u001b[0;32mif\u001b[0m \u001b[0mself\u001b[0m\u001b[0;34m.\u001b[0m\u001b[0membeddings_freq\u001b[0m \u001b[0;32mand\u001b[0m \u001b[0mepoch\u001b[0m \u001b[0;34m%\u001b[0m \u001b[0mself\u001b[0m\u001b[0;34m.\u001b[0m\u001b[0membeddings_freq\u001b[0m \u001b[0;34m==\u001b[0m \u001b[0;36m0\u001b[0m\u001b[0;34m:\u001b[0m\u001b[0;34m\u001b[0m\u001b[0;34m\u001b[0m\u001b[0m\n",
            "\u001b[0;32m/usr/local/lib/python3.7/dist-packages/keras/callbacks.py\u001b[0m in \u001b[0;36m_log_weights\u001b[0;34m(self, epoch)\u001b[0m\n\u001b[1;32m   2572\u001b[0m           \u001b[0;32mfor\u001b[0m \u001b[0mweight\u001b[0m \u001b[0;32min\u001b[0m \u001b[0mlayer\u001b[0m\u001b[0;34m.\u001b[0m\u001b[0mweights\u001b[0m\u001b[0;34m:\u001b[0m\u001b[0;34m\u001b[0m\u001b[0;34m\u001b[0m\u001b[0m\n\u001b[1;32m   2573\u001b[0m             \u001b[0mweight_name\u001b[0m \u001b[0;34m=\u001b[0m \u001b[0mweight\u001b[0m\u001b[0;34m.\u001b[0m\u001b[0mname\u001b[0m\u001b[0;34m.\u001b[0m\u001b[0mreplace\u001b[0m\u001b[0;34m(\u001b[0m\u001b[0;34m':'\u001b[0m\u001b[0;34m,\u001b[0m \u001b[0;34m'_'\u001b[0m\u001b[0;34m)\u001b[0m\u001b[0;34m\u001b[0m\u001b[0;34m\u001b[0m\u001b[0m\n\u001b[0;32m-> 2574\u001b[0;31m             \u001b[0mtf\u001b[0m\u001b[0;34m.\u001b[0m\u001b[0msummary\u001b[0m\u001b[0;34m.\u001b[0m\u001b[0mhistogram\u001b[0m\u001b[0;34m(\u001b[0m\u001b[0mweight_name\u001b[0m\u001b[0;34m,\u001b[0m \u001b[0mweight\u001b[0m\u001b[0;34m,\u001b[0m \u001b[0mstep\u001b[0m\u001b[0;34m=\u001b[0m\u001b[0mepoch\u001b[0m\u001b[0;34m)\u001b[0m\u001b[0;34m\u001b[0m\u001b[0;34m\u001b[0m\u001b[0m\n\u001b[0m\u001b[1;32m   2575\u001b[0m             \u001b[0;32mif\u001b[0m \u001b[0mself\u001b[0m\u001b[0;34m.\u001b[0m\u001b[0mwrite_images\u001b[0m\u001b[0;34m:\u001b[0m\u001b[0;34m\u001b[0m\u001b[0;34m\u001b[0m\u001b[0m\n\u001b[1;32m   2576\u001b[0m               \u001b[0mself\u001b[0m\u001b[0;34m.\u001b[0m\u001b[0m_log_weight_as_image\u001b[0m\u001b[0;34m(\u001b[0m\u001b[0mweight\u001b[0m\u001b[0;34m,\u001b[0m \u001b[0mweight_name\u001b[0m\u001b[0;34m,\u001b[0m \u001b[0mepoch\u001b[0m\u001b[0;34m)\u001b[0m\u001b[0;34m\u001b[0m\u001b[0;34m\u001b[0m\u001b[0m\n",
            "\u001b[0;32m/usr/local/lib/python3.7/dist-packages/tensorboard/plugins/histogram/summary_v2.py\u001b[0m in \u001b[0;36mhistogram\u001b[0;34m(name, data, step, buckets, description)\u001b[0m\n\u001b[1;32m    196\u001b[0m             \u001b[0mtensor\u001b[0m\u001b[0;34m=\u001b[0m\u001b[0mlazy_tensor\u001b[0m\u001b[0;34m,\u001b[0m\u001b[0;34m\u001b[0m\u001b[0;34m\u001b[0m\u001b[0m\n\u001b[1;32m    197\u001b[0m             \u001b[0mstep\u001b[0m\u001b[0;34m=\u001b[0m\u001b[0mstep\u001b[0m\u001b[0;34m,\u001b[0m\u001b[0;34m\u001b[0m\u001b[0;34m\u001b[0m\u001b[0m\n\u001b[0;32m--> 198\u001b[0;31m             \u001b[0mmetadata\u001b[0m\u001b[0;34m=\u001b[0m\u001b[0msummary_metadata\u001b[0m\u001b[0;34m,\u001b[0m\u001b[0;34m\u001b[0m\u001b[0;34m\u001b[0m\u001b[0m\n\u001b[0m\u001b[1;32m    199\u001b[0m         )\n\u001b[1;32m    200\u001b[0m \u001b[0;34m\u001b[0m\u001b[0m\n",
            "\u001b[0;32m/usr/local/lib/python3.7/dist-packages/tensorflow/python/ops/summary_ops_v2.py\u001b[0m in \u001b[0;36mwrite\u001b[0;34m(tag, tensor, step, metadata, name)\u001b[0m\n\u001b[1;32m    766\u001b[0m \u001b[0;34m\u001b[0m\u001b[0m\n\u001b[1;32m    767\u001b[0m     op = smart_cond.smart_cond(\n\u001b[0;32m--> 768\u001b[0;31m         should_record_summaries(), record, _nothing, name=\"summary_cond\")\n\u001b[0m\u001b[1;32m    769\u001b[0m     \u001b[0;32mif\u001b[0m \u001b[0;32mnot\u001b[0m \u001b[0mcontext\u001b[0m\u001b[0;34m.\u001b[0m\u001b[0mexecuting_eagerly\u001b[0m\u001b[0;34m(\u001b[0m\u001b[0;34m)\u001b[0m\u001b[0;34m:\u001b[0m\u001b[0;34m\u001b[0m\u001b[0;34m\u001b[0m\u001b[0m\n\u001b[1;32m    770\u001b[0m       \u001b[0mops\u001b[0m\u001b[0;34m.\u001b[0m\u001b[0madd_to_collection\u001b[0m\u001b[0;34m(\u001b[0m\u001b[0mops\u001b[0m\u001b[0;34m.\u001b[0m\u001b[0mGraphKeys\u001b[0m\u001b[0;34m.\u001b[0m\u001b[0m_SUMMARY_COLLECTION\u001b[0m\u001b[0;34m,\u001b[0m \u001b[0mop\u001b[0m\u001b[0;34m)\u001b[0m  \u001b[0;31m# pylint: disable=protected-access\u001b[0m\u001b[0;34m\u001b[0m\u001b[0;34m\u001b[0m\u001b[0m\n",
            "\u001b[0;32m/usr/local/lib/python3.7/dist-packages/tensorflow/python/framework/smart_cond.py\u001b[0m in \u001b[0;36msmart_cond\u001b[0;34m(pred, true_fn, false_fn, name)\u001b[0m\n\u001b[1;32m     51\u001b[0m   \u001b[0;32mif\u001b[0m \u001b[0mpred_value\u001b[0m \u001b[0;32mis\u001b[0m \u001b[0;32mnot\u001b[0m \u001b[0;32mNone\u001b[0m\u001b[0;34m:\u001b[0m\u001b[0;34m\u001b[0m\u001b[0;34m\u001b[0m\u001b[0m\n\u001b[1;32m     52\u001b[0m     \u001b[0;32mif\u001b[0m \u001b[0mpred_value\u001b[0m\u001b[0;34m:\u001b[0m\u001b[0;34m\u001b[0m\u001b[0;34m\u001b[0m\u001b[0m\n\u001b[0;32m---> 53\u001b[0;31m       \u001b[0;32mreturn\u001b[0m \u001b[0mtrue_fn\u001b[0m\u001b[0;34m(\u001b[0m\u001b[0;34m)\u001b[0m\u001b[0;34m\u001b[0m\u001b[0;34m\u001b[0m\u001b[0m\n\u001b[0m\u001b[1;32m     54\u001b[0m     \u001b[0;32melse\u001b[0m\u001b[0;34m:\u001b[0m\u001b[0;34m\u001b[0m\u001b[0;34m\u001b[0m\u001b[0m\n\u001b[1;32m     55\u001b[0m       \u001b[0;32mreturn\u001b[0m \u001b[0mfalse_fn\u001b[0m\u001b[0;34m(\u001b[0m\u001b[0;34m)\u001b[0m\u001b[0;34m\u001b[0m\u001b[0;34m\u001b[0m\u001b[0m\n",
            "\u001b[0;32m/usr/local/lib/python3.7/dist-packages/tensorflow/python/ops/summary_ops_v2.py\u001b[0m in \u001b[0;36mrecord\u001b[0;34m()\u001b[0m\n\u001b[1;32m    753\u001b[0m       \u001b[0;31m# Note the identity to move the tensor to the CPU.\u001b[0m\u001b[0;34m\u001b[0m\u001b[0;34m\u001b[0m\u001b[0;34m\u001b[0m\u001b[0m\n\u001b[1;32m    754\u001b[0m       \u001b[0;32mwith\u001b[0m \u001b[0mops\u001b[0m\u001b[0;34m.\u001b[0m\u001b[0mdevice\u001b[0m\u001b[0;34m(\u001b[0m\u001b[0;34m\"cpu:0\"\u001b[0m\u001b[0;34m)\u001b[0m\u001b[0;34m:\u001b[0m\u001b[0;34m\u001b[0m\u001b[0;34m\u001b[0m\u001b[0m\n\u001b[0;32m--> 755\u001b[0;31m         summary_tensor = tensor() if callable(tensor) else array_ops.identity(\n\u001b[0m\u001b[1;32m    756\u001b[0m             tensor)\n\u001b[1;32m    757\u001b[0m         write_summary_op = gen_summary_ops.write_summary(\n",
            "\u001b[0;32m/usr/local/lib/python3.7/dist-packages/tensorboard/util/lazy_tensor_creator.py\u001b[0m in \u001b[0;36m__call__\u001b[0;34m(self)\u001b[0m\n\u001b[1;32m     64\u001b[0m                 \u001b[0;32melif\u001b[0m \u001b[0mself\u001b[0m\u001b[0;34m.\u001b[0m\u001b[0m_tensor\u001b[0m \u001b[0;32mis\u001b[0m \u001b[0;32mNone\u001b[0m\u001b[0;34m:\u001b[0m\u001b[0;34m\u001b[0m\u001b[0;34m\u001b[0m\u001b[0m\n\u001b[1;32m     65\u001b[0m                     \u001b[0mself\u001b[0m\u001b[0;34m.\u001b[0m\u001b[0m_tensor\u001b[0m \u001b[0;34m=\u001b[0m \u001b[0m_CALL_IN_PROGRESS_SENTINEL\u001b[0m\u001b[0;34m\u001b[0m\u001b[0;34m\u001b[0m\u001b[0m\n\u001b[0;32m---> 66\u001b[0;31m                     \u001b[0mself\u001b[0m\u001b[0;34m.\u001b[0m\u001b[0m_tensor\u001b[0m \u001b[0;34m=\u001b[0m \u001b[0mself\u001b[0m\u001b[0;34m.\u001b[0m\u001b[0m_tensor_callable\u001b[0m\u001b[0;34m(\u001b[0m\u001b[0;34m)\u001b[0m\u001b[0;34m\u001b[0m\u001b[0;34m\u001b[0m\u001b[0m\n\u001b[0m\u001b[1;32m     67\u001b[0m         \u001b[0;32mreturn\u001b[0m \u001b[0mself\u001b[0m\u001b[0;34m.\u001b[0m\u001b[0m_tensor\u001b[0m\u001b[0;34m\u001b[0m\u001b[0;34m\u001b[0m\u001b[0m\n\u001b[1;32m     68\u001b[0m \u001b[0;34m\u001b[0m\u001b[0m\n",
            "\u001b[0;32m/usr/local/lib/python3.7/dist-packages/tensorboard/plugins/histogram/summary_v2.py\u001b[0m in \u001b[0;36mlazy_tensor\u001b[0;34m()\u001b[0m\n\u001b[1;32m    190\u001b[0m         \u001b[0;34m@\u001b[0m\u001b[0mlazy_tensor_creator\u001b[0m\u001b[0;34m.\u001b[0m\u001b[0mLazyTensorCreator\u001b[0m\u001b[0;34m\u001b[0m\u001b[0;34m\u001b[0m\u001b[0m\n\u001b[1;32m    191\u001b[0m         \u001b[0;32mdef\u001b[0m \u001b[0mlazy_tensor\u001b[0m\u001b[0;34m(\u001b[0m\u001b[0;34m)\u001b[0m\u001b[0;34m:\u001b[0m\u001b[0;34m\u001b[0m\u001b[0;34m\u001b[0m\u001b[0m\n\u001b[0;32m--> 192\u001b[0;31m             \u001b[0;32mreturn\u001b[0m \u001b[0m_buckets\u001b[0m\u001b[0;34m(\u001b[0m\u001b[0mdata\u001b[0m\u001b[0;34m,\u001b[0m \u001b[0mbuckets\u001b[0m\u001b[0;34m)\u001b[0m\u001b[0;34m\u001b[0m\u001b[0;34m\u001b[0m\u001b[0m\n\u001b[0m\u001b[1;32m    193\u001b[0m \u001b[0;34m\u001b[0m\u001b[0m\n\u001b[1;32m    194\u001b[0m         return tf.summary.write(\n",
            "\u001b[0;32m/usr/local/lib/python3.7/dist-packages/tensorboard/plugins/histogram/summary_v2.py\u001b[0m in \u001b[0;36m_buckets\u001b[0;34m(data, bucket_count)\u001b[0m\n\u001b[1;32m    289\u001b[0m             )\n\u001b[1;32m    290\u001b[0m \u001b[0;34m\u001b[0m\u001b[0m\n\u001b[0;32m--> 291\u001b[0;31m         \u001b[0;32mreturn\u001b[0m \u001b[0mtf\u001b[0m\u001b[0;34m.\u001b[0m\u001b[0mcond\u001b[0m\u001b[0;34m(\u001b[0m\u001b[0mis_empty\u001b[0m\u001b[0;34m,\u001b[0m \u001b[0mwhen_empty\u001b[0m\u001b[0;34m,\u001b[0m \u001b[0mwhen_nonempty\u001b[0m\u001b[0;34m)\u001b[0m\u001b[0;34m\u001b[0m\u001b[0;34m\u001b[0m\u001b[0m\n\u001b[0m",
            "\u001b[0;32m/usr/local/lib/python3.7/dist-packages/tensorflow/python/util/traceback_utils.py\u001b[0m in \u001b[0;36merror_handler\u001b[0;34m(*args, **kwargs)\u001b[0m\n\u001b[1;32m    148\u001b[0m     \u001b[0mfiltered_tb\u001b[0m \u001b[0;34m=\u001b[0m \u001b[0;32mNone\u001b[0m\u001b[0;34m\u001b[0m\u001b[0;34m\u001b[0m\u001b[0m\n\u001b[1;32m    149\u001b[0m     \u001b[0;32mtry\u001b[0m\u001b[0;34m:\u001b[0m\u001b[0;34m\u001b[0m\u001b[0;34m\u001b[0m\u001b[0m\n\u001b[0;32m--> 150\u001b[0;31m       \u001b[0;32mreturn\u001b[0m \u001b[0mfn\u001b[0m\u001b[0;34m(\u001b[0m\u001b[0;34m*\u001b[0m\u001b[0margs\u001b[0m\u001b[0;34m,\u001b[0m \u001b[0;34m**\u001b[0m\u001b[0mkwargs\u001b[0m\u001b[0;34m)\u001b[0m\u001b[0;34m\u001b[0m\u001b[0;34m\u001b[0m\u001b[0m\n\u001b[0m\u001b[1;32m    151\u001b[0m     \u001b[0;32mexcept\u001b[0m \u001b[0mException\u001b[0m \u001b[0;32mas\u001b[0m \u001b[0me\u001b[0m\u001b[0;34m:\u001b[0m\u001b[0;34m\u001b[0m\u001b[0;34m\u001b[0m\u001b[0m\n\u001b[1;32m    152\u001b[0m       \u001b[0mfiltered_tb\u001b[0m \u001b[0;34m=\u001b[0m \u001b[0m_process_traceback_frames\u001b[0m\u001b[0;34m(\u001b[0m\u001b[0me\u001b[0m\u001b[0;34m.\u001b[0m\u001b[0m__traceback__\u001b[0m\u001b[0;34m)\u001b[0m\u001b[0;34m\u001b[0m\u001b[0;34m\u001b[0m\u001b[0m\n",
            "\u001b[0;32m/usr/local/lib/python3.7/dist-packages/tensorflow/python/util/dispatch.py\u001b[0m in \u001b[0;36mop_dispatch_handler\u001b[0;34m(*args, **kwargs)\u001b[0m\n\u001b[1;32m   1080\u001b[0m       \u001b[0;31m# Fallback dispatch system (dispatch v1):\u001b[0m\u001b[0;34m\u001b[0m\u001b[0;34m\u001b[0m\u001b[0;34m\u001b[0m\u001b[0m\n\u001b[1;32m   1081\u001b[0m       \u001b[0;32mtry\u001b[0m\u001b[0;34m:\u001b[0m\u001b[0;34m\u001b[0m\u001b[0;34m\u001b[0m\u001b[0m\n\u001b[0;32m-> 1082\u001b[0;31m         \u001b[0;32mreturn\u001b[0m \u001b[0mdispatch_target\u001b[0m\u001b[0;34m(\u001b[0m\u001b[0;34m*\u001b[0m\u001b[0margs\u001b[0m\u001b[0;34m,\u001b[0m \u001b[0;34m**\u001b[0m\u001b[0mkwargs\u001b[0m\u001b[0;34m)\u001b[0m\u001b[0;34m\u001b[0m\u001b[0;34m\u001b[0m\u001b[0m\n\u001b[0m\u001b[1;32m   1083\u001b[0m       \u001b[0;32mexcept\u001b[0m \u001b[0;34m(\u001b[0m\u001b[0mTypeError\u001b[0m\u001b[0;34m,\u001b[0m \u001b[0mValueError\u001b[0m\u001b[0;34m)\u001b[0m\u001b[0;34m:\u001b[0m\u001b[0;34m\u001b[0m\u001b[0;34m\u001b[0m\u001b[0m\n\u001b[1;32m   1084\u001b[0m         \u001b[0;31m# Note: convert_to_eager_tensor currently raises a ValueError, not a\u001b[0m\u001b[0;34m\u001b[0m\u001b[0;34m\u001b[0m\u001b[0;34m\u001b[0m\u001b[0m\n",
            "\u001b[0;32m/usr/local/lib/python3.7/dist-packages/tensorflow/python/ops/control_flow_ops.py\u001b[0m in \u001b[0;36mcond_for_tf_v2\u001b[0;34m(pred, true_fn, false_fn, name)\u001b[0m\n\u001b[1;32m   1450\u001b[0m \u001b[0;34m\u001b[0m\u001b[0m\n\u001b[1;32m   1451\u001b[0m   \"\"\"\n\u001b[0;32m-> 1452\u001b[0;31m   \u001b[0;32mreturn\u001b[0m \u001b[0mcond\u001b[0m\u001b[0;34m(\u001b[0m\u001b[0mpred\u001b[0m\u001b[0;34m,\u001b[0m \u001b[0mtrue_fn\u001b[0m\u001b[0;34m=\u001b[0m\u001b[0mtrue_fn\u001b[0m\u001b[0;34m,\u001b[0m \u001b[0mfalse_fn\u001b[0m\u001b[0;34m=\u001b[0m\u001b[0mfalse_fn\u001b[0m\u001b[0;34m,\u001b[0m \u001b[0mstrict\u001b[0m\u001b[0;34m=\u001b[0m\u001b[0;32mTrue\u001b[0m\u001b[0;34m,\u001b[0m \u001b[0mname\u001b[0m\u001b[0;34m=\u001b[0m\u001b[0mname\u001b[0m\u001b[0;34m)\u001b[0m\u001b[0;34m\u001b[0m\u001b[0;34m\u001b[0m\u001b[0m\n\u001b[0m\u001b[1;32m   1453\u001b[0m \u001b[0;34m\u001b[0m\u001b[0m\n\u001b[1;32m   1454\u001b[0m \u001b[0;34m\u001b[0m\u001b[0m\n",
            "\u001b[0;32m/usr/local/lib/python3.7/dist-packages/tensorflow/python/util/traceback_utils.py\u001b[0m in \u001b[0;36merror_handler\u001b[0;34m(*args, **kwargs)\u001b[0m\n\u001b[1;32m    148\u001b[0m     \u001b[0mfiltered_tb\u001b[0m \u001b[0;34m=\u001b[0m \u001b[0;32mNone\u001b[0m\u001b[0;34m\u001b[0m\u001b[0;34m\u001b[0m\u001b[0m\n\u001b[1;32m    149\u001b[0m     \u001b[0;32mtry\u001b[0m\u001b[0;34m:\u001b[0m\u001b[0;34m\u001b[0m\u001b[0;34m\u001b[0m\u001b[0m\n\u001b[0;32m--> 150\u001b[0;31m       \u001b[0;32mreturn\u001b[0m \u001b[0mfn\u001b[0m\u001b[0;34m(\u001b[0m\u001b[0;34m*\u001b[0m\u001b[0margs\u001b[0m\u001b[0;34m,\u001b[0m \u001b[0;34m**\u001b[0m\u001b[0mkwargs\u001b[0m\u001b[0;34m)\u001b[0m\u001b[0;34m\u001b[0m\u001b[0;34m\u001b[0m\u001b[0m\n\u001b[0m\u001b[1;32m    151\u001b[0m     \u001b[0;32mexcept\u001b[0m \u001b[0mException\u001b[0m \u001b[0;32mas\u001b[0m \u001b[0me\u001b[0m\u001b[0;34m:\u001b[0m\u001b[0;34m\u001b[0m\u001b[0;34m\u001b[0m\u001b[0m\n\u001b[1;32m    152\u001b[0m       \u001b[0mfiltered_tb\u001b[0m \u001b[0;34m=\u001b[0m \u001b[0m_process_traceback_frames\u001b[0m\u001b[0;34m(\u001b[0m\u001b[0me\u001b[0m\u001b[0;34m.\u001b[0m\u001b[0m__traceback__\u001b[0m\u001b[0;34m)\u001b[0m\u001b[0;34m\u001b[0m\u001b[0;34m\u001b[0m\u001b[0m\n",
            "\u001b[0;32m/usr/local/lib/python3.7/dist-packages/tensorflow/python/util/dispatch.py\u001b[0m in \u001b[0;36mop_dispatch_handler\u001b[0;34m(*args, **kwargs)\u001b[0m\n\u001b[1;32m   1080\u001b[0m       \u001b[0;31m# Fallback dispatch system (dispatch v1):\u001b[0m\u001b[0;34m\u001b[0m\u001b[0;34m\u001b[0m\u001b[0;34m\u001b[0m\u001b[0m\n\u001b[1;32m   1081\u001b[0m       \u001b[0;32mtry\u001b[0m\u001b[0;34m:\u001b[0m\u001b[0;34m\u001b[0m\u001b[0;34m\u001b[0m\u001b[0m\n\u001b[0;32m-> 1082\u001b[0;31m         \u001b[0;32mreturn\u001b[0m \u001b[0mdispatch_target\u001b[0m\u001b[0;34m(\u001b[0m\u001b[0;34m*\u001b[0m\u001b[0margs\u001b[0m\u001b[0;34m,\u001b[0m \u001b[0;34m**\u001b[0m\u001b[0mkwargs\u001b[0m\u001b[0;34m)\u001b[0m\u001b[0;34m\u001b[0m\u001b[0;34m\u001b[0m\u001b[0m\n\u001b[0m\u001b[1;32m   1083\u001b[0m       \u001b[0;32mexcept\u001b[0m \u001b[0;34m(\u001b[0m\u001b[0mTypeError\u001b[0m\u001b[0;34m,\u001b[0m \u001b[0mValueError\u001b[0m\u001b[0;34m)\u001b[0m\u001b[0;34m:\u001b[0m\u001b[0;34m\u001b[0m\u001b[0;34m\u001b[0m\u001b[0m\n\u001b[1;32m   1084\u001b[0m         \u001b[0;31m# Note: convert_to_eager_tensor currently raises a ValueError, not a\u001b[0m\u001b[0;34m\u001b[0m\u001b[0;34m\u001b[0m\u001b[0;34m\u001b[0m\u001b[0m\n",
            "\u001b[0;32m/usr/local/lib/python3.7/dist-packages/tensorflow/python/util/deprecation.py\u001b[0m in \u001b[0;36mnew_func\u001b[0;34m(*args, **kwargs)\u001b[0m\n\u001b[1;32m    546\u001b[0m                 \u001b[0;34m'in a future version'\u001b[0m \u001b[0;32mif\u001b[0m \u001b[0mdate\u001b[0m \u001b[0;32mis\u001b[0m \u001b[0;32mNone\u001b[0m \u001b[0;32melse\u001b[0m \u001b[0;34m(\u001b[0m\u001b[0;34m'after %s'\u001b[0m \u001b[0;34m%\u001b[0m \u001b[0mdate\u001b[0m\u001b[0;34m)\u001b[0m\u001b[0;34m,\u001b[0m\u001b[0;34m\u001b[0m\u001b[0;34m\u001b[0m\u001b[0m\n\u001b[1;32m    547\u001b[0m                 instructions)\n\u001b[0;32m--> 548\u001b[0;31m       \u001b[0;32mreturn\u001b[0m \u001b[0mfunc\u001b[0m\u001b[0;34m(\u001b[0m\u001b[0;34m*\u001b[0m\u001b[0margs\u001b[0m\u001b[0;34m,\u001b[0m \u001b[0;34m**\u001b[0m\u001b[0mkwargs\u001b[0m\u001b[0;34m)\u001b[0m\u001b[0;34m\u001b[0m\u001b[0;34m\u001b[0m\u001b[0m\n\u001b[0m\u001b[1;32m    549\u001b[0m \u001b[0;34m\u001b[0m\u001b[0m\n\u001b[1;32m    550\u001b[0m     doc = _add_deprecated_arg_notice_to_docstring(\n",
            "\u001b[0;32m/usr/local/lib/python3.7/dist-packages/tensorflow/python/ops/control_flow_ops.py\u001b[0m in \u001b[0;36mcond\u001b[0;34m(pred, true_fn, false_fn, strict, name, fn1, fn2)\u001b[0m\n\u001b[1;32m   1259\u001b[0m \u001b[0;34m\u001b[0m\u001b[0m\n\u001b[1;32m   1260\u001b[0m   \u001b[0;32mif\u001b[0m \u001b[0mcontext\u001b[0m\u001b[0;34m.\u001b[0m\u001b[0mexecuting_eagerly\u001b[0m\u001b[0;34m(\u001b[0m\u001b[0;34m)\u001b[0m\u001b[0;34m:\u001b[0m\u001b[0;34m\u001b[0m\u001b[0;34m\u001b[0m\u001b[0m\n\u001b[0;32m-> 1261\u001b[0;31m     \u001b[0;32mreturn\u001b[0m \u001b[0m_eager_cond_implementation\u001b[0m\u001b[0;34m(\u001b[0m\u001b[0mpred\u001b[0m\u001b[0;34m,\u001b[0m \u001b[0mtrue_fn\u001b[0m\u001b[0;34m,\u001b[0m \u001b[0mfalse_fn\u001b[0m\u001b[0;34m,\u001b[0m \u001b[0mstrict\u001b[0m\u001b[0;34m,\u001b[0m \u001b[0mname\u001b[0m\u001b[0;34m)\u001b[0m\u001b[0;34m\u001b[0m\u001b[0;34m\u001b[0m\u001b[0m\n\u001b[0m\u001b[1;32m   1262\u001b[0m \u001b[0;34m\u001b[0m\u001b[0m\n\u001b[1;32m   1263\u001b[0m   \u001b[0;31m# Always enable control flow v2 if building a function, regardless of toggle.\u001b[0m\u001b[0;34m\u001b[0m\u001b[0;34m\u001b[0m\u001b[0;34m\u001b[0m\u001b[0m\n",
            "\u001b[0;32m/usr/local/lib/python3.7/dist-packages/tensorflow/python/ops/control_flow_ops.py\u001b[0m in \u001b[0;36m_eager_cond_implementation\u001b[0;34m(pred, true_fn, false_fn, strict, name)\u001b[0m\n\u001b[1;32m   1148\u001b[0m         \u001b[0mresult\u001b[0m \u001b[0;34m=\u001b[0m \u001b[0mtrue_fn\u001b[0m\u001b[0;34m(\u001b[0m\u001b[0;34m)\u001b[0m\u001b[0;34m\u001b[0m\u001b[0;34m\u001b[0m\u001b[0m\n\u001b[1;32m   1149\u001b[0m       \u001b[0;32melse\u001b[0m\u001b[0;34m:\u001b[0m\u001b[0;34m\u001b[0m\u001b[0;34m\u001b[0m\u001b[0m\n\u001b[0;32m-> 1150\u001b[0;31m         \u001b[0mresult\u001b[0m \u001b[0;34m=\u001b[0m \u001b[0mfalse_fn\u001b[0m\u001b[0;34m(\u001b[0m\u001b[0;34m)\u001b[0m\u001b[0;34m\u001b[0m\u001b[0;34m\u001b[0m\u001b[0m\n\u001b[0m\u001b[1;32m   1151\u001b[0m       \u001b[0;32mif\u001b[0m \u001b[0;32mnot\u001b[0m \u001b[0mstrict\u001b[0m\u001b[0;34m:\u001b[0m\u001b[0;34m\u001b[0m\u001b[0;34m\u001b[0m\u001b[0m\n\u001b[1;32m   1152\u001b[0m         \u001b[0mresult\u001b[0m \u001b[0;34m=\u001b[0m \u001b[0m_UnpackIfSingleton\u001b[0m\u001b[0;34m(\u001b[0m\u001b[0mresult\u001b[0m\u001b[0;34m)\u001b[0m\u001b[0;34m\u001b[0m\u001b[0;34m\u001b[0m\u001b[0m\n",
            "\u001b[0;32m/usr/local/lib/python3.7/dist-packages/tensorboard/plugins/histogram/summary_v2.py\u001b[0m in \u001b[0;36mwhen_nonempty\u001b[0;34m()\u001b[0m\n\u001b[1;32m    286\u001b[0m \u001b[0;34m\u001b[0m\u001b[0m\n\u001b[1;32m    287\u001b[0m             return tf.cond(\n\u001b[0;32m--> 288\u001b[0;31m                 \u001b[0mhas_single_value\u001b[0m\u001b[0;34m,\u001b[0m \u001b[0mwhen_single_value\u001b[0m\u001b[0;34m,\u001b[0m \u001b[0mwhen_multiple_values\u001b[0m\u001b[0;34m\u001b[0m\u001b[0;34m\u001b[0m\u001b[0m\n\u001b[0m\u001b[1;32m    289\u001b[0m             )\n\u001b[1;32m    290\u001b[0m \u001b[0;34m\u001b[0m\u001b[0m\n",
            "\u001b[0;32m/usr/local/lib/python3.7/dist-packages/tensorflow/python/util/traceback_utils.py\u001b[0m in \u001b[0;36merror_handler\u001b[0;34m(*args, **kwargs)\u001b[0m\n\u001b[1;32m    148\u001b[0m     \u001b[0mfiltered_tb\u001b[0m \u001b[0;34m=\u001b[0m \u001b[0;32mNone\u001b[0m\u001b[0;34m\u001b[0m\u001b[0;34m\u001b[0m\u001b[0m\n\u001b[1;32m    149\u001b[0m     \u001b[0;32mtry\u001b[0m\u001b[0;34m:\u001b[0m\u001b[0;34m\u001b[0m\u001b[0;34m\u001b[0m\u001b[0m\n\u001b[0;32m--> 150\u001b[0;31m       \u001b[0;32mreturn\u001b[0m \u001b[0mfn\u001b[0m\u001b[0;34m(\u001b[0m\u001b[0;34m*\u001b[0m\u001b[0margs\u001b[0m\u001b[0;34m,\u001b[0m \u001b[0;34m**\u001b[0m\u001b[0mkwargs\u001b[0m\u001b[0;34m)\u001b[0m\u001b[0;34m\u001b[0m\u001b[0;34m\u001b[0m\u001b[0m\n\u001b[0m\u001b[1;32m    151\u001b[0m     \u001b[0;32mexcept\u001b[0m \u001b[0mException\u001b[0m \u001b[0;32mas\u001b[0m \u001b[0me\u001b[0m\u001b[0;34m:\u001b[0m\u001b[0;34m\u001b[0m\u001b[0;34m\u001b[0m\u001b[0m\n\u001b[1;32m    152\u001b[0m       \u001b[0mfiltered_tb\u001b[0m \u001b[0;34m=\u001b[0m \u001b[0m_process_traceback_frames\u001b[0m\u001b[0;34m(\u001b[0m\u001b[0me\u001b[0m\u001b[0;34m.\u001b[0m\u001b[0m__traceback__\u001b[0m\u001b[0;34m)\u001b[0m\u001b[0;34m\u001b[0m\u001b[0;34m\u001b[0m\u001b[0m\n",
            "\u001b[0;32m/usr/local/lib/python3.7/dist-packages/tensorflow/python/util/dispatch.py\u001b[0m in \u001b[0;36mop_dispatch_handler\u001b[0;34m(*args, **kwargs)\u001b[0m\n\u001b[1;32m   1080\u001b[0m       \u001b[0;31m# Fallback dispatch system (dispatch v1):\u001b[0m\u001b[0;34m\u001b[0m\u001b[0;34m\u001b[0m\u001b[0;34m\u001b[0m\u001b[0m\n\u001b[1;32m   1081\u001b[0m       \u001b[0;32mtry\u001b[0m\u001b[0;34m:\u001b[0m\u001b[0;34m\u001b[0m\u001b[0;34m\u001b[0m\u001b[0m\n\u001b[0;32m-> 1082\u001b[0;31m         \u001b[0;32mreturn\u001b[0m \u001b[0mdispatch_target\u001b[0m\u001b[0;34m(\u001b[0m\u001b[0;34m*\u001b[0m\u001b[0margs\u001b[0m\u001b[0;34m,\u001b[0m \u001b[0;34m**\u001b[0m\u001b[0mkwargs\u001b[0m\u001b[0;34m)\u001b[0m\u001b[0;34m\u001b[0m\u001b[0;34m\u001b[0m\u001b[0m\n\u001b[0m\u001b[1;32m   1083\u001b[0m       \u001b[0;32mexcept\u001b[0m \u001b[0;34m(\u001b[0m\u001b[0mTypeError\u001b[0m\u001b[0;34m,\u001b[0m \u001b[0mValueError\u001b[0m\u001b[0;34m)\u001b[0m\u001b[0;34m:\u001b[0m\u001b[0;34m\u001b[0m\u001b[0;34m\u001b[0m\u001b[0m\n\u001b[1;32m   1084\u001b[0m         \u001b[0;31m# Note: convert_to_eager_tensor currently raises a ValueError, not a\u001b[0m\u001b[0;34m\u001b[0m\u001b[0;34m\u001b[0m\u001b[0;34m\u001b[0m\u001b[0m\n",
            "\u001b[0;32m/usr/local/lib/python3.7/dist-packages/tensorflow/python/ops/control_flow_ops.py\u001b[0m in \u001b[0;36mcond_for_tf_v2\u001b[0;34m(pred, true_fn, false_fn, name)\u001b[0m\n\u001b[1;32m   1450\u001b[0m \u001b[0;34m\u001b[0m\u001b[0m\n\u001b[1;32m   1451\u001b[0m   \"\"\"\n\u001b[0;32m-> 1452\u001b[0;31m   \u001b[0;32mreturn\u001b[0m \u001b[0mcond\u001b[0m\u001b[0;34m(\u001b[0m\u001b[0mpred\u001b[0m\u001b[0;34m,\u001b[0m \u001b[0mtrue_fn\u001b[0m\u001b[0;34m=\u001b[0m\u001b[0mtrue_fn\u001b[0m\u001b[0;34m,\u001b[0m \u001b[0mfalse_fn\u001b[0m\u001b[0;34m=\u001b[0m\u001b[0mfalse_fn\u001b[0m\u001b[0;34m,\u001b[0m \u001b[0mstrict\u001b[0m\u001b[0;34m=\u001b[0m\u001b[0;32mTrue\u001b[0m\u001b[0;34m,\u001b[0m \u001b[0mname\u001b[0m\u001b[0;34m=\u001b[0m\u001b[0mname\u001b[0m\u001b[0;34m)\u001b[0m\u001b[0;34m\u001b[0m\u001b[0;34m\u001b[0m\u001b[0m\n\u001b[0m\u001b[1;32m   1453\u001b[0m \u001b[0;34m\u001b[0m\u001b[0m\n\u001b[1;32m   1454\u001b[0m \u001b[0;34m\u001b[0m\u001b[0m\n",
            "\u001b[0;32m/usr/local/lib/python3.7/dist-packages/tensorflow/python/util/traceback_utils.py\u001b[0m in \u001b[0;36merror_handler\u001b[0;34m(*args, **kwargs)\u001b[0m\n\u001b[1;32m    148\u001b[0m     \u001b[0mfiltered_tb\u001b[0m \u001b[0;34m=\u001b[0m \u001b[0;32mNone\u001b[0m\u001b[0;34m\u001b[0m\u001b[0;34m\u001b[0m\u001b[0m\n\u001b[1;32m    149\u001b[0m     \u001b[0;32mtry\u001b[0m\u001b[0;34m:\u001b[0m\u001b[0;34m\u001b[0m\u001b[0;34m\u001b[0m\u001b[0m\n\u001b[0;32m--> 150\u001b[0;31m       \u001b[0;32mreturn\u001b[0m \u001b[0mfn\u001b[0m\u001b[0;34m(\u001b[0m\u001b[0;34m*\u001b[0m\u001b[0margs\u001b[0m\u001b[0;34m,\u001b[0m \u001b[0;34m**\u001b[0m\u001b[0mkwargs\u001b[0m\u001b[0;34m)\u001b[0m\u001b[0;34m\u001b[0m\u001b[0;34m\u001b[0m\u001b[0m\n\u001b[0m\u001b[1;32m    151\u001b[0m     \u001b[0;32mexcept\u001b[0m \u001b[0mException\u001b[0m \u001b[0;32mas\u001b[0m \u001b[0me\u001b[0m\u001b[0;34m:\u001b[0m\u001b[0;34m\u001b[0m\u001b[0;34m\u001b[0m\u001b[0m\n\u001b[1;32m    152\u001b[0m       \u001b[0mfiltered_tb\u001b[0m \u001b[0;34m=\u001b[0m \u001b[0m_process_traceback_frames\u001b[0m\u001b[0;34m(\u001b[0m\u001b[0me\u001b[0m\u001b[0;34m.\u001b[0m\u001b[0m__traceback__\u001b[0m\u001b[0;34m)\u001b[0m\u001b[0;34m\u001b[0m\u001b[0;34m\u001b[0m\u001b[0m\n",
            "\u001b[0;32m/usr/local/lib/python3.7/dist-packages/tensorflow/python/util/dispatch.py\u001b[0m in \u001b[0;36mop_dispatch_handler\u001b[0;34m(*args, **kwargs)\u001b[0m\n\u001b[1;32m   1080\u001b[0m       \u001b[0;31m# Fallback dispatch system (dispatch v1):\u001b[0m\u001b[0;34m\u001b[0m\u001b[0;34m\u001b[0m\u001b[0;34m\u001b[0m\u001b[0m\n\u001b[1;32m   1081\u001b[0m       \u001b[0;32mtry\u001b[0m\u001b[0;34m:\u001b[0m\u001b[0;34m\u001b[0m\u001b[0;34m\u001b[0m\u001b[0m\n\u001b[0;32m-> 1082\u001b[0;31m         \u001b[0;32mreturn\u001b[0m \u001b[0mdispatch_target\u001b[0m\u001b[0;34m(\u001b[0m\u001b[0;34m*\u001b[0m\u001b[0margs\u001b[0m\u001b[0;34m,\u001b[0m \u001b[0;34m**\u001b[0m\u001b[0mkwargs\u001b[0m\u001b[0;34m)\u001b[0m\u001b[0;34m\u001b[0m\u001b[0;34m\u001b[0m\u001b[0m\n\u001b[0m\u001b[1;32m   1083\u001b[0m       \u001b[0;32mexcept\u001b[0m \u001b[0;34m(\u001b[0m\u001b[0mTypeError\u001b[0m\u001b[0;34m,\u001b[0m \u001b[0mValueError\u001b[0m\u001b[0;34m)\u001b[0m\u001b[0;34m:\u001b[0m\u001b[0;34m\u001b[0m\u001b[0;34m\u001b[0m\u001b[0m\n\u001b[1;32m   1084\u001b[0m         \u001b[0;31m# Note: convert_to_eager_tensor currently raises a ValueError, not a\u001b[0m\u001b[0;34m\u001b[0m\u001b[0;34m\u001b[0m\u001b[0;34m\u001b[0m\u001b[0m\n",
            "\u001b[0;32m/usr/local/lib/python3.7/dist-packages/tensorflow/python/util/deprecation.py\u001b[0m in \u001b[0;36mnew_func\u001b[0;34m(*args, **kwargs)\u001b[0m\n\u001b[1;32m    546\u001b[0m                 \u001b[0;34m'in a future version'\u001b[0m \u001b[0;32mif\u001b[0m \u001b[0mdate\u001b[0m \u001b[0;32mis\u001b[0m \u001b[0;32mNone\u001b[0m \u001b[0;32melse\u001b[0m \u001b[0;34m(\u001b[0m\u001b[0;34m'after %s'\u001b[0m \u001b[0;34m%\u001b[0m \u001b[0mdate\u001b[0m\u001b[0;34m)\u001b[0m\u001b[0;34m,\u001b[0m\u001b[0;34m\u001b[0m\u001b[0;34m\u001b[0m\u001b[0m\n\u001b[1;32m    547\u001b[0m                 instructions)\n\u001b[0;32m--> 548\u001b[0;31m       \u001b[0;32mreturn\u001b[0m \u001b[0mfunc\u001b[0m\u001b[0;34m(\u001b[0m\u001b[0;34m*\u001b[0m\u001b[0margs\u001b[0m\u001b[0;34m,\u001b[0m \u001b[0;34m**\u001b[0m\u001b[0mkwargs\u001b[0m\u001b[0;34m)\u001b[0m\u001b[0;34m\u001b[0m\u001b[0;34m\u001b[0m\u001b[0m\n\u001b[0m\u001b[1;32m    549\u001b[0m \u001b[0;34m\u001b[0m\u001b[0m\n\u001b[1;32m    550\u001b[0m     doc = _add_deprecated_arg_notice_to_docstring(\n",
            "\u001b[0;32m/usr/local/lib/python3.7/dist-packages/tensorflow/python/ops/control_flow_ops.py\u001b[0m in \u001b[0;36mcond\u001b[0;34m(pred, true_fn, false_fn, strict, name, fn1, fn2)\u001b[0m\n\u001b[1;32m   1259\u001b[0m \u001b[0;34m\u001b[0m\u001b[0m\n\u001b[1;32m   1260\u001b[0m   \u001b[0;32mif\u001b[0m \u001b[0mcontext\u001b[0m\u001b[0;34m.\u001b[0m\u001b[0mexecuting_eagerly\u001b[0m\u001b[0;34m(\u001b[0m\u001b[0;34m)\u001b[0m\u001b[0;34m:\u001b[0m\u001b[0;34m\u001b[0m\u001b[0;34m\u001b[0m\u001b[0m\n\u001b[0;32m-> 1261\u001b[0;31m     \u001b[0;32mreturn\u001b[0m \u001b[0m_eager_cond_implementation\u001b[0m\u001b[0;34m(\u001b[0m\u001b[0mpred\u001b[0m\u001b[0;34m,\u001b[0m \u001b[0mtrue_fn\u001b[0m\u001b[0;34m,\u001b[0m \u001b[0mfalse_fn\u001b[0m\u001b[0;34m,\u001b[0m \u001b[0mstrict\u001b[0m\u001b[0;34m,\u001b[0m \u001b[0mname\u001b[0m\u001b[0;34m)\u001b[0m\u001b[0;34m\u001b[0m\u001b[0;34m\u001b[0m\u001b[0m\n\u001b[0m\u001b[1;32m   1262\u001b[0m \u001b[0;34m\u001b[0m\u001b[0m\n\u001b[1;32m   1263\u001b[0m   \u001b[0;31m# Always enable control flow v2 if building a function, regardless of toggle.\u001b[0m\u001b[0;34m\u001b[0m\u001b[0;34m\u001b[0m\u001b[0;34m\u001b[0m\u001b[0m\n",
            "\u001b[0;32m/usr/local/lib/python3.7/dist-packages/tensorflow/python/ops/control_flow_ops.py\u001b[0m in \u001b[0;36m_eager_cond_implementation\u001b[0;34m(pred, true_fn, false_fn, strict, name)\u001b[0m\n\u001b[1;32m   1148\u001b[0m         \u001b[0mresult\u001b[0m \u001b[0;34m=\u001b[0m \u001b[0mtrue_fn\u001b[0m\u001b[0;34m(\u001b[0m\u001b[0;34m)\u001b[0m\u001b[0;34m\u001b[0m\u001b[0;34m\u001b[0m\u001b[0m\n\u001b[1;32m   1149\u001b[0m       \u001b[0;32melse\u001b[0m\u001b[0;34m:\u001b[0m\u001b[0;34m\u001b[0m\u001b[0;34m\u001b[0m\u001b[0m\n\u001b[0;32m-> 1150\u001b[0;31m         \u001b[0mresult\u001b[0m \u001b[0;34m=\u001b[0m \u001b[0mfalse_fn\u001b[0m\u001b[0;34m(\u001b[0m\u001b[0;34m)\u001b[0m\u001b[0;34m\u001b[0m\u001b[0;34m\u001b[0m\u001b[0m\n\u001b[0m\u001b[1;32m   1151\u001b[0m       \u001b[0;32mif\u001b[0m \u001b[0;32mnot\u001b[0m \u001b[0mstrict\u001b[0m\u001b[0;34m:\u001b[0m\u001b[0;34m\u001b[0m\u001b[0;34m\u001b[0m\u001b[0m\n\u001b[1;32m   1152\u001b[0m         \u001b[0mresult\u001b[0m \u001b[0;34m=\u001b[0m \u001b[0m_UnpackIfSingleton\u001b[0m\u001b[0;34m(\u001b[0m\u001b[0mresult\u001b[0m\u001b[0;34m)\u001b[0m\u001b[0;34m\u001b[0m\u001b[0;34m\u001b[0m\u001b[0m\n",
            "\u001b[0;32m/usr/local/lib/python3.7/dist-packages/tensorboard/plugins/histogram/summary_v2.py\u001b[0m in \u001b[0;36mwhen_multiple_values\u001b[0;34m()\u001b[0m\n\u001b[1;32m    258\u001b[0m                 )\n\u001b[1;32m    259\u001b[0m                 bucket_counts = tf.cast(\n\u001b[0;32m--> 260\u001b[0;31m                     \u001b[0mtf\u001b[0m\u001b[0;34m.\u001b[0m\u001b[0mreduce_sum\u001b[0m\u001b[0;34m(\u001b[0m\u001b[0minput_tensor\u001b[0m\u001b[0;34m=\u001b[0m\u001b[0mone_hots\u001b[0m\u001b[0;34m,\u001b[0m \u001b[0maxis\u001b[0m\u001b[0;34m=\u001b[0m\u001b[0;36m0\u001b[0m\u001b[0;34m)\u001b[0m\u001b[0;34m,\u001b[0m\u001b[0;34m\u001b[0m\u001b[0;34m\u001b[0m\u001b[0m\n\u001b[0m\u001b[1;32m    261\u001b[0m                     \u001b[0mdtype\u001b[0m\u001b[0;34m=\u001b[0m\u001b[0mtf\u001b[0m\u001b[0;34m.\u001b[0m\u001b[0mfloat64\u001b[0m\u001b[0;34m,\u001b[0m\u001b[0;34m\u001b[0m\u001b[0;34m\u001b[0m\u001b[0m\n\u001b[1;32m    262\u001b[0m                 )\n",
            "\u001b[0;32m/usr/local/lib/python3.7/dist-packages/tensorflow/python/util/traceback_utils.py\u001b[0m in \u001b[0;36merror_handler\u001b[0;34m(*args, **kwargs)\u001b[0m\n\u001b[1;32m    148\u001b[0m     \u001b[0mfiltered_tb\u001b[0m \u001b[0;34m=\u001b[0m \u001b[0;32mNone\u001b[0m\u001b[0;34m\u001b[0m\u001b[0;34m\u001b[0m\u001b[0m\n\u001b[1;32m    149\u001b[0m     \u001b[0;32mtry\u001b[0m\u001b[0;34m:\u001b[0m\u001b[0;34m\u001b[0m\u001b[0;34m\u001b[0m\u001b[0m\n\u001b[0;32m--> 150\u001b[0;31m       \u001b[0;32mreturn\u001b[0m \u001b[0mfn\u001b[0m\u001b[0;34m(\u001b[0m\u001b[0;34m*\u001b[0m\u001b[0margs\u001b[0m\u001b[0;34m,\u001b[0m \u001b[0;34m**\u001b[0m\u001b[0mkwargs\u001b[0m\u001b[0;34m)\u001b[0m\u001b[0;34m\u001b[0m\u001b[0;34m\u001b[0m\u001b[0m\n\u001b[0m\u001b[1;32m    151\u001b[0m     \u001b[0;32mexcept\u001b[0m \u001b[0mException\u001b[0m \u001b[0;32mas\u001b[0m \u001b[0me\u001b[0m\u001b[0;34m:\u001b[0m\u001b[0;34m\u001b[0m\u001b[0;34m\u001b[0m\u001b[0m\n\u001b[1;32m    152\u001b[0m       \u001b[0mfiltered_tb\u001b[0m \u001b[0;34m=\u001b[0m \u001b[0m_process_traceback_frames\u001b[0m\u001b[0;34m(\u001b[0m\u001b[0me\u001b[0m\u001b[0;34m.\u001b[0m\u001b[0m__traceback__\u001b[0m\u001b[0;34m)\u001b[0m\u001b[0;34m\u001b[0m\u001b[0;34m\u001b[0m\u001b[0m\n",
            "\u001b[0;32m/usr/local/lib/python3.7/dist-packages/tensorflow/python/util/dispatch.py\u001b[0m in \u001b[0;36mop_dispatch_handler\u001b[0;34m(*args, **kwargs)\u001b[0m\n\u001b[1;32m   1080\u001b[0m       \u001b[0;31m# Fallback dispatch system (dispatch v1):\u001b[0m\u001b[0;34m\u001b[0m\u001b[0;34m\u001b[0m\u001b[0;34m\u001b[0m\u001b[0m\n\u001b[1;32m   1081\u001b[0m       \u001b[0;32mtry\u001b[0m\u001b[0;34m:\u001b[0m\u001b[0;34m\u001b[0m\u001b[0;34m\u001b[0m\u001b[0m\n\u001b[0;32m-> 1082\u001b[0;31m         \u001b[0;32mreturn\u001b[0m \u001b[0mdispatch_target\u001b[0m\u001b[0;34m(\u001b[0m\u001b[0;34m*\u001b[0m\u001b[0margs\u001b[0m\u001b[0;34m,\u001b[0m \u001b[0;34m**\u001b[0m\u001b[0mkwargs\u001b[0m\u001b[0;34m)\u001b[0m\u001b[0;34m\u001b[0m\u001b[0;34m\u001b[0m\u001b[0m\n\u001b[0m\u001b[1;32m   1083\u001b[0m       \u001b[0;32mexcept\u001b[0m \u001b[0;34m(\u001b[0m\u001b[0mTypeError\u001b[0m\u001b[0;34m,\u001b[0m \u001b[0mValueError\u001b[0m\u001b[0;34m)\u001b[0m\u001b[0;34m:\u001b[0m\u001b[0;34m\u001b[0m\u001b[0;34m\u001b[0m\u001b[0m\n\u001b[1;32m   1084\u001b[0m         \u001b[0;31m# Note: convert_to_eager_tensor currently raises a ValueError, not a\u001b[0m\u001b[0;34m\u001b[0m\u001b[0;34m\u001b[0m\u001b[0;34m\u001b[0m\u001b[0m\n",
            "\u001b[0;32m/usr/local/lib/python3.7/dist-packages/tensorflow/python/ops/math_ops.py\u001b[0m in \u001b[0;36mreduce_sum\u001b[0;34m(input_tensor, axis, keepdims, name)\u001b[0m\n\u001b[1;32m   2310\u001b[0m \u001b[0;34m\u001b[0m\u001b[0m\n\u001b[1;32m   2311\u001b[0m   return reduce_sum_with_dims(input_tensor, axis, keepdims, name,\n\u001b[0;32m-> 2312\u001b[0;31m                               _ReductionDims(input_tensor, axis))\n\u001b[0m\u001b[1;32m   2313\u001b[0m \u001b[0;34m\u001b[0m\u001b[0m\n\u001b[1;32m   2314\u001b[0m \u001b[0;34m\u001b[0m\u001b[0m\n",
            "\u001b[0;32m/usr/local/lib/python3.7/dist-packages/tensorflow/python/ops/math_ops.py\u001b[0m in \u001b[0;36mreduce_sum_with_dims\u001b[0;34m(input_tensor, axis, keepdims, name, dims)\u001b[0m\n\u001b[1;32m   2321\u001b[0m   return _may_reduce_to_scalar(\n\u001b[1;32m   2322\u001b[0m       \u001b[0mkeepdims\u001b[0m\u001b[0;34m,\u001b[0m \u001b[0maxis\u001b[0m\u001b[0;34m,\u001b[0m\u001b[0;34m\u001b[0m\u001b[0;34m\u001b[0m\u001b[0m\n\u001b[0;32m-> 2323\u001b[0;31m       gen_math_ops._sum(input_tensor, dims, keepdims, name=name))\n\u001b[0m\u001b[1;32m   2324\u001b[0m \u001b[0;34m\u001b[0m\u001b[0m\n\u001b[1;32m   2325\u001b[0m \u001b[0;34m\u001b[0m\u001b[0m\n",
            "\u001b[0;32m/usr/local/lib/python3.7/dist-packages/tensorflow/python/ops/gen_math_ops.py\u001b[0m in \u001b[0;36m_sum\u001b[0;34m(input, axis, keep_dims, name)\u001b[0m\n\u001b[1;32m  11191\u001b[0m     \u001b[0;32mtry\u001b[0m\u001b[0;34m:\u001b[0m\u001b[0;34m\u001b[0m\u001b[0;34m\u001b[0m\u001b[0m\n\u001b[1;32m  11192\u001b[0m       _result = pywrap_tfe.TFE_Py_FastPathExecute(\n\u001b[0;32m> 11193\u001b[0;31m         _ctx, \"Sum\", name, input, axis, \"keep_dims\", keep_dims)\n\u001b[0m\u001b[1;32m  11194\u001b[0m       \u001b[0;32mreturn\u001b[0m \u001b[0m_result\u001b[0m\u001b[0;34m\u001b[0m\u001b[0;34m\u001b[0m\u001b[0m\n\u001b[1;32m  11195\u001b[0m     \u001b[0;32mexcept\u001b[0m \u001b[0m_core\u001b[0m\u001b[0;34m.\u001b[0m\u001b[0m_NotOkStatusException\u001b[0m \u001b[0;32mas\u001b[0m \u001b[0me\u001b[0m\u001b[0;34m:\u001b[0m\u001b[0;34m\u001b[0m\u001b[0;34m\u001b[0m\u001b[0m\n",
            "\u001b[0;31mKeyboardInterrupt\u001b[0m: "
          ]
        }
      ],
      "source": [
        "from tensorflow.keras import initializers,optimizers, metrics,losses\n",
        "from sklearn.utils.class_weight import compute_class_weight\n",
        "\n",
        "# Types of intializers to try\n",
        "# initializers.HeUniform()\n",
        "# initializers.HeNormal()\n",
        "# initializers.GlorotNormal()\n",
        "# initializers.GlorotUniform()\n",
        "# initializers.LecunNormal()\n",
        "# initializers.LecunUniform()\n",
        "# initializers.RandomNormal(mean=0., stddev=1.)\n",
        "# initializers.RandomUniform(minval=0., maxval=1.)\n",
        "\n",
        "# Types of Optimizers to try\n",
        "# optimizers.Adadelta(learning_rate=0.001)\n",
        "# optimizers.Adagrad(learning_rate=0.001)\n",
        "# optimizers.Adamax(learning_rate=0.001)\n",
        "# optimizers.RMSprop(learning_rate=0.001)\n",
        "# tf.keras.optimizers.SGD(learning_rate=0.01,momentum=0.0)\n",
        "\n",
        "opt = optimizers.Adam()\n",
        "max_seq_length = train_padded_docs.shape[1]\n",
        "vocab_size_text = vocab_size\n",
        "categories_dim = 1\n",
        "categorical_ftr_embedding_size = 20\n",
        "initializer = initializers.HeNormal()\n",
        "activation_function = 'relu'\n",
        "dropout_rate = 0.7\n",
        "numerical_ftr_dim = 2\n",
        "class_weights = compute_class_weight(class_weight = \"balanced\",classes = np.unique(Y_train),y = Y_train)\n",
        "class_weights = dict(zip(np.unique(Y_train), class_weights))\n",
        "print(class_weights)\n",
        "\n",
        "model = create_model(max_seq_length, vocab_size_text, embedding_matrix, categories_dim,\n",
        "                 categorical_ftr_embedding_size, initializer,numerical_ftr_dim, activation_function, dropout_rate)\n",
        "\n",
        "batch_size = 1024\n",
        "epochs = 20\n",
        "\n",
        "model.compile(optimizer=opt,\n",
        "              metrics = [metrics.BinaryAccuracy()],\n",
        "              loss=losses.BinaryCrossentropy())\n",
        "\n",
        "# fit the model\n",
        "model.fit([train_padded_docs,train_school_state,\n",
        "          train_project_grade,train_clean_categories,\n",
        "          train_clean_subcategories,train_teacher_prefix,\n",
        "          numerical_data_train ], \n",
        "          Y_train, batch_size = batch_size,\n",
        "          epochs=epochs, callbacks=callbacksList, \n",
        "          verbose = 0,\n",
        "          class_weight = class_weights,\n",
        "          validation_data = ([ test_padded_docs,test_school_state,\n",
        "                                  test_project_grade,test_clean_categories,\n",
        "                                  test_clean_subcategories,test_teacher_prefix,\n",
        "                                  numerical_data_test ], \n",
        "                                  Y_test))\n",
        "# evaluate the model\n",
        "loss, accuracy = model.evaluate([ test_padded_docs,test_school_state,\n",
        "                                  test_project_grade,test_clean_categories,\n",
        "                                  test_clean_subcategories,test_teacher_prefix,\n",
        "                                    numerical_data_test ], \n",
        "                                  Y_test, batch_size = batch_size)\n",
        "print('Test Accuracy: %f' % (accuracy*100))"
      ]
    },
    {
      "cell_type": "code",
      "execution_count": null,
      "metadata": {
        "id": "Ovbhm93hEVgX"
      },
      "outputs": [],
      "source": [
        "#After fit method accessing the auc scores of train and validation\n",
        "auc_train = model.auc_train\n",
        "auc_val = model.auc_val\n",
        "\n",
        "writer=tf.summary.create_file_writer(graph_saving_dir)\n",
        "for idx in range(len(auc_train)):\n",
        "    with writer.as_default(step=idx+1):\n",
        "        tf.summary.scalar('auc_train', auc_train[idx])\n",
        "        tf.summary.scalar('auc_val', auc_val[idx])\n",
        "writer.flush ()"
      ]
    },
    {
      "cell_type": "code",
      "execution_count": null,
      "metadata": {
        "id": "bHxLRVNsAccZ"
      },
      "outputs": [],
      "source": [
        "%load_ext tensorboard"
      ]
    },
    {
      "cell_type": "code",
      "execution_count": null,
      "metadata": {
        "id": "m2II-h9wAfYL"
      },
      "outputs": [],
      "source": [
        "%tensorboard --logdir /content/drive/MyDrive/Named_Assignments/LSTM_DonorsChoose/model_1/Tensorboard_graphs\n",
        "# %tensorboard --logdir /content/drive/MyDrive/DeepLearn/LSTM_DonorsChoose/model_1/Tensorboard_graphs\n",
        "# %tensorboard --logdir /Users/yamasanimanoj-kumarreddy/Documents/AAIC/Named_Assignments/LSTM Assignment/Assignment_Submission/model_1/Tensorboard_graphs"
      ]
    },
    {
      "cell_type": "code",
      "execution_count": null,
      "metadata": {
        "id": "fSDEOQZ6S-lt"
      },
      "outputs": [],
      "source": [
        "# !tensorboard dev upload --logdir /content/drive/MyDrive/Named_Assignments/LSTM_DonorsChoose/model_1/Tensorboard_graphs --name \"Model_1 Graphs\" --description \"Training the Model_1\"\n",
        "\n",
        "# !tensorboard dev upload --logdir %tensorboard --logdir /content/drive/MyDrive/DeepLearn/LSTM_DonorsChoose/model_1/Tensorboard_graphs --name \"Model_1 Graphs\" --description \"Training the Model_1\"\n",
        "# !tensorboard dev upload --logdir /Users/yamasanimanoj-kumarreddy/Documents/AAIC/Named_Assignments/LSTM Assignment/Assignment_Submission/model_1/Tensorboard_graphs --name \"Model_1 Graphs\" --description \"Training the Model_1\""
      ]
    },
    {
      "cell_type": "markdown",
      "metadata": {
        "id": "M7MXlSZbWjLU"
      },
      "source": [
        "Observations from the above Training of model\n",
        "1. First i have tried loss optimization using learning rate of 0.1, there was no improvement in the Train and Test AUC. \n",
        "2. Later after trying multiple learning rates I found 0.0001 is the good learning as AUC is improving. \n",
        "3. I have used softmax activation at the last layer, but later I have noticed and changed it to sigmoid, then I can observe the improvement in AUC. "
      ]
    },
    {
      "cell_type": "markdown",
      "metadata": {
        "id": "uIK6xrs0UCTS"
      },
      "source": [
        "# <font color='red'> Model-2 </font>"
      ]
    },
    {
      "cell_type": "markdown",
      "metadata": {
        "id": "dZBw_GRiUCTS"
      },
      "source": [
        "Use the same model as above but for 'input_seq_total_text_data' give only some words in the sentance not all the words. Filter the words as below. "
      ]
    },
    {
      "cell_type": "markdown",
      "metadata": {
        "id": "rmAo_hXdUCTS"
      },
      "source": [
        "<pre>\n",
        "1. Fit TF-IDF vectorizer on the Train data <br>\n",
        "2. Get the idf value for each word we have in the train data. Please go through <a  href='https://stackoverflow.com/questions/23792781/tf-idf-feature-weights-using-sklearn-feature-extraction-text-tfidfvectorizer'>this</a><br>\n",
        "\n",
        "3. Do some analysis on the Idf values and based on those values choose the low and high threshold value. Because very \n",
        "frequent words and very very rare words don't give much information.\n",
        "Hint - A preferable IDF range is 2-11 for model 2. <br>\n",
        "4.Remove the low idf value and high idf value words from the train and test data. You can go through each of the\n",
        "sentence of train and test data and include only those features(words) which are present in the defined IDF range.\n",
        "5. Perform tokenization on the modified text data same as you have done for previous model.\n",
        "6. Create embedding matrix for model 2 and then use the rest of the features similar to previous model.\n",
        "7. Define the model, compile and fit the model.\n",
        "</pre>"
      ]
    },
    {
      "cell_type": "code",
      "execution_count": null,
      "metadata": {
        "id": "AyWe0EGpUCTS"
      },
      "outputs": [],
      "source": [
        "from sklearn.feature_extraction.text import TfidfVectorizer\n",
        "\n",
        "vectorizer = TfidfVectorizer()\n",
        "X = vectorizer.fit(X_train['essay'])\n",
        "idf = vectorizer.idf_\n",
        "word_idf = dict(zip(vectorizer.get_feature_names(), idf))"
      ]
    },
    {
      "cell_type": "markdown",
      "metadata": {
        "id": "foPv_r_iNiIH"
      },
      "source": [
        "### plot histogram of idf values. "
      ]
    },
    {
      "cell_type": "code",
      "execution_count": null,
      "metadata": {
        "id": "Xd1b0EcCNlq7"
      },
      "outputs": [],
      "source": [
        "import matplotlib.pyplot as plt\n",
        "import numpy as np\n",
        "%matplotlib inline\n",
        "import seaborn as sns\n",
        "\n",
        "np.random.seed(42)\n",
        "\n",
        "plt.hist(idf, density=False, bins=60)  # density=False would make counts\n",
        "plt.ylabel('Count')\n",
        "plt.xlabel('Idf values of words');\n"
      ]
    },
    {
      "cell_type": "code",
      "execution_count": null,
      "metadata": {
        "id": "liQANqxVPgHY"
      },
      "outputs": [],
      "source": [
        "sns.violinplot(y='idf',data=pd.DataFrame({'idf':idf}))\n",
        "plt.title(\"Violin Plot of number of nodes\")\n",
        "plt.show()"
      ]
    },
    {
      "cell_type": "markdown",
      "metadata": {
        "id": "jn2ZJztyXlrE"
      },
      "source": [
        "From the above cell output we can observe that most of the idf values are present in between 2 and 12. "
      ]
    },
    {
      "cell_type": "code",
      "execution_count": null,
      "metadata": {
        "id": "DfA-9mNQXlrF"
      },
      "outputs": [],
      "source": [
        "remove_words = []\n",
        "low_idf_threshold = 4\n",
        "high_idf_threshold = 11.5\n",
        "print(len(word_idf))\n",
        "for k,v in word_idf.items():\n",
        "    if (v>high_idf_threshold or v<low_idf_threshold):\n",
        "        remove_words.append(k)\n",
        "remove_words = set(remove_words)\n",
        "print(\"No of words to be removed from training and test data are :\",len(remove_words))\n",
        "print(remove_words)"
      ]
    },
    {
      "cell_type": "code",
      "execution_count": null,
      "metadata": {
        "id": "k0N1veOfg2jI"
      },
      "outputs": [],
      "source": [
        "print(type(remove_words))"
      ]
    },
    {
      "cell_type": "code",
      "source": [
        "if 'classroom' in remove_words:\n",
        "  print(\"word 'classroom' is present in remove_words set\")"
      ],
      "metadata": {
        "id": "wqFELvQq8lmW"
      },
      "execution_count": null,
      "outputs": []
    },
    {
      "cell_type": "code",
      "source": [
        "check_word = \"classroom\"\n",
        "sample = X_train['essay'].iloc[0]\n",
        "print(\"Index of word '{0}' is {1}\".format(check_word,sample.find(check_word)))"
      ],
      "metadata": {
        "id": "OgCtjBH47-yN"
      },
      "execution_count": null,
      "outputs": []
    },
    {
      "cell_type": "code",
      "execution_count": null,
      "metadata": {
        "id": "EkRhcRb-dyRk"
      },
      "outputs": [],
      "source": [
        "func = lambda x: ' '.join([item for item in x.split() if item.lower() not in remove_words])\n",
        "X_train['modified_essay'] = X_train['essay'].apply(func)\n",
        "X_test['modified_essay'] = X_test['essay'].apply(func)"
      ]
    },
    {
      "cell_type": "code",
      "source": [
        "check_word = \"classroom\"\n",
        "sample = X_train['modified_essay'].iloc[0]\n",
        "if (sample.find(check_word) == -1):\n",
        "  print(\"word '{0}' is not found after modifying\".format(check_word))"
      ],
      "metadata": {
        "id": "qD_giL-F9HQq"
      },
      "execution_count": null,
      "outputs": []
    },
    {
      "cell_type": "code",
      "execution_count": null,
      "metadata": {
        "id": "oDVjx11zef9z"
      },
      "outputs": [],
      "source": [
        "print(X_train['essay'].iloc[1])\n",
        "print(X_train['modified_essay'].iloc[1])\n",
        "# checking whether words like 'we','service' exists in remove_words\n",
        "print('we' in remove_words)"
      ]
    },
    {
      "cell_type": "markdown",
      "metadata": {
        "id": "c-iAWA4gHlbb"
      },
      "source": [
        "### Text Vectorization"
      ]
    },
    {
      "cell_type": "code",
      "execution_count": null,
      "metadata": {
        "id": "BguHy1lCHlbc"
      },
      "outputs": [],
      "source": [
        "from tensorflow.keras.preprocessing.text import Tokenizer\n",
        "from tensorflow.keras.preprocessing.sequence import pad_sequences\n",
        "\n",
        "tokenizer = Tokenizer()\n",
        "tokenizer.fit_on_texts(X_train['modified_essay'])\n",
        "vocab_size = len(tokenizer.word_index) + 1\n",
        "# integer encode the documents\n",
        "train_encoded_docs = tokenizer.texts_to_sequences(X_train['modified_essay'])\n",
        "test_encoded_docs = tokenizer.texts_to_sequences(X_test['modified_essay'])"
      ]
    },
    {
      "cell_type": "code",
      "execution_count": null,
      "metadata": {
        "id": "zpoqcyqBHlbc"
      },
      "outputs": [],
      "source": [
        "max_length = max([len(seq) for seq in train_encoded_docs])\n",
        "print(max_length)\n",
        "train_padded_docs = pad_sequences(train_encoded_docs, maxlen=max_length, padding='post')\n",
        "test_padded_docs = pad_sequences(test_encoded_docs, maxlen=max_length, padding='post')\n",
        "print(train_padded_docs.shape)\n",
        "print(test_padded_docs.shape)\n",
        "print(train_padded_docs[0][-10:])\n",
        "print(test_padded_docs[0][-10:])"
      ]
    },
    {
      "cell_type": "code",
      "execution_count": null,
      "metadata": {
        "id": "VcFeoM2_Hlbc"
      },
      "outputs": [],
      "source": [
        "#after getting the padded_docs you have to use predefined glove vectors to get 300 dim representation for each word\n",
        "# we will be storing this data in form of an embedding matrix and will use it while defining our model\n",
        "# Please go through following blog's 'Example of Using Pre-Trained GloVe Embedding' section to understand how to create embedding matrix\n",
        "# https://machinelearningmastery.com/use-word-embedding-layers-deep-learning-keras/\n",
        "import pickle\n",
        "import numpy as np\n",
        "\n",
        "# path = \"/Users/yamasanimanoj-kumarreddy/Documents/AAIC/Named_Assignments/LSTM Assignment/\"\n",
        "# path = \"/content/drive/MyDrive/Named_Assignments/LSTM_DonorsChoose/\"\n",
        "\n",
        "with open(path+'/glove_vectors', 'rb') as f:\n",
        "    model = pickle.load(f)\n",
        "    glove_words =  set(model.keys())"
      ]
    },
    {
      "cell_type": "code",
      "execution_count": null,
      "metadata": {
        "id": "R-B76CycHlbc"
      },
      "outputs": [],
      "source": [
        "embedding_matrix_model2 = np.zeros((vocab_size, 300))\n",
        "for word, i in tokenizer.word_index.items():\n",
        "\tembedding_vector = model.get(word)\n",
        "\tif embedding_vector is not None:\n",
        "\t\tembedding_matrix_model2[i] = embedding_vector\n",
        "print(embedding_matrix_model2[1][:5])\n",
        "print(embedding_matrix_model2.shape)"
      ]
    },
    {
      "cell_type": "markdown",
      "metadata": {
        "id": "qfxIyJDqDaEc"
      },
      "source": [
        "### Defining model and compiling the model"
      ]
    },
    {
      "cell_type": "code",
      "execution_count": null,
      "metadata": {
        "id": "1Pyldy3xDsGp"
      },
      "outputs": [],
      "source": [
        "from tensorflow.keras import callbacks\n",
        "import os\n",
        "\n",
        "# path = \"/Users/yamasanimanoj-kumarreddy/Documents/AAIC/Named_Assignments/LSTM Assignment/Assignment_Submission/\"\n",
        "# path = \"/content/drive/MyDrive/Named_Assignments/LSTM_DonorsChoose\"\n",
        "\n",
        "graph_saving_dir = os.path.join(path,'model_2', \"Tensorboard_graphs\")\n",
        "\n",
        "roc_callback = RocCallback(training_data=([train_padded_docs,train_school_state,\n",
        "                                  train_project_grade,train_clean_categories,\n",
        "                                  train_clean_subcategories,train_teacher_prefix,\n",
        "                                  numerical_data_train ], \n",
        "                                  Y_train),\n",
        "                  validation_data=([test_padded_docs,test_school_state,\n",
        "                                  test_project_grade,test_clean_categories,\n",
        "                                  test_clean_subcategories,test_teacher_prefix,\n",
        "                                  numerical_data_test ], \n",
        "                                  Y_test))\n",
        "\n",
        "\n",
        "tensorboard_callback = callbacks.TensorBoard(log_dir=graph_saving_dir,histogram_freq=1,write_graph=True)\n",
        "\n",
        "callbacksList = [roc_callback, tensorboard_callback]"
      ]
    },
    {
      "cell_type": "code",
      "execution_count": null,
      "metadata": {
        "id": "gykEkCCjDsGp"
      },
      "outputs": [],
      "source": [
        "from tensorflow.keras import initializers,optimizers, metrics,losses\n",
        "from sklearn.utils.class_weight import compute_class_weight\n",
        "\n",
        "# Types of intializers to try\n",
        "# initializers.HeUniform()\n",
        "# initializers.HeNormal()\n",
        "# initializers.GlorotNormal()\n",
        "# initializers.GlorotUniform()\n",
        "# initializers.LecunNormal()\n",
        "# initializers.LecunUniform()\n",
        "# initializers.RandomNormal(mean=0., stddev=1.)\n",
        "# initializers.RandomUniform(minval=0., maxval=1.)\n",
        "\n",
        "# Types of Optimizers to try\n",
        "# optimizers.Adadelta(learning_rate=0.001)\n",
        "# optimizers.Adagrad(learning_rate=0.001)\n",
        "# optimizers.Adamax(learning_rate=0.001)\n",
        "# optimizers.RMSprop(learning_rate=0.001)\n",
        "# tf.keras.optimizers.SGD(learning_rate=0.01,momentum=0.0)\n",
        "\n",
        "opt = optimizers.Adam()\n",
        "max_seq_length = train_padded_docs.shape[1]\n",
        "vocab_size_text = vocab_size\n",
        "categories_dim = 1\n",
        "categorical_ftr_embedding_size = 20\n",
        "initializer = initializers.HeNormal()\n",
        "activation_function = 'relu'\n",
        "dropout_rate = 0.7\n",
        "numerical_ftr_dim = 2\n",
        "class_weights = compute_class_weight(class_weight = \"balanced\",classes = np.unique(Y_train),y = Y_train)\n",
        "class_weights = dict(zip(np.unique(Y_train), class_weights))\n",
        "print(class_weights)\n",
        "\n",
        "model = create_model(max_seq_length, vocab_size_text, embedding_matrix_model2, categories_dim,\n",
        "                 categorical_ftr_embedding_size, initializer,numerical_ftr_dim, activation_function, dropout_rate)\n",
        "\n",
        "batch_size = 1024\n",
        "epochs = 20\n",
        "\n",
        "model.compile(optimizer=opt,\n",
        "              metrics = [metrics.BinaryAccuracy()],\n",
        "              loss=losses.BinaryCrossentropy())\n",
        "\n",
        "# fit the model\n",
        "model.fit([train_padded_docs,train_school_state,\n",
        "          train_project_grade,train_clean_categories,\n",
        "          train_clean_subcategories,train_teacher_prefix,\n",
        "          numerical_data_train ], \n",
        "          Y_train, batch_size = batch_size,\n",
        "          epochs=epochs, callbacks=callbacksList, \n",
        "          verbose = 0,\n",
        "          class_weight = class_weights,\n",
        "          validation_data = ([ test_padded_docs,test_school_state,\n",
        "                                  test_project_grade,test_clean_categories,\n",
        "                                  test_clean_subcategories,test_teacher_prefix,\n",
        "                                  numerical_data_test ], \n",
        "                                  Y_test))\n",
        "# evaluate the model\n",
        "loss, accuracy = model.evaluate([ test_padded_docs,test_school_state,\n",
        "                                  test_project_grade,test_clean_categories,\n",
        "                                  test_clean_subcategories,test_teacher_prefix,\n",
        "                                    numerical_data_test ], \n",
        "                                  Y_test, batch_size = batch_size)\n",
        "print('Test Accuracy: %f' % (accuracy*100))"
      ]
    },
    {
      "cell_type": "code",
      "execution_count": null,
      "metadata": {
        "id": "4NLHG9DaDsGq"
      },
      "outputs": [],
      "source": [
        "#After fit method accessing the auc scores of train and validation\n",
        "auc_train = model.auc_train\n",
        "auc_val = model.auc_val\n",
        "\n",
        "writer=tf.summary.create_file_writer(graph_saving_dir)\n",
        "for idx in range(len(auc_train)):\n",
        "    with writer.as_default(step=idx+1):\n",
        "        tf.summary.scalar('auc_train', auc_train[idx])\n",
        "        tf.summary.scalar('auc_val', auc_val[idx])\n",
        "writer.flush()"
      ]
    },
    {
      "cell_type": "code",
      "execution_count": null,
      "metadata": {
        "id": "Su3k41eVDsGq"
      },
      "outputs": [],
      "source": [
        "%load_ext tensorboard"
      ]
    },
    {
      "cell_type": "code",
      "execution_count": null,
      "metadata": {
        "id": "b6cnWsFJDsGr"
      },
      "outputs": [],
      "source": [
        "%tensorboard --logdir /content/drive/MyDrive/Named_Assignments/LSTM_DonorsChoose/model_2/Tensorboard_graphs\n",
        "# %tensorboard --logdir /Users/yamasanimanoj-kumarreddy/Documents/AAIC/Named_Assignments/LSTM Assignment/Assignment_Submission/model_2/Tensorboard_graphs"
      ]
    },
    {
      "cell_type": "code",
      "execution_count": null,
      "metadata": {
        "id": "wk-mCcf8DsGr"
      },
      "outputs": [],
      "source": [
        "# !tensorboard dev upload --logdir /content/drive/MyDrive/Named_Assignments/LSTM_DonorsChoose/model_2/Tensorboard_graphs --name \"Model_2 Graphs\" --description \"Training the Model_2\"\n",
        "# !tensorboard dev upload --logdir /Users/yamasanimanoj-kumarreddy/Documents/AAIC/Named_Assignments/LSTM Assignment/Assignment_Submission/model_2/Tensorboard_graphs --name \"Model_2 Graphs\" --description \"Training the Model_2\""
      ]
    },
    {
      "cell_type": "markdown",
      "metadata": {
        "id": "yd6EJLqqDsGq"
      },
      "source": [
        "Observations from the above Training of model\n",
        "1. First i have tried loss optimization using learning rate of 0.1, there was no improvement in the Train and Test AUC. \n",
        "2. Later after trying multiple learning rates I found 0.0001 is the good learning as AUC is improving. \n",
        "3. I have used softmax activation at the last layer, but later I have noticed and changed it to sigmoid, then I can observe the improvement in AUC. "
      ]
    },
    {
      "cell_type": "markdown",
      "metadata": {
        "id": "1ZHDG2GYUCTT"
      },
      "source": [
        "# <font color='red'> Model-3 </font>"
      ]
    },
    {
      "cell_type": "markdown",
      "metadata": {
        "id": "kGhQI5NyUCTT"
      },
      "source": [
        "<img src='https://i.imgur.com/fkQ8nGo.png'>\n",
        "ref: https://i.imgur.com/fkQ8nGo.png"
      ]
    },
    {
      "cell_type": "code",
      "execution_count": 13,
      "metadata": {
        "id": "I2WLa0WZUCTT"
      },
      "outputs": [],
      "source": [
        "#in this model you can use the text vectorized data from model1 \n",
        "#for other than text data consider the following steps\n",
        "# you have to perform one hot encoding of categorical features. You can use onehotencoder() or countvectorizer() for the same.\n",
        "# Stack up standardised numerical features and all the one hot encoded categorical features\n",
        "#the input to conv1d layer is 3d, you can convert your 2d data to 3d using np.newaxis\n",
        "# Note - deep learning models won't work with sparse features, you have to convert them to dense features before fitting in the model."
      ]
    },
    {
      "cell_type": "markdown",
      "metadata": {
        "id": "atxdXlsThB3j"
      },
      "source": [
        "## 1.1 Text Vectorization"
      ]
    },
    {
      "cell_type": "code",
      "execution_count": 14,
      "metadata": {
        "colab": {
          "base_uri": "https://localhost:8080/"
        },
        "outputId": "0d3be324-8679-417b-8f8d-3bfdd05eac16",
        "id": "uUWyhx9GhB3j"
      },
      "outputs": [
        {
          "output_type": "stream",
          "name": "stdout",
          "text": [
            "48232\n"
          ]
        }
      ],
      "source": [
        "from tensorflow.keras.preprocessing.text import Tokenizer\n",
        "from tensorflow.keras.preprocessing.sequence import pad_sequences\n",
        "\n",
        "tokenizer = Tokenizer()\n",
        "tokenizer.fit_on_texts(X_train['essay'])\n",
        "vocab_size = len(tokenizer.word_index) + 1\n",
        "print(vocab_size)\n",
        "# integer encode the documents\n",
        "train_encoded_docs = tokenizer.texts_to_sequences(X_train['essay'])\n",
        "test_encoded_docs = tokenizer.texts_to_sequences(X_test['essay'])"
      ]
    },
    {
      "cell_type": "code",
      "execution_count": 15,
      "metadata": {
        "colab": {
          "base_uri": "https://localhost:8080/"
        },
        "outputId": "fecf1bb1-4a65-445f-e64e-229b5590cb64",
        "id": "LlN_xA9_hB3k"
      },
      "outputs": [
        {
          "output_type": "stream",
          "name": "stdout",
          "text": [
            "339\n",
            "(73196, 339)\n",
            "(36052, 339)\n",
            "[0 0 0 0 0 0 0 0 0 0]\n",
            "[0 0 0 0 0 0 0 0 0 0]\n"
          ]
        }
      ],
      "source": [
        "max_length = max([len(seq) for seq in train_encoded_docs])\n",
        "print(max_length)\n",
        "train_padded_docs = pad_sequences(train_encoded_docs, maxlen=max_length, padding='post')\n",
        "test_padded_docs = pad_sequences(test_encoded_docs, maxlen=max_length, padding='post')\n",
        "print(train_padded_docs.shape)\n",
        "print(test_padded_docs.shape)\n",
        "print(train_padded_docs[0][-10:])\n",
        "print(test_padded_docs[0][-10:])"
      ]
    },
    {
      "cell_type": "code",
      "execution_count": 16,
      "metadata": {
        "id": "8iZezSouhB3k"
      },
      "outputs": [],
      "source": [
        "#after getting the padded_docs you have to use predefined glove vectors to get 300 dim representation for each word\n",
        "# we will be storing this data in form of an embedding matrix and will use it while defining our model\n",
        "# Please go through following blog's 'Example of Using Pre-Trained GloVe Embedding' section to understand how to create embedding matrix\n",
        "# https://machinelearningmastery.com/use-word-embedding-layers-deep-learning-keras/\n",
        "import pickle\n",
        "import numpy as np\n",
        "\n",
        "with open(path+'/glove_vectors', 'rb') as f:\n",
        "    model = pickle.load(f)\n",
        "    glove_words =  set(model.keys())"
      ]
    },
    {
      "cell_type": "code",
      "execution_count": 18,
      "metadata": {
        "colab": {
          "base_uri": "https://localhost:8080/"
        },
        "outputId": "ce86e3d7-2608-47a8-c76f-2d0e8f992981",
        "id": "UQ5-1uSDhB3k"
      },
      "outputs": [
        {
          "output_type": "stream",
          "name": "stdout",
          "text": [
            "[ 0.15243  -0.16945  -0.022748 -0.25051  -0.15213 ]\n",
            "(48232, 300)\n",
            "The number of tokens present in this vocabulary are 48232\n"
          ]
        }
      ],
      "source": [
        "embedding_matrix_model3 = np.zeros((vocab_size, 300))\n",
        "for word, i in tokenizer.word_index.items():\n",
        "\tembedding_vector = model.get(word)\n",
        "\tif embedding_vector is not None:\n",
        "\t\tembedding_matrix_model3[i] = embedding_vector\n",
        "print(embedding_matrix_model3[1][:5])\n",
        "print(embedding_matrix_model3.shape)\n",
        "print(\"The number of tokens present in this vocabulary are\", embedding_matrix_model3.shape[0])"
      ]
    },
    {
      "cell_type": "code",
      "execution_count": 18,
      "metadata": {
        "id": "C_BN9S_9UCTT"
      },
      "outputs": [],
      "source": [
        ""
      ]
    },
    {
      "cell_type": "markdown",
      "metadata": {
        "id": "VxotPAFVd0nl"
      },
      "source": [
        "## 1.2 Categorical feature Vectorization"
      ]
    },
    {
      "cell_type": "code",
      "execution_count": 19,
      "metadata": {
        "id": "uCiQuGKrd0nr"
      },
      "outputs": [],
      "source": [
        "# for model 1 and model 2, we have to assign a unique number to each feature in a particular categorical column.\n",
        "# you can either use tokenizer,label encoder or ordinal encoder to perform the task\n",
        "# label encoder gives an error for 'unseen values' (values present in test but not in train)\n",
        "# handle unseen values with label encoder - https://stackoverflow.com/a/56876351\n",
        "# ordinal encoder also gives error with unseen values but you can use modify handle_unknown parameter\n",
        "# documentation of ordianl encoder https://scikit-learn.org/stable/modules/generated/sklearn.preprocessing.OrdinalEncoder.html\n",
        "# after categorical feature vectorization you will have column_train_data and column_test_data.\n"
      ]
    },
    {
      "cell_type": "markdown",
      "metadata": {
        "id": "Hvtj22ujd0ns"
      },
      "source": [
        "### School_State"
      ]
    },
    {
      "cell_type": "code",
      "execution_count": 20,
      "metadata": {
        "colab": {
          "base_uri": "https://localhost:8080/"
        },
        "outputId": "c073b328-c55b-412e-a4cf-34e89c622b6f",
        "id": "_DvIW38Jd0ns"
      },
      "outputs": [
        {
          "output_type": "stream",
          "name": "stdout",
          "text": [
            "No of categories present in school state are  51\n",
            "(73196, 51)\n",
            "(36052, 51)\n"
          ]
        }
      ],
      "source": [
        "from sklearn.preprocessing import OneHotEncoder\n",
        "encoder = OneHotEncoder(handle_unknown = 'ignore')\n",
        "train_school_state = encoder.fit_transform(X_train['school_state'].to_numpy().reshape(-1,1)).toarray()\n",
        "test_school_state = encoder.transform(X_test['school_state'].to_numpy().reshape(-1,1)).toarray()\n",
        "no_of_school_state = len(encoder.categories_[0])\n",
        "print(\"No of categories present in school state are \",no_of_school_state)\n",
        "print(train_school_state.shape)\n",
        "print(test_school_state.shape)"
      ]
    },
    {
      "cell_type": "markdown",
      "metadata": {
        "id": "1qCH9OpQd0ns"
      },
      "source": [
        "### project_grade_category"
      ]
    },
    {
      "cell_type": "code",
      "execution_count": 21,
      "metadata": {
        "colab": {
          "base_uri": "https://localhost:8080/"
        },
        "outputId": "de6edd05-6fad-43f0-c6a0-81211ec64c64",
        "id": "eYfQl39Yd0ns"
      },
      "outputs": [
        {
          "output_type": "stream",
          "name": "stdout",
          "text": [
            "No of categories present in project grade are  4\n",
            "(73196, 4)\n",
            "(36052, 4)\n"
          ]
        }
      ],
      "source": [
        "from sklearn.preprocessing import OneHotEncoder\n",
        "encoder = OneHotEncoder(handle_unknown = 'ignore')\n",
        "train_project_grade = encoder.fit_transform(X_train['project_grade_category'].to_numpy().reshape(-1,1)).toarray()\n",
        "test_project_grade = encoder.transform(X_test['project_grade_category'].to_numpy().reshape(-1,1)).toarray()\n",
        "no_of_project_grade = len(encoder.categories_[0])\n",
        "print(\"No of categories present in project grade are \",no_of_project_grade)\n",
        "print(train_project_grade.shape)\n",
        "print(test_project_grade.shape)"
      ]
    },
    {
      "cell_type": "markdown",
      "metadata": {
        "id": "WTo6sPjvd0ns"
      },
      "source": [
        "### clean_categories"
      ]
    },
    {
      "cell_type": "code",
      "execution_count": 22,
      "metadata": {
        "colab": {
          "base_uri": "https://localhost:8080/"
        },
        "outputId": "5ba63c9e-4b0c-4c68-9fc1-b58c370a17dd",
        "id": "ULVLww18d0nt"
      },
      "outputs": [
        {
          "output_type": "stream",
          "name": "stdout",
          "text": [
            "No of categories present in clean categories are  51\n",
            "(73196, 51)\n",
            "(36052, 51)\n"
          ]
        }
      ],
      "source": [
        "from sklearn.preprocessing import OneHotEncoder\n",
        "encoder = OneHotEncoder(handle_unknown = 'ignore')\n",
        "train_clean_categories = encoder.fit_transform(X_train['clean_categories'].to_numpy().reshape(-1,1)).toarray()\n",
        "test_clean_categories  = encoder.transform(X_test['clean_categories'].to_numpy().reshape(-1,1)).toarray()\n",
        "no_of_clean_categories = len(encoder.categories_[0])\n",
        "print(\"No of categories present in clean categories are \",no_of_clean_categories)\n",
        "print(train_clean_categories.shape)\n",
        "print(test_clean_categories.shape)"
      ]
    },
    {
      "cell_type": "markdown",
      "metadata": {
        "id": "Y79TZ-TVd0nt"
      },
      "source": [
        "### clean_subcategories"
      ]
    },
    {
      "cell_type": "code",
      "execution_count": 23,
      "metadata": {
        "colab": {
          "base_uri": "https://localhost:8080/"
        },
        "outputId": "57ee81f0-72a7-4efc-b55b-b71c56cbc7c6",
        "id": "u7D-Je0Yd0nt"
      },
      "outputs": [
        {
          "output_type": "stream",
          "name": "stdout",
          "text": [
            "No of categories present in clean sub categories are  390\n",
            "(73196, 390)\n",
            "(36052, 390)\n"
          ]
        }
      ],
      "source": [
        "from sklearn.preprocessing import OneHotEncoder\n",
        "encoder = OneHotEncoder(handle_unknown = 'ignore')\n",
        "train_clean_subcategories = encoder.fit_transform(X_train['clean_subcategories'].to_numpy().reshape(-1,1)).toarray()\n",
        "test_clean_subcategories  = encoder.transform(X_test['clean_subcategories'].to_numpy().reshape(-1,1)).toarray()\n",
        "no_of_clean_subcategories = len(encoder.categories_[0])\n",
        "print(\"No of categories present in clean sub categories are \",no_of_clean_subcategories)\n",
        "print(train_clean_subcategories.shape)\n",
        "print(test_clean_subcategories.shape)"
      ]
    },
    {
      "cell_type": "markdown",
      "metadata": {
        "id": "e8JaK07kd0nt"
      },
      "source": [
        "### teacher_prefix"
      ]
    },
    {
      "cell_type": "code",
      "execution_count": 24,
      "metadata": {
        "colab": {
          "base_uri": "https://localhost:8080/"
        },
        "outputId": "97d84c3e-d7e5-4d48-d6ff-1004110c2a17",
        "id": "8UND16dEd0nt"
      },
      "outputs": [
        {
          "output_type": "stream",
          "name": "stdout",
          "text": [
            "No of categories present in teacher prefix are  5\n",
            "(73196, 5)\n",
            "(36052, 5)\n"
          ]
        }
      ],
      "source": [
        "from sklearn.preprocessing import OneHotEncoder\n",
        "encoder = OneHotEncoder(handle_unknown = 'ignore')\n",
        "train_teacher_prefix = encoder.fit_transform(X_train['teacher_prefix'].to_numpy().reshape(-1,1)).toarray()\n",
        "test_teacher_prefix  = encoder.transform(X_test['teacher_prefix'].to_numpy().reshape(-1,1)).toarray()\n",
        "no_of_teacher_prefix = len(encoder.categories_[0])\n",
        "print(\"No of categories present in teacher prefix are \",no_of_teacher_prefix)\n",
        "print(train_teacher_prefix.shape)\n",
        "print(test_teacher_prefix.shape)"
      ]
    },
    {
      "cell_type": "markdown",
      "metadata": {
        "id": "LjHb1rb3hcHR"
      },
      "source": [
        "## 1.3 Numerical feature Vectorization"
      ]
    },
    {
      "cell_type": "code",
      "execution_count": 25,
      "metadata": {
        "id": "pQGZJm1fhcHR"
      },
      "outputs": [],
      "source": [
        "# you have to standardise the numerical columns\n",
        "# stack both the numerical features\n",
        "#after numerical feature vectorization you will have numerical_data_train and numerical_data_test"
      ]
    },
    {
      "cell_type": "markdown",
      "metadata": {
        "id": "V6zQcGY7hcHS"
      },
      "source": [
        "#### teacher_number_of_previously_posted_projects"
      ]
    },
    {
      "cell_type": "markdown",
      "metadata": {
        "id": "z6kjDFjohcHS"
      },
      "source": [
        "##### Min-Max scaling of features"
      ]
    },
    {
      "cell_type": "code",
      "execution_count": 26,
      "metadata": {
        "id": "cC-WnBXthcHS"
      },
      "outputs": [],
      "source": [
        "#For z-score normalization the values will be both negative and positive.  \n",
        "from sklearn.preprocessing import MinMaxScaler\n",
        "\n",
        "scaler = MinMaxScaler()\n",
        "scaler.fit(X_train['teacher_number_of_previously_posted_projects'].values.reshape(-1, 1))\n",
        "\n",
        "train_tchr_prj = scaler.transform(X_train['teacher_number_of_previously_posted_projects'].values.reshape(-1, 1))\n",
        "test_tchr_prj = scaler.transform(X_test['teacher_number_of_previously_posted_projects'].values.reshape(-1, 1))"
      ]
    },
    {
      "cell_type": "markdown",
      "metadata": {
        "id": "oNpAEWa7hcHS"
      },
      "source": [
        "##### Standard scaling of features"
      ]
    },
    {
      "cell_type": "code",
      "execution_count": 27,
      "metadata": {
        "id": "-F8fwDMIhcHS"
      },
      "outputs": [],
      "source": [
        "from sklearn.preprocessing import StandardScaler\n",
        "\n",
        "scaler = StandardScaler()\n",
        "scaler.fit(X_train['teacher_number_of_previously_posted_projects'].values.reshape(-1, 1))\n",
        "\n",
        "train_tchr_prj = scaler.transform(X_train['teacher_number_of_previously_posted_projects'].values.reshape(-1, 1))\n",
        "test_tchr_prj = scaler.transform(X_test['teacher_number_of_previously_posted_projects'].values.reshape(-1, 1))"
      ]
    },
    {
      "cell_type": "code",
      "execution_count": 28,
      "metadata": {
        "colab": {
          "base_uri": "https://localhost:8080/"
        },
        "outputId": "d4b10908-34d7-4daa-a180-1c1edb1c17d9",
        "id": "nZh8VSkXhcHS"
      },
      "outputs": [
        {
          "output_type": "stream",
          "name": "stdout",
          "text": [
            "(73196, 1)\n",
            "(36052, 1)\n",
            "[array([-0.40195905]), array([-0.40195905]), array([-0.29393921]), array([-0.18591938]), array([-0.36595244])] \n",
            " [array([-0.40195905]), array([-0.32994582]), array([-0.22192599]), array([-0.40195905]), array([-0.40195905])]\n"
          ]
        }
      ],
      "source": [
        "print(train_tchr_prj.shape)\n",
        "print(test_tchr_prj.shape)\n",
        "print(list(train_tchr_prj[:5]),'\\n',list(test_tchr_prj[:5]))"
      ]
    },
    {
      "cell_type": "markdown",
      "metadata": {
        "id": "v72guc16hcHT"
      },
      "source": [
        "#### price"
      ]
    },
    {
      "cell_type": "markdown",
      "metadata": {
        "id": "6mIA3srVhcHT"
      },
      "source": [
        "##### Min-Max scaling of features"
      ]
    },
    {
      "cell_type": "code",
      "execution_count": 29,
      "metadata": {
        "id": "pJs6CzHchcHT"
      },
      "outputs": [],
      "source": [
        "from sklearn.preprocessing import MinMaxScaler\n",
        "# Min-Max Normalization\n",
        "\n",
        "scaler = MinMaxScaler()\n",
        "scaler.fit(X_train['price'].values.reshape(-1, 1))\n",
        "\n",
        "train_price = scaler.transform(X_train['price'].values.reshape(-1, 1) )\n",
        "test_price = scaler.transform(X_test['price'].values.reshape(-1, 1) )"
      ]
    },
    {
      "cell_type": "markdown",
      "metadata": {
        "id": "SYBI6y9RhcHT"
      },
      "source": [
        "##### Standard scaling of features"
      ]
    },
    {
      "cell_type": "code",
      "execution_count": 30,
      "metadata": {
        "id": "6B4E6BChhcHT"
      },
      "outputs": [],
      "source": [
        "from sklearn.preprocessing import StandardScaler\n",
        "\n",
        "scaler = StandardScaler()\n",
        "scaler.fit(X_train['price'].values.reshape(-1, 1))\n",
        "\n",
        "train_price = scaler.transform(X_train['price'].values.reshape(-1, 1))\n",
        "test_price = scaler.transform(X_test['price'].values.reshape(-1, 1))"
      ]
    },
    {
      "cell_type": "code",
      "execution_count": 31,
      "metadata": {
        "colab": {
          "base_uri": "https://localhost:8080/"
        },
        "outputId": "754225b5-286e-4e00-cdf2-e9ced0b4e4b9",
        "id": "UH1j_hvyhcHU"
      },
      "outputs": [
        {
          "output_type": "stream",
          "name": "stdout",
          "text": [
            "(73196, 1)\n",
            "(36052, 1)\n",
            "[array([0.32681192]), array([-0.69986663]), array([0.54299574]), array([-0.57785898]), array([-0.14243176])] \n",
            " [array([0.16712307]), array([-0.58569581]), array([-0.4021744]), array([-0.59028519]), array([-0.76221238])]\n"
          ]
        }
      ],
      "source": [
        "print(train_price.shape)\n",
        "print(test_price.shape)\n",
        "print(list(train_price[:5]),'\\n',list(test_price[:5]))"
      ]
    },
    {
      "cell_type": "markdown",
      "source": [
        "## Non-Text Data Concatenation"
      ],
      "metadata": {
        "id": "QqAaB45xiFOl"
      }
    },
    {
      "cell_type": "code",
      "execution_count": 32,
      "metadata": {
        "id": "WK9wGNTDhcHU"
      },
      "outputs": [],
      "source": [
        "from sklearn.decomposition import PCA\n",
        "\n",
        "nontext_data_train = np.concatenate((train_school_state, train_project_grade,\n",
        "                                       train_clean_categories, train_clean_subcategories, train_teacher_prefix, \n",
        "                                       train_tchr_prj,train_price),axis=1)\n",
        "nontext_data_test = np.concatenate((test_school_state, test_project_grade,\n",
        "                                      test_clean_categories, test_clean_subcategories, test_teacher_prefix,\n",
        "                                      test_tchr_prj,test_price),axis=1)\n",
        "\n"
      ]
    },
    {
      "cell_type": "code",
      "source": [
        "# Due to onehot encoding, the features are sparse. To aovid this we use pca to reduce to minimum no of dense features.\n",
        "# We are taking 30 components as they combinedly retain more than 80% of the input information\n",
        "reduced_dim = 30 \n",
        "pca = PCA(n_components = reduced_dim)\n",
        "pca.fit(nontext_data_train)\n",
        "\n",
        "nontext_data_train = pca.transform(nontext_data_train)\n",
        "nontext_data_test = pca.transform(nontext_data_test)"
      ],
      "metadata": {
        "id": "QJ-GseJ901YU"
      },
      "execution_count": 33,
      "outputs": []
    },
    {
      "cell_type": "code",
      "source": [
        "print(sum(pca.explained_variance_ratio_))"
      ],
      "metadata": {
        "colab": {
          "base_uri": "https://localhost:8080/"
        },
        "id": "wtygwkUU2L80",
        "outputId": "9b8a32db-f71d-48d5-e92e-22a743d1e1e5"
      },
      "execution_count": 34,
      "outputs": [
        {
          "output_type": "stream",
          "name": "stdout",
          "text": [
            "0.805318034930602\n"
          ]
        }
      ]
    },
    {
      "cell_type": "code",
      "source": [
        "nontext_data_train = np.expand_dims(nontext_data_train, axis=2)\n",
        "nontext_data_test = np.expand_dims(nontext_data_test, axis=2)\n",
        "\n",
        "print(nontext_data_train.shape)\n",
        "print(nontext_data_test.shape)"
      ],
      "metadata": {
        "colab": {
          "base_uri": "https://localhost:8080/"
        },
        "id": "WUo7ddrg2baz",
        "outputId": "9897e1ef-4795-4bbb-c241-513ccf693f25"
      },
      "execution_count": 35,
      "outputs": [
        {
          "output_type": "stream",
          "name": "stdout",
          "text": [
            "(73196, 30, 1)\n",
            "(36052, 30, 1)\n"
          ]
        }
      ]
    },
    {
      "cell_type": "markdown",
      "metadata": {
        "id": "5x7Ig8TNkQkw"
      },
      "source": [
        "## 1.4 Defining the model"
      ]
    },
    {
      "cell_type": "code",
      "execution_count": 36,
      "metadata": {
        "id": "aXRCp9adkQkx"
      },
      "outputs": [],
      "source": [
        "from tensorflow.keras import layers,Input,Model\n",
        "\n",
        "# Hyper Parameters\n",
        "Embedding_vector_size_text = 300\n",
        "categorical_ftr_embedding_size = 20\n",
        "max_seq_length = train_padded_docs.shape[1]\n",
        "no_of_lstm_units_on_text = 150\n",
        "no_of_Dense_units_on_numerical_ftr = 150\n",
        "no_of_units_on_dense_layer1 = 128\n",
        "no_of_units_on_dense_layer2 = 64\n",
        "no_of_units_on_dense_layer3 = 32\n",
        "no_of_units_on_output_dense_layer = 1\n",
        "\n",
        "def create_model(max_seq_length, vocab_size_text, embedding_matrix, nontextdata_dim,\n",
        "                  no_of_filters, kernel_size, \n",
        "                  intializer, activation_function, dropout_rate):\n",
        "  tf.keras.backend.clear_session()\n",
        "  # Text Feature block\n",
        "  input1 = Input(shape = (max_seq_length,),name = \"Text_Input\")\n",
        "  x = layers.Embedding(input_dim = vocab_size_text, output_dim=embedding_matrix.shape[1],\n",
        "                       input_length = max_seq_length, weights=[embedding_matrix], \n",
        "                       name = \"Text_Embedding_layer\", trainable = False)(input1)\n",
        "  x = layers.LSTM(no_of_lstm_units_on_text, name = \"Text_LSTM\")(x)\n",
        "  text_lstm_output = layers.Flatten(name = \"Output_from_text_lstm\")(x)\n",
        "\n",
        "  # Nontext data block\n",
        "  input2 = Input(shape = (nontextdata_dim,1,),name = \"nontextdata_Input\")  \n",
        "  x = layers.Conv1D(no_of_filters, kernel_size, activation=activation_function,\n",
        "                     name = \"nontextdata_Convolution_layer1\")(input2)\n",
        "  x = layers.Conv1D(no_of_filters, kernel_size, activation=activation_function,\n",
        "                     name = \"nontextdata_Convolution_layer2\")(x)\n",
        "  nontextdata_output = layers.Flatten(name = \"nontextdata_output\")(x)\n",
        "\n",
        "  # Concatenate two flatten inputs from text and nontext data\n",
        "  concat_output = layers.Concatenate(axis=1)([text_lstm_output, nontextdata_output])\n",
        "\n",
        "  dense_layer1_after_concat = layers.Dense(no_of_units_on_dense_layer1, \n",
        "                                           activation = activation_function,\n",
        "                                           kernel_initializer=intializer)(concat_output)\n",
        "  dropout_layer1 = layers.Dropout(dropout_rate)(dense_layer1_after_concat)\n",
        "\n",
        "  dense_layer2_after_concat = layers.Dense(no_of_units_on_dense_layer2, \n",
        "                                           activation = activation_function,\n",
        "                                           kernel_initializer=intializer)(dropout_layer1)\n",
        "  dropout_layer2 = layers.Dropout(dropout_rate)(dense_layer2_after_concat)\n",
        "\n",
        "  dense_layer3_after_concat = layers.Dense(no_of_units_on_dense_layer3,\n",
        "                                           activation = activation_function,\n",
        "                                           kernel_initializer=intializer)(dropout_layer2)\n",
        "  output = layers.Dense(no_of_units_on_output_dense_layer,\n",
        "                        activation = 'sigmoid',\n",
        "                        kernel_initializer=intializer)(dense_layer3_after_concat)\n",
        "\n",
        "  return Model(inputs = [input1,input2],outputs = output, name = \"Model_3\")"
      ]
    },
    {
      "cell_type": "code",
      "execution_count": 37,
      "metadata": {
        "colab": {
          "base_uri": "https://localhost:8080/",
          "height": 1000
        },
        "outputId": "bfcc531e-d0a3-4e62-da17-d1b62aa515ed",
        "id": "WBNnmq-JkQkx"
      },
      "outputs": [
        {
          "output_type": "execute_result",
          "data": {
            "text/plain": [
              "<IPython.core.display.Image object>"
            ],
            "image/png": "[encoded data removed]"
          },
          "metadata": {},
          "execution_count": 37
        }
      ],
      "source": [
        "from tensorflow.keras import utils,initializers\n",
        "\n",
        "max_seq_length = train_padded_docs.shape[1]\n",
        "vocab_size_text = vocab_size\n",
        "nontextdata_dim = nontext_data_train.shape[1]\n",
        "initializer = initializers.HeUniform()\n",
        "activation_function = 'relu'\n",
        "dropout_rate = 0.3\n",
        "no_of_filters = 32\n",
        "kernel_size = 3\n",
        "\n",
        "model = create_model(max_seq_length, vocab_size_text, embedding_matrix_model3, nontextdata_dim,\n",
        "                  no_of_filters, kernel_size, \n",
        "                  initializer, activation_function, dropout_rate)\n",
        "\n",
        "utils.plot_model(model, \"Model_3.png\", show_shapes=True,show_dtype = True)"
      ]
    },
    {
      "cell_type": "markdown",
      "metadata": {
        "id": "gvXZ1EKykQkx"
      },
      "source": [
        "## 1.5 Compiling and fititng your model"
      ]
    },
    {
      "cell_type": "code",
      "source": [
        "from sklearn.metrics import roc_auc_score,roc_curve,auc\n",
        "from keras.callbacks import Callback\n",
        "class RocCallback(Callback):\n",
        "    def __init__(self,training_data,validation_data):\n",
        "        self.x = training_data[0]\n",
        "        self.y = training_data[1]\n",
        "        self.x_val = validation_data[0]\n",
        "        self.y_val = validation_data[1]\n",
        "\n",
        "\n",
        "    def on_train_begin(self, logs={}):\n",
        "        self.model.auc_train = []\n",
        "        self.model.auc_val = []\n",
        "        return\n",
        "\n",
        "    def on_train_end(self, logs={}):\n",
        "        return\n",
        "\n",
        "    def on_epoch_begin(self, epoch, logs={}):\n",
        "        return\n",
        "\n",
        "    def on_epoch_end(self, epoch, logs={}):\n",
        "        y_pred_train = self.model.predict(self.x)\n",
        "        auc_train = roc_auc_score(self.y, y_pred_train)\n",
        "        y_pred_val = self.model.predict(self.x_val)\n",
        "        auc_val = roc_auc_score(self.y_val, y_pred_val)\n",
        "        self.model.auc_train.append(auc_train)\n",
        "        self.model.auc_val.append(auc_val)\n",
        "        print('\\rauc_train: %s - auc_val: %s' % (str(round(auc_train,4)),str(round(auc_val,4))),end=100*' '+'\\n')\n",
        "        return\n",
        "\n",
        "    def on_batch_begin(self, batch, logs={}):\n",
        "        return\n",
        "\n",
        "    def on_batch_end(self, batch, logs={}):\n",
        "        return"
      ],
      "metadata": {
        "id": "alUrNBn_8K2e"
      },
      "execution_count": 41,
      "outputs": []
    },
    {
      "cell_type": "code",
      "execution_count": 42,
      "metadata": {
        "id": "6bFCC-RnkQkx"
      },
      "outputs": [],
      "source": [
        "from tensorflow.keras import callbacks\n",
        "import os\n",
        "\n",
        "# path = \"/Users/yamasanimanoj-kumarreddy/Documents/AAIC/Named_Assignments/LSTM Assignment/Assignment_Submission/\"\n",
        "# path = \"/content/drive/MyDrive/Named_Assignments/LSTM_DonorsChoose\"\n",
        "\n",
        "graph_saving_dir = os.path.join(path,'model_3', \"Tensorboard_graphs\")\n",
        "\n",
        "roc_callback = RocCallback(training_data=([train_padded_docs,nontext_data_train], \n",
        "                                          Y_train),\n",
        "                           validation_data=([test_padded_docs,nontext_data_test],\n",
        "                                            Y_test))\n",
        "\n",
        "tensorboard_callback = callbacks.TensorBoard(log_dir=graph_saving_dir,histogram_freq=1,write_graph=True)\n",
        "\n",
        "callbacksList = [roc_callback, tensorboard_callback]"
      ]
    },
    {
      "cell_type": "code",
      "execution_count": null,
      "metadata": {
        "colab": {
          "base_uri": "https://localhost:8080/"
        },
        "outputId": "ee239119-fa48-4603-fda5-8c8775a89766",
        "id": "uWiwqGoAkQky"
      },
      "outputs": [
        {
          "output_type": "stream",
          "name": "stdout",
          "text": [
            "{0: 3.3021745014887665, 1: 0.5892164281229372}\n",
            "WARNING:tensorflow:Callback method `on_train_batch_end` is slow compared to the batch time (batch time: 0.0537s vs `on_train_batch_end` time: 0.0831s). Check your callbacks.\n",
            "auc_train: 0.5774 - auc_val: 0.575                                                                                                    \n",
            "auc_train: 0.6094 - auc_val: 0.6089                                                                                                    \n",
            "auc_train: 0.6154 - auc_val: 0.6144                                                                                                    \n",
            "auc_train: 0.6179 - auc_val: 0.6151                                                                                                    \n",
            "auc_train: 0.6192 - auc_val: 0.6146                                                                                                    \n",
            "auc_train: 0.6222 - auc_val: 0.6186                                                                                                    \n",
            "auc_train: 0.6198 - auc_val: 0.6156                                                                                                    \n",
            "auc_train: 0.6254 - auc_val: 0.6195                                                                                                    \n",
            "auc_train: 0.6254 - auc_val: 0.6198                                                                                                    \n",
            "auc_train: 0.6273 - auc_val: 0.6215                                                                                                    \n",
            "auc_train: 0.6262 - auc_val: 0.6213                                                                                                    \n"
          ]
        }
      ],
      "source": [
        "from tensorflow.keras import initializers,optimizers, metrics,losses\n",
        "from sklearn.utils.class_weight import compute_class_weight\n",
        "\n",
        "# Types of intializers to try\n",
        "# initializers.HeUniform()\n",
        "# initializers.HeNormal()\n",
        "# initializers.GlorotNormal()\n",
        "# initializers.GlorotUniform()\n",
        "# initializers.LecunNormal()\n",
        "# initializers.LecunUniform()\n",
        "# initializers.RandomNormal(mean=0., stddev=1.)\n",
        "# initializers.RandomUniform(minval=0., maxval=1.)\n",
        "\n",
        "# Types of Optimizers to try\n",
        "# optimizers.Adadelta(learning_rate=0.001)\n",
        "# optimizers.Adagrad(learning_rate=0.001)\n",
        "# optimizers.Adamax(learning_rate=0.001)\n",
        "# optimizers.RMSprop(learning_rate=0.001)\n",
        "# tf.keras.optimizers.SGD(learning_rate=0.01,momentum=0.0)\n",
        "\n",
        "opt = optimizers.Adam()\n",
        "max_seq_length = train_padded_docs.shape[1]\n",
        "vocab_size_text = vocab_size\n",
        "nontextdata_dim = nontext_data_train.shape[1]\n",
        "initializer = initializers.HeUniform()\n",
        "activation_function = 'relu'\n",
        "dropout_rate = 0.7\n",
        "no_of_filters = 32\n",
        "kernel_size = 3\n",
        "class_weights = compute_class_weight(class_weight = \"balanced\",classes = np.unique(Y_train),y = Y_train)\n",
        "class_weights = dict(zip(np.unique(Y_train), class_weights))\n",
        "print(class_weights)\n",
        "\n",
        "model = create_model(max_seq_length, vocab_size_text, embedding_matrix_model3, nontextdata_dim,\n",
        "                      no_of_filters, kernel_size, \n",
        "                      initializer, activation_function, dropout_rate)\n",
        "\n",
        "batch_size = 512\n",
        "epochs = 20\n",
        "\n",
        "model.compile(optimizer=opt,\n",
        "              metrics = [metrics.BinaryAccuracy()],\n",
        "              loss=losses.BinaryCrossentropy())\n",
        "\n",
        "# fit the model\n",
        "model.fit([train_padded_docs,nontext_data_train], \n",
        "          Y_train, batch_size = batch_size,\n",
        "          epochs=epochs, callbacks=callbacksList, \n",
        "          verbose = 0,\n",
        "          class_weight = class_weights,\n",
        "          validation_data = ([test_padded_docs,nontext_data_test], \n",
        "                                  Y_test))\n",
        "# evaluate the model\n",
        "loss, accuracy = model.evaluate([test_padded_docs,nontext_data_test],\n",
        "                                  Y_test, batch_size = batch_size)\n",
        "print('Test Accuracy: %f' % (accuracy*100))"
      ]
    },
    {
      "cell_type": "code",
      "execution_count": null,
      "metadata": {
        "id": "7ipER-yqkQky"
      },
      "outputs": [],
      "source": [
        "#After fit method accessing the auc scores of train and validation\n",
        "auc_train = model.auc_train\n",
        "auc_val = model.auc_val\n",
        "\n",
        "writer=tf.summary.create_file_writer(graph_saving_dir)\n",
        "for idx in range(len(auc_train)):\n",
        "    with writer.as_default(step=idx+1):\n",
        "        tf.summary.scalar('auc_train', auc_train[idx])\n",
        "        tf.summary.scalar('auc_val', auc_val[idx])\n",
        "writer.flush ()"
      ]
    },
    {
      "cell_type": "code",
      "execution_count": null,
      "metadata": {
        "id": "nbUMJPUmkQky"
      },
      "outputs": [],
      "source": [
        "%load_ext tensorboard"
      ]
    },
    {
      "cell_type": "code",
      "execution_count": null,
      "metadata": {
        "id": "_04AdC9HkQky"
      },
      "outputs": [],
      "source": [
        "%tensorboard --logdir /content/drive/MyDrive/Named_Assignments/LSTM_DonorsChoose/model_3/Tensorboard_graphs\n",
        "# %tensorboard --logdir /content/drive/MyDrive/DeepLearn/LSTM_DonorsChoose/model_1/Tensorboard_graphs\n",
        "# %tensorboard --logdir /Users/yamasanimanoj-kumarreddy/Documents/AAIC/Named_Assignments/LSTM Assignment/Assignment_Submission/model_1/Tensorboard_graphs"
      ]
    },
    {
      "cell_type": "code",
      "execution_count": null,
      "metadata": {
        "id": "n3fjUrBYkQky"
      },
      "outputs": [],
      "source": [
        "# !tensorboard dev upload --logdir /content/drive/MyDrive/Named_Assignments/LSTM_DonorsChoose/model_1/Tensorboard_graphs --name \"Model_1 Graphs\" --description \"Training the Model_1\"\n",
        "\n",
        "# !tensorboard dev upload --logdir %tensorboard --logdir /content/drive/MyDrive/DeepLearn/LSTM_DonorsChoose/model_1/Tensorboard_graphs --name \"Model_1 Graphs\" --description \"Training the Model_1\"\n",
        "# !tensorboard dev upload --logdir /Users/yamasanimanoj-kumarreddy/Documents/AAIC/Named_Assignments/LSTM Assignment/Assignment_Submission/model_1/Tensorboard_graphs --name \"Model_1 Graphs\" --description \"Training the Model_1\""
      ]
    },
    {
      "cell_type": "markdown",
      "metadata": {
        "id": "kd3iPfBkkQky"
      },
      "source": [
        "Observations from the above Training of model\n",
        "1. First i have tried loss optimization using learning rate of 0.1, there was no improvement in the Train and Test AUC. \n",
        "2. Later after trying multiple learning rates I found 0.0001 is the good learning as AUC is improving. \n",
        "3. I have used softmax activation at the last layer, but later I have noticed and changed it to sigmoid, then I can observe the improvement in AUC. "
      ]
    }
  ],
  "metadata": {
    "colab": {
      "collapsed_sections": [
        "-WrG9MuRUCTP",
        "iWL1zBgvUCTQ",
        "m9Fp08c_RpCZ",
        "GwYyQqEIR6Qh",
        "Ok5kLD4QwQAi",
        "VxotPAFVd0nl",
        "LjHb1rb3hcHR"
      ],
      "name": "LSTM_AssignmentDonorsChoose.ipynb",
      "provenance": [],
      "include_colab_link": true
    },
    "gpuClass": "standard",
    "kernelspec": {
      "display_name": "Python 3 (ipykernel)",
      "language": "python",
      "name": "python3"
    },
    "language_info": {
      "codemirror_mode": {
        "name": "ipython",
        "version": 3
      },
      "file_extension": ".py",
      "mimetype": "text/x-python",
      "name": "python",
      "nbconvert_exporter": "python",
      "pygments_lexer": "ipython3",
      "version": "3.9.7"
    },
    "accelerator": "GPU"
  },
  "nbformat": 4,
  "nbformat_minor": 0
}
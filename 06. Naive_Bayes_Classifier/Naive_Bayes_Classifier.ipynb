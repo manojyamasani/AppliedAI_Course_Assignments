{
 "cells": [
  {
   "cell_type": "code",
   "execution_count": 951,
   "metadata": {
    "colab": {
     "base_uri": "https://localhost:8080/",
     "height": 34
    },
    "colab_type": "code",
    "id": "cDimkEOoGZox",
    "outputId": "666d72bb-1459-453e-cc9b-6a7f23da74ad"
   },
   "outputs": [
    {
     "name": "stdout",
     "output_type": "stream",
     "text": [
      "Drive already mounted at /content/drive; to attempt to forcibly remount, call drive.mount(\"/content/drive\", force_remount=True).\n"
     ]
    }
   ],
   "source": [
    "from google.colab import drive\n",
    "drive.mount('/content/drive')"
   ]
  },
  {
   "cell_type": "code",
   "execution_count": 952,
   "metadata": {
    "colab": {},
    "colab_type": "code",
    "id": "FlDQ6cZuG4Uz"
   },
   "outputs": [],
   "source": [
    "path = '/content/drive/My Drive/6_Donors_choose_NB/'"
   ]
  },
  {
   "cell_type": "markdown",
   "metadata": {
    "colab_type": "text",
    "id": "Dnubs-Nnb3cw"
   },
   "source": [
    "# Assignment 6: Apply NB"
   ]
  },
  {
   "cell_type": "markdown",
   "metadata": {
    "colab_type": "text",
    "id": "12krXa2pb3c1"
   },
   "source": [
    "<ol>\n",
    "    <li><strong>Apply Multinomial NB on these feature sets</strong>\n",
    "        <ul>\n",
    "            <li><font color='red'>Set 1</font>: categorical, numerical features + preprocessed_eassay (BOW) </li>\n",
    "            <li><font color='red'>Set 2</font>: categorical, numerical features + preprocessed_eassay (TFIDF) </li>\n",
    "        </ul>\n",
    "    </li>\n",
    "    <li><strong>The hyper paramter tuning(find best alpha:smoothing parameter)</strong>\n",
    "        <ul>\n",
    "    <li>Find the best hyper parameter which will give the maximum <a href='https://www.appliedaicourse.com/course/applied-ai-course-online/lessons/receiver-operating-characteristic-curve-roc-curve-and-auc-1/'>AUC</a> value</li>\n",
    "    <li>find the best hyper paramter using k-fold cross validation(use GridsearchCV or RandomsearchCV)/simple cross validation data (write for loop to iterate over hyper parameter values)</li>\n",
    "    <li></li>\n",
    "        </ul>\n",
    "    </li>\n",
    "    <li>\n",
    "    <strong>Representation of results</strong>\n",
    "        <ul>\n",
    "    <li>You need to plot the performance of model both on train data and cross validation data for each hyper parameter, like shown in the figure\n",
    "    <img src='https://i.imgur.com/hUv6aEy.jpg' width=300px></li>\n",
    "    <li>Once after you found the best hyper parameter, you need to train your model with it, and find the AUC on test data and plot the ROC curve on both train and test.\n",
    "    <img src='https://i.imgur.com/wMQDTFe.jpg' width=300px></li>\n",
    "    <li>Along with plotting ROC curve, you need to print the <a href='https://www.appliedaicourse.com/course/applied-ai-course-online/lessons/confusion-matrix-tpr-fpr-fnr-tnr-1/'>confusion matrix</a> with predicted and original labels of test data points\n",
    "    <img src='https://i.imgur.com/IdN5Ctv.png' width=300px></li>\n",
    "        </ul>\n",
    "    </li>\n",
    "    <li>\n",
    "fine the top 20 features from either from feature <font color='red'>Set 1</font> or feature <font color='red'>Set 2</font> using absolute values of `feature_log_prob_ ` parameter of `MultinomialNB` \n",
    "(https://scikit-learn.org/stable/modules/generated/sklearn.naive_bayes.MultinomialNB.html) and print their corresponding feature names\n",
    "    </li>\n",
    "    <li>You need to summarize the results at the end of the notebook, summarize it in the table format\n",
    "        <img src='http://i.imgur.com/YVpIGGE.jpg' width=400px>\n",
    "    </li>\n",
    "</ol>"
   ]
  },
  {
   "cell_type": "markdown",
   "metadata": {
    "colab_type": "text",
    "id": "inzYCIaib3c3"
   },
   "source": [
    "<h1>2. Naive Bayes </h1>"
   ]
  },
  {
   "cell_type": "markdown",
   "metadata": {
    "colab_type": "text",
    "id": "FYqCIxzFb3c5"
   },
   "source": [
    "## 1.1 Loading Data"
   ]
  },
  {
   "cell_type": "code",
   "execution_count": 953,
   "metadata": {
    "colab": {},
    "colab_type": "code",
    "id": "dA1jknyqb3c_"
   },
   "outputs": [],
   "source": [
    "import pandas\n",
    "data = pandas.read_csv(path+'preprocessed_data.csv',nrows=50000)"
   ]
  },
  {
   "cell_type": "code",
   "execution_count": 954,
   "metadata": {
    "colab": {
     "base_uri": "https://localhost:8080/",
     "height": 202
    },
    "colab_type": "code",
    "id": "5YSJW1KnM4Os",
    "outputId": "56fe3491-67a0-4759-a825-8d28ae6b344b"
   },
   "outputs": [
    {
     "data": {
      "text/html": [
       "<div>\n",
       "<style scoped>\n",
       "    .dataframe tbody tr th:only-of-type {\n",
       "        vertical-align: middle;\n",
       "    }\n",
       "\n",
       "    .dataframe tbody tr th {\n",
       "        vertical-align: top;\n",
       "    }\n",
       "\n",
       "    .dataframe thead th {\n",
       "        text-align: right;\n",
       "    }\n",
       "</style>\n",
       "<table border=\"1\" class=\"dataframe\">\n",
       "  <thead>\n",
       "    <tr style=\"text-align: right;\">\n",
       "      <th></th>\n",
       "      <th>school_state</th>\n",
       "      <th>teacher_prefix</th>\n",
       "      <th>project_grade_category</th>\n",
       "      <th>teacher_number_of_previously_posted_projects</th>\n",
       "      <th>project_is_approved</th>\n",
       "      <th>clean_categories</th>\n",
       "      <th>clean_subcategories</th>\n",
       "      <th>essay</th>\n",
       "      <th>price</th>\n",
       "    </tr>\n",
       "  </thead>\n",
       "  <tbody>\n",
       "    <tr>\n",
       "      <th>0</th>\n",
       "      <td>ca</td>\n",
       "      <td>mrs</td>\n",
       "      <td>grades_prek_2</td>\n",
       "      <td>53</td>\n",
       "      <td>1</td>\n",
       "      <td>math_science</td>\n",
       "      <td>appliedsciences health_lifescience</td>\n",
       "      <td>i fortunate enough use fairy tale stem kits cl...</td>\n",
       "      <td>725.05</td>\n",
       "    </tr>\n",
       "  </tbody>\n",
       "</table>\n",
       "</div>"
      ],
      "text/plain": [
       "  school_state  ...   price\n",
       "0           ca  ...  725.05\n",
       "\n",
       "[1 rows x 9 columns]"
      ]
     },
     "execution_count": 954,
     "metadata": {
      "tags": []
     },
     "output_type": "execute_result"
    }
   ],
   "source": [
    "data.head(1)"
   ]
  },
  {
   "cell_type": "code",
   "execution_count": 955,
   "metadata": {
    "colab": {},
    "colab_type": "code",
    "id": "imTcHfFiMgcw"
   },
   "outputs": [],
   "source": [
    "%matplotlib inline\n",
    "import warnings\n",
    "warnings.filterwarnings(\"ignore\")\n",
    "\n",
    "import pandas as pd\n",
    "import matplotlib.pyplot as plt\n",
    "import numpy as np\n",
    "\n",
    "import re\n",
    "from tqdm import tqdm"
   ]
  },
  {
   "cell_type": "markdown",
   "metadata": {
    "colab_type": "text",
    "id": "WRkwztocT0H9"
   },
   "source": [
    "### 1.1.1 Processing Project Essay."
   ]
  },
  {
   "cell_type": "code",
   "execution_count": 956,
   "metadata": {
    "colab": {},
    "colab_type": "code",
    "id": "nERis3uBVVZE"
   },
   "outputs": [],
   "source": [
    "def decontracted(phrase):\n",
    "    # specific\n",
    "    phrase = re.sub(r\"won't\", \"will not\", phrase)\n",
    "    phrase = re.sub(r\"can\\'t\", \"can not\", phrase)\n",
    "\n",
    "    # general\n",
    "    phrase = re.sub(r\"n\\'t\", \" not\", phrase)\n",
    "    phrase = re.sub(r\"\\'re\", \" are\", phrase)\n",
    "    phrase = re.sub(r\"\\'s\", \" is\", phrase)\n",
    "    phrase = re.sub(r\"\\'d\", \" would\", phrase)\n",
    "    phrase = re.sub(r\"\\'ll\", \" will\", phrase)\n",
    "    phrase = re.sub(r\"\\'t\", \" not\", phrase)\n",
    "    phrase = re.sub(r\"\\'ve\", \" have\", phrase)\n",
    "    phrase = re.sub(r\"\\'m\", \" am\", phrase)\n",
    "    return phrase"
   ]
  },
  {
   "cell_type": "code",
   "execution_count": 957,
   "metadata": {
    "colab": {},
    "colab_type": "code",
    "id": "nWQsQE3AWhio"
   },
   "outputs": [],
   "source": [
    "#https://gist.github.com/sebleier/554280\n",
    "# we are removing the words from the stop words list: 'no', 'nor', 'not'\n",
    "stopwords= ['i', 'me', 'my', 'myself', 'we', 'our', 'ours', 'ourselves', 'you', \"you're\", \"you've\",\\\n",
    "            \"you'll\", \"you'd\", 'your', 'yours', 'yourself', 'yourselves', 'he', 'him', 'his', 'himself', \\\n",
    "            'she', \"she's\", 'her', 'hers', 'herself', 'it', \"it's\", 'its', 'itself', 'they', 'them', 'their',\\\n",
    "            'theirs', 'themselves', 'what', 'which', 'who', 'whom', 'this', 'that', \"that'll\", 'these', 'those', \\\n",
    "            'am', 'is', 'are', 'was', 'were', 'be', 'been', 'being', 'have', 'has', 'had', 'having', 'do', 'does', \\\n",
    "            'did', 'doing', 'a', 'an', 'the', 'and', 'but', 'if', 'or', 'because', 'as', 'until', 'while', 'of', \\\n",
    "            'at', 'by', 'for', 'with', 'about', 'against', 'between', 'into', 'through', 'during', 'before', 'after',\\\n",
    "            'above', 'below', 'to', 'from', 'up', 'down', 'in', 'out', 'on', 'off', 'over', 'under', 'again', 'further',\\\n",
    "            'then', 'once', 'here', 'there', 'when', 'where', 'why', 'how', 'all', 'any', 'both', 'each', 'few', 'more',\\\n",
    "            'most', 'other', 'some', 'such', 'only', 'own', 'same', 'so', 'than', 'too', 'very', \\\n",
    "            's', 't', 'can', 'will', 'just', 'don', \"don't\", 'should', \"should've\", 'now', 'd', 'll', 'm', 'o', 're', \\\n",
    "            've', 'y', 'ain', 'aren', \"aren't\", 'couldn', \"couldn't\", 'didn', \"didn't\", 'doesn', \"doesn't\", 'hadn',\\\n",
    "            \"hadn't\", 'hasn', \"hasn't\", 'haven', \"haven't\", 'isn', \"isn't\", 'ma', 'mightn', \"mightn't\", 'mustn',\\\n",
    "            \"mustn't\", 'needn', \"needn't\", 'shan', \"shan't\", 'shouldn', \"shouldn't\", 'wasn', \"wasn't\", 'weren', \"weren't\", \\\n",
    "            'won', \"won't\", 'wouldn', \"wouldn't\"]"
   ]
  },
  {
   "cell_type": "code",
   "execution_count": 958,
   "metadata": {
    "colab": {},
    "colab_type": "code",
    "id": "maluHsdZWtWn"
   },
   "outputs": [],
   "source": [
    "# Combining all the above stundents \n",
    "from tqdm import tqdm\n",
    "def preprocess_text(text_data):\n",
    "    preprocessed_text = []\n",
    "    # tqdm is for printing the status bar\n",
    "    for sentance in tqdm(text_data):\n",
    "        sent = decontracted(sentance)\n",
    "        sent = sent.replace('\\\\r', ' ')\n",
    "        sent = sent.replace('\\\\n', ' ')\n",
    "        sent = sent.replace('\\\\\"', ' ')\n",
    "        sent = re.sub('[^A-Za-z0-9]+', ' ', sent)\n",
    "        # https://gist.github.com/sebleier/554280\n",
    "        sent = ' '.join(e for e in sent.split() if e.lower() not in stopwords)\n",
    "        preprocessed_text.append(sent.lower().strip())\n",
    "    return preprocessed_text"
   ]
  },
  {
   "cell_type": "code",
   "execution_count": 959,
   "metadata": {
    "colab": {
     "base_uri": "https://localhost:8080/",
     "height": 51
    },
    "colab_type": "code",
    "id": "aqo1kcL5cdJr",
    "outputId": "bb46a371-26a3-4da8-e4f4-3a1e0b9c1ec9"
   },
   "outputs": [
    {
     "data": {
      "text/plain": [
       "0    i fortunate enough use fairy tale stem kits cl...\n",
       "Name: essay, dtype: object"
      ]
     },
     "execution_count": 959,
     "metadata": {
      "tags": []
     },
     "output_type": "execute_result"
    }
   ],
   "source": [
    "data.essay.iloc[:1]"
   ]
  },
  {
   "cell_type": "markdown",
   "metadata": {
    "colab_type": "text",
    "id": "MhGmQwx0b3UW"
   },
   "source": [
    "As there are some stop words present in the text of essay of already preprocessed_data. For example word ` **i** ' is present in the first essay sentence. So, I am processing the essay text again inorder to remove the stop words if there are any by chance and also because  unnecessary stop words increase the dimensionality of the bow/tfidf representation."
   ]
  },
  {
   "cell_type": "code",
   "execution_count": 960,
   "metadata": {
    "colab": {
     "base_uri": "https://localhost:8080/",
     "height": 1000
    },
    "colab_type": "code",
    "id": "1i6WFgkybZiR",
    "outputId": "ecb3c17a-b44d-4b74-dd8a-ed31f33e9a0c"
   },
   "outputs": [
    {
     "name": "stderr",
     "output_type": "stream",
     "text": [
      "\n",
      "  0%|          | 0/50000 [00:00<?, ?it/s]\u001b[A\n",
      "  0%|          | 216/50000 [00:00<00:23, 2151.03it/s]\u001b[A\n",
      "  1%|          | 444/50000 [00:00<00:22, 2187.82it/s]\u001b[A\n",
      "  1%|▏         | 666/50000 [00:00<00:22, 2195.86it/s]\u001b[A\n",
      "  2%|▏         | 866/50000 [00:00<00:23, 2132.10it/s]\u001b[A\n",
      "  2%|▏         | 1083/50000 [00:00<00:22, 2142.45it/s]\u001b[A\n",
      "  3%|▎         | 1318/50000 [00:00<00:22, 2198.07it/s]\u001b[A\n",
      "  3%|▎         | 1533/50000 [00:00<00:22, 2181.44it/s]\u001b[A\n",
      "  4%|▎         | 1761/50000 [00:00<00:21, 2209.47it/s]\u001b[A\n",
      "  4%|▍         | 1972/50000 [00:00<00:22, 2176.45it/s]\u001b[A\n",
      "  4%|▍         | 2201/50000 [00:01<00:21, 2208.03it/s]\u001b[A\n",
      "  5%|▍         | 2418/50000 [00:01<00:21, 2195.22it/s]\u001b[A\n",
      "  5%|▌         | 2643/50000 [00:01<00:21, 2209.62it/s]\u001b[A\n",
      "  6%|▌         | 2862/50000 [00:01<00:21, 2188.60it/s]\u001b[A\n",
      "  6%|▌         | 3079/50000 [00:01<00:22, 2127.02it/s]\u001b[A\n",
      "  7%|▋         | 3308/50000 [00:01<00:21, 2169.64it/s]\u001b[A\n",
      "  7%|▋         | 3525/50000 [00:01<00:21, 2124.05it/s]\u001b[A\n",
      "  7%|▋         | 3738/50000 [00:01<00:22, 2029.68it/s]\u001b[A\n",
      "  8%|▊         | 3973/50000 [00:01<00:21, 2115.00it/s]\u001b[A\n",
      "  8%|▊         | 4203/50000 [00:01<00:21, 2165.51it/s]\u001b[A\n",
      "  9%|▉         | 4450/50000 [00:02<00:20, 2247.35it/s]\u001b[A\n",
      "  9%|▉         | 4679/50000 [00:02<00:20, 2259.23it/s]\u001b[A\n",
      " 10%|▉         | 4924/50000 [00:02<00:19, 2312.40it/s]\u001b[A\n",
      " 10%|█         | 5172/50000 [00:02<00:18, 2360.08it/s]\u001b[A\n",
      " 11%|█         | 5434/50000 [00:02<00:18, 2432.02it/s]\u001b[A\n",
      " 11%|█▏        | 5679/50000 [00:02<00:18, 2419.21it/s]\u001b[A\n",
      " 12%|█▏        | 5933/50000 [00:02<00:17, 2453.01it/s]\u001b[A\n",
      " 12%|█▏        | 6180/50000 [00:02<00:18, 2426.49it/s]\u001b[A\n",
      " 13%|█▎        | 6424/50000 [00:02<00:17, 2423.94it/s]\u001b[A\n",
      " 13%|█▎        | 6667/50000 [00:02<00:18, 2401.06it/s]\u001b[A\n",
      " 14%|█▍        | 6922/50000 [00:03<00:17, 2439.53it/s]\u001b[A\n",
      " 14%|█▍        | 7167/50000 [00:03<00:17, 2423.48it/s]\u001b[A\n",
      " 15%|█▍        | 7410/50000 [00:03<00:17, 2382.44it/s]\u001b[A\n",
      " 15%|█▌        | 7662/50000 [00:03<00:17, 2419.78it/s]\u001b[A\n",
      " 16%|█▌        | 7914/50000 [00:03<00:17, 2448.33it/s]\u001b[A\n",
      " 16%|█▋        | 8167/50000 [00:03<00:16, 2470.08it/s]\u001b[A\n",
      " 17%|█▋        | 8424/50000 [00:03<00:16, 2497.94it/s]\u001b[A\n",
      " 17%|█▋        | 8675/50000 [00:03<00:17, 2420.13it/s]\u001b[A\n",
      " 18%|█▊        | 8918/50000 [00:03<00:16, 2422.87it/s]\u001b[A\n",
      " 18%|█▊        | 9161/50000 [00:03<00:17, 2379.13it/s]\u001b[A\n",
      " 19%|█▉        | 9405/50000 [00:04<00:16, 2394.77it/s]\u001b[A\n",
      " 19%|█▉        | 9645/50000 [00:04<00:17, 2367.57it/s]\u001b[A\n",
      " 20%|█▉        | 9884/50000 [00:04<00:16, 2371.07it/s]\u001b[A\n",
      " 20%|██        | 10122/50000 [00:04<00:17, 2312.96it/s]\u001b[A\n",
      " 21%|██        | 10354/50000 [00:04<00:17, 2284.68it/s]\u001b[A\n",
      " 21%|██        | 10583/50000 [00:04<00:17, 2243.45it/s]\u001b[A\n",
      " 22%|██▏       | 10812/50000 [00:04<00:17, 2252.51it/s]\u001b[A\n",
      " 22%|██▏       | 11038/50000 [00:04<00:17, 2244.38it/s]\u001b[A\n",
      " 23%|██▎       | 11263/50000 [00:04<00:17, 2223.71it/s]\u001b[A\n",
      " 23%|██▎       | 11486/50000 [00:05<00:17, 2179.04it/s]\u001b[A\n",
      " 23%|██▎       | 11705/50000 [00:05<00:17, 2174.59it/s]\u001b[A\n",
      " 24%|██▍       | 11946/50000 [00:05<00:16, 2239.01it/s]\u001b[A\n",
      " 24%|██▍       | 12171/50000 [00:05<00:16, 2242.11it/s]\u001b[A\n",
      " 25%|██▍       | 12396/50000 [00:05<00:17, 2149.36it/s]\u001b[A\n",
      " 25%|██▌       | 12613/50000 [00:05<00:17, 2139.17it/s]\u001b[A\n",
      " 26%|██▌       | 12837/50000 [00:05<00:17, 2167.87it/s]\u001b[A\n",
      " 26%|██▌       | 13064/50000 [00:05<00:16, 2195.04it/s]\u001b[A\n",
      " 27%|██▋       | 13285/50000 [00:05<00:17, 2157.49it/s]\u001b[A\n",
      " 27%|██▋       | 13502/50000 [00:05<00:17, 2133.09it/s]\u001b[A\n",
      " 27%|██▋       | 13716/50000 [00:06<00:17, 2098.88it/s]\u001b[A\n",
      " 28%|██▊       | 13940/50000 [00:06<00:16, 2136.97it/s]\u001b[A\n",
      " 28%|██▊       | 14170/50000 [00:06<00:16, 2182.49it/s]\u001b[A\n",
      " 29%|██▉       | 14405/50000 [00:06<00:15, 2229.41it/s]\u001b[A\n",
      " 29%|██▉       | 14632/50000 [00:06<00:15, 2238.79it/s]\u001b[A\n",
      " 30%|██▉       | 14879/50000 [00:06<00:15, 2301.60it/s]\u001b[A\n",
      " 30%|███       | 15120/50000 [00:06<00:14, 2331.74it/s]\u001b[A\n",
      " 31%|███       | 15364/50000 [00:06<00:14, 2361.56it/s]\u001b[A\n",
      " 31%|███       | 15617/50000 [00:06<00:14, 2408.59it/s]\u001b[A\n",
      " 32%|███▏      | 15860/50000 [00:06<00:14, 2413.02it/s]\u001b[A\n",
      " 32%|███▏      | 16102/50000 [00:07<00:14, 2411.35it/s]\u001b[A\n",
      " 33%|███▎      | 16358/50000 [00:07<00:13, 2454.01it/s]\u001b[A\n",
      " 33%|███▎      | 16609/50000 [00:07<00:13, 2468.97it/s]\u001b[A\n",
      " 34%|███▎      | 16857/50000 [00:07<00:13, 2460.34it/s]\u001b[A\n",
      " 34%|███▍      | 17109/50000 [00:07<00:13, 2477.51it/s]\u001b[A\n",
      " 35%|███▍      | 17360/50000 [00:07<00:13, 2484.20it/s]\u001b[A\n",
      " 35%|███▌      | 17609/50000 [00:07<00:13, 2478.12it/s]\u001b[A\n",
      " 36%|███▌      | 17859/50000 [00:07<00:12, 2483.15it/s]\u001b[A\n",
      " 36%|███▌      | 18108/50000 [00:07<00:12, 2457.34it/s]\u001b[A\n",
      " 37%|███▋      | 18356/50000 [00:07<00:12, 2462.63it/s]\u001b[A\n",
      " 37%|███▋      | 18603/50000 [00:08<00:12, 2431.26it/s]\u001b[A\n",
      " 38%|███▊      | 18847/50000 [00:08<00:12, 2414.36it/s]\u001b[A\n",
      " 38%|███▊      | 19098/50000 [00:08<00:12, 2441.33it/s]\u001b[A\n",
      " 39%|███▊      | 19352/50000 [00:08<00:12, 2468.48it/s]\u001b[A\n",
      " 39%|███▉      | 19600/50000 [00:08<00:12, 2459.80it/s]\u001b[A\n",
      " 40%|███▉      | 19851/50000 [00:08<00:12, 2473.36it/s]\u001b[A\n",
      " 40%|████      | 20099/50000 [00:08<00:12, 2380.94it/s]\u001b[A\n",
      " 41%|████      | 20338/50000 [00:08<00:12, 2378.55it/s]\u001b[A\n",
      " 41%|████      | 20578/50000 [00:08<00:12, 2383.62it/s]\u001b[A\n",
      " 42%|████▏     | 20817/50000 [00:08<00:12, 2381.29it/s]\u001b[A\n",
      " 42%|████▏     | 21056/50000 [00:09<00:12, 2351.35it/s]\u001b[A\n",
      " 43%|████▎     | 21294/50000 [00:09<00:12, 2359.62it/s]\u001b[A\n",
      " 43%|████▎     | 21531/50000 [00:09<00:12, 2320.54it/s]\u001b[A\n",
      " 44%|████▎     | 21764/50000 [00:09<00:12, 2275.55it/s]\u001b[A\n",
      " 44%|████▍     | 21993/50000 [00:09<00:12, 2277.39it/s]\u001b[A\n",
      " 44%|████▍     | 22222/50000 [00:09<00:12, 2251.55it/s]\u001b[A\n",
      " 45%|████▍     | 22448/50000 [00:09<00:12, 2195.92it/s]\u001b[A\n",
      " 45%|████▌     | 22670/50000 [00:09<00:12, 2201.44it/s]\u001b[A\n",
      " 46%|████▌     | 22891/50000 [00:09<00:12, 2199.28it/s]\u001b[A\n",
      " 46%|████▌     | 23112/50000 [00:10<00:12, 2130.11it/s]\u001b[A\n",
      " 47%|████▋     | 23326/50000 [00:10<00:12, 2113.05it/s]\u001b[A\n",
      " 47%|████▋     | 23544/50000 [00:10<00:12, 2131.53it/s]\u001b[A\n",
      " 48%|████▊     | 23782/50000 [00:10<00:11, 2198.72it/s]\u001b[A\n",
      " 48%|████▊     | 24017/50000 [00:10<00:11, 2241.03it/s]\u001b[A\n",
      " 49%|████▊     | 24265/50000 [00:10<00:11, 2307.02it/s]\u001b[A\n",
      " 49%|████▉     | 24501/50000 [00:10<00:10, 2322.61it/s]\u001b[A\n",
      " 50%|████▉     | 24756/50000 [00:10<00:10, 2383.19it/s]\u001b[A\n",
      " 50%|█████     | 25003/50000 [00:10<00:10, 2408.09it/s]\u001b[A\n",
      " 50%|█████     | 25245/50000 [00:10<00:10, 2407.95it/s]\u001b[A\n",
      " 51%|█████     | 25487/50000 [00:11<00:10, 2245.54it/s]\u001b[A\n",
      " 51%|█████▏    | 25715/50000 [00:11<00:10, 2249.64it/s]\u001b[A\n",
      " 52%|█████▏    | 25944/50000 [00:11<00:10, 2258.01it/s]\u001b[A\n",
      " 52%|█████▏    | 26185/50000 [00:11<00:10, 2299.98it/s]\u001b[A\n",
      " 53%|█████▎    | 26430/50000 [00:11<00:10, 2340.93it/s]\u001b[A\n",
      " 53%|█████▎    | 26666/50000 [00:11<00:10, 2328.52it/s]\u001b[A\n",
      " 54%|█████▍    | 26906/50000 [00:11<00:09, 2347.16it/s]\u001b[A\n",
      " 54%|█████▍    | 27142/50000 [00:11<00:09, 2329.14it/s]\u001b[A\n",
      " 55%|█████▍    | 27376/50000 [00:11<00:09, 2324.98it/s]\u001b[A\n",
      " 55%|█████▌    | 27609/50000 [00:11<00:09, 2324.59it/s]\u001b[A\n",
      " 56%|█████▌    | 27854/50000 [00:12<00:09, 2359.41it/s]\u001b[A\n",
      " 56%|█████▌    | 28091/50000 [00:12<00:09, 2345.72it/s]\u001b[A\n",
      " 57%|█████▋    | 28329/50000 [00:12<00:09, 2354.99it/s]\u001b[A\n",
      " 57%|█████▋    | 28574/50000 [00:12<00:08, 2381.52it/s]\u001b[A\n",
      " 58%|█████▊    | 28816/50000 [00:12<00:08, 2388.69it/s]\u001b[A\n",
      " 58%|█████▊    | 29060/50000 [00:12<00:08, 2401.84it/s]\u001b[A\n",
      " 59%|█████▊    | 29301/50000 [00:12<00:08, 2383.48it/s]\u001b[A\n",
      " 59%|█████▉    | 29550/50000 [00:12<00:08, 2413.39it/s]\u001b[A\n",
      " 60%|█████▉    | 29792/50000 [00:12<00:08, 2415.13it/s]\u001b[A\n",
      " 60%|██████    | 30042/50000 [00:12<00:08, 2439.11it/s]\u001b[A\n",
      " 61%|██████    | 30287/50000 [00:13<00:08, 2415.73it/s]\u001b[A\n",
      " 61%|██████    | 30529/50000 [00:13<00:08, 2359.40it/s]\u001b[A\n",
      " 62%|██████▏   | 30766/50000 [00:13<00:08, 2344.26it/s]\u001b[A\n",
      " 62%|██████▏   | 31001/50000 [00:13<00:08, 2309.95it/s]\u001b[A\n",
      " 62%|██████▏   | 31233/50000 [00:13<00:08, 2284.11it/s]\u001b[A\n",
      " 63%|██████▎   | 31462/50000 [00:13<00:08, 2262.11it/s]\u001b[A\n",
      " 63%|██████▎   | 31692/50000 [00:13<00:08, 2272.26it/s]\u001b[A\n",
      " 64%|██████▍   | 31929/50000 [00:13<00:07, 2300.20it/s]\u001b[A\n",
      " 64%|██████▍   | 32160/50000 [00:13<00:07, 2261.77it/s]\u001b[A\n",
      " 65%|██████▍   | 32403/50000 [00:14<00:07, 2306.01it/s]\u001b[A\n",
      " 65%|██████▌   | 32635/50000 [00:14<00:07, 2261.82it/s]\u001b[A\n",
      " 66%|██████▌   | 32862/50000 [00:14<00:07, 2240.90it/s]\u001b[A\n",
      " 66%|██████▌   | 33110/50000 [00:14<00:07, 2306.33it/s]\u001b[A\n",
      " 67%|██████▋   | 33354/50000 [00:14<00:07, 2343.79it/s]\u001b[A\n",
      " 67%|██████▋   | 33613/50000 [00:14<00:06, 2410.85it/s]\u001b[A\n",
      " 68%|██████▊   | 33859/50000 [00:14<00:06, 2423.81it/s]\u001b[A\n",
      " 68%|██████▊   | 34103/50000 [00:14<00:06, 2420.99it/s]\u001b[A\n",
      " 69%|██████▊   | 34346/50000 [00:14<00:06, 2417.95it/s]\u001b[A\n",
      " 69%|██████▉   | 34589/50000 [00:14<00:06, 2410.08it/s]\u001b[A\n",
      " 70%|██████▉   | 34833/50000 [00:15<00:06, 2418.87it/s]\u001b[A\n",
      " 70%|███████   | 35076/50000 [00:15<00:06, 2410.53it/s]\u001b[A\n",
      " 71%|███████   | 35318/50000 [00:15<00:06, 2403.63it/s]\u001b[A\n",
      " 71%|███████   | 35559/50000 [00:15<00:06, 2345.13it/s]\u001b[A\n",
      " 72%|███████▏  | 35794/50000 [00:15<00:06, 2328.27it/s]\u001b[A\n",
      " 72%|███████▏  | 36028/50000 [00:15<00:06, 2304.53it/s]\u001b[A\n",
      " 73%|███████▎  | 36261/50000 [00:15<00:05, 2311.43it/s]\u001b[A\n",
      " 73%|███████▎  | 36493/50000 [00:15<00:05, 2252.79it/s]\u001b[A\n",
      " 73%|███████▎  | 36721/50000 [00:15<00:05, 2260.39it/s]\u001b[A\n",
      " 74%|███████▍  | 36948/50000 [00:15<00:05, 2259.96it/s]\u001b[A\n",
      " 74%|███████▍  | 37175/50000 [00:16<00:05, 2234.77it/s]\u001b[A\n",
      " 75%|███████▍  | 37399/50000 [00:16<00:05, 2149.67it/s]\u001b[A\n",
      " 75%|███████▌  | 37631/50000 [00:16<00:05, 2195.60it/s]\u001b[A\n",
      " 76%|███████▌  | 37880/50000 [00:16<00:05, 2274.62it/s]\u001b[A\n",
      " 76%|███████▋  | 38130/50000 [00:16<00:05, 2337.48it/s]\u001b[A\n",
      " 77%|███████▋  | 38370/50000 [00:16<00:04, 2355.62it/s]\u001b[A\n",
      " 77%|███████▋  | 38607/50000 [00:16<00:04, 2345.88it/s]\u001b[A\n",
      " 78%|███████▊  | 38843/50000 [00:16<00:04, 2317.15it/s]\u001b[A\n",
      " 78%|███████▊  | 39076/50000 [00:16<00:04, 2313.95it/s]\u001b[A\n",
      " 79%|███████▊  | 39324/50000 [00:16<00:04, 2360.61it/s]\u001b[A\n",
      " 79%|███████▉  | 39578/50000 [00:17<00:04, 2410.87it/s]\u001b[A\n",
      " 80%|███████▉  | 39820/50000 [00:17<00:04, 2376.18it/s]\u001b[A\n",
      " 80%|████████  | 40059/50000 [00:17<00:04, 2323.73it/s]\u001b[A\n",
      " 81%|████████  | 40293/50000 [00:17<00:04, 2306.96it/s]\u001b[A\n",
      " 81%|████████  | 40525/50000 [00:17<00:04, 2295.26it/s]\u001b[A\n",
      " 82%|████████▏ | 40766/50000 [00:17<00:03, 2325.78it/s]\u001b[A\n",
      " 82%|████████▏ | 41004/50000 [00:17<00:03, 2341.60it/s]\u001b[A\n",
      " 82%|████████▏ | 41242/50000 [00:17<00:03, 2351.19it/s]\u001b[A\n",
      " 83%|████████▎ | 41495/50000 [00:17<00:03, 2401.54it/s]\u001b[A\n",
      " 84%|████████▎ | 41752/50000 [00:18<00:03, 2447.92it/s]\u001b[A\n",
      " 84%|████████▍ | 42005/50000 [00:18<00:03, 2471.54it/s]\u001b[A\n",
      " 85%|████████▍ | 42253/50000 [00:18<00:03, 2423.51it/s]\u001b[A\n",
      " 85%|████████▍ | 42496/50000 [00:18<00:03, 2294.65it/s]\u001b[A\n",
      " 86%|████████▌ | 42752/50000 [00:18<00:03, 2366.36it/s]\u001b[A\n",
      " 86%|████████▌ | 42991/50000 [00:18<00:02, 2347.80it/s]\u001b[A\n",
      " 86%|████████▋ | 43228/50000 [00:18<00:02, 2342.18it/s]\u001b[A\n",
      " 87%|████████▋ | 43474/50000 [00:18<00:02, 2375.51it/s]\u001b[A\n",
      " 87%|████████▋ | 43716/50000 [00:18<00:02, 2386.43it/s]\u001b[A\n",
      " 88%|████████▊ | 43962/50000 [00:18<00:02, 2407.54it/s]\u001b[A\n",
      " 88%|████████▊ | 44226/50000 [00:19<00:02, 2472.60it/s]\u001b[A\n",
      " 89%|████████▉ | 44478/50000 [00:19<00:02, 2485.87it/s]\u001b[A\n",
      " 89%|████████▉ | 44728/50000 [00:19<00:02, 2453.97it/s]\u001b[A\n",
      " 90%|████████▉ | 44974/50000 [00:19<00:02, 2389.51it/s]\u001b[A\n",
      " 90%|█████████ | 45214/50000 [00:19<00:02, 2361.05it/s]\u001b[A\n",
      " 91%|█████████ | 45451/50000 [00:19<00:01, 2346.04it/s]\u001b[A\n",
      " 91%|█████████▏| 45692/50000 [00:19<00:01, 2362.92it/s]\u001b[A\n",
      " 92%|█████████▏| 45929/50000 [00:19<00:01, 2283.35it/s]\u001b[A\n",
      " 92%|█████████▏| 46162/50000 [00:19<00:01, 2295.58it/s]\u001b[A\n",
      " 93%|█████████▎| 46393/50000 [00:19<00:01, 2270.35it/s]\u001b[A\n",
      " 93%|█████████▎| 46621/50000 [00:20<00:01, 2257.77it/s]\u001b[A\n",
      " 94%|█████████▎| 46848/50000 [00:20<00:01, 2176.80it/s]\u001b[A\n",
      " 94%|█████████▍| 47067/50000 [00:20<00:01, 2131.46it/s]\u001b[A\n",
      " 95%|█████████▍| 47300/50000 [00:20<00:01, 2185.59it/s]\u001b[A\n",
      " 95%|█████████▌| 47520/50000 [00:20<00:01, 2176.13it/s]\u001b[A\n",
      " 96%|█████████▌| 47758/50000 [00:20<00:01, 2231.18it/s]\u001b[A\n",
      " 96%|█████████▌| 47983/50000 [00:20<00:00, 2234.81it/s]\u001b[A\n",
      " 96%|█████████▋| 48208/50000 [00:20<00:00, 2219.03it/s]\u001b[A\n",
      " 97%|█████████▋| 48431/50000 [00:20<00:00, 2194.89it/s]\u001b[A\n",
      " 97%|█████████▋| 48668/50000 [00:21<00:00, 2243.73it/s]\u001b[A\n",
      " 98%|█████████▊| 48911/50000 [00:21<00:00, 2295.67it/s]\u001b[A\n",
      " 98%|█████████▊| 49142/50000 [00:21<00:00, 2294.37it/s]\u001b[A\n",
      " 99%|█████████▊| 49372/50000 [00:21<00:00, 2282.61it/s]\u001b[A\n",
      " 99%|█████████▉| 49608/50000 [00:21<00:00, 2302.77it/s]\u001b[A\n",
      "100%|██████████| 50000/50000 [00:21<00:00, 2318.36it/s]\n"
     ]
    }
   ],
   "source": [
    "data['essay'] = preprocess_text(data['essay'].values)"
   ]
  },
  {
   "cell_type": "code",
   "execution_count": 961,
   "metadata": {
    "colab": {
     "base_uri": "https://localhost:8080/",
     "height": 51
    },
    "colab_type": "code",
    "id": "RLHo7y8EaxcC",
    "outputId": "9268c11d-53b6-41ef-f6a5-ff32881b4165"
   },
   "outputs": [
    {
     "data": {
      "text/plain": [
       "0    fortunate enough use fairy tale stem kits clas...\n",
       "Name: essay, dtype: object"
      ]
     },
     "execution_count": 961,
     "metadata": {
      "tags": []
     },
     "output_type": "execute_result"
    }
   ],
   "source": [
    "data.essay.iloc[:1]"
   ]
  },
  {
   "cell_type": "code",
   "execution_count": 962,
   "metadata": {
    "colab": {
     "base_uri": "https://localhost:8080/",
     "height": 185
    },
    "colab_type": "code",
    "id": "NEuFvznZXs2H",
    "outputId": "41cb44b1-ddc4-460c-904b-9f912f6a0665"
   },
   "outputs": [
    {
     "data": {
      "text/html": [
       "<div>\n",
       "<style scoped>\n",
       "    .dataframe tbody tr th:only-of-type {\n",
       "        vertical-align: middle;\n",
       "    }\n",
       "\n",
       "    .dataframe tbody tr th {\n",
       "        vertical-align: top;\n",
       "    }\n",
       "\n",
       "    .dataframe thead th {\n",
       "        text-align: right;\n",
       "    }\n",
       "</style>\n",
       "<table border=\"1\" class=\"dataframe\">\n",
       "  <thead>\n",
       "    <tr style=\"text-align: right;\">\n",
       "      <th></th>\n",
       "      <th>school_state</th>\n",
       "      <th>teacher_prefix</th>\n",
       "      <th>project_grade_category</th>\n",
       "      <th>teacher_number_of_previously_posted_projects</th>\n",
       "      <th>project_is_approved</th>\n",
       "      <th>clean_categories</th>\n",
       "      <th>clean_subcategories</th>\n",
       "      <th>essay</th>\n",
       "      <th>price</th>\n",
       "    </tr>\n",
       "  </thead>\n",
       "  <tbody>\n",
       "    <tr>\n",
       "      <th>0</th>\n",
       "      <td>ca</td>\n",
       "      <td>mrs</td>\n",
       "      <td>grades_prek_2</td>\n",
       "      <td>53</td>\n",
       "      <td>1</td>\n",
       "      <td>math_science</td>\n",
       "      <td>appliedsciences health_lifescience</td>\n",
       "      <td>fortunate enough use fairy tale stem kits clas...</td>\n",
       "      <td>725.05</td>\n",
       "    </tr>\n",
       "  </tbody>\n",
       "</table>\n",
       "</div>"
      ],
      "text/plain": [
       "  school_state  ...   price\n",
       "0           ca  ...  725.05\n",
       "\n",
       "[1 rows x 9 columns]"
      ]
     },
     "execution_count": 962,
     "metadata": {
      "tags": []
     },
     "output_type": "execute_result"
    }
   ],
   "source": [
    "data.head(1)"
   ]
  },
  {
   "cell_type": "markdown",
   "metadata": {
    "colab_type": "text",
    "id": "sqyTE1zmVKzN"
   },
   "source": [
    "### 1.1.2 Loading data after processing  essay "
   ]
  },
  {
   "cell_type": "code",
   "execution_count": 963,
   "metadata": {
    "colab": {},
    "colab_type": "code",
    "id": "d8TbPDdiX1jg"
   },
   "outputs": [],
   "source": [
    "Y=data['project_is_approved']       \n",
    "X=data.drop('project_is_approved',axis=1)"
   ]
  },
  {
   "cell_type": "code",
   "execution_count": 964,
   "metadata": {
    "colab": {
     "base_uri": "https://localhost:8080/",
     "height": 185
    },
    "colab_type": "code",
    "id": "wE-mGZVTkLxB",
    "outputId": "c493b1f1-ec3d-4b11-d829-889f6bb830b4"
   },
   "outputs": [
    {
     "data": {
      "text/html": [
       "<div>\n",
       "<style scoped>\n",
       "    .dataframe tbody tr th:only-of-type {\n",
       "        vertical-align: middle;\n",
       "    }\n",
       "\n",
       "    .dataframe tbody tr th {\n",
       "        vertical-align: top;\n",
       "    }\n",
       "\n",
       "    .dataframe thead th {\n",
       "        text-align: right;\n",
       "    }\n",
       "</style>\n",
       "<table border=\"1\" class=\"dataframe\">\n",
       "  <thead>\n",
       "    <tr style=\"text-align: right;\">\n",
       "      <th></th>\n",
       "      <th>school_state</th>\n",
       "      <th>teacher_prefix</th>\n",
       "      <th>project_grade_category</th>\n",
       "      <th>teacher_number_of_previously_posted_projects</th>\n",
       "      <th>clean_categories</th>\n",
       "      <th>clean_subcategories</th>\n",
       "      <th>essay</th>\n",
       "      <th>price</th>\n",
       "    </tr>\n",
       "  </thead>\n",
       "  <tbody>\n",
       "    <tr>\n",
       "      <th>0</th>\n",
       "      <td>ca</td>\n",
       "      <td>mrs</td>\n",
       "      <td>grades_prek_2</td>\n",
       "      <td>53</td>\n",
       "      <td>math_science</td>\n",
       "      <td>appliedsciences health_lifescience</td>\n",
       "      <td>fortunate enough use fairy tale stem kits clas...</td>\n",
       "      <td>725.05</td>\n",
       "    </tr>\n",
       "  </tbody>\n",
       "</table>\n",
       "</div>"
      ],
      "text/plain": [
       "  school_state  ...   price\n",
       "0           ca  ...  725.05\n",
       "\n",
       "[1 rows x 8 columns]"
      ]
     },
     "execution_count": 964,
     "metadata": {
      "tags": []
     },
     "output_type": "execute_result"
    }
   ],
   "source": [
    "X.head(1)"
   ]
  },
  {
   "cell_type": "markdown",
   "metadata": {
    "colab_type": "text",
    "id": "WtVV13Fyb3dH"
   },
   "source": [
    "<h2>1.2 Splitting data into Train and cross validation(or test): Stratified Sampling</h2>"
   ]
  },
  {
   "cell_type": "code",
   "execution_count": 965,
   "metadata": {
    "colab": {},
    "colab_type": "code",
    "id": "i-PyprDNb3dI"
   },
   "outputs": [],
   "source": [
    "# please write all the code with proper documentation, and proper titles for each subsection\n",
    "# go through documentations and blogs before you start coding\n",
    "# first figure out what to do, and then think about how to do.\n",
    "# reading and understanding error messages will be very much helpfull in debugging your code\n",
    "# when you plot any graph make sure you use \n",
    "    # a. Title, that describes your plot, this will be very helpful to the reader\n",
    "    # b. Legends if needed\n",
    "    # c. X-axis label\n",
    "    # d. Y-axis label\n",
    "from sklearn.model_selection import train_test_split\n",
    "\n",
    "X_tr,X_te,Y_tr,Y_te = train_test_split(X,Y,test_size=0.33, stratify=Y, random_state=10)"
   ]
  },
  {
   "cell_type": "code",
   "execution_count": 966,
   "metadata": {
    "colab": {
     "base_uri": "https://localhost:8080/",
     "height": 34
    },
    "colab_type": "code",
    "id": "suS_QAHdldJ5",
    "outputId": "feca189a-0ad4-4ebc-b8bf-bba93c241144"
   },
   "outputs": [
    {
     "name": "stdout",
     "output_type": "stream",
     "text": [
      "(33500, 8) (33500,) (16500, 8) (16500,) "
     ]
    }
   ],
   "source": [
    "print(X_tr.shape,Y_tr.shape,X_te.shape,Y_te.shape,end=\" \")"
   ]
  },
  {
   "cell_type": "code",
   "execution_count": 967,
   "metadata": {
    "colab": {},
    "colab_type": "code",
    "id": "-W-ZJxbXmCMm"
   },
   "outputs": [],
   "source": [
    "X_train,X_cv,Y_train,Y_cv = train_test_split(X_tr,Y_tr,test_size=0.33, stratify=Y_tr, random_state=10)"
   ]
  },
  {
   "cell_type": "code",
   "execution_count": 968,
   "metadata": {
    "colab": {
     "base_uri": "https://localhost:8080/",
     "height": 34
    },
    "colab_type": "code",
    "id": "1CjqYeX_mPG3",
    "outputId": "598b8d73-7c8d-4198-cc7e-5a706502eaff"
   },
   "outputs": [
    {
     "name": "stdout",
     "output_type": "stream",
     "text": [
      "(22445, 8) (22445,) (11055, 8) (11055,) "
     ]
    }
   ],
   "source": [
    "print(X_train.shape,Y_train.shape,X_cv.shape,Y_cv.shape,end=\" \")"
   ]
  },
  {
   "cell_type": "markdown",
   "metadata": {
    "colab_type": "text",
    "id": "EnZwVNULb3dO"
   },
   "source": [
    "<h2>1.3 Make Data Model Ready: encoding project essay </h2>"
   ]
  },
  {
   "cell_type": "code",
   "execution_count": 969,
   "metadata": {
    "colab": {},
    "colab_type": "code",
    "id": "-SczZKiab3dR"
   },
   "outputs": [],
   "source": [
    "# please write all the code with proper documentation, and proper titles for each subsection\n",
    "# go through documentations and blogs before you start coding\n",
    "# first figure out what to do, and then think about how to do.\n",
    "# reading and understanding error messages will be very much helpfull in debugging your code\n",
    "# make sure you featurize train and test data separatly\n",
    "\n",
    "# when you plot any graph make sure you use \n",
    "    # a. Title, that describes your plot, this will be very helpful to the reader\n",
    "    # b. Legends if needed\n",
    "    # c. X-axis label\n",
    "    # d. Y-axis label"
   ]
  },
  {
   "cell_type": "markdown",
   "metadata": {
    "colab_type": "text",
    "id": "crdIxCv9XMr_"
   },
   "source": [
    "### 1.3.1 BOW Representation of essay."
   ]
  },
  {
   "cell_type": "code",
   "execution_count": 970,
   "metadata": {
    "colab": {},
    "colab_type": "code",
    "id": "QQSJvrpAeHSc"
   },
   "outputs": [],
   "source": [
    "features_inorder_bow = []\n",
    "features_inorder_tfidf = []"
   ]
  },
  {
   "cell_type": "code",
   "execution_count": 971,
   "metadata": {
    "colab": {},
    "colab_type": "code",
    "id": "50rzpUVaXaxe"
   },
   "outputs": [],
   "source": [
    "from sklearn.feature_extraction.text import CountVectorizer\n",
    "\n",
    "vectorizer = CountVectorizer(min_df=10,ngram_range=(1,4))\n",
    "vectorizer.fit(X_train['essay'].values)\n",
    "\n",
    "essay_tr_bow = vectorizer.transform(X_train['essay'].values)\n",
    "essay_cv_bow = vectorizer.transform(X_cv['essay'].values)\n",
    "essay_te_bow = vectorizer.transform(X_te['essay'].values)"
   ]
  },
  {
   "cell_type": "code",
   "execution_count": 972,
   "metadata": {
    "colab": {
     "base_uri": "https://localhost:8080/",
     "height": 34
    },
    "colab_type": "code",
    "id": "bfApvDTZaf2O",
    "outputId": "9cb2fd42-b31a-4d29-e3b1-5f50b023172b"
   },
   "outputs": [
    {
     "name": "stdout",
     "output_type": "stream",
     "text": [
      "(22445, 65226) (11055, 65226) (16500, 65226) "
     ]
    }
   ],
   "source": [
    "print(essay_tr_bow.shape,essay_cv_bow.shape,essay_te_bow.shape,end=\" \")"
   ]
  },
  {
   "cell_type": "code",
   "execution_count": 973,
   "metadata": {
    "colab": {
     "base_uri": "https://localhost:8080/",
     "height": 34
    },
    "colab_type": "code",
    "id": "gXm76a4bltrf",
    "outputId": "61d2147f-2e2f-45e7-ffba-7497df890283"
   },
   "outputs": [
    {
     "name": "stdout",
     "output_type": "stream",
     "text": [
      "65226\n"
     ]
    }
   ],
   "source": [
    "features_inorder_bow.extend(list(vectorizer.get_feature_names()))\n",
    "print(len(features_inorder_bow))"
   ]
  },
  {
   "cell_type": "markdown",
   "metadata": {
    "colab_type": "text",
    "id": "-velERStcGQf"
   },
   "source": [
    "### 1.3.2 TFIDF Representation of essay and title."
   ]
  },
  {
   "cell_type": "code",
   "execution_count": 974,
   "metadata": {
    "colab": {},
    "colab_type": "code",
    "id": "JvplRdEdcRbi"
   },
   "outputs": [],
   "source": [
    "from sklearn.feature_extraction.text import TfidfVectorizer\n",
    "\n",
    "vectorizer = TfidfVectorizer(min_df=10,ngram_range=(1,4))\n",
    "vectorizer.fit(X_train['essay'].values)\n",
    "\n",
    "essay_tr_tfidf = vectorizer.transform(X_train['essay'].values)\n",
    "essay_cv_tfidf = vectorizer.transform(X_cv['essay'].values)\n",
    "essay_te_tfidf = vectorizer.transform(X_te['essay'].values)\n"
   ]
  },
  {
   "cell_type": "code",
   "execution_count": 975,
   "metadata": {
    "colab": {
     "base_uri": "https://localhost:8080/",
     "height": 34
    },
    "colab_type": "code",
    "id": "p7KNM3yZdpYN",
    "outputId": "444957e8-b17d-4eae-f8a7-1ff056e5605c"
   },
   "outputs": [
    {
     "name": "stdout",
     "output_type": "stream",
     "text": [
      "(22445, 65226) (11055, 65226) (16500, 65226) "
     ]
    }
   ],
   "source": [
    "print(essay_tr_tfidf.shape,essay_cv_tfidf.shape,essay_te_tfidf.shape,end=\" \")"
   ]
  },
  {
   "cell_type": "code",
   "execution_count": 976,
   "metadata": {
    "colab": {
     "base_uri": "https://localhost:8080/",
     "height": 34
    },
    "colab_type": "code",
    "id": "XGdI6E7afRLC",
    "outputId": "f18c8c10-719c-4afa-e67a-73bf1bd7f387"
   },
   "outputs": [
    {
     "name": "stdout",
     "output_type": "stream",
     "text": [
      "65226\n"
     ]
    }
   ],
   "source": [
    "# As the feature names for essay and their order will be same for both bow and tfidf representation. \n",
    "\n",
    "features_inorder_tfidf.extend(list(vectorizer.get_feature_names()))\n",
    "print(len(features_inorder_tfidf))\n",
    "#print(features_inorder)"
   ]
  },
  {
   "cell_type": "markdown",
   "metadata": {
    "colab_type": "text",
    "id": "bGy86kgHb3dX"
   },
   "source": [
    "<h2>1.4 Make Data Model Ready: encoding numerical, categorical features</h2>"
   ]
  },
  {
   "cell_type": "code",
   "execution_count": 977,
   "metadata": {
    "colab": {},
    "colab_type": "code",
    "id": "EfXkofX1b3da"
   },
   "outputs": [],
   "source": [
    "# please write all the code with proper documentation, and proper titles for each subsection\n",
    "# go through documentations and blogs before you start coding \n",
    "# first figure out what to do, and then think about how to do.\n",
    "# reading and understanding error messages will be very much helpfull in debugging your code\n",
    "# make sure you featurize train and test data separatly\n",
    "\n",
    "# when you plot any graph make sure you use \n",
    "    # a. Title, that describes your plot, this will be very helpful to the reader\n",
    "    # b. Legends if needed\n",
    "    # c. X-axis label\n",
    "    # d. Y-axis label"
   ]
  },
  {
   "cell_type": "markdown",
   "metadata": {
    "colab_type": "text",
    "id": "nXjPN7OceP_W"
   },
   "source": [
    "### 1.4.1 Encoding Categorical features\n",
    "  "
   ]
  },
  {
   "cell_type": "code",
   "execution_count": 978,
   "metadata": {
    "colab": {
     "base_uri": "https://localhost:8080/",
     "height": 85
    },
    "colab_type": "code",
    "id": "-H4Vb8PTeNDk",
    "outputId": "41410048-2601-42cc-db6f-7f05fa294df9"
   },
   "outputs": [
    {
     "data": {
      "text/plain": [
       "Index(['school_state', 'teacher_prefix', 'project_grade_category',\n",
       "       'teacher_number_of_previously_posted_projects', 'project_is_approved',\n",
       "       'clean_categories', 'clean_subcategories', 'essay', 'price'],\n",
       "      dtype='object')"
      ]
     },
     "execution_count": 978,
     "metadata": {
      "tags": []
     },
     "output_type": "execute_result"
    }
   ],
   "source": [
    "data.columns"
   ]
  },
  {
   "cell_type": "markdown",
   "metadata": {
    "colab_type": "text",
    "id": "pAA8I3Iqqrww"
   },
   "source": [
    "#### School State"
   ]
  },
  {
   "cell_type": "code",
   "execution_count": 979,
   "metadata": {
    "colab": {},
    "colab_type": "code",
    "id": "kH_ULi7geNsA"
   },
   "outputs": [],
   "source": [
    "from sklearn.feature_extraction.text import CountVectorizer\n",
    "\n",
    "vectorizer = CountVectorizer()\n",
    "vectorizer.fit(X_train['school_state'].values)\n",
    "\n",
    "state_tr = vectorizer.transform(X_train['school_state'].values)\n",
    "state_cv = vectorizer.transform(X_cv['school_state'].values)\n",
    "state_te = vectorizer.transform(X_te['school_state'].values)\n"
   ]
  },
  {
   "cell_type": "code",
   "execution_count": 980,
   "metadata": {
    "colab": {
     "base_uri": "https://localhost:8080/",
     "height": 34
    },
    "colab_type": "code",
    "id": "1CaHwQZIeNm-",
    "outputId": "ea4f9c1a-59d8-4d51-d9e6-4442174a4e92"
   },
   "outputs": [
    {
     "name": "stdout",
     "output_type": "stream",
     "text": [
      "(22445, 51) (11055, 51) (16500, 51) "
     ]
    }
   ],
   "source": [
    "print(state_tr.shape,state_cv.shape,state_te.shape,end=\" \")"
   ]
  },
  {
   "cell_type": "code",
   "execution_count": 981,
   "metadata": {
    "colab": {
     "base_uri": "https://localhost:8080/",
     "height": 51
    },
    "colab_type": "code",
    "id": "J7-hRlcVq68K",
    "outputId": "fc44944a-ee18-4521-8c24-3398797e5d53"
   },
   "outputs": [
    {
     "name": "stdout",
     "output_type": "stream",
     "text": [
      "65277\n",
      "65277\n"
     ]
    }
   ],
   "source": [
    "features_inorder_bow.extend(list(vectorizer.get_feature_names()))\n",
    "features_inorder_tfidf.extend(list(vectorizer.get_feature_names()))\n",
    "print(len(features_inorder_bow))\n",
    "print(len(features_inorder_tfidf))\n",
    "#print(features_inorder)"
   ]
  },
  {
   "cell_type": "markdown",
   "metadata": {
    "colab_type": "text",
    "id": "lUUQoI_pqyw4"
   },
   "source": [
    "#### Teacher prefix"
   ]
  },
  {
   "cell_type": "code",
   "execution_count": 982,
   "metadata": {
    "colab": {},
    "colab_type": "code",
    "id": "CQxSsG7yq30k"
   },
   "outputs": [],
   "source": [
    "vectorizer = CountVectorizer()\n",
    "vectorizer.fit(X_train['teacher_prefix'].values)\n",
    "\n",
    "tchr_prefix_tr = vectorizer.transform(X_train['teacher_prefix'].values)\n",
    "tchr_prefix_cv = vectorizer.transform(X_cv['teacher_prefix'].values)\n",
    "tchr_prefix_te = vectorizer.transform(X_te['teacher_prefix'].values)\n"
   ]
  },
  {
   "cell_type": "code",
   "execution_count": 983,
   "metadata": {
    "colab": {
     "base_uri": "https://localhost:8080/",
     "height": 34
    },
    "colab_type": "code",
    "id": "rz6goZ-gq3wL",
    "outputId": "f2419ec5-78f9-43ae-982b-16ffef5cd838"
   },
   "outputs": [
    {
     "name": "stdout",
     "output_type": "stream",
     "text": [
      "(22445, 5) (11055, 5) (16500, 5) "
     ]
    }
   ],
   "source": [
    "print(tchr_prefix_tr.shape,tchr_prefix_cv.shape,tchr_prefix_te.shape,end=\" \")"
   ]
  },
  {
   "cell_type": "code",
   "execution_count": 984,
   "metadata": {
    "colab": {
     "base_uri": "https://localhost:8080/",
     "height": 34
    },
    "colab_type": "code",
    "id": "sSip9nWHq3rC",
    "outputId": "e6feb739-d58f-4a0d-c7ce-3c0e8a492559"
   },
   "outputs": [
    {
     "data": {
      "text/plain": [
       "['dr', 'mr', 'mrs', 'ms', 'teacher']"
      ]
     },
     "execution_count": 984,
     "metadata": {
      "tags": []
     },
     "output_type": "execute_result"
    }
   ],
   "source": [
    "vectorizer.get_feature_names()"
   ]
  },
  {
   "cell_type": "code",
   "execution_count": 985,
   "metadata": {
    "colab": {
     "base_uri": "https://localhost:8080/",
     "height": 51
    },
    "colab_type": "code",
    "id": "t1G5eKJWrY3Z",
    "outputId": "622adf8d-1e7c-4bdb-b27b-d88c532df888"
   },
   "outputs": [
    {
     "name": "stdout",
     "output_type": "stream",
     "text": [
      "65282\n",
      "65282\n"
     ]
    }
   ],
   "source": [
    "features_inorder_bow.extend(list(vectorizer.get_feature_names()))\n",
    "features_inorder_tfidf.extend(list(vectorizer.get_feature_names()))\n",
    "print(len(features_inorder_bow))\n",
    "print(len(features_inorder_tfidf))"
   ]
  },
  {
   "cell_type": "markdown",
   "metadata": {
    "colab_type": "text",
    "id": "n43uUaefruOb"
   },
   "source": [
    "#### Project grade_category"
   ]
  },
  {
   "cell_type": "code",
   "execution_count": 986,
   "metadata": {
    "colab": {},
    "colab_type": "code",
    "id": "xTDihuQUq3mX"
   },
   "outputs": [],
   "source": [
    "vectorizer = CountVectorizer()\n",
    "vectorizer.fit(X_train['project_grade_category'].values)\n",
    "\n",
    "grade_tr = vectorizer.transform(X_train['project_grade_category'].values)\n",
    "grade_cv = vectorizer.transform(X_cv['project_grade_category'].values)\n",
    "grade_te = vectorizer.transform(X_te['project_grade_category'].values)\n"
   ]
  },
  {
   "cell_type": "code",
   "execution_count": 987,
   "metadata": {
    "colab": {
     "base_uri": "https://localhost:8080/",
     "height": 34
    },
    "colab_type": "code",
    "id": "pnU3_1urq3gT",
    "outputId": "ef2f8020-0b04-4450-8144-962d4a5ace2e"
   },
   "outputs": [
    {
     "name": "stdout",
     "output_type": "stream",
     "text": [
      "(22445, 4) (11055, 4) (16500, 4) "
     ]
    }
   ],
   "source": [
    "print(grade_tr.shape,grade_cv.shape,grade_te.shape,end=\" \")"
   ]
  },
  {
   "cell_type": "code",
   "execution_count": 988,
   "metadata": {
    "colab": {
     "base_uri": "https://localhost:8080/",
     "height": 34
    },
    "colab_type": "code",
    "id": "tQMVC7lvsO1_",
    "outputId": "8274152e-88e1-402b-e99c-28776ceae7d7"
   },
   "outputs": [
    {
     "data": {
      "text/plain": [
       "['grades_3_5', 'grades_6_8', 'grades_9_12', 'grades_prek_2']"
      ]
     },
     "execution_count": 988,
     "metadata": {
      "tags": []
     },
     "output_type": "execute_result"
    }
   ],
   "source": [
    "vectorizer.get_feature_names()"
   ]
  },
  {
   "cell_type": "code",
   "execution_count": 989,
   "metadata": {
    "colab": {
     "base_uri": "https://localhost:8080/",
     "height": 51
    },
    "colab_type": "code",
    "id": "u0hkq7mFrbKE",
    "outputId": "e233090a-71cf-4c58-a2c4-b4515ce8887e"
   },
   "outputs": [
    {
     "name": "stdout",
     "output_type": "stream",
     "text": [
      "65286\n",
      "65286\n"
     ]
    }
   ],
   "source": [
    "features_inorder_bow.extend(list(vectorizer.get_feature_names()))\n",
    "features_inorder_tfidf.extend(list(vectorizer.get_feature_names()))\n",
    "print(len(features_inorder_bow))\n",
    "print(len(features_inorder_tfidf))"
   ]
  },
  {
   "cell_type": "markdown",
   "metadata": {
    "colab_type": "text",
    "id": "2krOCPtIsUy-"
   },
   "source": [
    "#### Subject categories"
   ]
  },
  {
   "cell_type": "code",
   "execution_count": 990,
   "metadata": {
    "colab": {},
    "colab_type": "code",
    "id": "eWhuli7qsSJf"
   },
   "outputs": [],
   "source": [
    "vectorizer = CountVectorizer()\n",
    "vectorizer.fit(X_train['clean_categories'].values)\n",
    "\n",
    "subject_tr = vectorizer.transform(X_train['clean_categories'].values)\n",
    "subject_cv = vectorizer.transform(X_cv['clean_categories'].values)\n",
    "subject_te = vectorizer.transform(X_te['clean_categories'].values)\n"
   ]
  },
  {
   "cell_type": "code",
   "execution_count": 991,
   "metadata": {
    "colab": {
     "base_uri": "https://localhost:8080/",
     "height": 34
    },
    "colab_type": "code",
    "id": "tzRKGw2HsipA",
    "outputId": "ae99fadb-c3b2-4487-a40b-7172d1670cfa"
   },
   "outputs": [
    {
     "name": "stdout",
     "output_type": "stream",
     "text": [
      "(22445, 9) (11055, 9) (16500, 9) "
     ]
    }
   ],
   "source": [
    "print(subject_tr.shape,subject_cv.shape,subject_te.shape,end=\" \")"
   ]
  },
  {
   "cell_type": "code",
   "execution_count": 992,
   "metadata": {
    "colab": {
     "base_uri": "https://localhost:8080/",
     "height": 170
    },
    "colab_type": "code",
    "id": "5GLO5cHtsi4o",
    "outputId": "ccb9cdf1-8bd3-42ca-8acf-654ef6bd476c"
   },
   "outputs": [
    {
     "data": {
      "text/plain": [
       "['appliedlearning',\n",
       " 'care_hunger',\n",
       " 'health_sports',\n",
       " 'history_civics',\n",
       " 'literacy_language',\n",
       " 'math_science',\n",
       " 'music_arts',\n",
       " 'specialneeds',\n",
       " 'warmth']"
      ]
     },
     "execution_count": 992,
     "metadata": {
      "tags": []
     },
     "output_type": "execute_result"
    }
   ],
   "source": [
    "vectorizer.get_feature_names()"
   ]
  },
  {
   "cell_type": "code",
   "execution_count": 993,
   "metadata": {
    "colab": {
     "base_uri": "https://localhost:8080/",
     "height": 51
    },
    "colab_type": "code",
    "id": "yMqprVoBreht",
    "outputId": "7db51f5b-316e-4bef-fb1e-6d96270eb57c"
   },
   "outputs": [
    {
     "name": "stdout",
     "output_type": "stream",
     "text": [
      "65295\n",
      "65295\n"
     ]
    }
   ],
   "source": [
    "features_inorder_bow.extend(list(vectorizer.get_feature_names()))\n",
    "features_inorder_tfidf.extend(list(vectorizer.get_feature_names()))\n",
    "print(len(features_inorder_bow))\n",
    "print(len(features_inorder_tfidf))"
   ]
  },
  {
   "cell_type": "markdown",
   "metadata": {
    "colab_type": "text",
    "id": "lZJl6L03sjrH"
   },
   "source": [
    "#### Subject sub categories"
   ]
  },
  {
   "cell_type": "code",
   "execution_count": 994,
   "metadata": {
    "colab": {},
    "colab_type": "code",
    "id": "GVdwCcWlsqXa"
   },
   "outputs": [],
   "source": [
    "vectorizer = CountVectorizer()\n",
    "vectorizer.fit(X_train['clean_subcategories'].values)\n",
    "\n",
    "subj_subct_tr = vectorizer.transform(X_train['clean_subcategories'].values)\n",
    "subj_subct_cv = vectorizer.transform(X_cv['clean_subcategories'].values)\n",
    "subj_subct_te = vectorizer.transform(X_te['clean_subcategories'].values)"
   ]
  },
  {
   "cell_type": "code",
   "execution_count": 995,
   "metadata": {
    "colab": {
     "base_uri": "https://localhost:8080/",
     "height": 34
    },
    "colab_type": "code",
    "id": "BOgnXtWQsqRa",
    "outputId": "f272af60-0b45-41f1-ded4-ccf1f7729612"
   },
   "outputs": [
    {
     "name": "stdout",
     "output_type": "stream",
     "text": [
      "(22445, 30) (11055, 30) (16500, 30) "
     ]
    }
   ],
   "source": [
    "print(subj_subct_tr.shape,subj_subct_cv.shape,subj_subct_te.shape,end=\" \")"
   ]
  },
  {
   "cell_type": "code",
   "execution_count": 996,
   "metadata": {
    "colab": {
     "base_uri": "https://localhost:8080/",
     "height": 527
    },
    "colab_type": "code",
    "id": "cRHrLNrYsqL9",
    "outputId": "657bb3bf-90e4-4fad-bbf4-d044edf0f0ab"
   },
   "outputs": [
    {
     "data": {
      "text/plain": [
       "['appliedsciences',\n",
       " 'care_hunger',\n",
       " 'charactereducation',\n",
       " 'civics_government',\n",
       " 'college_careerprep',\n",
       " 'communityservice',\n",
       " 'earlydevelopment',\n",
       " 'economics',\n",
       " 'environmentalscience',\n",
       " 'esl',\n",
       " 'extracurricular',\n",
       " 'financialliteracy',\n",
       " 'foreignlanguages',\n",
       " 'gym_fitness',\n",
       " 'health_lifescience',\n",
       " 'health_wellness',\n",
       " 'history_geography',\n",
       " 'literacy',\n",
       " 'literature_writing',\n",
       " 'mathematics',\n",
       " 'music',\n",
       " 'nutritioneducation',\n",
       " 'other',\n",
       " 'parentinvolvement',\n",
       " 'performingarts',\n",
       " 'socialsciences',\n",
       " 'specialneeds',\n",
       " 'teamsports',\n",
       " 'visualarts',\n",
       " 'warmth']"
      ]
     },
     "execution_count": 996,
     "metadata": {
      "tags": []
     },
     "output_type": "execute_result"
    }
   ],
   "source": [
    "vectorizer.get_feature_names()"
   ]
  },
  {
   "cell_type": "code",
   "execution_count": 997,
   "metadata": {
    "colab": {
     "base_uri": "https://localhost:8080/",
     "height": 51
    },
    "colab_type": "code",
    "id": "ND-yhMhtm_np",
    "outputId": "a11e7ef9-3d29-4cc3-b951-e77a270a9aa0"
   },
   "outputs": [
    {
     "name": "stdout",
     "output_type": "stream",
     "text": [
      "65325\n",
      "65325\n"
     ]
    }
   ],
   "source": [
    "features_inorder_bow.extend(list(vectorizer.get_feature_names()))\n",
    "features_inorder_tfidf.extend(list(vectorizer.get_feature_names()))\n",
    "print(len(features_inorder_bow))\n",
    "print(len(features_inorder_tfidf))"
   ]
  },
  {
   "cell_type": "markdown",
   "metadata": {
    "colab_type": "text",
    "id": "_ZigOPDvH5iH"
   },
   "source": [
    "From the above codes of subject categories and subject sub categories, we can observe that care_hunger is present in both of the categories. Thus feature indices 10062 and 100611 represent same feature name care_hunger."
   ]
  },
  {
   "cell_type": "markdown",
   "metadata": {
    "colab_type": "text",
    "id": "XOKfBxT7ei5z"
   },
   "source": [
    "### 1.4.2  Encoding Numerical features"
   ]
  },
  {
   "cell_type": "markdown",
   "metadata": {
    "colab_type": "text",
    "id": "ooqxvWk8wKgQ"
   },
   "source": [
    "#### teacher_number_of_previously_posted_projects"
   ]
  },
  {
   "cell_type": "code",
   "execution_count": 998,
   "metadata": {
    "colab": {},
    "colab_type": "code",
    "id": "IWKhIXn8a_At"
   },
   "outputs": [],
   "source": [
    "#For z-score normalization the values will be both negative and positive. MultinomialNB does not work with negative values. \n",
    "#So we use Min-Max normalization. \n",
    "#from sklearn.preprocessing import StandardScaler\n",
    "from sklearn.preprocessing import MinMaxScaler\n",
    "\n",
    "scaler = MinMaxScaler()\n",
    "scaler.fit(X_train['teacher_number_of_previously_posted_projects'].values.reshape(-1, 1))\n",
    "\n",
    "tchr_prj_tr = scaler.transform(X_train['teacher_number_of_previously_posted_projects'].values.reshape(-1, 1))\n",
    "tchr_prj_cv = scaler.transform(X_cv['teacher_number_of_previously_posted_projects'].values.reshape(-1, 1))\n",
    "tchr_prj_te = scaler.transform(X_te['teacher_number_of_previously_posted_projects'].values.reshape(-1, 1))"
   ]
  },
  {
   "cell_type": "code",
   "execution_count": 999,
   "metadata": {
    "colab": {
     "base_uri": "https://localhost:8080/",
     "height": 68
    },
    "colab_type": "code",
    "id": "GGIv9fvrYW8-",
    "outputId": "3bc9f914-b0d8-4b88-8547-687277fe0582"
   },
   "outputs": [
    {
     "name": "stdout",
     "output_type": "stream",
     "text": [
      "[array([0.00280899]), array([0.]), array([0.04494382]), array([0.08146067]), array([0.01123596])] \n",
      " [array([0.]), array([0.]), array([0.01404494]), array([0.00561798]), array([0.00280899])] \n",
      " [array([0.00842697]), array([0.00561798]), array([0.01966292]), array([0.03651685]), array([0.00280899])]\n"
     ]
    }
   ],
   "source": [
    "print(list(tchr_prj_tr[:5]),'\\n',list(tchr_prj_cv[:5]),'\\n',list(tchr_prj_te[:5]))"
   ]
  },
  {
   "cell_type": "code",
   "execution_count": 1000,
   "metadata": {
    "colab": {},
    "colab_type": "code",
    "id": "u137qZBXbL0W"
   },
   "outputs": [],
   "source": [
    "#from sklearn.preprocessing import MinMaxScaler\n",
    "\n",
    "#scaler = MinMaxScaler()\n",
    "#scaler.fit(data['teacher_number_of_previously_posted_projects'].values.reshape(-1, 1))\n",
    "#data['teacher_number_of_previously_posted_projects']=scaler.transform(data['teacher_number_of_previously_posted_projects'].values.reshape(-1, 1))\n"
   ]
  },
  {
   "cell_type": "code",
   "execution_count": 1001,
   "metadata": {
    "colab": {
     "base_uri": "https://localhost:8080/",
     "height": 51
    },
    "colab_type": "code",
    "id": "Lh52T4jnri1x",
    "outputId": "6250c0b0-071d-411f-9c3c-167f45388a57"
   },
   "outputs": [
    {
     "name": "stdout",
     "output_type": "stream",
     "text": [
      "65326\n",
      "65326\n"
     ]
    }
   ],
   "source": [
    "features_inorder_bow.extend(['teacher_number_of_previously_posted_projects'])\n",
    "features_inorder_tfidf.extend(['teacher_number_of_previously_posted_projects'])\n",
    "print(len(features_inorder_bow))\n",
    "print(len(features_inorder_tfidf))\n",
    "#print(features_inorder)"
   ]
  },
  {
   "cell_type": "markdown",
   "metadata": {
    "colab_type": "text",
    "id": "Ok5kLD4QwQAi"
   },
   "source": [
    "#### price"
   ]
  },
  {
   "cell_type": "code",
   "execution_count": 1002,
   "metadata": {
    "colab": {},
    "colab_type": "code",
    "id": "2hFVkQSUa0bF"
   },
   "outputs": [],
   "source": [
    "# Min-Max Normalization\n",
    "\n",
    "scaler = MinMaxScaler()\n",
    "scaler.fit(X_train['price'].values.reshape(-1, 1))\n",
    "\n",
    "price_tr = scaler.transform(X_train['price'].values.reshape(-1, 1) )\n",
    "price_cv = scaler.transform(X_cv['price'].values.reshape(-1, 1) )\n",
    "price_te = scaler.transform(X_te['price'].values.reshape(-1, 1) )"
   ]
  },
  {
   "cell_type": "code",
   "execution_count": 1003,
   "metadata": {
    "colab": {
     "base_uri": "https://localhost:8080/",
     "height": 68
    },
    "colab_type": "code",
    "id": "bKFSNh2KZJg0",
    "outputId": "d87ea66c-460e-492f-b4ee-175b85c22034"
   },
   "outputs": [
    {
     "name": "stdout",
     "output_type": "stream",
     "text": [
      "[array([0.02487778]), array([0.04781618]), array([0.00340865]), array([0.01502989]), array([0.00585512])] \n",
      " [array([0.00060712]), array([0.00107621]), array([0.03421257]), array([0.00407678]), array([0.02369055])] \n",
      " [array([0.07126968]), array([0.00790852]), array([0.02513283]), array([0.02131009]), array([0.03150205])]\n"
     ]
    }
   ],
   "source": [
    "print(list(price_tr[:5]),'\\n',list(price_cv[:5]),'\\n',list(price_te[:5]))"
   ]
  },
  {
   "cell_type": "code",
   "execution_count": 1004,
   "metadata": {
    "colab": {},
    "colab_type": "code",
    "id": "yI5NmCrTa3L2"
   },
   "outputs": [],
   "source": [
    "# Min-Max Normalization Use only one Normalization but not both.\n",
    "\n",
    "#scaler = MinMaxScaler()\n",
    "#scaler.fit(data['price'].values.reshape(-1, 1))\n",
    "#data['price']=scaler.transform(data['price'].values.reshape(-1, 1))"
   ]
  },
  {
   "cell_type": "code",
   "execution_count": 1005,
   "metadata": {
    "colab": {
     "base_uri": "https://localhost:8080/",
     "height": 51
    },
    "colab_type": "code",
    "id": "vL557WcqrqHK",
    "outputId": "f725e832-b58b-4d81-fd84-813129af3e35"
   },
   "outputs": [
    {
     "name": "stdout",
     "output_type": "stream",
     "text": [
      "65327\n",
      "65327\n"
     ]
    }
   ],
   "source": [
    "features_inorder_bow.extend(['price'])\n",
    "features_inorder_tfidf.extend(['price'])\n",
    "print(len(features_inorder_bow))\n",
    "print(len(features_inorder_tfidf))\n",
    "#print(features_inorder)"
   ]
  },
  {
   "cell_type": "markdown",
   "metadata": {
    "colab_type": "text",
    "id": "_cJ-zW2nIWgr"
   },
   "source": [
    "## 1.4 Stacking all features to form set1 and set2 features. "
   ]
  },
  {
   "cell_type": "code",
   "execution_count": 1006,
   "metadata": {
    "colab": {
     "base_uri": "https://localhost:8080/",
     "height": 85
    },
    "colab_type": "code",
    "id": "J1gCRNI3JTCm",
    "outputId": "7db6ede6-1184-49e3-e3c5-ca5306470d75"
   },
   "outputs": [
    {
     "data": {
      "text/plain": [
       "Index(['school_state', 'teacher_prefix', 'project_grade_category',\n",
       "       'teacher_number_of_previously_posted_projects', 'project_is_approved',\n",
       "       'clean_categories', 'clean_subcategories', 'essay', 'price'],\n",
       "      dtype='object')"
      ]
     },
     "execution_count": 1006,
     "metadata": {
      "tags": []
     },
     "output_type": "execute_result"
    }
   ],
   "source": [
    "data.columns"
   ]
  },
  {
   "cell_type": "markdown",
   "metadata": {
    "colab_type": "text",
    "id": "Rr6_YZsbFaW4"
   },
   "source": [
    "#### 1. Set1(BOW) features"
   ]
  },
  {
   "cell_type": "code",
   "execution_count": 1007,
   "metadata": {
    "colab": {
     "base_uri": "https://localhost:8080/",
     "height": 102
    },
    "colab_type": "code",
    "id": "MFrUbZ-xIT_1",
    "outputId": "fbbd1086-8f82-4cc6-c5a1-57b6e73513fb"
   },
   "outputs": [
    {
     "name": "stdout",
     "output_type": "stream",
     "text": [
      "Final Data matrix\n",
      "(22445, 65327) (22445,)\n",
      "(11055, 65327) (11055,)\n",
      "(16500, 65327) (16500,)\n",
      "====================================================================================================\n"
     ]
    }
   ],
   "source": [
    "from scipy.sparse import hstack\n",
    "\n",
    "X_tr_bow = hstack((essay_tr_bow, state_tr, tchr_prefix_tr, grade_tr, subject_tr, subj_subct_tr , tchr_prj_tr, price_tr)).tocsr()\n",
    "X_cv_bow = hstack((essay_cv_bow, state_cv, tchr_prefix_cv, grade_cv, subject_cv, subj_subct_cv , tchr_prj_cv, price_cv)).tocsr()\n",
    "X_te_bow = hstack((essay_te_bow, state_te, tchr_prefix_te, grade_te, subject_te, subj_subct_te , tchr_prj_te, price_te)).tocsr()\n",
    "\n",
    "print(\"Final Data matrix\")\n",
    "print(X_tr_bow.shape, Y_train.shape)\n",
    "print(X_cv_bow.shape, Y_cv.shape)\n",
    "print(X_te_bow.shape, Y_te.shape)\n",
    "print(\"=\"*100)"
   ]
  },
  {
   "cell_type": "markdown",
   "metadata": {
    "colab_type": "text",
    "id": "UhuSN-od9aoH"
   },
   "source": [
    "1. As the Gridserch module available in sklearn implements the inbuilt cross validation, it's better to merge train and cv data."
   ]
  },
  {
   "cell_type": "code",
   "execution_count": 1008,
   "metadata": {
    "colab": {},
    "colab_type": "code",
    "id": "nEyCfaAvEHLz"
   },
   "outputs": [],
   "source": [
    "from scipy.sparse import vstack\n",
    "\n",
    "X_train_bow=vstack((X_tr_bow,X_cv_bow)).tocsr()\n",
    "Y_train_bow=np.concatenate((Y_train,Y_cv))"
   ]
  },
  {
   "cell_type": "code",
   "execution_count": 1009,
   "metadata": {
    "colab": {
     "base_uri": "https://localhost:8080/",
     "height": 85
    },
    "colab_type": "code",
    "id": "qR4YkVdFFKWP",
    "outputId": "13753c26-09f6-4d0d-e9af-8c6a4e187292"
   },
   "outputs": [
    {
     "name": "stdout",
     "output_type": "stream",
     "text": [
      "Final Data matrix\n",
      "(33500, 65327) (33500,)\n",
      "(16500, 65327) (16500,)\n",
      "====================================================================================================\n"
     ]
    }
   ],
   "source": [
    "print(\"Final Data matrix\")\n",
    "print(X_train_bow.shape, Y_train_bow.shape)\n",
    "print(X_te_bow.shape, Y_te.shape)\n",
    "print(\"=\"*100)"
   ]
  },
  {
   "cell_type": "markdown",
   "metadata": {
    "colab_type": "text",
    "id": "4Hxq7H4MF0k6"
   },
   "source": [
    "### 2. Set2(TFIDF) features"
   ]
  },
  {
   "cell_type": "code",
   "execution_count": 1010,
   "metadata": {
    "colab": {
     "base_uri": "https://localhost:8080/",
     "height": 102
    },
    "colab_type": "code",
    "id": "rRPpca1O_ZWq",
    "outputId": "357f425c-c5fe-43ce-a600-cfbad520e695"
   },
   "outputs": [
    {
     "name": "stdout",
     "output_type": "stream",
     "text": [
      "Final Data matrix\n",
      "(22445, 65327) (22445,)\n",
      "(11055, 65327) (11055,)\n",
      "(16500, 65327) (16500,)\n",
      "====================================================================================================\n"
     ]
    }
   ],
   "source": [
    "from scipy.sparse import hstack\n",
    "\n",
    "X_tr_tfidf = hstack((essay_tr_tfidf, state_tr, tchr_prefix_tr, grade_tr, subject_tr, subj_subct_tr , tchr_prj_tr, price_tr)).tocsr()\n",
    "X_cv_tfidf = hstack((essay_cv_tfidf, state_cv, tchr_prefix_cv, grade_cv, subject_cv, subj_subct_cv , tchr_prj_cv, price_cv)).tocsr()\n",
    "X_te_tfidf = hstack((essay_te_tfidf, state_te, tchr_prefix_te, grade_te, subject_te, subj_subct_te , tchr_prj_te, price_te)).tocsr()\n",
    "\n",
    "print(\"Final Data matrix\")\n",
    "print(X_tr_tfidf.shape, Y_train.shape)\n",
    "print(X_cv_tfidf.shape, Y_cv.shape)\n",
    "print(X_te_tfidf.shape, Y_te.shape)\n",
    "print(\"=\"*100)"
   ]
  },
  {
   "cell_type": "code",
   "execution_count": 1011,
   "metadata": {
    "colab": {
     "base_uri": "https://localhost:8080/",
     "height": 51
    },
    "colab_type": "code",
    "id": "6xnZBiiELKDM",
    "outputId": "fd134183-f73d-409d-ccca-59bb0560effa"
   },
   "outputs": [
    {
     "name": "stdout",
     "output_type": "stream",
     "text": [
      "65327\n",
      "65327\n"
     ]
    }
   ],
   "source": [
    "print(len(features_inorder_bow))\n",
    "print(len(features_inorder_tfidf))\n",
    "\n",
    "#print(features_inorder)"
   ]
  },
  {
   "cell_type": "markdown",
   "metadata": {
    "colab_type": "text",
    "id": "euDDS03-8vd-"
   },
   "source": [
    "1. As the Gridserch module available in sklearn implements the inbuilt cross validation, it's better to merge train and cv data."
   ]
  },
  {
   "cell_type": "code",
   "execution_count": 1012,
   "metadata": {
    "colab": {},
    "colab_type": "code",
    "id": "h7p1Qj3PGA5a"
   },
   "outputs": [],
   "source": [
    "from scipy.sparse import vstack\n",
    "\n",
    "X_train_tfidf=vstack((X_tr_tfidf,X_cv_tfidf)).tocsr()\n",
    "Y_train_tfidf=np.concatenate((Y_train,Y_cv))"
   ]
  },
  {
   "cell_type": "code",
   "execution_count": 1013,
   "metadata": {
    "colab": {
     "base_uri": "https://localhost:8080/",
     "height": 85
    },
    "colab_type": "code",
    "id": "5c-ibiIkGS2t",
    "outputId": "ff00df25-3037-41d8-da06-3ccf4cac2d4c"
   },
   "outputs": [
    {
     "name": "stdout",
     "output_type": "stream",
     "text": [
      "Final Data matrix\n",
      "(33500, 65327) (33500,)\n",
      "(16500, 65327) (16500,)\n",
      "====================================================================================================\n"
     ]
    }
   ],
   "source": [
    "print(\"Final Data matrix\")\n",
    "print(X_train_tfidf.shape, Y_train_tfidf.shape)\n",
    "print(X_te_tfidf.shape, Y_te.shape)\n",
    "print(\"=\"*100)"
   ]
  },
  {
   "cell_type": "markdown",
   "metadata": {
    "colab_type": "text",
    "id": "yYHPYadYb3dh"
   },
   "source": [
    "<h2>1.5 Appling NB on different kind of featurization as mentioned in the instructions</h2>\n",
    "\n",
    "<br>Apply NB on different kind of featurization as mentioned in the instructions\n",
    "<br> For Every model that you work on make sure you do the step 2 and step 3 of instrucations"
   ]
  },
  {
   "cell_type": "code",
   "execution_count": 1014,
   "metadata": {
    "colab": {},
    "colab_type": "code",
    "id": "DNwqilFxb3di"
   },
   "outputs": [],
   "source": [
    "# please write all the code with proper documentation, and proper titles for each subsection\n",
    "# go through documentations and blogs before you start coding\n",
    "# first figure out what to do, and then think about how to do.\n",
    "# reading and understanding error messages will be very much helpfull in debugging your code\n",
    "# when you plot any graph make sure you use \n",
    "    # a. Title, that describes your plot, this will be very helpful to the reader\n",
    "    # b. Legends if needed\n",
    "    # c. X-axis label\n",
    "    # d. Y-axis label"
   ]
  },
  {
   "cell_type": "markdown",
   "metadata": {
    "colab_type": "text",
    "id": "OfFK-Fo--nJ5"
   },
   "source": [
    "### 1.5.1 Set1(Bow) features"
   ]
  },
  {
   "cell_type": "code",
   "execution_count": 1015,
   "metadata": {
    "colab": {
     "base_uri": "https://localhost:8080/",
     "height": 615
    },
    "colab_type": "code",
    "id": "gS3EdHoN7lIX",
    "outputId": "97a117a7-89db-449b-f86d-43219f95e62e"
   },
   "outputs": [
    {
     "name": "stdout",
     "output_type": "stream",
     "text": [
      "[1.00000000e-04 1.58489319e-04 2.51188643e-04 3.98107171e-04\n",
      " 5.00000000e-04 6.30957344e-04 7.92446596e-04 1.00000000e-03\n",
      " 1.25594322e-03 1.58489319e-03 1.99053585e-03 2.51188643e-03\n",
      " 3.15478672e-03 3.98107171e-03 5.00000000e-03 6.30957344e-03\n",
      " 7.92446596e-03 1.00000000e-02 1.25594322e-02 1.58489319e-02\n",
      " 1.99053585e-02 2.51188643e-02 3.15478672e-02 3.98107171e-02\n",
      " 5.00000000e-02 6.30957344e-02 7.92446596e-02 1.00000000e-01\n",
      " 1.25594322e-01 1.58489319e-01 1.99053585e-01 2.51188643e-01\n",
      " 3.15478672e-01 3.98107171e-01 5.00000000e-01 6.30957344e-01\n",
      " 7.92446596e-01 1.00000000e+00 1.25594322e+00 1.58489319e+00\n",
      " 1.99053585e+00 2.51188643e+00 3.15478672e+00 3.98107171e+00\n",
      " 5.00000000e+00 6.30957344e+00 7.92446596e+00 1.00000000e+01\n",
      " 1.25594322e+01 1.58489319e+01 1.99053585e+01 2.51188643e+01\n",
      " 3.15478672e+01 3.98107171e+01 6.30957344e+01]\n"
     ]
    },
    {
     "data": {
      "text/html": [
       "<div>\n",
       "<style scoped>\n",
       "    .dataframe tbody tr th:only-of-type {\n",
       "        vertical-align: middle;\n",
       "    }\n",
       "\n",
       "    .dataframe tbody tr th {\n",
       "        vertical-align: top;\n",
       "    }\n",
       "\n",
       "    .dataframe thead th {\n",
       "        text-align: right;\n",
       "    }\n",
       "</style>\n",
       "<table border=\"1\" class=\"dataframe\">\n",
       "  <thead>\n",
       "    <tr style=\"text-align: right;\">\n",
       "      <th></th>\n",
       "      <th>mean_fit_time</th>\n",
       "      <th>std_fit_time</th>\n",
       "      <th>mean_score_time</th>\n",
       "      <th>std_score_time</th>\n",
       "      <th>param_alpha</th>\n",
       "      <th>param_class_prior</th>\n",
       "      <th>params</th>\n",
       "      <th>split0_test_score</th>\n",
       "      <th>split1_test_score</th>\n",
       "      <th>split2_test_score</th>\n",
       "      <th>mean_test_score</th>\n",
       "      <th>std_test_score</th>\n",
       "      <th>rank_test_score</th>\n",
       "      <th>split0_train_score</th>\n",
       "      <th>split1_train_score</th>\n",
       "      <th>split2_train_score</th>\n",
       "      <th>mean_train_score</th>\n",
       "      <th>std_train_score</th>\n",
       "    </tr>\n",
       "  </thead>\n",
       "  <tbody>\n",
       "    <tr>\n",
       "      <th>0</th>\n",
       "      <td>0.154363</td>\n",
       "      <td>0.030212</td>\n",
       "      <td>0.036329</td>\n",
       "      <td>0.000897</td>\n",
       "      <td>0.0001</td>\n",
       "      <td>[0.5, 0.5]</td>\n",
       "      <td>{'alpha': 0.0001, 'class_prior': [0.5, 0.5]}</td>\n",
       "      <td>0.617630</td>\n",
       "      <td>0.613477</td>\n",
       "      <td>0.640975</td>\n",
       "      <td>0.624027</td>\n",
       "      <td>0.012103</td>\n",
       "      <td>47</td>\n",
       "      <td>0.982545</td>\n",
       "      <td>0.982822</td>\n",
       "      <td>0.985316</td>\n",
       "      <td>0.983561</td>\n",
       "      <td>0.001246</td>\n",
       "    </tr>\n",
       "    <tr>\n",
       "      <th>1</th>\n",
       "      <td>0.108202</td>\n",
       "      <td>0.007742</td>\n",
       "      <td>0.040341</td>\n",
       "      <td>0.005076</td>\n",
       "      <td>0.000158489</td>\n",
       "      <td>[0.5, 0.5]</td>\n",
       "      <td>{'alpha': 0.00015848931924611142, 'class_prior...</td>\n",
       "      <td>0.622094</td>\n",
       "      <td>0.619021</td>\n",
       "      <td>0.643726</td>\n",
       "      <td>0.628280</td>\n",
       "      <td>0.010993</td>\n",
       "      <td>46</td>\n",
       "      <td>0.981975</td>\n",
       "      <td>0.982239</td>\n",
       "      <td>0.984862</td>\n",
       "      <td>0.983025</td>\n",
       "      <td>0.001303</td>\n",
       "    </tr>\n",
       "    <tr>\n",
       "      <th>2</th>\n",
       "      <td>0.093926</td>\n",
       "      <td>0.000802</td>\n",
       "      <td>0.042735</td>\n",
       "      <td>0.002101</td>\n",
       "      <td>0.000251189</td>\n",
       "      <td>[0.5, 0.5]</td>\n",
       "      <td>{'alpha': 0.0002511886431509582, 'class_prior'...</td>\n",
       "      <td>0.624624</td>\n",
       "      <td>0.622681</td>\n",
       "      <td>0.647490</td>\n",
       "      <td>0.631598</td>\n",
       "      <td>0.011265</td>\n",
       "      <td>45</td>\n",
       "      <td>0.981351</td>\n",
       "      <td>0.981606</td>\n",
       "      <td>0.984362</td>\n",
       "      <td>0.982439</td>\n",
       "      <td>0.001363</td>\n",
       "    </tr>\n",
       "    <tr>\n",
       "      <th>3</th>\n",
       "      <td>0.095172</td>\n",
       "      <td>0.002263</td>\n",
       "      <td>0.045085</td>\n",
       "      <td>0.001739</td>\n",
       "      <td>0.000398107</td>\n",
       "      <td>[0.5, 0.5]</td>\n",
       "      <td>{'alpha': 0.00039810717055349773, 'class_prior...</td>\n",
       "      <td>0.628006</td>\n",
       "      <td>0.626826</td>\n",
       "      <td>0.650057</td>\n",
       "      <td>0.634963</td>\n",
       "      <td>0.010684</td>\n",
       "      <td>44</td>\n",
       "      <td>0.980666</td>\n",
       "      <td>0.980924</td>\n",
       "      <td>0.983810</td>\n",
       "      <td>0.981800</td>\n",
       "      <td>0.001425</td>\n",
       "    </tr>\n",
       "    <tr>\n",
       "      <th>4</th>\n",
       "      <td>0.094443</td>\n",
       "      <td>0.001266</td>\n",
       "      <td>0.045045</td>\n",
       "      <td>0.005425</td>\n",
       "      <td>0.0005</td>\n",
       "      <td>[0.5, 0.5]</td>\n",
       "      <td>{'alpha': 0.0004999999999999999, 'class_prior'...</td>\n",
       "      <td>0.630307</td>\n",
       "      <td>0.627234</td>\n",
       "      <td>0.651834</td>\n",
       "      <td>0.636459</td>\n",
       "      <td>0.010945</td>\n",
       "      <td>42</td>\n",
       "      <td>0.980306</td>\n",
       "      <td>0.980563</td>\n",
       "      <td>0.983514</td>\n",
       "      <td>0.981461</td>\n",
       "      <td>0.001456</td>\n",
       "    </tr>\n",
       "  </tbody>\n",
       "</table>\n",
       "</div>"
      ],
      "text/plain": [
       "   mean_fit_time  std_fit_time  ...  mean_train_score  std_train_score\n",
       "0       0.154363      0.030212  ...          0.983561         0.001246\n",
       "1       0.108202      0.007742  ...          0.983025         0.001303\n",
       "2       0.093926      0.000802  ...          0.982439         0.001363\n",
       "3       0.095172      0.002263  ...          0.981800         0.001425\n",
       "4       0.094443      0.001266  ...          0.981461         0.001456\n",
       "\n",
       "[5 rows x 18 columns]"
      ]
     },
     "execution_count": 1015,
     "metadata": {
      "tags": []
     },
     "output_type": "execute_result"
    }
   ],
   "source": [
    "# https://scikit-learn.org/stable/modules/generated/sklearn.model_selection.GridSearchCV.html\n",
    "import warnings\n",
    "warnings.filterwarnings(\"ignore\")\n",
    "\n",
    "from sklearn.model_selection import ParameterGrid\n",
    "from sklearn.model_selection import RandomizedSearchCV\n",
    "from sklearn.model_selection import GridSearchCV\n",
    "from sklearn.naive_bayes import MultinomialNB\n",
    "import random\n",
    "from scipy.sparse import vstack\n",
    "import pandas as pd\n",
    "import numpy as np\n",
    "\n",
    "step = 0.2\n",
    "l1=list(np.arange(-4,2,step))\n",
    "l2=list(np.arange(-4+np.log10(5),np.log10(50),step))\n",
    "l1.extend(l2)\n",
    "alpha=np.power(10,sorted(l1))\n",
    "priors = [[0.5, 0.5]]\n",
    "hyper_param = {'alpha':alpha, 'class_prior' : priors }\n",
    "print(alpha)\n",
    "\n",
    "clf = MultinomialNB()\n",
    "classifier = GridSearchCV(clf, hyper_param, cv=3,return_train_score=True, scoring='roc_auc', n_jobs=-1)\n",
    "classifier.fit(X_train_bow, Y_train_bow)\n",
    "\n",
    "results = pd.DataFrame.from_dict(classifier.cv_results_)\n",
    "#results = results.sort_values(['param_alpha'])\n",
    "\n",
    "results.head()"
   ]
  },
  {
   "cell_type": "code",
   "execution_count": 1016,
   "metadata": {
    "colab": {
     "base_uri": "https://localhost:8080/",
     "height": 301
    },
    "colab_type": "code",
    "id": "hfV1eJ6py9-P",
    "outputId": "a55aca83-3bd1-4f4f-d027-97f36980da0b"
   },
   "outputs": [
    {
     "data": {
      "image/png": "[encoded data removed]",
      "text/plain": [
       "<Figure size 432x288 with 1 Axes>"
      ]
     },
     "metadata": {
      "needs_background": "light",
      "tags": []
     },
     "output_type": "display_data"
    }
   ],
   "source": [
    "import numpy as np\n",
    "\n",
    "train_auc= results['mean_train_score']\n",
    "train_auc_std= results['std_train_score']\n",
    "cv_auc = results['mean_test_score'] \n",
    "cv_auc_std= results['std_test_score']\n",
    "a =  results['param_alpha']\n",
    "log_a = np.log10(list(a))\n",
    "#print(a)\n",
    "plt.plot(log_a, train_auc, label='Train AUC')\n",
    "# this code is copied from here: https://stackoverflow.com/a/48803361/4084039\n",
    "# plt.gca().fill_between(K, train_auc - train_auc_std,train_auc + train_auc_std,alpha=0.2,color='darkblue')\n",
    "\n",
    "plt.plot(log_a, cv_auc, label='CV AUC')\n",
    "# this code is copied from here: https://stackoverflow.com/a/48803361/4084039\n",
    "# plt.gca().fill_between(K, cv_auc - cv_auc_std,cv_auc + cv_auc_std,alpha=0.2,color='darkorange')\n",
    "\n",
    "plt.scatter(log_a, train_auc, label='Train AUC points')\n",
    "plt.scatter(log_a, cv_auc, label='CV AUC points')\n",
    "\n",
    "\n",
    "plt.legend()\n",
    "plt.grid(b=True)\n",
    "plt.title(\"AUC value at different alpha(hyperparameter) \")\n",
    "plt.xlabel(\"log(alpha): hyperparameter\")\n",
    "plt.ylabel(\"AUC Value\")\n",
    "plt.show()"
   ]
  },
  {
   "cell_type": "code",
   "execution_count": 1017,
   "metadata": {
    "colab": {
     "base_uri": "https://localhost:8080/",
     "height": 34
    },
    "colab_type": "code",
    "id": "ws69phyBM1EL",
    "outputId": "db0a70b0-f2f5-4c52-ef07-32d68ebbae28"
   },
   "outputs": [
    {
     "name": "stdout",
     "output_type": "stream",
     "text": [
      "1.0000000000000082\n"
     ]
    }
   ],
   "source": [
    "best_alpha_bow = alpha[np.argmax(cv_auc)]\n",
    "print(best_alpha_bow)"
   ]
  },
  {
   "cell_type": "markdown",
   "metadata": {
    "colab_type": "text",
    "id": "DuwxQPKFBZBk"
   },
   "source": [
    " 1. From the above plot we can observe that the value of alpha that maximizes AUC value is $\\alpha = 1.00 $ and we use it for testing."
   ]
  },
  {
   "cell_type": "markdown",
   "metadata": {
    "colab_type": "text",
    "id": "w2nH0Q9Z_Vas"
   },
   "source": [
    "### 1.5.1.1 Testing  "
   ]
  },
  {
   "cell_type": "code",
   "execution_count": 1018,
   "metadata": {
    "colab": {
     "base_uri": "https://localhost:8080/",
     "height": 301
    },
    "colab_type": "code",
    "id": "bSpUPZfR_aDI",
    "outputId": "40e6e82a-1f56-478b-af0a-4054610cfb6d"
   },
   "outputs": [
    {
     "data": {
      "image/png": "[encoded data removed]",
      "text/plain": [
       "<Figure size 432x288 with 1 Axes>"
      ]
     },
     "metadata": {
      "needs_background": "light",
      "tags": []
     },
     "output_type": "display_data"
    }
   ],
   "source": [
    "from sklearn.metrics import roc_curve,roc_auc_score,confusion_matrix\n",
    "\n",
    "clf = MultinomialNB(alpha = best_alpha_bow, class_prior = [0.5,0.5])\n",
    "clf.fit(X_tr_bow,Y_train)\n",
    "\n",
    "y_prob_tr = clf.predict_proba(X_tr_bow)[:,1]\n",
    "fpr_tr, tpr_tr, thresholds_tr = roc_curve(Y_train,y_prob_tr)\n",
    "plt.plot(fpr_tr, tpr_tr)\n",
    "\n",
    "y_prob_te = clf.predict_proba(X_te_bow)[:,1]\n",
    "fpr_te, tpr_te, thresholds_te = roc_curve(Y_te,y_prob_te)\n",
    "plt.plot(fpr_te, tpr_te)\n",
    "\n",
    "AUC_tr_bow = roc_auc_score(Y_train, y_prob_tr)\n",
    "AUC_te_bow = roc_auc_score(Y_te, y_prob_te)\n",
    "\n",
    "\n",
    "plt.legend( ('Train ROC & Train AUC -- '+str(np.round(AUC_tr_bow, decimals=4)), 'Test ROC & Test AUC -- '+str(np.round(AUC_te_bow, decimals=4)) ) )\n",
    "plt.xlabel('fpr values')\n",
    "plt.ylabel('Tpr values')\n",
    "plt.grid(b=True)\n",
    "plt.title('Roc Curves for Train and Test data.')\n",
    "plt.show()"
   ]
  },
  {
   "cell_type": "code",
   "execution_count": 1019,
   "metadata": {
    "colab": {
     "base_uri": "https://localhost:8080/",
     "height": 285
    },
    "colab_type": "code",
    "id": "_dZiimGvep7z",
    "outputId": "272842eb-b87c-4e03-c836-6030ad39acb7"
   },
   "outputs": [
    {
     "name": "stdout",
     "output_type": "stream",
     "text": [
      "Confusion matrix for the Test data.\n"
     ]
    },
    {
     "data": {
      "image/png": "[encoded data removed]",
      "text/plain": [
       "<Figure size 432x288 with 2 Axes>"
      ]
     },
     "metadata": {
      "needs_background": "light",
      "tags": []
     },
     "output_type": "display_data"
    }
   ],
   "source": [
    "import seaborn as sns\n",
    "\n",
    "y_pred_bow=clf.predict(X_te_bow)\n",
    "cnf_mtrx_bow = confusion_matrix(Y_te, y_pred_bow)\n",
    "\n",
    "print('Confusion matrix for the Test data.')\n",
    "x=pd.DataFrame(cnf_mtrx_bow, columns = [\"Predicted: NO\",\"Predicted: YES\"], index = [\"Actual: NO\",\"Actual: YES\"] )\n",
    "sns.heatmap(x, annot=True,fmt=\"d\", cmap='Blues')\n",
    "plt.show()"
   ]
  },
  {
   "cell_type": "markdown",
   "metadata": {
    "colab_type": "text",
    "id": "zxunpYkfJbgF"
   },
   "source": [
    "### 1.5.1.2 Getting the top 20 features that are the most useful in classification. "
   ]
  },
  {
   "cell_type": "markdown",
   "metadata": {
    "colab_type": "text",
    "id": "EiEfcXXW2WNU"
   },
   "source": [
    "### Features most useful for class zero"
   ]
  },
  {
   "cell_type": "code",
   "execution_count": 1020,
   "metadata": {
    "colab": {
     "base_uri": "https://localhost:8080/",
     "height": 71
    },
    "colab_type": "code",
    "id": "w-a5zmd3KCFD",
    "outputId": "f487af86-6ea0-4e19-fa47-34ff5850f03a"
   },
   "outputs": [
    {
     "name": "stdout",
     "output_type": "stream",
     "text": [
      "['10 12', '10 chromebooks', '10 year olds', '100 free lunch students', '100 participation reduce', '11 girls', '12 grade', '12 special', '125 students', '130 students', '14 students', '20 kindergarten', '20 kindergarten students', '20 minutes day', '20 years ago', '21st century learning skills', '21st century work', '22 eager', '24 kindergarten', '25 30']\n",
      "[8, 11, 17, 26, 31, 65, 78, 80, 92, 103, 105, 163, 164, 167, 170, 216, 226, 229, 237, 240]\n"
     ]
    }
   ],
   "source": [
    "features = list(abs(clf.feature_log_prob_[0]))\n",
    "x = dict((i, features[i]) for i in range(len(features)) )\n",
    "\n",
    "ftr_dict = {k: v for k, v in sorted(x.items(), key=lambda item: item[1], reverse = True)}\n",
    "ftr_indx = list(ftr_dict.keys())\n",
    "no_ftr = 20\n",
    "ftr_indx_20 = [ftr_indx[i] for i in range(no_ftr)]\n",
    "ftr_names_20 = [features_inorder_bow[i] for i in (ftr_indx_20)]\n",
    "print(ftr_names_20)\n",
    "print(ftr_indx_20)"
   ]
  },
  {
   "cell_type": "markdown",
   "metadata": {
    "colab_type": "text",
    "id": "fjAasS6pB1OM"
   },
   "source": [
    "### Features most useful for class one"
   ]
  },
  {
   "cell_type": "code",
   "execution_count": 1021,
   "metadata": {
    "colab": {
     "base_uri": "https://localhost:8080/",
     "height": 71
    },
    "colab_type": "code",
    "id": "_RxIVYwTBzmB",
    "outputId": "971bdd96-e497-4e21-f54a-25e3865846cc"
   },
   "outputs": [
    {
     "name": "stdout",
     "output_type": "stream",
     "text": [
      "['care_hunger', 'warmth', 'care_hunger', 'warmth', 'dr', 'adhd need', 'around materials', 'certain skills', 'come extremely low', 'donating students', 'equipment pe', 'funding district', 'greatly assist', 'help donors choose', 'know feel', 'learning motivate', 'love centers', 'mathematical ideas', 'minutes pe', 'movement want']\n",
      "[65287, 65294, 65296, 65324, 65277, 2101, 3911, 7698, 10502, 14946, 17347, 21095, 23105, 24296, 28487, 30500, 32550, 34888, 35558, 36079]\n"
     ]
    }
   ],
   "source": [
    "features = list(abs(clf.feature_log_prob_[1]))\n",
    "x = dict((i, features[i]) for i in range(len(features)) )\n",
    "\n",
    "ftr_dict = {k: v for k, v in sorted(x.items(), key=lambda item: item[1], reverse = True)}\n",
    "ftr_indx = list(ftr_dict.keys())\n",
    "no_ftr = 20\n",
    "ftr_indx_20 = [ftr_indx[i] for i in range(no_ftr)]\n",
    "ftr_names_20 = [features_inorder_bow[i] for i in (ftr_indx_20)]\n",
    "print(ftr_names_20)\n",
    "print(ftr_indx_20)"
   ]
  },
  {
   "cell_type": "markdown",
   "metadata": {
    "colab_type": "text",
    "id": "9PrQZJp8MGsY"
   },
   "source": [
    "From the above cell output,we can observe that care_hunger is present twice. It is due to the presence of care_hunger in both subject categories and subject sub categories.   "
   ]
  },
  {
   "cell_type": "markdown",
   "metadata": {
    "colab_type": "text",
    "id": "u9kGsqfg-zyG"
   },
   "source": [
    "### 1.5.2 Set2 (TF-IDF) Features"
   ]
  },
  {
   "cell_type": "code",
   "execution_count": 1022,
   "metadata": {
    "colab": {
     "base_uri": "https://localhost:8080/",
     "height": 377
    },
    "colab_type": "code",
    "id": "1XCGSUVO-Ock",
    "outputId": "297734d2-5325-4275-973e-389bddbf0293"
   },
   "outputs": [
    {
     "name": "stdout",
     "output_type": "stream",
     "text": [
      "[0, 1e-07, 1.584893192461114e-07, 2.5118864315095823e-07, 3.981071705534977e-07, 6.309573444801942e-07, 1.000000000000002e-06, 1.5848931924611175e-06, 2.5118864315095874e-06, 3.981071705534985e-06, 6.309573444801956e-06, 1.0000000000000041e-05, 1.5848931924611206e-05, 2.5118864315095924e-05, 3.981071705534994e-05, 6.309573444801969e-05, 0.00010000000000000061, 0.0001584893192461124, 0.00025118864315095974, 0.00039810717055350017, 0.0004999999999999999, 0.0006309573444801982, 0.0007924465962305569, 0.0010000000000000083, 0.001255943215754791, 0.001584893192461127, 0.0019905358527674884, 0.002511886431509603, 0.0031547867224009708, 0.00398107170553501, 0.00500000000000001, 0.0063095734448019945, 0.007924465962305586, 0.010000000000000103, 0.012559432157547935, 0.015848931924611304, 0.019905358527674926, 0.02511886431509608, 0.031547867224009776, 0.03981071705535018, 0.0500000000000002, 0.06309573444802008, 0.07924465962305602, 0.10000000000000123, 0.12559432157547962, 0.15848931924611337, 0.19905358527674966, 0.2511886431509613, 0.3154786722400984, 0.39810717055350264, 0.500000000000003, 0.630957344480202, 0.7924465962305618, 1.0000000000000142, 1.2559432157547987, 1.584893192461137, 1.9905358527675006, 2.5118864315096183, 3.1547867224009902, 3.9810717055350344, 6.309573444802033]\n"
     ]
    },
    {
     "data": {
      "text/html": [
       "<div>\n",
       "<style scoped>\n",
       "    .dataframe tbody tr th:only-of-type {\n",
       "        vertical-align: middle;\n",
       "    }\n",
       "\n",
       "    .dataframe tbody tr th {\n",
       "        vertical-align: top;\n",
       "    }\n",
       "\n",
       "    .dataframe thead th {\n",
       "        text-align: right;\n",
       "    }\n",
       "</style>\n",
       "<table border=\"1\" class=\"dataframe\">\n",
       "  <thead>\n",
       "    <tr style=\"text-align: right;\">\n",
       "      <th></th>\n",
       "      <th>mean_fit_time</th>\n",
       "      <th>std_fit_time</th>\n",
       "      <th>mean_score_time</th>\n",
       "      <th>std_score_time</th>\n",
       "      <th>param_alpha</th>\n",
       "      <th>param_class_prior</th>\n",
       "      <th>params</th>\n",
       "      <th>split0_test_score</th>\n",
       "      <th>split1_test_score</th>\n",
       "      <th>split2_test_score</th>\n",
       "      <th>split3_test_score</th>\n",
       "      <th>split4_test_score</th>\n",
       "      <th>split5_test_score</th>\n",
       "      <th>split6_test_score</th>\n",
       "      <th>split7_test_score</th>\n",
       "      <th>split8_test_score</th>\n",
       "      <th>split9_test_score</th>\n",
       "      <th>mean_test_score</th>\n",
       "      <th>std_test_score</th>\n",
       "      <th>rank_test_score</th>\n",
       "      <th>split0_train_score</th>\n",
       "      <th>split1_train_score</th>\n",
       "      <th>split2_train_score</th>\n",
       "      <th>split3_train_score</th>\n",
       "      <th>split4_train_score</th>\n",
       "      <th>split5_train_score</th>\n",
       "      <th>split6_train_score</th>\n",
       "      <th>split7_train_score</th>\n",
       "      <th>split8_train_score</th>\n",
       "      <th>split9_train_score</th>\n",
       "      <th>mean_train_score</th>\n",
       "      <th>std_train_score</th>\n",
       "    </tr>\n",
       "  </thead>\n",
       "  <tbody>\n",
       "    <tr>\n",
       "      <th>0</th>\n",
       "      <td>0.129126</td>\n",
       "      <td>0.010064</td>\n",
       "      <td>0.014366</td>\n",
       "      <td>0.001446</td>\n",
       "      <td>0</td>\n",
       "      <td>[0.5, 0.5]</td>\n",
       "      <td>{'alpha': 0, 'class_prior': [0.5, 0.5]}</td>\n",
       "      <td>0.612627</td>\n",
       "      <td>0.612184</td>\n",
       "      <td>0.614816</td>\n",
       "      <td>0.624132</td>\n",
       "      <td>0.621346</td>\n",
       "      <td>0.602613</td>\n",
       "      <td>0.614675</td>\n",
       "      <td>0.622386</td>\n",
       "      <td>0.628425</td>\n",
       "      <td>0.638438</td>\n",
       "      <td>0.619164</td>\n",
       "      <td>0.009495</td>\n",
       "      <td>55</td>\n",
       "      <td>0.974621</td>\n",
       "      <td>0.973188</td>\n",
       "      <td>0.974210</td>\n",
       "      <td>0.974355</td>\n",
       "      <td>0.973922</td>\n",
       "      <td>0.973978</td>\n",
       "      <td>0.973239</td>\n",
       "      <td>0.974282</td>\n",
       "      <td>0.973162</td>\n",
       "      <td>0.974418</td>\n",
       "      <td>0.973937</td>\n",
       "      <td>0.000521</td>\n",
       "    </tr>\n",
       "    <tr>\n",
       "      <th>1</th>\n",
       "      <td>0.121938</td>\n",
       "      <td>0.003415</td>\n",
       "      <td>0.014345</td>\n",
       "      <td>0.000928</td>\n",
       "      <td>1e-07</td>\n",
       "      <td>[0.5, 0.5]</td>\n",
       "      <td>{'alpha': 1e-07, 'class_prior': [0.5, 0.5]}</td>\n",
       "      <td>0.625251</td>\n",
       "      <td>0.622179</td>\n",
       "      <td>0.625734</td>\n",
       "      <td>0.637842</td>\n",
       "      <td>0.635393</td>\n",
       "      <td>0.615037</td>\n",
       "      <td>0.625722</td>\n",
       "      <td>0.639761</td>\n",
       "      <td>0.643032</td>\n",
       "      <td>0.652882</td>\n",
       "      <td>0.632283</td>\n",
       "      <td>0.010822</td>\n",
       "      <td>53</td>\n",
       "      <td>0.972005</td>\n",
       "      <td>0.970325</td>\n",
       "      <td>0.971409</td>\n",
       "      <td>0.971951</td>\n",
       "      <td>0.971109</td>\n",
       "      <td>0.971580</td>\n",
       "      <td>0.970582</td>\n",
       "      <td>0.971650</td>\n",
       "      <td>0.970624</td>\n",
       "      <td>0.972118</td>\n",
       "      <td>0.971335</td>\n",
       "      <td>0.000612</td>\n",
       "    </tr>\n",
       "    <tr>\n",
       "      <th>2</th>\n",
       "      <td>0.122736</td>\n",
       "      <td>0.005781</td>\n",
       "      <td>0.014054</td>\n",
       "      <td>0.000608</td>\n",
       "      <td>1.58489e-07</td>\n",
       "      <td>[0.5, 0.5]</td>\n",
       "      <td>{'alpha': 1.584893192461114e-07, 'class_prior'...</td>\n",
       "      <td>0.626422</td>\n",
       "      <td>0.623034</td>\n",
       "      <td>0.626701</td>\n",
       "      <td>0.638992</td>\n",
       "      <td>0.636634</td>\n",
       "      <td>0.616092</td>\n",
       "      <td>0.626638</td>\n",
       "      <td>0.641306</td>\n",
       "      <td>0.644390</td>\n",
       "      <td>0.654148</td>\n",
       "      <td>0.633436</td>\n",
       "      <td>0.010963</td>\n",
       "      <td>52</td>\n",
       "      <td>0.971718</td>\n",
       "      <td>0.970016</td>\n",
       "      <td>0.971104</td>\n",
       "      <td>0.971684</td>\n",
       "      <td>0.970802</td>\n",
       "      <td>0.971309</td>\n",
       "      <td>0.970292</td>\n",
       "      <td>0.971361</td>\n",
       "      <td>0.970347</td>\n",
       "      <td>0.971863</td>\n",
       "      <td>0.971050</td>\n",
       "      <td>0.000622</td>\n",
       "    </tr>\n",
       "    <tr>\n",
       "      <th>3</th>\n",
       "      <td>0.123570</td>\n",
       "      <td>0.005637</td>\n",
       "      <td>0.015085</td>\n",
       "      <td>0.001520</td>\n",
       "      <td>2.51189e-07</td>\n",
       "      <td>[0.5, 0.5]</td>\n",
       "      <td>{'alpha': 2.5118864315095823e-07, 'class_prior...</td>\n",
       "      <td>0.627541</td>\n",
       "      <td>0.623883</td>\n",
       "      <td>0.627676</td>\n",
       "      <td>0.640261</td>\n",
       "      <td>0.637844</td>\n",
       "      <td>0.617180</td>\n",
       "      <td>0.627658</td>\n",
       "      <td>0.642879</td>\n",
       "      <td>0.645675</td>\n",
       "      <td>0.655422</td>\n",
       "      <td>0.634602</td>\n",
       "      <td>0.011098</td>\n",
       "      <td>51</td>\n",
       "      <td>0.971410</td>\n",
       "      <td>0.969682</td>\n",
       "      <td>0.970777</td>\n",
       "      <td>0.971396</td>\n",
       "      <td>0.970475</td>\n",
       "      <td>0.971019</td>\n",
       "      <td>0.969982</td>\n",
       "      <td>0.971051</td>\n",
       "      <td>0.970050</td>\n",
       "      <td>0.971592</td>\n",
       "      <td>0.970743</td>\n",
       "      <td>0.000634</td>\n",
       "    </tr>\n",
       "    <tr>\n",
       "      <th>4</th>\n",
       "      <td>0.124379</td>\n",
       "      <td>0.004809</td>\n",
       "      <td>0.016758</td>\n",
       "      <td>0.005337</td>\n",
       "      <td>3.98107e-07</td>\n",
       "      <td>[0.5, 0.5]</td>\n",
       "      <td>{'alpha': 3.981071705534977e-07, 'class_prior'...</td>\n",
       "      <td>0.628766</td>\n",
       "      <td>0.624838</td>\n",
       "      <td>0.628742</td>\n",
       "      <td>0.641559</td>\n",
       "      <td>0.639178</td>\n",
       "      <td>0.618348</td>\n",
       "      <td>0.628703</td>\n",
       "      <td>0.644459</td>\n",
       "      <td>0.647016</td>\n",
       "      <td>0.656784</td>\n",
       "      <td>0.635839</td>\n",
       "      <td>0.011225</td>\n",
       "      <td>49</td>\n",
       "      <td>0.971081</td>\n",
       "      <td>0.969324</td>\n",
       "      <td>0.970426</td>\n",
       "      <td>0.971086</td>\n",
       "      <td>0.970123</td>\n",
       "      <td>0.970703</td>\n",
       "      <td>0.969647</td>\n",
       "      <td>0.970719</td>\n",
       "      <td>0.969733</td>\n",
       "      <td>0.971297</td>\n",
       "      <td>0.970414</td>\n",
       "      <td>0.000646</td>\n",
       "    </tr>\n",
       "  </tbody>\n",
       "</table>\n",
       "</div>"
      ],
      "text/plain": [
       "   mean_fit_time  std_fit_time  ...  mean_train_score  std_train_score\n",
       "0       0.129126      0.010064  ...          0.973937         0.000521\n",
       "1       0.121938      0.003415  ...          0.971335         0.000612\n",
       "2       0.122736      0.005781  ...          0.971050         0.000622\n",
       "3       0.123570      0.005637  ...          0.970743         0.000634\n",
       "4       0.124379      0.004809  ...          0.970414         0.000646\n",
       "\n",
       "[5 rows x 32 columns]"
      ]
     },
     "execution_count": 1022,
     "metadata": {
      "tags": []
     },
     "output_type": "execute_result"
    }
   ],
   "source": [
    "step = 0.2\n",
    "\n",
    "l1 = (list(np.arange(-7,1,step)))\n",
    "l2=list(np.arange(-4+np.log10(5),np.log10(5),step))\n",
    "l1.extend(l2)\n",
    "alpha=list(np.power(10,sorted(l1)))\n",
    "alpha.extend([0])\n",
    "alpha = sorted(alpha)\n",
    "priors = [[0.5, 0.5]]\n",
    "hyper_param = {'alpha' : alpha, 'class_prior' : priors }\n",
    "print(alpha)\n",
    "\n",
    "clf = MultinomialNB()\n",
    "classifier = GridSearchCV(clf, hyper_param, cv=10,return_train_score=True, scoring='roc_auc', n_jobs=-1)\n",
    "classifier.fit(X_train_tfidf, Y_train_tfidf)\n",
    "\n",
    "results = pd.DataFrame.from_dict(classifier.cv_results_)\n",
    "results = results.sort_values(['param_alpha'])\n",
    "\n",
    "results.head()"
   ]
  },
  {
   "cell_type": "code",
   "execution_count": 1023,
   "metadata": {
    "colab": {
     "base_uri": "https://localhost:8080/",
     "height": 301
    },
    "colab_type": "code",
    "id": "Awoufzv9-OU4",
    "outputId": "ca62a01c-340c-45f3-c42f-fd7d1c23af0c"
   },
   "outputs": [
    {
     "data": {
      "image/png": "[encoded data removed]",
      "text/plain": [
       "<Figure size 432x288 with 1 Axes>"
      ]
     },
     "metadata": {
      "needs_background": "light",
      "tags": []
     },
     "output_type": "display_data"
    }
   ],
   "source": [
    "train_auc= results['mean_train_score']\n",
    "train_auc_std= results['std_train_score']\n",
    "cv_auc = results['mean_test_score'] \n",
    "cv_auc_std= results['std_test_score']\n",
    "a =  results['param_alpha']\n",
    "log_a = np.log10(list(a))\n",
    "plt.plot(log_a, train_auc, label='Train AUC')\n",
    "# this code is copied from here: https://stackoverflow.com/a/48803361/4084039\n",
    "# plt.gca().fill_between(K, train_auc - train_auc_std,train_auc + train_auc_std,alpha=0.2,color='darkblue')\n",
    "\n",
    "plt.plot(log_a, cv_auc, label='CV AUC')\n",
    "\n",
    "plt.scatter(log_a, train_auc, label='Train AUC points')\n",
    "plt.scatter(log_a, cv_auc, label='CV AUC points')\n",
    "\n",
    "plt.grid(b=True)\n",
    "plt.legend()\n",
    "plt.title(\"AUC value at different alpha(hyperparameter)\")\n",
    "plt.xlabel(\"log(alpha): hyperparameter\")\n",
    "plt.ylabel(\"AUC Value\")\n",
    "plt.show()"
   ]
  },
  {
   "cell_type": "code",
   "execution_count": 1024,
   "metadata": {
    "colab": {
     "base_uri": "https://localhost:8080/",
     "height": 34
    },
    "colab_type": "code",
    "id": "7MCb80wEDqaQ",
    "outputId": "a92ff39e-47b2-4cb5-b669-1d00f04d4762"
   },
   "outputs": [
    {
     "name": "stdout",
     "output_type": "stream",
     "text": [
      "0.0500000000000002\n"
     ]
    }
   ],
   "source": [
    "best_alpha_tfidf = alpha[np.argmax(cv_auc)]\n",
    "print(best_alpha_tfidf)"
   ]
  },
  {
   "cell_type": "markdown",
   "metadata": {
    "colab_type": "text",
    "id": "FEz0fnrID4eJ"
   },
   "source": [
    "From the above plot and code, we can observe that best hyper parameter is $\\alpha = 0.05 $ and we take this value for testing. "
   ]
  },
  {
   "cell_type": "markdown",
   "metadata": {
    "colab_type": "text",
    "id": "1diV1c51EldG"
   },
   "source": [
    "### 1.5.2.1 Testing"
   ]
  },
  {
   "cell_type": "code",
   "execution_count": 1025,
   "metadata": {
    "colab": {
     "base_uri": "https://localhost:8080/",
     "height": 301
    },
    "colab_type": "code",
    "id": "E1p-pZi2FUnb",
    "outputId": "b90b8ec0-ed80-4e42-a907-4a1de256c18b"
   },
   "outputs": [
    {
     "data": {
      "image/png": "[encoded data removed]",
      "text/plain": [
       "<Figure size 432x288 with 1 Axes>"
      ]
     },
     "metadata": {
      "needs_background": "light",
      "tags": []
     },
     "output_type": "display_data"
    }
   ],
   "source": [
    "from sklearn.metrics import roc_curve,roc_auc_score,confusion_matrix\n",
    "\n",
    "clf = MultinomialNB(alpha = best_alpha_tfidf, class_prior= [0.5,0.5])\n",
    "clf.fit(X_tr_tfidf,Y_train)\n",
    "\n",
    "y_prob_tr = clf.predict_proba(X_tr_tfidf)[:,1]\n",
    "fpr_tr, tpr_tr, thresholds_tr = roc_curve(Y_train,y_prob_tr)\n",
    "plt.plot(fpr_tr, tpr_tr)\n",
    "\n",
    "y_prob_te = clf.predict_proba(X_te_tfidf)[:,1]\n",
    "fpr_te, tpr_te, thresholds_te = roc_curve(Y_te,y_prob_te)\n",
    "plt.plot(fpr_te, tpr_te)\n",
    "\n",
    "AUC_tr_tfidf = roc_auc_score(Y_train, y_prob_tr)\n",
    "AUC_te_tfidf = roc_auc_score(Y_te, y_prob_te)\n",
    "\n",
    "plt.grid(b=True)\n",
    "plt.legend( ('Train ROC & Train AUC -- '+str(np.round(AUC_tr_tfidf, decimals=4)), 'Test ROC & Test AUC -- '+str(np.round(AUC_te_tfidf, decimals=4)) ) )\n",
    "plt.xlabel('fpr values')\n",
    "plt.ylabel('Tpr values')\n",
    "plt.title('Roc Curves for Train and Test data.')\n",
    "plt.show()\n"
   ]
  },
  {
   "cell_type": "code",
   "execution_count": 1026,
   "metadata": {
    "colab": {
     "base_uri": "https://localhost:8080/",
     "height": 285
    },
    "colab_type": "code",
    "id": "fMBz1RFxjnjG",
    "outputId": "2f0a53e0-1aab-45ee-b487-4681cdc4fa14"
   },
   "outputs": [
    {
     "name": "stdout",
     "output_type": "stream",
     "text": [
      "Confusion matrix for the Test data.\n"
     ]
    },
    {
     "data": {
      "image/png": "[encoded data removed]",
      "text/plain": [
       "<Figure size 432x288 with 2 Axes>"
      ]
     },
     "metadata": {
      "needs_background": "light",
      "tags": []
     },
     "output_type": "display_data"
    }
   ],
   "source": [
    "y_pred_tfidf=clf.predict(X_te_tfidf)\n",
    "cnf_mtrx_tfidf = confusion_matrix(Y_te, y_pred_tfidf)\n",
    "\n",
    "print('Confusion matrix for the Test data.')\n",
    "x=pd.DataFrame(cnf_mtrx_tfidf, columns = [\"Predicted: NO\",\"Predicted: YES\"], index = [\"Actual: NO\",\"Actual: YES\"] )\n",
    "sns.heatmap(x, annot=True,fmt=\"d\", cmap='Blues')\n",
    "plt.show()"
   ]
  },
  {
   "cell_type": "markdown",
   "metadata": {
    "colab_type": "text",
    "id": "QY4YX5s4GfKV"
   },
   "source": [
    "### 1.5.1.2 Getting the top 20 features that are the most useful in classification. "
   ]
  },
  {
   "cell_type": "markdown",
   "metadata": {
    "colab_type": "text",
    "id": "rF1NYe8EGfKX"
   },
   "source": [
    "### Features most useful for class zero"
   ]
  },
  {
   "cell_type": "code",
   "execution_count": 1027,
   "metadata": {
    "colab": {
     "base_uri": "https://localhost:8080/",
     "height": 71
    },
    "colab_type": "code",
    "id": "gwPcIbPdGfKY",
    "outputId": "3858861c-aa29-4873-f9b4-ede60802cf91"
   },
   "outputs": [
    {
     "name": "stdout",
     "output_type": "stream",
     "text": [
      "['10 12', '10 chromebooks', '10 year olds', '100 free lunch students', '100 participation reduce', '11 girls', '12 grade', '12 special', '125 students', '130 students', '14 students', '20 kindergarten', '20 kindergarten students', '20 minutes day', '20 years ago', '21st century learning skills', '21st century work', '22 eager', '24 kindergarten', '25 30']\n",
      "[8, 11, 17, 26, 31, 65, 78, 80, 92, 103, 105, 163, 164, 167, 170, 216, 226, 229, 237, 240]\n"
     ]
    }
   ],
   "source": [
    "features = list(abs(clf.feature_log_prob_[0]))\n",
    "x = dict((i, features[i]) for i in range(len(features)) )\n",
    "\n",
    "ftr_dict = {k: v for k, v in sorted(x.items(), key=lambda item: item[1], reverse = True)}\n",
    "ftr_indx = list(ftr_dict.keys())\n",
    "no_ftr = 20\n",
    "ftr_indx_20 = [ftr_indx[i] for i in range(no_ftr)]\n",
    "ftr_names_20 = [features_inorder_tfidf[i] for i in (ftr_indx_20)]\n",
    "print(ftr_names_20)\n",
    "print(ftr_indx_20)"
   ]
  },
  {
   "cell_type": "markdown",
   "metadata": {
    "colab_type": "text",
    "id": "_GoNIsYWGfKe"
   },
   "source": [
    "### Features most useful for class one"
   ]
  },
  {
   "cell_type": "code",
   "execution_count": 1028,
   "metadata": {
    "colab": {
     "base_uri": "https://localhost:8080/",
     "height": 71
    },
    "colab_type": "code",
    "id": "T5Dgj4MIGfKf",
    "outputId": "9f973b54-ed6a-4418-8103-7166bd1c43c2"
   },
   "outputs": [
    {
     "name": "stdout",
     "output_type": "stream",
     "text": [
      "['care_hunger', 'warmth', 'care_hunger', 'warmth', 'minutes pe', 'help donors choose', 'equipment pe', 'choices independently constantly', 'make choices independently constantly', 'funding district', 'know feel', 'mathematical ideas', 'provide resources necessary', 'students become productive', 'donating students', 'learning motivate', 'come extremely low', 'greatly assist', 'building drawing counting', 'certain skills']\n",
      "[65287, 65294, 65296, 65324, 35558, 24296, 17347, 8586, 33435, 21095, 28487, 34888, 43147, 52619, 14946, 30500, 10502, 23105, 7039, 7698]\n"
     ]
    }
   ],
   "source": [
    "features = list(abs(clf.feature_log_prob_[1]))\n",
    "x = dict((i, features[i]) for i in range(len(features)) )\n",
    "\n",
    "ftr_dict = {k: v for k, v in sorted(x.items(), key=lambda item: item[1], reverse = True)}\n",
    "ftr_indx = list(ftr_dict.keys())\n",
    "no_ftr = 20\n",
    "ftr_indx_20 = [ftr_indx[i] for i in range(no_ftr)]\n",
    "ftr_names_20 = [features_inorder_tfidf[i] for i in (ftr_indx_20)]\n",
    "print(ftr_names_20)\n",
    "print(ftr_indx_20)"
   ]
  },
  {
   "cell_type": "markdown",
   "metadata": {
    "colab_type": "text",
    "id": "_0iNYkiQQmTt"
   },
   "source": [
    "From the above cell output,we can observe that care_hunger is present twice. It is due to the presence of care_hunger in both subject categories and subject sub categories.   "
   ]
  },
  {
   "cell_type": "markdown",
   "metadata": {
    "colab_type": "text",
    "id": "gNM0F096ND-b"
   },
   "source": [
    "<h1>3. Summary</h1>\n",
    "<br> as mentioned in the step 5 of instructions"
   ]
  },
  {
   "cell_type": "code",
   "execution_count": 1029,
   "metadata": {
    "colab": {
     "base_uri": "https://localhost:8080/",
     "height": 119
    },
    "colab_type": "code",
    "id": "BsmsbZ46HRha",
    "outputId": "370174f0-82bd-4bd0-d033-eac53ff0c7d4"
   },
   "outputs": [
    {
     "name": "stdout",
     "output_type": "stream",
     "text": [
      "+------------+-----------------+-----------+----------+\n",
      "| Vectorizer | Hyper parameter | Train AUC | Test AUC |\n",
      "+------------+-----------------+-----------+----------+\n",
      "|    BOW     |       1.0       |   0.9424  |  0.6938  |\n",
      "|   TFIDF    |       0.05      |   0.9649  |  0.6776  |\n",
      "+------------+-----------------+-----------+----------+\n"
     ]
    }
   ],
   "source": [
    "# http://zetcode.com/python/prettytable/\n",
    "from prettytable import PrettyTable\n",
    "\n",
    "x = PrettyTable()\n",
    "x.field_names = [\"Vectorizer\", \"Hyper parameter\", \"Train AUC\", \"Test AUC\"]\n",
    "\n",
    "for i in range(1):\n",
    "    x.add_row(['BOW', np.round(best_alpha_bow,6) , np.round(AUC_tr_bow,4), np.round(AUC_te_bow,4) ])\n",
    "    x.add_row([\"TFIDF\", np.round(best_alpha_tfidf,6) , np.round(AUC_tr_tfidf,4) , np.round(AUC_te_tfidf,4) ])\n",
    "print(x)"
   ]
  }
 ],
 "metadata": {
  "accelerator": "TPU",
  "colab": {
   "collapsed_sections": [],
   "name": "6_Assignment_NB_Instructions.ipynb",
   "provenance": []
  },
  "kernelspec": {
   "display_name": "Python 3",
   "language": "python",
   "name": "python3"
  },
  "language_info": {
   "codemirror_mode": {
    "name": "ipython",
    "version": 3
   },
   "file_extension": ".py",
   "mimetype": "text/x-python",
   "name": "python",
   "nbconvert_exporter": "python",
   "pygments_lexer": "ipython3",
   "version": "3.7.4"
  }
 },
 "nbformat": 4,
 "nbformat_minor": 1
}
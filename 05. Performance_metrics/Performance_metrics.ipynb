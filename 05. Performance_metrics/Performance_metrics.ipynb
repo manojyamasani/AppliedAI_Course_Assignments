{
  "cells": [
    {
      "cell_type": "markdown",
      "metadata": {
        "id": "view-in-github",
        "colab_type": "text"
      },
      "source": [
        "<a href=\"https://colab.research.google.com/github/manojyamasani/DataScience_Projects/blob/main/05.%20Performance_metrics/Performance_metrics.ipynb\" target=\"_parent\"><img src=\"https://colab.research.google.com/assets/colab-badge.svg\" alt=\"Open In Colab\"/></a>"
      ]
    },
    {
      "cell_type": "markdown",
      "metadata": {
        "id": "s0Ej_bXyQvnV"
      },
      "source": [
        "# Compute performance metrics for the given Y and Y_score without sklearn"
      ]
    },
    {
      "cell_type": "code",
      "execution_count": 1,
      "metadata": {
        "id": "4CHb6NE7Qvnc"
      },
      "outputs": [],
      "source": [
        "import numpy as np\n",
        "import pandas as pd\n",
        "# other than these two you should not import any other packages"
      ]
    },
    {
      "cell_type": "markdown",
      "metadata": {
        "id": "KbsWXuDaQvnq"
      },
      "source": [
        "<pre>\n",
        "<font color='red'><b>A.</b></font> Compute performance metrics for the given data <strong>5_a.csv</strong>\n",
        "   <b>Note 1:</b> in this data you can see number of positive points >> number of negatives points\n",
        "   <b>Note 2:</b> use pandas or numpy to read the data from <b>5_a.csv</b>\n",
        "   <b>Note 3:</b> you need to derive the class labels from given score</pre> $y^{pred}= \\text{[0 if y_score < 0.5 else 1]}$\n",
        "\n",
        "<pre>\n",
        "<ol>\n",
        "<li> Compute Confusion Matrix </li>\n",
        "<li> Compute F1 Score </li>\n",
        "<li> Compute AUC Score, you need to compute different thresholds and for each threshold compute tpr,fpr and then use               numpy.trapz(tpr_array, fpr_array) <a href='https://stackoverflow.com/q/53603376/4084039'>https://stackoverflow.com/q/53603376/4084039</a>, <a href='https://stackoverflow.com/a/39678975/4084039'>https://stackoverflow.com/a/39678975/4084039</a> Note: it should be numpy.trapz(tpr_array, fpr_array) not numpy.trapz(fpr_array, tpr_array)</li>\n",
        "<li> Compute Accuracy Score </li>\n",
        "</ol>\n",
        "</pre>"
      ]
    },
    {
      "cell_type": "code",
      "execution_count": null,
      "metadata": {
        "id": "WaFLW7oBQvnt"
      },
      "outputs": [],
      "source": [
        "# write your code here\n",
        "maindata=pd.read_csv('5_a.csv')\n",
        "data=maindata.copy()\n",
        "data['proba']= list(map(lambda y: (0.0 if y<0.5 else 1.0), data['proba']))\n",
        "print(len(data))"
      ]
    },
    {
      "cell_type": "code",
      "execution_count": null,
      "metadata": {
        "id": "qPm3HjobdGAD",
        "outputId": "6fbead22-cefd-42bc-867f-6592c92bc3ee"
      },
      "outputs": [
        {
          "name": "stdout",
          "output_type": "stream",
          "text": [
            "[[    0     0]\n",
            " [  100 10000]]\n"
          ]
        }
      ],
      "source": [
        "cnf_matrix=np.zeros((2,2),dtype=int)\n",
        "for i in range(2):\n",
        "    for j in range(2):\n",
        "        cnf_matrix[i,j]=len(data[(data['y']==float(j)) & (data['proba']==float(i))])\n",
        "print(cnf_matrix)"
      ]
    },
    {
      "cell_type": "markdown",
      "source": [
        "**Precision** : It measures the proportion of true positive predictions among all positive predictions made by the model. In other words, it quantifies the accuracy of positive predictions made by the model.\n",
        "\n",
        "Mathematically, precision is calculated as:\n",
        "\n",
        "\n",
        "$$\n",
        "Precision = \\frac{\\text{True Positives}}{\\text{True Positives} + \\text{False Positives}}\n",
        "$$\n",
        "\n"
      ],
      "metadata": {
        "id": "CscRxWeNR48e"
      }
    },
    {
      "cell_type": "markdown",
      "source": [
        "**Recall** :  Recall measures the proportion of true positive predictions among all actual positive instances in the dataset. In other words, it quantifies the ability of the model to correctly identify all positive instances.\n",
        "\n",
        "\n",
        "Mathematically, Recall is calculated as:\n",
        "\n",
        "\n",
        "$$\n",
        "Recall = \\frac{\\text{True Positives}}{\\text{True Positives} + \\text{False Negatives}}\n",
        "$$\n",
        "\n"
      ],
      "metadata": {
        "id": "vOV4ptc4T7KR"
      }
    },
    {
      "cell_type": "markdown",
      "source": [
        "**Accuracy** :"
      ],
      "metadata": {
        "id": "8TxCpot8XD_J"
      }
    },
    {
      "cell_type": "markdown",
      "source": [
        "**F1_Score** : It is particularly useful in situations where there is an imbalance between the classes or when both false positives and false negatives are important. The F1 score is the harmonic mean of precision and recall and is calculated as follows:\n",
        "\n",
        "$$\n",
        " F1 \\, score = \\frac{2 \\times \\text{Precision} \\times \\text{Recall}}{\\text{Precision} + \\text{Recall}}\n",
        "$$\n",
        "\n",
        "The F1 score ranges between 0 and 1, where a higher value indicates better model performance. It reaches its best value at 1 and worst value at 0.\n",
        "\n",
        "The F1 score is useful when you want to seek a balance between precision and recall and when there is an uneven class distribution (class imbalance). It's commonly used in binary classification problems but can be extended to multi-class classification by averaging the F1 scores of each class (macro-F1, micro-F1, weighted F1, etc.)."
      ],
      "metadata": {
        "id": "3j3I9iDqUosB"
      }
    },
    {
      "cell_type": "code",
      "execution_count": null,
      "metadata": {
        "id": "UzKGAw0XdGAD"
      },
      "outputs": [],
      "source": [
        "prec=cnf_matrix[1,1]/(cnf_matrix[1,0]+cnf_matrix[1,1])\n",
        "recal=cnf_matrix[1,1]/(cnf_matrix[0,1]+cnf_matrix[1,1])\n",
        "Accuracy=(np.trace(cnf_matrix)/(np.sum(cnf_matrix)))*100\n",
        "F1=(2*prec*recal)/(prec+recal)"
      ]
    },
    {
      "cell_type": "code",
      "execution_count": null,
      "metadata": {
        "id": "Fus9-axmdGAD",
        "outputId": "58300621-aa7b-46b4-bcb9-fd23bf775a17"
      },
      "outputs": [
        {
          "name": "stdout",
          "output_type": "stream",
          "text": [
            " Precision : 0.9900990099009901 \n",
            " Recall    : 1.0 \n",
            " Accuracy  : 99.00990099009901 % \n",
            " F1 score  : 0.9950248756218906 \n",
            "\n"
          ]
        }
      ],
      "source": [
        "print(' Precision :',prec,'\\n','Recall    :',recal,'\\n','Accuracy  :',Accuracy,'% \\n','F1 score  :',F1,'\\n')"
      ]
    },
    {
      "cell_type": "code",
      "execution_count": null,
      "metadata": {
        "id": "n4bhMpr8dGAD",
        "outputId": "9cea66db-44a8-427c-da9e-8df4b358956b"
      },
      "outputs": [
        {
          "data": {
            "text/html": [
              "<div>\n",
              "<style scoped>\n",
              "    .dataframe tbody tr th:only-of-type {\n",
              "        vertical-align: middle;\n",
              "    }\n",
              "\n",
              "    .dataframe tbody tr th {\n",
              "        vertical-align: top;\n",
              "    }\n",
              "\n",
              "    .dataframe thead th {\n",
              "        text-align: right;\n",
              "    }\n",
              "</style>\n",
              "<table border=\"1\" class=\"dataframe\">\n",
              "  <thead>\n",
              "    <tr style=\"text-align: right;\">\n",
              "      <th></th>\n",
              "      <th>y</th>\n",
              "      <th>proba</th>\n",
              "    </tr>\n",
              "  </thead>\n",
              "  <tbody>\n",
              "    <tr>\n",
              "      <th>5012</th>\n",
              "      <td>1.0</td>\n",
              "      <td>0.500019</td>\n",
              "    </tr>\n",
              "    <tr>\n",
              "      <th>805</th>\n",
              "      <td>1.0</td>\n",
              "      <td>0.500047</td>\n",
              "    </tr>\n",
              "    <tr>\n",
              "      <th>7421</th>\n",
              "      <td>1.0</td>\n",
              "      <td>0.500058</td>\n",
              "    </tr>\n",
              "    <tr>\n",
              "      <th>1630</th>\n",
              "      <td>1.0</td>\n",
              "      <td>0.500058</td>\n",
              "    </tr>\n",
              "    <tr>\n",
              "      <th>8294</th>\n",
              "      <td>1.0</td>\n",
              "      <td>0.500081</td>\n",
              "    </tr>\n",
              "    <tr>\n",
              "      <th>...</th>\n",
              "      <td>...</td>\n",
              "      <td>...</td>\n",
              "    </tr>\n",
              "    <tr>\n",
              "      <th>8324</th>\n",
              "      <td>1.0</td>\n",
              "      <td>0.899768</td>\n",
              "    </tr>\n",
              "    <tr>\n",
              "      <th>9592</th>\n",
              "      <td>1.0</td>\n",
              "      <td>0.899812</td>\n",
              "    </tr>\n",
              "    <tr>\n",
              "      <th>1028</th>\n",
              "      <td>1.0</td>\n",
              "      <td>0.899825</td>\n",
              "    </tr>\n",
              "    <tr>\n",
              "      <th>2099</th>\n",
              "      <td>1.0</td>\n",
              "      <td>0.899828</td>\n",
              "    </tr>\n",
              "    <tr>\n",
              "      <th>1664</th>\n",
              "      <td>1.0</td>\n",
              "      <td>0.899965</td>\n",
              "    </tr>\n",
              "  </tbody>\n",
              "</table>\n",
              "<p>10100 rows × 2 columns</p>\n",
              "</div>"
            ],
            "text/plain": [
              "        y     proba\n",
              "5012  1.0  0.500019\n",
              "805   1.0  0.500047\n",
              "7421  1.0  0.500058\n",
              "1630  1.0  0.500058\n",
              "8294  1.0  0.500081\n",
              "...   ...       ...\n",
              "8324  1.0  0.899768\n",
              "9592  1.0  0.899812\n",
              "1028  1.0  0.899825\n",
              "2099  1.0  0.899828\n",
              "1664  1.0  0.899965\n",
              "\n",
              "[10100 rows x 2 columns]"
            ]
          },
          "execution_count": 6,
          "metadata": {},
          "output_type": "execute_result"
        }
      ],
      "source": [
        "data2=maindata.copy()\n",
        "data2=data2.drop_duplicates(subset='proba',keep='first')\n",
        "data2=data2.sort_values('proba',ascending=True)\n",
        "data2"
      ]
    },
    {
      "cell_type": "markdown",
      "metadata": {
        "id": "5_NwLMVFdGAD"
      },
      "source": [
        "There are no duplicates in the above dataset as there is no change in size of data after removing the duplicates."
      ]
    },
    {
      "cell_type": "code",
      "execution_count": null,
      "metadata": {
        "scrolled": false,
        "id": "6knDyz5_dGAD",
        "outputId": "55516df6-beea-4c14-bd8e-1bb3c01769aa"
      },
      "outputs": [
        {
          "name": "stdout",
          "output_type": "stream",
          "text": [
            "Area under the curve, AUC is 0.48829900000000004\n"
          ]
        }
      ],
      "source": [
        "def fptp(k,x1):\n",
        "    x=x1.copy()\n",
        "    x['proba']=list(map(lambda y: (0.0 if y<k else 1.0) , x['proba']))\n",
        "    cnf_matrix=np.zeros((2,2),dtype=int)\n",
        "    for i in range(2):\n",
        "        for j in range(2):\n",
        "            cnf_matrix[i,j]=len(x[(x['y']==float(j)) & (x['proba']==float(i))])\n",
        "    tpr=(cnf_matrix[1,1]/(cnf_matrix[0,1]+cnf_matrix[1,1]))\n",
        "    fpr=(cnf_matrix[1,0]/(cnf_matrix[1,0]+cnf_matrix[0,0]))\n",
        "    return tpr,fpr\n",
        "\n",
        "def calcfprtpr(x):\n",
        "    T=x['proba']\n",
        "    tpr_array=[]\n",
        "    fpr_array=[]\n",
        "    for i in T:\n",
        "        tpr,fpr=fptp(i,x)\n",
        "        tpr_array.append(tpr)\n",
        "        fpr_array.append(fpr)\n",
        "\n",
        "    return tpr_array,fpr_array\n",
        "\n",
        "tpr_array,fpr_array=calcfprtpr(data2)\n",
        "AUC = np.trapz(sorted(tpr_array), sorted(fpr_array))\n",
        "print('Area under the curve, AUC is',AUC)"
      ]
    },
    {
      "cell_type": "markdown",
      "metadata": {
        "id": "V5KZem1BQvn2"
      },
      "source": [
        "<pre>\n",
        "<font color='red'><b>B.</b></font> Compute performance metrics for the given data <strong>5_b.csv</strong>\n",
        "   <b>Note 1:</b> in this data you can see number of positive points << number of negatives points\n",
        "   <b>Note 2:</b> use pandas or numpy to read the data from <b>5_b.csv</b>\n",
        "   <b>Note 3:</b> you need to derive the class labels from given score</pre> $y^{pred}= \\text{[0 if y_score < 0.5 else 1]}$\n",
        "\n",
        "<pre>\n",
        "<ol>\n",
        "<li> Compute Confusion Matrix </li>\n",
        "<li> Compute F1 Score </li>\n",
        "<li> Compute AUC Score, you need to compute different thresholds and for each threshold compute tpr,fpr and then use               numpy.trapz(tpr_array, fpr_array) <a href='https://stackoverflow.com/q/53603376/4084039'>https://stackoverflow.com/q/53603376/4084039</a>, <a href='https://stackoverflow.com/a/39678975/4084039'>https://stackoverflow.com/a/39678975/4084039</a></li>\n",
        "<li> Compute Accuracy Score </li>\n",
        "</ol>\n",
        "</pre>"
      ]
    },
    {
      "cell_type": "code",
      "execution_count": null,
      "metadata": {
        "id": "U2sKlq0YQvn5"
      },
      "outputs": [],
      "source": [
        "# write your code\n",
        "maindata=pd.read_csv('5_b.csv')\n",
        "data=maindata.copy()\n",
        "data['proba']= list(map(lambda y: (0.0 if y<0.5 else 1.0), data['proba']))"
      ]
    },
    {
      "cell_type": "code",
      "execution_count": null,
      "metadata": {
        "id": "bUlcqMMFdGAE",
        "outputId": "9e4f45e4-e78d-4069-ea81-b2572f66752e"
      },
      "outputs": [
        {
          "name": "stdout",
          "output_type": "stream",
          "text": [
            "[[9761   45]\n",
            " [ 239   55]]\n"
          ]
        }
      ],
      "source": [
        "cnf_matrix=np.zeros((2,2),dtype=int)\n",
        "for i in range(2):\n",
        "    for j in range(2):\n",
        "        cnf_matrix[i,j]=len(data[(data['y']==float(j)) & (data['proba']==float(i))])\n",
        "print(cnf_matrix)"
      ]
    },
    {
      "cell_type": "code",
      "execution_count": null,
      "metadata": {
        "id": "fjpwJcFcdGAE"
      },
      "outputs": [],
      "source": [
        "prec=cnf_matrix[1,1]/(cnf_matrix[1,0]+cnf_matrix[1,1])\n",
        "recal=cnf_matrix[1,1]/(cnf_matrix[0,1]+cnf_matrix[1,1])\n",
        "Accuracy=(np.trace(cnf_matrix)/(np.sum(cnf_matrix)))*100\n",
        "F1=(2*prec*recal)/(prec+recal)"
      ]
    },
    {
      "cell_type": "code",
      "execution_count": null,
      "metadata": {
        "id": "To7VKAUjdGAE",
        "outputId": "3fc1f129-c94a-446b-b89a-0354e284ffa7"
      },
      "outputs": [
        {
          "name": "stdout",
          "output_type": "stream",
          "text": [
            " Precision : 0.1870748299319728 \n",
            " Recall    : 0.55 \n",
            " Accuracy  : 97.18811881188118 % \n",
            " F1 score  : 0.2791878172588833 \n",
            "\n"
          ]
        }
      ],
      "source": [
        "print(' Precision :',prec,'\\n','Recall    :',recal,'\\n','Accuracy  :',Accuracy,'% \\n','F1 score  :',F1,'\\n')"
      ]
    },
    {
      "cell_type": "code",
      "execution_count": null,
      "metadata": {
        "id": "aySXPWEodGAE",
        "outputId": "9916193a-df83-43f6-8033-cb2a2ef571f2"
      },
      "outputs": [
        {
          "data": {
            "text/html": [
              "<div>\n",
              "<style scoped>\n",
              "    .dataframe tbody tr th:only-of-type {\n",
              "        vertical-align: middle;\n",
              "    }\n",
              "\n",
              "    .dataframe tbody tr th {\n",
              "        vertical-align: top;\n",
              "    }\n",
              "\n",
              "    .dataframe thead th {\n",
              "        text-align: right;\n",
              "    }\n",
              "</style>\n",
              "<table border=\"1\" class=\"dataframe\">\n",
              "  <thead>\n",
              "    <tr style=\"text-align: right;\">\n",
              "      <th></th>\n",
              "      <th>y</th>\n",
              "      <th>proba</th>\n",
              "    </tr>\n",
              "  </thead>\n",
              "  <tbody>\n",
              "    <tr>\n",
              "      <th>313</th>\n",
              "      <td>0.0</td>\n",
              "      <td>0.100001</td>\n",
              "    </tr>\n",
              "    <tr>\n",
              "      <th>1938</th>\n",
              "      <td>0.0</td>\n",
              "      <td>0.100161</td>\n",
              "    </tr>\n",
              "    <tr>\n",
              "      <th>1360</th>\n",
              "      <td>0.0</td>\n",
              "      <td>0.100165</td>\n",
              "    </tr>\n",
              "    <tr>\n",
              "      <th>2532</th>\n",
              "      <td>0.0</td>\n",
              "      <td>0.100189</td>\n",
              "    </tr>\n",
              "    <tr>\n",
              "      <th>8290</th>\n",
              "      <td>0.0</td>\n",
              "      <td>0.100230</td>\n",
              "    </tr>\n",
              "    <tr>\n",
              "      <th>...</th>\n",
              "      <td>...</td>\n",
              "      <td>...</td>\n",
              "    </tr>\n",
              "    <tr>\n",
              "      <th>8578</th>\n",
              "      <td>1.0</td>\n",
              "      <td>0.588718</td>\n",
              "    </tr>\n",
              "    <tr>\n",
              "      <th>110</th>\n",
              "      <td>1.0</td>\n",
              "      <td>0.590171</td>\n",
              "    </tr>\n",
              "    <tr>\n",
              "      <th>1657</th>\n",
              "      <td>1.0</td>\n",
              "      <td>0.592198</td>\n",
              "    </tr>\n",
              "    <tr>\n",
              "      <th>1978</th>\n",
              "      <td>1.0</td>\n",
              "      <td>0.594808</td>\n",
              "    </tr>\n",
              "    <tr>\n",
              "      <th>8446</th>\n",
              "      <td>1.0</td>\n",
              "      <td>0.595294</td>\n",
              "    </tr>\n",
              "  </tbody>\n",
              "</table>\n",
              "<p>10100 rows × 2 columns</p>\n",
              "</div>"
            ],
            "text/plain": [
              "        y     proba\n",
              "313   0.0  0.100001\n",
              "1938  0.0  0.100161\n",
              "1360  0.0  0.100165\n",
              "2532  0.0  0.100189\n",
              "8290  0.0  0.100230\n",
              "...   ...       ...\n",
              "8578  1.0  0.588718\n",
              "110   1.0  0.590171\n",
              "1657  1.0  0.592198\n",
              "1978  1.0  0.594808\n",
              "8446  1.0  0.595294\n",
              "\n",
              "[10100 rows x 2 columns]"
            ]
          },
          "execution_count": 12,
          "metadata": {},
          "output_type": "execute_result"
        }
      ],
      "source": [
        "data2=maindata.copy()\n",
        "data2=data2.drop_duplicates(subset='proba',keep='first')\n",
        "data2=data2.sort_values('proba',ascending=True)\n",
        "data2"
      ]
    },
    {
      "cell_type": "markdown",
      "metadata": {
        "id": "1TugoKItdGAE"
      },
      "source": [
        "There are no duplicates in the above dataset as there is no change in size of data after removing the duplicates."
      ]
    },
    {
      "cell_type": "code",
      "execution_count": null,
      "metadata": {
        "id": "tF-JzVuMdGAE",
        "outputId": "23e24c42-7c29-4ff7-aa5b-833f37d31925"
      },
      "outputs": [
        {
          "name": "stdout",
          "output_type": "stream",
          "text": [
            "Area under the curve, AUC is 0.9377570000000001\n"
          ]
        }
      ],
      "source": [
        "def fptp(k,x1):\n",
        "    x=x1.copy()\n",
        "    x['proba']=list(map(lambda y: (0.0 if y<k else 1.0) , x['proba']))\n",
        "    cnf_matrix=np.zeros((2,2),dtype=int)\n",
        "    for i in range(2):\n",
        "        for j in range(2):\n",
        "            cnf_matrix[i,j]=len(x[(x['y']==float(j)) & (x['proba']==float(i))])\n",
        "\n",
        "    tpr=(cnf_matrix[1,1]/(cnf_matrix[0,1]+cnf_matrix[1,1]))\n",
        "    fpr=(cnf_matrix[1,0]/(cnf_matrix[1,0]+cnf_matrix[0,0]))\n",
        "    return tpr,fpr\n",
        "\n",
        "def calcfprtpr(x):\n",
        "    T=x['proba']\n",
        "    tpr_array=[]\n",
        "    fpr_array=[]\n",
        "    for i in T:\n",
        "        tpr,fpr=fptp(i,x)\n",
        "        tpr_array.append(tpr)\n",
        "        fpr_array.append(fpr)\n",
        "\n",
        "    return tpr_array,fpr_array\n",
        "\n",
        "tpr_array,fpr_array=calcfprtpr(data2)\n",
        "AUC = np.trapz(sorted(tpr_array), sorted(fpr_array))\n",
        "print('Area under the curve, AUC is',AUC)"
      ]
    },
    {
      "cell_type": "markdown",
      "metadata": {
        "id": "GiPGonTzQvoB"
      },
      "source": [
        "<font color='red'><b>C.</b></font> Compute the best threshold (similarly to ROC curve computation) of probability which gives lowest values of metric <b>A</b> for the given data <strong>5_c.csv</strong>\n",
        "<br>\n",
        "\n",
        "you will be predicting label of a data points like this: $y^{pred}= \\text{[0 if y_score < threshold  else 1]}$\n",
        "\n",
        "$ A = 500 \\times \\text{number of false negative} + 100 \\times \\text{numebr of false positive}$\n",
        "\n",
        "<pre>\n",
        "   <b>Note 1:</b> in this data you can see number of negative points > number of positive points\n",
        "   <b>Note 2:</b> use pandas or numpy to read the data from <b>5_c.csv</b>\n",
        "</pre>"
      ]
    },
    {
      "cell_type": "code",
      "execution_count": null,
      "metadata": {
        "id": "g_IZItZWdGAF",
        "outputId": "7541cae4-4410-4adc-f13a-bf440fef5f53"
      },
      "outputs": [
        {
          "data": {
            "text/html": [
              "<div>\n",
              "<style scoped>\n",
              "    .dataframe tbody tr th:only-of-type {\n",
              "        vertical-align: middle;\n",
              "    }\n",
              "\n",
              "    .dataframe tbody tr th {\n",
              "        vertical-align: top;\n",
              "    }\n",
              "\n",
              "    .dataframe thead th {\n",
              "        text-align: right;\n",
              "    }\n",
              "</style>\n",
              "<table border=\"1\" class=\"dataframe\">\n",
              "  <thead>\n",
              "    <tr style=\"text-align: right;\">\n",
              "      <th></th>\n",
              "      <th>y</th>\n",
              "      <th>prob</th>\n",
              "    </tr>\n",
              "  </thead>\n",
              "  <tbody>\n",
              "    <tr>\n",
              "      <th>0</th>\n",
              "      <td>0</td>\n",
              "      <td>0.458521</td>\n",
              "    </tr>\n",
              "    <tr>\n",
              "      <th>1</th>\n",
              "      <td>0</td>\n",
              "      <td>0.505037</td>\n",
              "    </tr>\n",
              "    <tr>\n",
              "      <th>2</th>\n",
              "      <td>0</td>\n",
              "      <td>0.418652</td>\n",
              "    </tr>\n",
              "    <tr>\n",
              "      <th>3</th>\n",
              "      <td>0</td>\n",
              "      <td>0.412057</td>\n",
              "    </tr>\n",
              "    <tr>\n",
              "      <th>4</th>\n",
              "      <td>0</td>\n",
              "      <td>0.375579</td>\n",
              "    </tr>\n",
              "    <tr>\n",
              "      <th>...</th>\n",
              "      <td>...</td>\n",
              "      <td>...</td>\n",
              "    </tr>\n",
              "    <tr>\n",
              "      <th>2847</th>\n",
              "      <td>1</td>\n",
              "      <td>0.491663</td>\n",
              "    </tr>\n",
              "    <tr>\n",
              "      <th>2848</th>\n",
              "      <td>1</td>\n",
              "      <td>0.292109</td>\n",
              "    </tr>\n",
              "    <tr>\n",
              "      <th>2849</th>\n",
              "      <td>1</td>\n",
              "      <td>0.659161</td>\n",
              "    </tr>\n",
              "    <tr>\n",
              "      <th>2850</th>\n",
              "      <td>1</td>\n",
              "      <td>0.456265</td>\n",
              "    </tr>\n",
              "    <tr>\n",
              "      <th>2851</th>\n",
              "      <td>1</td>\n",
              "      <td>0.659161</td>\n",
              "    </tr>\n",
              "  </tbody>\n",
              "</table>\n",
              "<p>2852 rows × 2 columns</p>\n",
              "</div>"
            ],
            "text/plain": [
              "      y      prob\n",
              "0     0  0.458521\n",
              "1     0  0.505037\n",
              "2     0  0.418652\n",
              "3     0  0.412057\n",
              "4     0  0.375579\n",
              "...  ..       ...\n",
              "2847  1  0.491663\n",
              "2848  1  0.292109\n",
              "2849  1  0.659161\n",
              "2850  1  0.456265\n",
              "2851  1  0.659161\n",
              "\n",
              "[2852 rows x 2 columns]"
            ]
          },
          "execution_count": 14,
          "metadata": {},
          "output_type": "execute_result"
        }
      ],
      "source": [
        "maindata=pd.read_csv('5_c.csv')\n",
        "maindata"
      ]
    },
    {
      "cell_type": "code",
      "execution_count": null,
      "metadata": {
        "id": "NKWYdPVtdGAF",
        "outputId": "25ce1f7b-eb25-4d63-e07d-ac48490abaaa"
      },
      "outputs": [
        {
          "data": {
            "text/plain": [
              "411     True\n",
              "767     True\n",
              "837     True\n",
              "941     True\n",
              "1053    True\n",
              "        ... \n",
              "2818    True\n",
              "2822    True\n",
              "2837    True\n",
              "2847    True\n",
              "2851    True\n",
              "Length: 61, dtype: bool"
            ]
          },
          "execution_count": 15,
          "metadata": {},
          "output_type": "execute_result"
        }
      ],
      "source": [
        "ser=maindata.duplicated(subset='prob',keep='first')\n",
        "ser[ser==True]"
      ]
    },
    {
      "cell_type": "markdown",
      "metadata": {
        "id": "-4PrQbR7dGAF"
      },
      "source": [
        " We can observe that there are 61 duplicated values in the input data."
      ]
    },
    {
      "cell_type": "code",
      "execution_count": null,
      "metadata": {
        "scrolled": false,
        "id": "jtuYMzVrdGAF",
        "outputId": "245cf6fc-ed62-4f65-a1c1-7028470f96a2"
      },
      "outputs": [
        {
          "data": {
            "text/html": [
              "<div>\n",
              "<style scoped>\n",
              "    .dataframe tbody tr th:only-of-type {\n",
              "        vertical-align: middle;\n",
              "    }\n",
              "\n",
              "    .dataframe tbody tr th {\n",
              "        vertical-align: top;\n",
              "    }\n",
              "\n",
              "    .dataframe thead th {\n",
              "        text-align: right;\n",
              "    }\n",
              "</style>\n",
              "<table border=\"1\" class=\"dataframe\">\n",
              "  <thead>\n",
              "    <tr style=\"text-align: right;\">\n",
              "      <th></th>\n",
              "      <th>y</th>\n",
              "      <th>prob</th>\n",
              "    </tr>\n",
              "  </thead>\n",
              "  <tbody>\n",
              "    <tr>\n",
              "      <th>473</th>\n",
              "      <td>0</td>\n",
              "      <td>0.028038</td>\n",
              "    </tr>\n",
              "    <tr>\n",
              "      <th>412</th>\n",
              "      <td>0</td>\n",
              "      <td>0.028396</td>\n",
              "    </tr>\n",
              "    <tr>\n",
              "      <th>454</th>\n",
              "      <td>0</td>\n",
              "      <td>0.028964</td>\n",
              "    </tr>\n",
              "    <tr>\n",
              "      <th>435</th>\n",
              "      <td>0</td>\n",
              "      <td>0.030269</td>\n",
              "    </tr>\n",
              "    <tr>\n",
              "      <th>468</th>\n",
              "      <td>0</td>\n",
              "      <td>0.031114</td>\n",
              "    </tr>\n",
              "    <tr>\n",
              "      <th>...</th>\n",
              "      <td>...</td>\n",
              "      <td>...</td>\n",
              "    </tr>\n",
              "    <tr>\n",
              "      <th>2456</th>\n",
              "      <td>1</td>\n",
              "      <td>0.941113</td>\n",
              "    </tr>\n",
              "    <tr>\n",
              "      <th>2788</th>\n",
              "      <td>1</td>\n",
              "      <td>0.944094</td>\n",
              "    </tr>\n",
              "    <tr>\n",
              "      <th>2447</th>\n",
              "      <td>1</td>\n",
              "      <td>0.948638</td>\n",
              "    </tr>\n",
              "    <tr>\n",
              "      <th>2548</th>\n",
              "      <td>1</td>\n",
              "      <td>0.951437</td>\n",
              "    </tr>\n",
              "    <tr>\n",
              "      <th>2634</th>\n",
              "      <td>1</td>\n",
              "      <td>0.957747</td>\n",
              "    </tr>\n",
              "  </tbody>\n",
              "</table>\n",
              "<p>2791 rows × 2 columns</p>\n",
              "</div>"
            ],
            "text/plain": [
              "      y      prob\n",
              "473   0  0.028038\n",
              "412   0  0.028396\n",
              "454   0  0.028964\n",
              "435   0  0.030269\n",
              "468   0  0.031114\n",
              "...  ..       ...\n",
              "2456  1  0.941113\n",
              "2788  1  0.944094\n",
              "2447  1  0.948638\n",
              "2548  1  0.951437\n",
              "2634  1  0.957747\n",
              "\n",
              "[2791 rows x 2 columns]"
            ]
          },
          "execution_count": 16,
          "metadata": {},
          "output_type": "execute_result"
        }
      ],
      "source": [
        "data2=maindata.copy() # To create a copy of input data rather than just a reference.\n",
        "data2=data2.drop_duplicates(subset='prob',keep='first')\n",
        "data2=data2.sort_values('prob',ascending=True)\n",
        "data2"
      ]
    },
    {
      "cell_type": "markdown",
      "metadata": {
        "id": "8HbrAUNWdGAF"
      },
      "source": [
        " After removing 61 duplicates from the input data, our output data size becomes 2791 x 2 (2852-61)"
      ]
    },
    {
      "cell_type": "code",
      "execution_count": null,
      "metadata": {
        "id": "bQ8uCFwfdGAF",
        "outputId": "cb23a857-2028-44f8-d2e0-4131b9e53a6d"
      },
      "outputs": [
        {
          "data": {
            "text/plain": [
              "Series([], dtype: bool)"
            ]
          },
          "execution_count": 17,
          "metadata": {},
          "output_type": "execute_result"
        }
      ],
      "source": [
        "ser=data2.duplicated(subset='prob',keep='first')\n",
        "ser[ser==True]\n",
        "# There are no dulicates in the data2"
      ]
    },
    {
      "cell_type": "markdown",
      "metadata": {
        "id": "zl_LRYvfdGAF"
      },
      "source": [
        "After removing duplicates, we can observe from the above code that there are no duplicates in the data2 dataframe."
      ]
    },
    {
      "cell_type": "code",
      "execution_count": null,
      "metadata": {
        "scrolled": false,
        "id": "n8Abo2ZZdGAG",
        "outputId": "268d4000-0f0c-4c3d-d41f-ce05cc37f0d7"
      },
      "outputs": [
        {
          "name": "stdout",
          "output_type": "stream",
          "text": [
            "The threshold value that gives the minimum A value is 0.250403339798386\n"
          ]
        }
      ],
      "source": [
        "def fnfp(k,x1):\n",
        "    x=x1.copy()\n",
        "    x['prob']=list(map(lambda y: (0.0 if y<k else 1.0) , x['prob']))\n",
        "    cnf_matrix=np.zeros((2,2),dtype=int)\n",
        "    for i in range(2):\n",
        "        for j in range(2):\n",
        "            cnf_matrix[i,j]=len(x[(x['y']==float(j)) & (x['prob']==float(i))])\n",
        "    fn=cnf_matrix[0,1]\n",
        "    fp=cnf_matrix[1,0]\n",
        "    A=((500*fn)+(100*fp))\n",
        "    return A\n",
        "\n",
        "def calcA(y):\n",
        "    T=y['prob']\n",
        "    data5=y.copy()\n",
        "    A=[]\n",
        "    for i in T:\n",
        "        a=fnfp(i,data5)\n",
        "        A.append(a)\n",
        "\n",
        "    return T.iloc[A.index(min(A))]\n",
        "threshold=calcA(data2)\n",
        "print('The threshold value that gives the minimum A value is', threshold)\n"
      ]
    },
    {
      "cell_type": "markdown",
      "metadata": {
        "id": "sD4CcgjXQvoL"
      },
      "source": [
        "<pre>\n",
        "<font color='red'><b>D.</b></font> Compute performance metrics(for regression) for the given data <strong>5_d.csv</strong>\n",
        "    <b>Note 2:</b> use pandas or numpy to read the data from <b>5_d.csv</b>\n",
        "    <b>Note 1:</b> <b>5_d.csv</b> will having two columns Y and predicted_Y both are real valued features\n",
        "<ol>\n",
        "<li> Compute Mean Square Error </li>\n",
        "<li> Compute MAPE: https://www.youtube.com/watch?v=ly6ztgIkUxk</li>\n",
        "<li> Compute R^2 error: https://en.wikipedia.org/wiki/Coefficient_of_determination#Definitions </li>\n",
        "</ol>\n",
        "</pre>"
      ]
    },
    {
      "cell_type": "code",
      "execution_count": null,
      "metadata": {
        "scrolled": true,
        "id": "0sbNcjTQdGAG",
        "outputId": "6b916452-472c-401c-e814-f9fd8950d15d"
      },
      "outputs": [
        {
          "name": "stdout",
          "output_type": "stream",
          "text": [
            "157200\n"
          ]
        }
      ],
      "source": [
        "maindata=pd.read_csv('5_d.csv')\n",
        "data4=maindata.copy()\n",
        "n=len(data4)\n",
        "print(n)"
      ]
    },
    {
      "cell_type": "code",
      "execution_count": null,
      "metadata": {
        "scrolled": true,
        "id": "EyGoUBHSdGAG"
      },
      "outputs": [],
      "source": [
        "mean_y=sum(data4.y)/n\n",
        "SSres=(sum((data4.y-data4.pred)**2))\n",
        "SStot=sum((data4.y-mean_y)**2)\n",
        "MSE=(SSres/n)\n",
        "MAPE=(1/sum(data4.y))*(sum(abs(data4.y-data4.pred)))*100\n",
        "R2=(1-(SSres/SStot))"
      ]
    },
    {
      "cell_type": "code",
      "execution_count": null,
      "metadata": {
        "id": "QBAtGbKNdGAG",
        "outputId": "5290ebf0-1f49-43b8-af46-e22b7ab8dfcf"
      },
      "outputs": [
        {
          "name": "stdout",
          "output_type": "stream",
          "text": [
            " MSE  :  177.16569974554707 \n",
            " MAPE :  12.91202994009687 \n",
            " R^2  :  0.9563582786990964\n"
          ]
        }
      ],
      "source": [
        "print(' MSE  : ',MSE,'\\n','MAPE : ',MAPE,'\\n','R^2  : ',R2)"
      ]
    }
  ],
  "metadata": {
    "colab": {
      "name": "5_Performance_metrics_Instructions.ipynb",
      "provenance": [],
      "include_colab_link": true
    },
    "kernelspec": {
      "display_name": "Python 3",
      "language": "python",
      "name": "python3"
    },
    "language_info": {
      "codemirror_mode": {
        "name": "ipython",
        "version": 3
      },
      "file_extension": ".py",
      "mimetype": "text/x-python",
      "name": "python",
      "nbconvert_exporter": "python",
      "pygments_lexer": "ipython3",
      "version": "3.7.4"
    }
  },
  "nbformat": 4,
  "nbformat_minor": 0
}
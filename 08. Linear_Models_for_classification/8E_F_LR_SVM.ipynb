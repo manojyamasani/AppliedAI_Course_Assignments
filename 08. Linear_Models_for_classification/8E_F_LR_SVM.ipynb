{
 "cells": [
  {
   "cell_type": "markdown",
   "metadata": {
    "colab_type": "text",
    "id": "5HExLQrE4ZxR"
   },
   "source": [
    "<h1><font color='blue'> 8E and 8F: Finding the Probability P(Y==1|X)</font></h1>"
   ]
  },
  {
   "cell_type": "markdown",
   "metadata": {
    "colab_type": "text",
    "id": "4LuKrFzC4ZxV"
   },
   "source": [
    "<h2><font color='Geen'> 8E: Implementing Decision Function of SVM RBF Kernel</font></h2>"
   ]
  },
  {
   "cell_type": "markdown",
   "metadata": {
    "colab_type": "text",
    "id": "1wES-wWN4ZxX"
   },
   "source": [
    "<font face=' Comic Sans MS' size=3>After we train a kernel SVM model, we will be getting support vectors and their corresponsing coefficients $\\alpha_{i}$\n",
    "\n",
    "Check the documentation for better understanding of these attributes: \n",
    "\n",
    "https://scikit-learn.org/stable/modules/generated/sklearn.svm.SVC.html\n",
    "<img src='https://i.imgur.com/K11msU4.png' width=500>\n",
    "\n",
    "As a part of this assignment you will be implementing the ```decision_function()``` of kernel SVM, here decision_function() means based on the value return by ```decision_function()``` model will classify the data point either as positive or negative\n",
    "\n",
    "Ex 1: In logistic regression After traning the models with the optimal weights $w$ we get, we will find the value $\\frac{1}{1+\\exp(-(wx+b))}$, if this value comes out to be < 0.5 we will mark it as negative class, else its positive class\n",
    "\n",
    "Ex 2: In Linear SVM After traning the models with the optimal weights $w$ we get, we will find the value of $sign(wx+b)$, if this value comes out to be -ve we will mark it as negative class, else its positive class.\n",
    "\n",
    "Similarly in Kernel SVM After traning the models with the coefficients $\\alpha_{i}$ we get, we will find the value of \n",
    "$sign(\\sum_{i=1}^{n}(y_{i}\\alpha_{i}K(x_{i},x_{q})) + intercept)$, here $K(x_{i},x_{q})$ is the RBF kernel. If this value comes out to be -ve we will mark $x_{q}$ as negative class, else its positive class.\n",
    "\n",
    "RBF kernel is defined as: $K(x_{i},x_{q})$ = $exp(-\\gamma ||x_{i} - x_{q}||^2)$\n",
    "\n",
    "For better understanding check this link: https://scikit-learn.org/stable/modules/svm.html#svm-mathematical-formulation\n",
    "</font>"
   ]
  },
  {
   "cell_type": "markdown",
   "metadata": {
    "colab_type": "text",
    "id": "z830CfMk4Zxa"
   },
   "source": [
    "## Task E"
   ]
  },
  {
   "cell_type": "markdown",
   "metadata": {
    "colab_type": "text",
    "id": "MuBxHiCQ4Zxc"
   },
   "source": [
    "> 1. Split the data into $X_{train}$(60), $X_{cv}$(20), $X_{test}$(20)\n",
    "\n",
    "> 2. Train $SVC(gamma=0.001, C=100.)$ on the ($X_{train}$, $y_{train}$)\n",
    "\n",
    "> 3. Get the decision boundry values $f_{cv}$ on the $X_{cv}$ data  i.e. ` `$f_{cv}$ ```= decision_function(```$X_{cv}$```)```  <font color='red'>you need to implement this decision_function()</font>"
   ]
  },
  {
   "cell_type": "code",
   "execution_count": 82,
   "metadata": {
    "colab": {},
    "colab_type": "code",
    "executionInfo": {
     "elapsed": 1817,
     "status": "ok",
     "timestamp": 1597519118722,
     "user": {
      "displayName": "MANOJKUMAR YAMASANI",
      "photoUrl": "https://lh3.googleusercontent.com/a-/AOh14Gi_mSk1lRQHvKsofeowdqYTJCL4SZRPDcyq0n0Wlg=s64",
      "userId": "15946760704204620758"
     },
     "user_tz": -330
    },
    "id": "fCgMNEvI4Zxf"
   },
   "outputs": [],
   "source": [
    "import numpy as np\n",
    "import pandas as pd\n",
    "from sklearn.datasets import make_classification\n",
    "from sklearn.svm import SVC"
   ]
  },
  {
   "cell_type": "code",
   "execution_count": 83,
   "metadata": {
    "colab": {
     "base_uri": "https://localhost:8080/",
     "height": 34
    },
    "colab_type": "code",
    "executionInfo": {
     "elapsed": 1805,
     "status": "ok",
     "timestamp": 1597519118724,
     "user": {
      "displayName": "MANOJKUMAR YAMASANI",
      "photoUrl": "https://lh3.googleusercontent.com/a-/AOh14Gi_mSk1lRQHvKsofeowdqYTJCL4SZRPDcyq0n0Wlg=s64",
      "userId": "15946760704204620758"
     },
     "user_tz": -330
    },
    "id": "ANUNIqCe4Zxn",
    "outputId": "023dfda9-1e95-4f6a-9c7c-c0af0211350b"
   },
   "outputs": [
    {
     "data": {
      "text/plain": [
       "(5000, 5)"
      ]
     },
     "execution_count": 83,
     "metadata": {
      "tags": []
     },
     "output_type": "execute_result"
    }
   ],
   "source": [
    "X, y = make_classification(n_samples=5000, n_features=5, n_redundant=2,\n",
    "                           n_classes=2, weights=[0.7], class_sep=0.7, random_state=15)\n",
    "X.shape"
   ]
  },
  {
   "cell_type": "markdown",
   "metadata": {
    "colab_type": "text",
    "id": "tHie1zqH4Zxt"
   },
   "source": [
    "### Pseudo code\n",
    "\n",
    "clf = SVC(gamma=0.001, C=100.)<br>\n",
    "clf.fit(Xtrain, ytrain)\n",
    "\n",
    "<font color='green'>def</font> <font color='blue'>decision_function</font>(Xcv, ...): #use appropriate parameters <br>\n",
    "&nbsp;&nbsp;&nbsp;&nbsp;&nbsp;&nbsp;<font color='green'>for</font> a data point $x_q$ <font color='green'>in</font> Xcv: <br>\n",
    "&nbsp;&nbsp;&nbsp;&nbsp;&nbsp;&nbsp;&nbsp;&nbsp;&nbsp;&nbsp;&nbsp;&nbsp;<font color='grey'>#write code to implement $(\\sum_{i=1}^{\\text{all the support vectors}}(y_{i}\\alpha_{i}K(x_{i},x_{q})) + intercept)$, here the values $y_i$, $\\alpha_{i}$, and $intercept$ can be obtained from the trained model</font><br>\n",
    "   <font color='green'>return</font> <font color='grey'><i># the decision_function output for all the data points in the Xcv</i></font>\n",
    "    \n",
    "fcv = decision_function(Xcv, ...)  <i># based on your requirement you can pass any other parameters </i>\n",
    "\n",
    "<b>Note</b>: Make sure the values you get as fcv, should be equal to outputs of clf.decision_function(Xcv)\n"
   ]
  },
  {
   "cell_type": "code",
   "execution_count": 84,
   "metadata": {
    "colab": {},
    "colab_type": "code",
    "executionInfo": {
     "elapsed": 1795,
     "status": "ok",
     "timestamp": 1597519118725,
     "user": {
      "displayName": "MANOJKUMAR YAMASANI",
      "photoUrl": "https://lh3.googleusercontent.com/a-/AOh14Gi_mSk1lRQHvKsofeowdqYTJCL4SZRPDcyq0n0Wlg=s64",
      "userId": "15946760704204620758"
     },
     "user_tz": -330
    },
    "id": "h43kDT3M41u5"
   },
   "outputs": [],
   "source": [
    "# you can write your code here\n",
    "from sklearn.model_selection import train_test_split\n",
    "X_train,X_test,Y_train,Y_test = train_test_split(X,y,test_size=0.2)\n",
    "\n",
    "X_tr,X_cv,Y_tr,Y_cv = train_test_split(X_train,Y_train,test_size=0.25)"
   ]
  },
  {
   "cell_type": "code",
   "execution_count": 85,
   "metadata": {
    "colab": {},
    "colab_type": "code",
    "executionInfo": {
     "elapsed": 1786,
     "status": "ok",
     "timestamp": 1597519118726,
     "user": {
      "displayName": "MANOJKUMAR YAMASANI",
      "photoUrl": "https://lh3.googleusercontent.com/a-/AOh14Gi_mSk1lRQHvKsofeowdqYTJCL4SZRPDcyq0n0Wlg=s64",
      "userId": "15946760704204620758"
     },
     "user_tz": -330
    },
    "id": "hEbRXDN7jE3u"
   },
   "outputs": [],
   "source": [
    "def decision_function(Xcv,sv,y_alp,intercept,gam):\n",
    "  dec_fn = []\n",
    "  #print(sv)\n",
    "  #print(gam)\n",
    "  #print(len(Xcv))\n",
    "  for i in range(len(Xcv)):\n",
    "    sum = 0\n",
    "    for j in range(len(sv)):\n",
    "      sum +=  (y_alp[j]*np.exp(-1*np.sum((Xcv[i,:]-sv[j,:])**2)*gam))\n",
    "    dec_fn.append((sum+intercept).tolist())\n",
    "  \n",
    "  dec_fn = [i[0] for i in dec_fn]\n",
    "  return dec_fn"
   ]
  },
  {
   "cell_type": "code",
   "execution_count": 86,
   "metadata": {
    "colab": {
     "base_uri": "https://localhost:8080/",
     "height": 34
    },
    "colab_type": "code",
    "executionInfo": {
     "elapsed": 7769,
     "status": "ok",
     "timestamp": 1597519124724,
     "user": {
      "displayName": "MANOJKUMAR YAMASANI",
      "photoUrl": "https://lh3.googleusercontent.com/a-/AOh14Gi_mSk1lRQHvKsofeowdqYTJCL4SZRPDcyq0n0Wlg=s64",
      "userId": "15946760704204620758"
     },
     "user_tz": -330
    },
    "id": "eCOPK03aisoQ",
    "outputId": "d814e13c-f9ac-498c-9318-2c38f5f7fe58"
   },
   "outputs": [
    {
     "name": "stdout",
     "output_type": "stream",
     "text": [
      "561\n"
     ]
    }
   ],
   "source": [
    "gam = 0.001\n",
    "clf = SVC(gamma= gam, C=100)\n",
    "clf.fit(X_tr, Y_tr)\n",
    "print(len(clf.support_))\n",
    "y_alpha = clf.dual_coef_\n",
    "intercept = clf.intercept_\n",
    "sv = clf.support_vectors_\n",
    "#print((y_alpha))\n",
    "dec_fn_implem = decision_function(X_cv,sv,y_alpha[0],intercept,gam)\n",
    "dec_fn_inbuilt = clf.decision_function(X_cv)\n"
   ]
  },
  {
   "cell_type": "code",
   "execution_count": 87,
   "metadata": {
    "colab": {
     "base_uri": "https://localhost:8080/",
     "height": 51
    },
    "colab_type": "code",
    "executionInfo": {
     "elapsed": 7760,
     "status": "ok",
     "timestamp": 1597519124732,
     "user": {
      "displayName": "MANOJKUMAR YAMASANI",
      "photoUrl": "https://lh3.googleusercontent.com/a-/AOh14Gi_mSk1lRQHvKsofeowdqYTJCL4SZRPDcyq0n0Wlg=s64",
      "userId": "15946760704204620758"
     },
     "user_tz": -330
    },
    "id": "PbYi3vUSsl2d",
    "outputId": "20c9d687-ca5c-49b4-8250-c21f5bfa7666"
   },
   "outputs": [
    {
     "name": "stdout",
     "output_type": "stream",
     "text": [
      "Function based decision function values are [-4.161095825122163, 1.7233399647584635, -2.6499005585185555, 1.3091961267094492, -0.3664902922009814]\n",
      "sklearn based decision function values are  [-4.161095825122163, 1.7233399647584635, -2.6499005585185555, 1.3091961267094492, -0.3664902922009814]\n"
     ]
    }
   ],
   "source": [
    "print(\"Function based decision function values are\",dec_fn_implem[:5])\n",
    "print(\"sklearn based decision function values are \",dec_fn_inbuilt.tolist()[:5])"
   ]
  },
  {
   "cell_type": "markdown",
   "metadata": {
    "colab_type": "text",
    "id": "b6aZwVe-5D2W"
   },
   "source": [
    "we can observe that both implementations result in the same values of decision function."
   ]
  },
  {
   "cell_type": "markdown",
   "metadata": {
    "colab_type": "text",
    "id": "A01UElCkzA5W"
   },
   "source": [
    "From above we can observe that the function implementation result and inbuilt scikitlearn function results are same."
   ]
  },
  {
   "cell_type": "markdown",
   "metadata": {
    "colab_type": "text",
    "id": "c0bKCboN4Zxu"
   },
   "source": [
    "<h2><font color='Geen'> 8F: Implementing Platt Scaling to find P(Y==1|X)</font></h2>"
   ]
  },
  {
   "cell_type": "markdown",
   "metadata": {
    "colab_type": "text",
    "id": "nMn7OEN94Zxw"
   },
   "source": [
    "Check this <a href='https://drive.google.com/open?id=133odBinMOIVb_rh_GQxxsyMRyW-Zts7a'>PDF</a>\n",
    "<img src='https://i.imgur.com/CAMnVnh.png'>\n"
   ]
  },
  {
   "cell_type": "markdown",
   "metadata": {
    "colab_type": "text",
    "id": "e0n5EFkx4Zxz"
   },
   "source": [
    "## TASK F"
   ]
  },
  {
   "cell_type": "markdown",
   "metadata": {
    "colab_type": "text",
    "id": "t0HOqVJq4Zx1"
   },
   "source": [
    "\n",
    "> 4. Apply SGD algorithm with ($f_{cv}$, $y_{cv}$) and find the weight $W$ intercept $b$ ```Note: here our data is of one dimensional so we will have a one dimensional weight vector i.e W.shape (1,)``` \n",
    "\n",
    "> Note1: Don't forget to change the values of $y_{cv}$ as mentioned in the above image. you will calculate y+, y- based on data points in train data\n",
    "\n",
    "> Note2: the Sklearn's SGD algorithm doesn't support the real valued outputs, you need to use the code that was done in the `'Logistic Regression with SGD and L2'` Assignment after modifying loss function, and use same parameters that used in that assignment.\n",
    "<img src='https://i.imgur.com/zKYE9Oc.png'>\n",
    "if Y[i] is 1, it will be replaced with y+ value else it will replaced with y- value\n",
    "\n",
    "> 5. For a given data point from $X_{test}$, $P(Y=1|X) = \\frac{1}{1+exp(-(W*f_{test}+ b))}$ where ` `$f_{test}$ ```= decision_function(```$X_{test}$```)```, W and b will be learned as metioned in the above step"
   ]
  },
  {
   "cell_type": "code",
   "execution_count": 88,
   "metadata": {
    "colab": {},
    "colab_type": "code",
    "executionInfo": {
     "elapsed": 7749,
     "status": "ok",
     "timestamp": 1597519124734,
     "user": {
      "displayName": "MANOJKUMAR YAMASANI",
      "photoUrl": "https://lh3.googleusercontent.com/a-/AOh14Gi_mSk1lRQHvKsofeowdqYTJCL4SZRPDcyq0n0Wlg=s64",
      "userId": "15946760704204620758"
     },
     "user_tz": -330
    },
    "id": "hJpwlTvcIdDc"
   },
   "outputs": [],
   "source": [
    "def logloss(y_true,y_pred):\n",
    "    '''In this function, we will compute log loss '''\n",
    "\n",
    "    n = len(y_true)\n",
    "    x = np.log10(y_pred)\n",
    "    x1 =  np.log10(np.ones_like(y_pred) - y_pred)\n",
    "    loss = 0\n",
    "    for j in range(n):\n",
    "      loss = loss +((y_true[j]*x[j])+((1-y_true[j])*x1[j]))\n",
    "    loss*=(-1/n)\n",
    "    return loss"
   ]
  },
  {
   "cell_type": "code",
   "execution_count": 89,
   "metadata": {
    "colab": {},
    "colab_type": "code",
    "executionInfo": {
     "elapsed": 7741,
     "status": "ok",
     "timestamp": 1597519124736,
     "user": {
      "displayName": "MANOJKUMAR YAMASANI",
      "photoUrl": "https://lh3.googleusercontent.com/a-/AOh14Gi_mSk1lRQHvKsofeowdqYTJCL4SZRPDcyq0n0Wlg=s64",
      "userId": "15946760704204620758"
     },
     "user_tz": -330
    },
    "id": "GecwYV9fsKZ9"
   },
   "outputs": [],
   "source": [
    "def initialize_weights(dim):\n",
    "    ''' In this function, we will initialize our weights and bias'''\n",
    "    #initialize the weights to zeros array of (1,dim) dimensions\n",
    "    #you use zeros_like function to initialize zero, check this link https://docs.scipy.org/doc/numpy/reference/generated/numpy.zeros_like.html\n",
    "    #initialize bias to zero\n",
    "\n",
    "    w = np.zeros_like(dim)\n",
    "    b = 0\n",
    "\n",
    "    return w,b"
   ]
  },
  {
   "cell_type": "code",
   "execution_count": 90,
   "metadata": {
    "colab": {},
    "colab_type": "code",
    "executionInfo": {
     "elapsed": 7732,
     "status": "ok",
     "timestamp": 1597519124737,
     "user": {
      "displayName": "MANOJKUMAR YAMASANI",
      "photoUrl": "https://lh3.googleusercontent.com/a-/AOh14Gi_mSk1lRQHvKsofeowdqYTJCL4SZRPDcyq0n0Wlg=s64",
      "userId": "15946760704204620758"
     },
     "user_tz": -330
    },
    "id": "nAfmQF47_Sd6"
   },
   "outputs": [],
   "source": [
    "def sigmoid(z):\n",
    "    ''' In this function, we will return sigmoid of z'''\n",
    "    # compute sigmoid(z) and return\n",
    "\n",
    "    sigma = (1/(1+np.exp(-z)))\n",
    "\n",
    "    return sigma"
   ]
  },
  {
   "cell_type": "code",
   "execution_count": 91,
   "metadata": {
    "colab": {},
    "colab_type": "code",
    "executionInfo": {
     "elapsed": 7724,
     "status": "ok",
     "timestamp": 1597519124738,
     "user": {
      "displayName": "MANOJKUMAR YAMASANI",
      "photoUrl": "https://lh3.googleusercontent.com/a-/AOh14Gi_mSk1lRQHvKsofeowdqYTJCL4SZRPDcyq0n0Wlg=s64",
      "userId": "15946760704204620758"
     },
     "user_tz": -330
    },
    "id": "NMVikyuFsKo5"
   },
   "outputs": [],
   "source": [
    "def gradient_dw(x,y,w,b,alpha,N):\n",
    "    '''In this function, we will compute the gardient w.r.to w '''\n",
    "\n",
    "    dw = (x*(y - sigmoid(np.matmul(w,x) + b))) - ((alpha/N)*w)\n",
    "\n",
    "    return dw"
   ]
  },
  {
   "cell_type": "code",
   "execution_count": 92,
   "metadata": {
    "colab": {},
    "colab_type": "code",
    "executionInfo": {
     "elapsed": 7716,
     "status": "ok",
     "timestamp": 1597519124739,
     "user": {
      "displayName": "MANOJKUMAR YAMASANI",
      "photoUrl": "https://lh3.googleusercontent.com/a-/AOh14Gi_mSk1lRQHvKsofeowdqYTJCL4SZRPDcyq0n0Wlg=s64",
      "userId": "15946760704204620758"
     },
     "user_tz": -330
    },
    "id": "0nUf2ft4EZp8"
   },
   "outputs": [],
   "source": [
    " def gradient_db(x,y,w,b):\n",
    "     '''In this function, we will compute gradient w.r.to b '''\n",
    "\n",
    "     db = (y - sigmoid(np.matmul(w,x) + b))\n",
    "\n",
    "     return db"
   ]
  },
  {
   "cell_type": "code",
   "execution_count": 93,
   "metadata": {
    "colab": {},
    "colab_type": "code",
    "executionInfo": {
     "elapsed": 7707,
     "status": "ok",
     "timestamp": 1597519124740,
     "user": {
      "displayName": "MANOJKUMAR YAMASANI",
      "photoUrl": "https://lh3.googleusercontent.com/a-/AOh14Gi_mSk1lRQHvKsofeowdqYTJCL4SZRPDcyq0n0Wlg=s64",
      "userId": "15946760704204620758"
     },
     "user_tz": -330
    },
    "id": "dmAdc5ejEZ25"
   },
   "outputs": [],
   "source": [
    "def train(X_train,y_train,epochs,alpha,eta0):\n",
    "    ''' In this function, we will implement logistic regression'''\n",
    "    #Here eta0 is learning rate\n",
    "    #implement the code as follows\n",
    "    # initalize the weights (call the initialize_weights(X_train[0]) function)\n",
    "    # for every epoch\n",
    "        # for every data point(X_train,y_train)\n",
    "           #compute gradient w.r.to w (call the gradient_dw() function)\n",
    "           #compute gradient w.r.to b (call the gradient_db() function)\n",
    "           #update w, b\n",
    "        # predict the output of x_train[for all data points in X_train] using w,b\n",
    "        #compute the loss between predicted and actual values (call the loss function)\n",
    "        # store all the train loss values in a list\n",
    "        # predict the output of x_test[for all data points in X_test] using w,b\n",
    "        #compute the loss between predicted and actual values (call the loss function)\n",
    "        # store all the test loss values in a list\n",
    "        # you can also compare previous loss and current loss, if loss is not updating then stop the process and return w,b\n",
    "\n",
    "    w,b = initialize_weights(X_train[0])\n",
    "    N = len(X_train)\n",
    "    \n",
    "    loss_train = []\n",
    "    for i in range(epochs):\n",
    "      w_prev,b_prev = w,b\n",
    "      y_pred_train = []\n",
    "      for j in range(len(X_train)):\n",
    "        dw = gradient_dw(X_train[j,:], y_train[j], w, b, alpha, N)\n",
    "        db = gradient_db(X_train[j,:], y_train[j], w, b)\n",
    "\n",
    "        w = w + (eta0 * dw)\n",
    "        b = b + (eta0 * db)\n",
    "      for j in range(len(X_train)):\n",
    "        y_pred_train.append(sigmoid(np.matmul(w,X_train[j,:]) + b))\n",
    "      \n",
    "      present=logloss(y_train, y_pred_train)\n",
    "      loss_train.append(present)\n",
    "      #print(present)\n",
    "\n",
    "      if(i!=0 and loss_train[i-1]<present):\n",
    "        print(\"Minimum loss achieved is\",loss_train[i-1])\n",
    "        return w_prev,b_prev,loss_train[:i]\n",
    "    print(\"Minimum loss achieved is\",present)\n",
    "    return w,b,loss_train"
   ]
  },
  {
   "cell_type": "code",
   "execution_count": 94,
   "metadata": {
    "colab": {
     "base_uri": "https://localhost:8080/",
     "height": 51
    },
    "colab_type": "code",
    "executionInfo": {
     "elapsed": 7696,
     "status": "ok",
     "timestamp": 1597519124741,
     "user": {
      "displayName": "MANOJKUMAR YAMASANI",
      "photoUrl": "https://lh3.googleusercontent.com/a-/AOh14Gi_mSk1lRQHvKsofeowdqYTJCL4SZRPDcyq0n0Wlg=s64",
      "userId": "15946760704204620758"
     },
     "user_tz": -330
    },
    "id": "9N1eOAR3CfMA",
    "outputId": "90552bc3-5c65-48b2-ffeb-6756c87d5c18"
   },
   "outputs": [
    {
     "name": "stdout",
     "output_type": "stream",
     "text": [
      "[0, 1, 0, 1]\n",
      "[0.00048192771084337347, 0.9989235737351991, 0.00048192771084337347, 0.9989235737351991]\n"
     ]
    }
   ],
   "source": [
    "N_pos = np.count_nonzero(Y_tr)\n",
    "N_neg = len(Y_tr)-N_pos\n",
    "y_pos = (N_pos+1)/(N_pos+2)\n",
    "y_neg = (1/(N_neg+2))\n",
    "#print(N_pos,N_neg,y_pos,y_neg)\n",
    "print(Y_cv.tolist()[:4])\n",
    "Y_cv_mod = np.zeros_like(Y_cv,dtype =float)\n",
    "for i in range(len(Y_cv)):\n",
    "  if Y_cv[i]==1:\n",
    "    Y_cv_mod[i] = y_pos \n",
    "  else:\n",
    "    Y_cv_mod[i] = y_neg\n",
    "print(Y_cv_mod.tolist()[:4])"
   ]
  },
  {
   "cell_type": "markdown",
   "metadata": {
    "colab_type": "text",
    "id": "2P8iQByD5l_c"
   },
   "source": [
    "In the above results, list-1 indicates true or actual labels of Y_cv.\n",
    "list-2 indicates the modified labels of Y_cv according to the given formulae.\n",
    "\n",
    "We can observe that 0 label is replaced with 0.0004766 and label 1 is replaced with 0.9988962 "
   ]
  },
  {
   "cell_type": "code",
   "execution_count": 95,
   "metadata": {
    "colab": {
     "base_uri": "https://localhost:8080/",
     "height": 34
    },
    "colab_type": "code",
    "executionInfo": {
     "elapsed": 24817,
     "status": "ok",
     "timestamp": 1597519141875,
     "user": {
      "displayName": "MANOJKUMAR YAMASANI",
      "photoUrl": "https://lh3.googleusercontent.com/a-/AOh14Gi_mSk1lRQHvKsofeowdqYTJCL4SZRPDcyq0n0Wlg=s64",
      "userId": "15946760704204620758"
     },
     "user_tz": -330
    },
    "id": "b3Hp05lAKGVH",
    "outputId": "3bc76ab0-f765-4045-efa7-2b5e649ba27e"
   },
   "outputs": [
    {
     "name": "stdout",
     "output_type": "stream",
     "text": [
      "Minimum loss achieved is [0.07559336]\n"
     ]
    }
   ],
   "source": [
    "alpha=0.0001\n",
    "eta0=0.001\n",
    "N=len(X_tr)\n",
    "epochs=1000\n",
    "#print(np.array(dec_fn_implem).reshape(-1,1),np.array(Y_cv_mod).reshape(-1,1))\n",
    "f_cv = np.array(dec_fn_implem).reshape(-1,1)\n",
    "Y_cv_mod = np.array(Y_cv_mod).reshape(-1,1)\n",
    "w,b,train_loss = train(f_cv,Y_cv_mod,epochs,alpha,eta0)"
   ]
  },
  {
   "cell_type": "code",
   "execution_count": 96,
   "metadata": {
    "colab": {
     "base_uri": "https://localhost:8080/",
     "height": 295
    },
    "colab_type": "code",
    "executionInfo": {
     "elapsed": 24803,
     "status": "ok",
     "timestamp": 1597519141876,
     "user": {
      "displayName": "MANOJKUMAR YAMASANI",
      "photoUrl": "https://lh3.googleusercontent.com/a-/AOh14Gi_mSk1lRQHvKsofeowdqYTJCL4SZRPDcyq0n0Wlg=s64",
      "userId": "15946760704204620758"
     },
     "user_tz": -330
    },
    "id": "pofZH9XMKv1Z",
    "outputId": "25ce7405-dacf-445c-e4de-b999e66e956c"
   },
   "outputs": [
    {
     "data": {
      "image/png": "[encoded data removed]",
      "text/plain": [
       "<Figure size 432x288 with 1 Axes>"
      ]
     },
     "metadata": {
      "needs_background": "light",
      "tags": []
     },
     "output_type": "display_data"
    }
   ],
   "source": [
    "import matplotlib.pyplot as plt\n",
    "\n",
    "epochs=[i for i in range(len(train_loss))]\n",
    "plt.plot(epochs,train_loss,label= 'Train Loss')\n",
    "\n",
    "plt.scatter(epochs,train_loss)\n",
    "\n",
    "plt.legend()\n",
    "plt.title('Epochs vs Logistic Loss graph')\n",
    "plt.xlabel('epochs')\n",
    "plt.ylabel('Logistic loss')\n",
    "plt.show()"
   ]
  },
  {
   "cell_type": "code",
   "execution_count": 97,
   "metadata": {
    "colab": {
     "base_uri": "https://localhost:8080/",
     "height": 51
    },
    "colab_type": "code",
    "executionInfo": {
     "elapsed": 29581,
     "status": "ok",
     "timestamp": 1597519146665,
     "user": {
      "displayName": "MANOJKUMAR YAMASANI",
      "photoUrl": "https://lh3.googleusercontent.com/a-/AOh14Gi_mSk1lRQHvKsofeowdqYTJCL4SZRPDcyq0n0Wlg=s64",
      "userId": "15946760704204620758"
     },
     "user_tz": -330
    },
    "id": "4VdPvlyqPJz7",
    "outputId": "06ed7a50-d14d-4b03-847d-5bbbe2856762"
   },
   "outputs": [
    {
     "name": "stdout",
     "output_type": "stream",
     "text": [
      "[-2.392145229826883, -2.9514350778685126, -1.6627732024593085, -4.619833147669826]\n",
      "[0.011427693208354434, 0.003914680589311406, 0.04507717531280103, 0.00015725892037058434]\n"
     ]
    }
   ],
   "source": [
    "f_test = decision_function(X_test,sv,y_alpha[0],intercept,gam)\n",
    "print(f_test[:4])\n",
    "proba_1=[]\n",
    "for i in range(len(X_test)):  \n",
    "  proba_1.append(sigmoid(np.dot(w,f_test[i]) + b))\n",
    "\n",
    "proba_1 = [i.tolist() for i in proba_1] \n",
    "proba_1 = [i[0] for i in proba_1]\n",
    "print(proba_1[:4])"
   ]
  },
  {
   "cell_type": "markdown",
   "metadata": {
    "colab_type": "text",
    "id": "i9cqChyrViB9"
   },
   "source": [
    "we can observe that if decision function value is negative it's probability of being class 1 $P(y=1/x)< 0.5 $ and is low and if it is positive it's $P(y=1/x) > 0.5$ and high."
   ]
  },
  {
   "cell_type": "markdown",
   "metadata": {
    "colab_type": "text",
    "id": "oTY7z2bd4Zx2"
   },
   "source": [
    "__Note: in the above algorithm, the steps 2, 4 might need hyper parameter tuning, To reduce the complexity of the assignment we are excluding the hyerparameter tuning part, but intrested students can try that__"
   ]
  },
  {
   "cell_type": "markdown",
   "metadata": {
    "colab_type": "text",
    "id": "CM3odN1Z4Zx3"
   },
   "source": [
    "\n",
    "\n",
    "\n",
    "\n",
    "\n",
    "\n",
    "If any one wants to try other calibration algorithm istonic regression also please check these tutorials\n",
    "\n",
    "1. http://fa.bianp.net/blog/tag/scikit-learn.html#fn:1\n",
    "\n",
    "2. https://drive.google.com/open?id=1MzmA7QaP58RDzocB0RBmRiWfl7Co_VJ7\n",
    "\n",
    "3. https://drive.google.com/open?id=133odBinMOIVb_rh_GQxxsyMRyW-Zts7a\n",
    "\n",
    "4. https://stat.fandom.com/wiki/Isotonic_regression#Pool_Adjacent_Violators_Algorithm\n"
   ]
  }
 ],
 "metadata": {
  "colab": {
   "collapsed_sections": [],
   "name": "8E_F_LR_SVM.ipynb",
   "provenance": []
  },
  "kernelspec": {
   "display_name": "Python 3",
   "language": "python",
   "name": "python3"
  },
  "language_info": {
   "codemirror_mode": {
    "name": "ipython",
    "version": 3
   },
   "file_extension": ".py",
   "mimetype": "text/x-python",
   "name": "python",
   "nbconvert_exporter": "python",
   "pygments_lexer": "ipython3",
   "version": "3.6.9"
  }
 },
 "nbformat": 4,
 "nbformat_minor": 1
}
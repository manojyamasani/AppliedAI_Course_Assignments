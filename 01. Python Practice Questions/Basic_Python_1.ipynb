{
  "cells": [
    {
      "cell_type": "markdown",
      "metadata": {
        "id": "view-in-github",
        "colab_type": "text"
      },
      "source": [
        "<a href=\"https://colab.research.google.com/github/manojyamasani/DataScience_Projects/blob/main/01.%20Python%20Practice%20Questions/Basic_Python_1.ipynb\" target=\"_parent\"><img src=\"https://colab.research.google.com/assets/colab-badge.svg\" alt=\"Open In Colab\"/></a>"
      ]
    },
    {
      "cell_type": "markdown",
      "metadata": {
        "id": "MkT4PZ0BZyh9"
      },
      "source": [
        "# This is Assignment_01"
      ]
    },
    {
      "cell_type": "markdown",
      "metadata": {
        "id": "s85uGXc9Zyh-"
      },
      "source": [
        "#### 1. Write a function that inputs a number and prints the multiplication table of that number\n"
      ]
    },
    {
      "cell_type": "code",
      "execution_count": null,
      "metadata": {
        "id": "6-UgFVRqZyh_",
        "outputId": "6ca05707-87ab-4e6b-c1ef-2d4f09708f9a"
      },
      "outputs": [
        {
          "name": "stdout",
          "output_type": "stream",
          "text": [
            "Enter the input number. 174\n",
            "174 * 1 = 174\n",
            "174 * 2 = 348\n",
            "174 * 3 = 522\n",
            "174 * 4 = 696\n",
            "174 * 5 = 870\n",
            "174 * 6 = 1044\n",
            "174 * 7 = 1218\n",
            "174 * 8 = 1392\n",
            "174 * 9 = 1566\n",
            "174 * 10 = 1740\n"
          ]
        }
      ],
      "source": [
        "def mul_table(num):\n",
        "\n",
        "    \"\"\"\n",
        "    This fuction prints multipliaction table of input number.\n",
        "    \"\"\"\n",
        "\n",
        "    for i in range(1,11):\n",
        "        print(str(num)+' * '+str(i) +' = '+ str(num*i))\n",
        "\n",
        "n=int(input(\"Enter the input number. \"))\n",
        "mul_table(n)"
      ]
    },
    {
      "cell_type": "markdown",
      "metadata": {
        "id": "xFVxkbcHZyiA"
      },
      "source": [
        "#### 2. Write a program to print twin primes less than 1000. If two consecutive odd numbers are both prime then they are known as twin primes.\n"
      ]
    },
    {
      "cell_type": "code",
      "execution_count": null,
      "metadata": {
        "id": "nmV6UbryZyiA",
        "outputId": "a879e6f3-01ea-4165-909f-6373083dc1f4"
      },
      "outputs": [
        {
          "name": "stdout",
          "output_type": "stream",
          "text": [
            " ( 3,5 )\n",
            " ( 5,7 )\n",
            " ( 11,13 )\n",
            " ( 17,19 )\n",
            " ( 29,31 )\n",
            " ( 41,43 )\n",
            " ( 59,61 )\n",
            " ( 71,73 )\n",
            " ( 101,103 )\n",
            " ( 107,109 )\n",
            " ( 137,139 )\n",
            " ( 149,151 )\n",
            " ( 179,181 )\n",
            " ( 191,193 )\n",
            " ( 197,199 )\n",
            " ( 227,229 )\n",
            " ( 239,241 )\n",
            " ( 269,271 )\n",
            " ( 281,283 )\n",
            " ( 311,313 )\n",
            " ( 347,349 )\n",
            " ( 419,421 )\n",
            " ( 431,433 )\n",
            " ( 461,463 )\n",
            " ( 521,523 )\n",
            " ( 569,571 )\n",
            " ( 599,601 )\n",
            " ( 617,619 )\n",
            " ( 641,643 )\n",
            " ( 659,661 )\n",
            " ( 809,811 )\n",
            " ( 821,823 )\n",
            " ( 827,829 )\n",
            " ( 857,859 )\n",
            " ( 881,883 )\n"
          ]
        }
      ],
      "source": [
        "from math import sqrt\n",
        "\n",
        "def check_prime(num):\n",
        "\n",
        "    \"\"\"\n",
        "    This function checks whether input number is prime or not.\n",
        "    \"\"\"\n",
        "    is_prime = False\n",
        "    for i in range(2,round(sqrt(num))+1):\n",
        "        if(num%i == 0):\n",
        "            is_prime = True\n",
        "            break;\n",
        "    return not(is_prime)\n",
        "\n",
        "lst=[]\n",
        "for i in range(3,1000,2):\n",
        "    if(check_prime(i)):\n",
        "        if(check_prime(i+2)):\n",
        "            print(\" ( \" + str(i) + ','+ str(i+2) + \" )\")\n",
        "            lst.append((i,i+2))\n",
        "        else:\n",
        "            i=i+2"
      ]
    },
    {
      "cell_type": "code",
      "execution_count": null,
      "metadata": {
        "id": "-59OrpWGZyiA",
        "outputId": "596fc219-1829-465f-a997-ed6cfe9e06d2"
      },
      "outputs": [
        {
          "name": "stdout",
          "output_type": "stream",
          "text": [
            "35\n"
          ]
        }
      ],
      "source": [
        "print(len(lst))"
      ]
    },
    {
      "cell_type": "markdown",
      "metadata": {
        "id": "ED8FzmKTZyiB"
      },
      "source": [
        "* As shown in the above, number of twin primes between 1 and 1000 are 35."
      ]
    },
    {
      "cell_type": "markdown",
      "metadata": {
        "id": "gJZRpEt1ZyiB"
      },
      "source": [
        "#### 3. Write a program to find out the prime factors of a number.\n",
        "Example: prime factors of 56 - 2, 2, 2, 7"
      ]
    },
    {
      "cell_type": "code",
      "execution_count": null,
      "metadata": {
        "id": "ABKfZrDeZyiB",
        "outputId": "91ab267c-1e2d-4515-d97e-208fa1fdef01"
      },
      "outputs": [
        {
          "name": "stdout",
          "output_type": "stream",
          "text": [
            "Enter the number for prime factorisation. \n",
            "56\n",
            "prime factors of 56  are \n",
            "2,2,2,7 "
          ]
        }
      ],
      "source": [
        "from math import sqrt\n",
        "\n",
        "def check_prime(num):\n",
        "\n",
        "    \"\"\"\n",
        "    This function checks whether input number is prime or not.\n",
        "    \"\"\"\n",
        "    is_prime = False\n",
        "    for i in range(2,round(sqrt(num))+1):\n",
        "        if(num%i == 0):\n",
        "            is_prime = True\n",
        "            break;\n",
        "    return not(is_prime)\n",
        "\n",
        "def primefactor(num):\n",
        "\n",
        "    \"\"\"\n",
        "    This function does prime factorisation of a number.\n",
        "    \"\"\"\n",
        "    for i in range(2,round(sqrt(num))+1):\n",
        "\n",
        "        if(num % i ==0 and check_prime(i)):\n",
        "\n",
        "            print(str(i) + ',',end='')\n",
        "\n",
        "            if(check_prime(num//i)):\n",
        "\n",
        "                print( str(num//i), end=' ' )\n",
        "                break;\n",
        "            else:\n",
        "                primefactor(num//i)\n",
        "                break;\n",
        "\n",
        "\n",
        "n=int(input(\"Enter the number for prime factorisation. \\n\"))\n",
        "print(\"prime factors of\", n , \" are \")\n",
        "primefactor(n)"
      ]
    },
    {
      "cell_type": "markdown",
      "metadata": {
        "id": "ZEthz0jAZyiB"
      },
      "source": [
        "#### 4. Write a program to implement these formulae of permutations and combinations. Number of permutations of n objects taken r at a time: p(n, r) = n! / (n-r)!. Number of combinations of n objects taken r at a time is: c(n, r) = n! / (r!*(n-r)!) = p(n,r) / r!\n"
      ]
    },
    {
      "cell_type": "code",
      "execution_count": null,
      "metadata": {
        "id": "2FDdmk66ZyiB",
        "outputId": "2a152f5d-e60b-4f24-a77f-2afbd872b7d3"
      },
      "outputs": [
        {
          "name": "stdout",
          "output_type": "stream",
          "text": [
            "Enter n  10\n",
            "Enter r  3\n",
            "permutations and combinations are (720.0, 120.0)\n"
          ]
        }
      ],
      "source": [
        "def fact(num):\n",
        "\n",
        "    \"\"\"This function returns the factorial of input number.\"\"\"\n",
        "\n",
        "    if(num<=1):\n",
        "        return 1\n",
        "\n",
        "    prod=1\n",
        "    for i in range(2,num+1):\n",
        "        prod*=i\n",
        "    return prod\n",
        "\n",
        "def permNcomb(n,r):\n",
        "    perm=(fact(n)/fact(n-r))\n",
        "    comb=perm/fact(r)\n",
        "    return  perm,comb\n",
        "\n",
        "n=int(input(\"Enter n  \"))\n",
        "r=int(input(\"Enter r  \"))\n",
        "\n",
        "print(\"permutations and combinations are \" + str(permNcomb(n,r)))\n",
        "\n",
        "\n"
      ]
    },
    {
      "cell_type": "markdown",
      "metadata": {
        "id": "S62IBd9AZyiC"
      },
      "source": [
        "#### 5. Write a function that converts a decimal number to binary number"
      ]
    },
    {
      "cell_type": "code",
      "execution_count": null,
      "metadata": {
        "id": "I4uexjq9ZyiC",
        "outputId": "57f9996c-7799-4eed-9ecd-8d63ec15bb6d"
      },
      "outputs": [
        {
          "name": "stdout",
          "output_type": "stream",
          "text": [
            "Enter the number to convert into binary. 158\n",
            "10011110\n"
          ]
        }
      ],
      "source": [
        "def dec2bin(num):\n",
        "    \"\"\"This function returns binary representation of a decimal number.\"\"\"\n",
        "    out=\"\"\n",
        "    while(num):\n",
        "        out+=str(num%2)\n",
        "        num=num//2\n",
        "    else:\n",
        "        return out[::-1]\n",
        "\n",
        "n=int(input(\"Enter the number to convert into binary. \"))\n",
        "print(dec2bin(n))"
      ]
    },
    {
      "cell_type": "markdown",
      "metadata": {
        "id": "HulkOY0cZyiC"
      },
      "source": [
        "#### 6. Write a function cubesum() that accepts an integer and returns the sum of the cubes of individual digits of that number. Use this function to make functions PrintArmstrong() and isArmstrong() to print Armstrong numbers and to find whether is an Armstrong number."
      ]
    },
    {
      "cell_type": "code",
      "execution_count": null,
      "metadata": {
        "scrolled": true,
        "id": "xZ0l42cjZyiC",
        "outputId": "ce0ce059-f41b-4222-dad5-65ce6bdc7914"
      },
      "outputs": [
        {
          "name": "stdout",
          "output_type": "stream",
          "text": [
            "Enter the number for which cubesum is to be found:: 134\n",
            "92\n",
            "Enter the range of armstrong numbers to be printed: \n",
            " min:: 1\n",
            " max:: 1000\n",
            "1\n",
            "2\n",
            "3\n",
            "4\n",
            "5\n",
            "6\n",
            "7\n",
            "8\n",
            "9\n",
            "153\n",
            "370\n",
            "371\n",
            "407\n"
          ]
        }
      ],
      "source": [
        "def order(num):\n",
        "    \"\"\"This function returns number of digits in input number\"\"\"\n",
        "    n=0\n",
        "    while(num):\n",
        "        n+=1\n",
        "        num=num//10\n",
        "    else:\n",
        "        return n\n",
        "\n",
        "\n",
        "def cubesum(num,i):\n",
        "\n",
        "    \"\"\"This function returns the sum of cubes of digits of input number.\"\"\"\n",
        "    tot=0\n",
        "    while(num):\n",
        "        tot+=(num%10)**i\n",
        "        num=num//10\n",
        "    else:\n",
        "        return tot\n",
        "\n",
        "def isarmstrong(num):\n",
        "    \"\"\"This function tells whether number is armstrong or not.\"\"\"\n",
        "    if(cubesum(num,order(num))==num):\n",
        "        return True\n",
        "    else:\n",
        "        return False\n",
        "\n",
        "\n",
        "def PrintArmstrong(a,b):\n",
        "    \"\"\"This function prints all armstrong numbers.\"\"\"\n",
        "\n",
        "    for i in range(a,b+1):\n",
        "        if(isarmstrong(i)):\n",
        "            print(i)\n",
        "\n",
        "c=int(input(\"Enter the number for which cubesum is to be found:: \"))\n",
        "print(cubesum(c,3))\n",
        "\n",
        "a=int(input(\"Enter the range of armstrong numbers to be printed:\" + \" \\n \" + \"min:: \"))\n",
        "b=int(input(\" max:: \"))\n",
        "\n",
        "PrintArmstrong(a,b)\n"
      ]
    },
    {
      "cell_type": "markdown",
      "metadata": {
        "id": "eqLvl7XYZyiC"
      },
      "source": [
        "#### 7. Write a function prodDigits() that inputs a number and returns the product of digits of that number.\n"
      ]
    },
    {
      "cell_type": "code",
      "execution_count": null,
      "metadata": {
        "id": "fjhwVQ1HZyiC",
        "outputId": "c83fc564-45f4-49c5-a31f-dbd9d44c7cc9"
      },
      "outputs": [
        {
          "name": "stdout",
          "output_type": "stream",
          "text": [
            "Enter input number:: 123456\n",
            "720\n"
          ]
        }
      ],
      "source": [
        "def prodDigits(num):\n",
        "    \"\"\"This function returns the product of digits of input number.\"\"\"\n",
        "    prod=1\n",
        "    while(num):\n",
        "        prod*=(num%10)\n",
        "        num=num//10\n",
        "    else:\n",
        "        return prod\n",
        "\n",
        "n=int(input(\"Enter input number:: \"))\n",
        "print(prodDigits(n))"
      ]
    },
    {
      "cell_type": "markdown",
      "metadata": {
        "id": "Z7p3j7GKZyiD"
      },
      "source": [
        "#### 8. If all digits of a number n are multiplied by each other repeating with the product, the one digit number obtained at last is called the multiplicative digital root of n. The number of times digits need to be multiplied to reach one digit is called the multiplicative persistance of n. Example: 86 -> 48 -> 32 -> 6 (MDR 6, MPersistence 3) 341 -> 12->2 (MDR 2, MPersistence 2) Using the function prodDigits() of previous exercise write functions MDR() and MPersistence() that input a number and return its multiplicative digital root and multiplicative persistence respectively.\n"
      ]
    },
    {
      "cell_type": "code",
      "execution_count": null,
      "metadata": {
        "id": "h0NJDXpOZyiD",
        "outputId": "aa9962ab-3c50-412e-a936-af7f9a140013"
      },
      "outputs": [
        {
          "name": "stdout",
          "output_type": "stream",
          "text": [
            "Enter input number:: 86\n",
            "(MDR 6, Mpersistence 3)\n"
          ]
        }
      ],
      "source": [
        "def MDR(num):\n",
        "    \"\"\"This function returns the MDR of input number.\"\"\"\n",
        "    count=0\n",
        "    while(num>10):\n",
        "        num=prodDigits(num)\n",
        "        count+=1\n",
        "    else:\n",
        "        return (num,count)\n",
        "\n",
        "n=int(input(\"Enter input number:: \"))\n",
        "out=MDR(n)\n",
        "print(\"(MDR {}, Mpersistence {})\".format(out[0],out[1]))"
      ]
    },
    {
      "cell_type": "markdown",
      "metadata": {
        "id": "wcbCXx2oZyiD"
      },
      "source": [
        "#### 9. Write a function sumPdivisors() that finds the sum of proper divisors of a number. Proper divisors of a number are those numbers by which the number is divisible, except the number itself. For example proper divisors of 36 are 1, 2, 3, 4, 6, 9, 12, 18\n",
        "\n"
      ]
    },
    {
      "cell_type": "code",
      "execution_count": null,
      "metadata": {
        "id": "d37so_ANZyiD",
        "outputId": "260034a4-41d0-49bf-9593-4288e67231fd"
      },
      "outputs": [
        {
          "name": "stdout",
          "output_type": "stream",
          "text": [
            "Enter input number for finding sum of proper divisors:: 36\n"
          ]
        },
        {
          "data": {
            "text/plain": [
              "55"
            ]
          },
          "execution_count": 108,
          "metadata": {},
          "output_type": "execute_result"
        }
      ],
      "source": [
        "def sumPdivisors(num):\n",
        "\n",
        "    \"\"\"This function returns the sum of proper divisors of a number.\"\"\"\n",
        "    tot=0\n",
        "    for i in range(1,num):\n",
        "        if(num%i == 0):\n",
        "            tot+=i\n",
        "    return tot\n",
        "\n",
        "n=int(input(\"Enter input number for finding sum of proper divisors:: \"))\n",
        "sumPdivisors(n)"
      ]
    },
    {
      "cell_type": "markdown",
      "metadata": {
        "id": "jHR2Pm1-ZyiD"
      },
      "source": [
        "#### 10. A number is called perfect if the sum of proper divisors of that number is equal to the number. For example 28 is perfect number, since 1+2+4+7+14=28. Write a program to print all the perfect numbers in a given range.\n"
      ]
    },
    {
      "cell_type": "code",
      "execution_count": null,
      "metadata": {
        "id": "dJk0pqu9ZyiD",
        "outputId": "6856bec1-d1e0-46db-8af1-f95293726745"
      },
      "outputs": [
        {
          "name": "stdout",
          "output_type": "stream",
          "text": [
            "Enter the range of perfect numbers to be printed: \n",
            " min:: 1\n",
            " max:: 1000\n",
            "Perfect numbers in the given range are::\n",
            "6\n",
            "28\n",
            "496\n"
          ]
        }
      ],
      "source": [
        "def perfectnum(a,b):\n",
        "    \"\"\"This function prints all perfect numbers in a given range.\"\"\"\n",
        "    for i in range(a,b+1):\n",
        "        if(sumPdivisors(i) == i):\n",
        "            print(str(i))\n",
        "\n",
        "\n",
        "a=int(input(\"Enter the range of perfect numbers to be printed:\" + \" \\n \" + \"min:: \"))\n",
        "b=int(input(\" max:: \"))\n",
        "print(\"Perfect numbers in the given range are::\")\n",
        "perfectnum(a,b)"
      ]
    },
    {
      "cell_type": "markdown",
      "metadata": {
        "id": "LXfoLiAFZyiD"
      },
      "source": [
        "#### 11. Two different numbers are called amicable numbers if the sum of the proper divisors of each is equal to the other number. For example 220 and 284 are amicable numbers.Sum of proper divisors of 220 = 1+2+4+5+10+11+20+22+44+55+110 = 284 Sum of proper divisors of 284 = 1+2+4+71+142 = 220 Write a function to print pairs of amicable numbers in a range.\n",
        "\n"
      ]
    },
    {
      "cell_type": "code",
      "execution_count": null,
      "metadata": {
        "id": "_1J-oK7BZyiD",
        "outputId": "939cf89a-8ad0-4357-c446-71fdb54ab8f3"
      },
      "outputs": [
        {
          "name": "stdout",
          "output_type": "stream",
          "text": [
            "Enter the range of amicable numbers to be printed: \n",
            " min:: 1\n",
            " max:: 300\n",
            "Perfect numbers in the given range are::\n",
            "220and284are amicable numbers\n",
            "284and220are amicable numbers\n"
          ]
        }
      ],
      "source": [
        "def amicable(a,b):\n",
        "    \"\"\"This function prints amicable numbers in the given range.\"\"\"\n",
        "    for i in range(a,b+1):\n",
        "        for j in range(a,b+1):\n",
        "            if(sumPdivisors(i)==j and sumPdivisors(j)==i and i!=j):\n",
        "                print(str(i)+\"and\"+str(j)+\"are amicable numbers\")\n",
        "\n",
        "\n",
        "a=int(input(\"Enter the range of amicable numbers to be printed:\" + \" \\n \" + \"min:: \"))\n",
        "b=int(input(\" max:: \"))\n",
        "print(\"Perfect numbers in the given range are::\")\n",
        "amicable(a,b)\n",
        "\n",
        "\n",
        ""
      ]
    },
    {
      "cell_type": "markdown",
      "metadata": {
        "id": "fuOl6pr-ZyiE"
      },
      "source": [
        "#### 12. Write a program which can filter odd numbers in a list by using filter function"
      ]
    },
    {
      "cell_type": "code",
      "execution_count": null,
      "metadata": {
        "id": "Q3djegd0ZyiE",
        "outputId": "94059f1d-9856-4640-9fe3-de0ac4aa062c"
      },
      "outputs": [
        {
          "name": "stdout",
          "output_type": "stream",
          "text": [
            "[1, 3, 5, 7, 9, 11, 13, 15, 17, 19, 21, 23, 25, 27, 29, 31, 33, 35, 37, 39, 41, 43, 45, 47, 49, 51, 53, 55, 57, 59, 61, 63, 65, 67, 69, 71, 73, 75, 77, 79, 81, 83, 85, 87, 89, 91, 93, 95, 97, 99]\n"
          ]
        }
      ],
      "source": [
        "lst=range(100)\n",
        "filt_odd= lambda x: x%2!=0\n",
        "\n",
        "odd=list(filter(filt_odd,lst))\n",
        "print(odd)"
      ]
    },
    {
      "cell_type": "markdown",
      "metadata": {
        "id": "bC9tlC0uZyiE"
      },
      "source": [
        "#### 13. Write a program which can map() to make a list whose elements are cube of elements in a given list."
      ]
    },
    {
      "cell_type": "code",
      "execution_count": null,
      "metadata": {
        "scrolled": true,
        "id": "Dqpqo-D4ZyiE",
        "outputId": "6cdf9e18-9a51-48d9-ee6e-ee35c3c2976a"
      },
      "outputs": [
        {
          "name": "stdout",
          "output_type": "stream",
          "text": [
            "[0, 1, 8, 27, 64, 125, 216, 343, 512, 729, 1000, 1331, 1728, 2197, 2744, 3375, 4096, 4913, 5832, 6859, 8000, 9261, 10648, 12167, 13824, 15625, 17576, 19683, 21952, 24389, 27000, 29791, 32768, 35937, 39304, 42875, 46656, 50653, 54872, 59319, 64000, 68921, 74088, 79507, 85184, 91125, 97336, 103823, 110592, 117649, 125000, 132651, 140608, 148877, 157464, 166375, 175616, 185193, 195112, 205379, 216000, 226981, 238328, 250047, 262144, 274625, 287496, 300763, 314432, 328509, 343000, 357911, 373248, 389017, 405224, 421875, 438976, 456533, 474552, 493039, 512000, 531441, 551368, 571787, 592704, 614125, 636056, 658503, 681472, 704969, 729000, 753571, 778688, 804357, 830584, 857375, 884736, 912673, 941192, 970299]\n"
          ]
        }
      ],
      "source": [
        "lst=range(100)\n",
        "odd=list(map(lambda x: x**3,lst))\n",
        "print(odd)\n"
      ]
    },
    {
      "cell_type": "markdown",
      "metadata": {
        "id": "3ps27BqzZyiE"
      },
      "source": [
        "#### 14.  Write a program which can map() and filter() to make a list whose elements are cube of even number in a given list."
      ]
    },
    {
      "cell_type": "code",
      "execution_count": null,
      "metadata": {
        "id": "b_No92O4ZyiE",
        "outputId": "e9a8461c-5241-4688-9b9e-4e7dd718964c"
      },
      "outputs": [
        {
          "name": "stdout",
          "output_type": "stream",
          "text": [
            "[0, 8, 64, 216, 512, 1000, 1728, 2744, 4096, 5832, 8000, 10648, 13824, 17576, 21952, 27000, 32768, 39304, 46656, 54872, 64000, 74088, 85184, 97336, 110592, 125000, 140608, 157464, 175616, 195112, 216000, 238328, 262144, 287496, 314432, 343000, 373248, 405224, 438976, 474552, 512000, 551368, 592704, 636056, 681472, 729000, 778688, 830584, 884736, 941192]\n"
          ]
        }
      ],
      "source": [
        "lst=range(100)\n",
        "odd=list(map(lambda x: x**3,filter(lambda x:x%2==0,lst)))\n",
        "print(odd)\n"
      ]
    }
  ],
  "metadata": {
    "kernelspec": {
      "display_name": "Python 3",
      "language": "python",
      "name": "python3"
    },
    "language_info": {
      "codemirror_mode": {
        "name": "ipython",
        "version": 3
      },
      "file_extension": ".py",
      "mimetype": "text/x-python",
      "name": "python",
      "nbconvert_exporter": "python",
      "pygments_lexer": "ipython3",
      "version": "3.7.4"
    },
    "colab": {
      "provenance": [],
      "include_colab_link": true
    }
  },
  "nbformat": 4,
  "nbformat_minor": 0
}
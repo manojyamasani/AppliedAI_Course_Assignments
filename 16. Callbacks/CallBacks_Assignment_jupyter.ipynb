{
 "cells": [
  {
   "cell_type": "markdown",
   "metadata": {
    "id": "V2ZRzYGsCSnt"
   },
   "source": [
    "\n",
    "### 1. Download the data from <a href='https://drive.google.com/file/d/15dCNcmKskcFVjs7R0ElQkR61Ex53uJpM/view?usp=sharing'>here</a>. You have to use data.csv file for this assignment\n",
    "### 2. Code the model to classify data like below image. You can use any number of units in your Dense layers.\n",
    "\n",
    "<img src='https://i.imgur.com/33ptOFy.png'>\n",
    "\n"
   ]
  },
  {
   "cell_type": "markdown",
   "metadata": {
    "id": "bg22rD7sDPDu"
   },
   "source": [
    "# <font color='red'> <b>3. Writing Callbacks </b> </font>\n",
    "## You have to implement the following callbacks\n",
    "-  Write your own callback function, that has to print the micro F1 score and AUC score after each epoch.Do not use tf.keras.metrics for calculating AUC and F1 score.\n",
    "\n",
    "- Save your model at every epoch if your validation accuracy is improved from previous epoch. \n",
    "\n",
    "- You have to decay learning based on below conditions \n",
    "        Cond1. If your validation accuracy at that epoch is less than previous epoch accuracy, you have to decrese the\n",
    "               learning rate by 10%. \n",
    "        Cond2. For every 3rd epoch, decay your learning rate by 5%.\n",
    "        \n",
    "- If you are getting any NaN values(either weigths or loss) while training, you have to terminate your training. \n",
    "\n",
    "- You have to stop the training if your validation accuracy is not increased in last 2 epochs.\n",
    "\n",
    "- Use tensorboard for every model and analyse your scalar plots and histograms. (you need to upload the screenshots and write the observations for each model for evaluation)\n",
    "\n"
   ]
  },
  {
   "cell_type": "markdown",
   "metadata": {
    "id": "Uwx40uag8RxJ"
   },
   "source": [
    "##Data Preprocessing"
   ]
  },
  {
   "cell_type": "code",
   "execution_count": 96,
   "metadata": {
    "colab": {
     "base_uri": "https://localhost:8080/"
    },
    "id": "M7CrZmy5qUQ2",
    "outputId": "0ae9ca7b-74a7-405e-995a-0edc66cb53ac"
   },
   "outputs": [],
   "source": [
    "# from google.colab import drive\n",
    "# drive.mount('/content/drive')"
   ]
  },
  {
   "cell_type": "code",
   "execution_count": 97,
   "metadata": {
    "colab": {
     "base_uri": "https://localhost:8080/",
     "height": 206
    },
    "id": "ZaRHRdEHDzOM",
    "outputId": "fa31a38e-7bc7-4217-861d-4a64cf6d0d68"
   },
   "outputs": [],
   "source": [
    "# import pandas as pd\n",
    "# path = \"/content/drive/MyDrive/Named_Assignments/Callbacks/data.csv\"\n",
    "# data = pd.read_csv(path)\n",
    "# data.head()"
   ]
  },
  {
   "cell_type": "markdown",
   "metadata": {
    "id": "BP9Iz7zYQf1M"
   },
   "source": [
    "If you are running this noteboook in local machine Comment the above two cells and uncomment the below cell. "
   ]
  },
  {
   "cell_type": "code",
   "execution_count": 99,
   "metadata": {
    "id": "-iLGu8mkQ6tp"
   },
   "outputs": [
    {
     "data": {
      "text/html": [
       "<div>\n",
       "<style scoped>\n",
       "    .dataframe tbody tr th:only-of-type {\n",
       "        vertical-align: middle;\n",
       "    }\n",
       "\n",
       "    .dataframe tbody tr th {\n",
       "        vertical-align: top;\n",
       "    }\n",
       "\n",
       "    .dataframe thead th {\n",
       "        text-align: right;\n",
       "    }\n",
       "</style>\n",
       "<table border=\"1\" class=\"dataframe\">\n",
       "  <thead>\n",
       "    <tr style=\"text-align: right;\">\n",
       "      <th></th>\n",
       "      <th>f1</th>\n",
       "      <th>f2</th>\n",
       "      <th>label</th>\n",
       "    </tr>\n",
       "  </thead>\n",
       "  <tbody>\n",
       "    <tr>\n",
       "      <th>0</th>\n",
       "      <td>0.450564</td>\n",
       "      <td>1.074305</td>\n",
       "      <td>0.0</td>\n",
       "    </tr>\n",
       "    <tr>\n",
       "      <th>1</th>\n",
       "      <td>0.085632</td>\n",
       "      <td>0.967682</td>\n",
       "      <td>0.0</td>\n",
       "    </tr>\n",
       "    <tr>\n",
       "      <th>2</th>\n",
       "      <td>0.117326</td>\n",
       "      <td>0.971521</td>\n",
       "      <td>1.0</td>\n",
       "    </tr>\n",
       "    <tr>\n",
       "      <th>3</th>\n",
       "      <td>0.982179</td>\n",
       "      <td>-0.380408</td>\n",
       "      <td>0.0</td>\n",
       "    </tr>\n",
       "    <tr>\n",
       "      <th>4</th>\n",
       "      <td>-0.720352</td>\n",
       "      <td>0.955850</td>\n",
       "      <td>0.0</td>\n",
       "    </tr>\n",
       "  </tbody>\n",
       "</table>\n",
       "</div>"
      ],
      "text/plain": [
       "         f1        f2  label\n",
       "0  0.450564  1.074305    0.0\n",
       "1  0.085632  0.967682    0.0\n",
       "2  0.117326  0.971521    1.0\n",
       "3  0.982179 -0.380408    0.0\n",
       "4 -0.720352  0.955850    0.0"
      ]
     },
     "execution_count": 99,
     "metadata": {},
     "output_type": "execute_result"
    }
   ],
   "source": [
    "import pandas as pd\n",
    "path_local = \"/Users/yamasanimanoj-kumarreddy/Documents/AAIC/Named_Assignments/Callbacks/Callbacks/data.csv\"\n",
    "data = pd.read_csv(path_local)\n",
    "data.head()"
   ]
  },
  {
   "cell_type": "code",
   "execution_count": 100,
   "metadata": {
    "colab": {
     "base_uri": "https://localhost:8080/"
    },
    "id": "yWwZ70bxyhP2",
    "outputId": "11836fc2-2a45-49ab-c993-3b0cb158db58"
   },
   "outputs": [
    {
     "name": "stdout",
     "output_type": "stream",
     "text": [
      "(20000, 2)\n",
      "(20000,)\n"
     ]
    }
   ],
   "source": [
    "Y= data['label']\n",
    "X = data.drop('label',axis =1)\n",
    "print(X.shape)\n",
    "print(Y.shape)"
   ]
  },
  {
   "cell_type": "markdown",
   "metadata": {
    "id": "apI8slPnvhek"
   },
   "source": [
    "### Checking for null or nan values"
   ]
  },
  {
   "cell_type": "code",
   "execution_count": 101,
   "metadata": {
    "colab": {
     "base_uri": "https://localhost:8080/"
    },
    "id": "CSw5K9mrDzRq",
    "outputId": "88ecf926-c1e9-4798-aa15-05f1907f1694"
   },
   "outputs": [
    {
     "data": {
      "text/plain": [
       "f1       0\n",
       "f2       0\n",
       "label    0\n",
       "dtype: int64"
      ]
     },
     "execution_count": 101,
     "metadata": {},
     "output_type": "execute_result"
    }
   ],
   "source": [
    "data.isna().sum()"
   ]
  },
  {
   "cell_type": "markdown",
   "metadata": {
    "id": "XPoGmDcNxKED"
   },
   "source": [
    "### Splitting data into train and test data"
   ]
  },
  {
   "cell_type": "code",
   "execution_count": 102,
   "metadata": {
    "colab": {
     "base_uri": "https://localhost:8080/"
    },
    "id": "ftjBPn5AxJiQ",
    "outputId": "63740e3e-2594-4830-d088-712f1d006a39"
   },
   "outputs": [
    {
     "name": "stdout",
     "output_type": "stream",
     "text": [
      "(16000, 2)\n",
      "(16000,)\n",
      "(4000, 2)\n",
      "(4000,)\n"
     ]
    }
   ],
   "source": [
    "from sklearn.model_selection import train_test_split\n",
    "\n",
    "X_train, X_test, y_train, y_test = train_test_split(X,Y,test_size = 0.2, stratify = Y, random_state=42)\n",
    "print(X_train.shape)\n",
    "print(y_train.shape)\n",
    "print(X_test.shape)\n",
    "print(y_test.shape)"
   ]
  },
  {
   "cell_type": "markdown",
   "metadata": {
    "id": "TsiGp4R08lqM"
   },
   "source": [
    "### Data Normalization"
   ]
  },
  {
   "cell_type": "markdown",
   "metadata": {
    "id": "-xpqwTCQv1AZ"
   },
   "source": [
    "Before we apply data to Neural Networks, we must normalize the data.\n",
    "Normalizing the data using z-score normalization."
   ]
  },
  {
   "cell_type": "code",
   "execution_count": 103,
   "metadata": {
    "colab": {
     "base_uri": "https://localhost:8080/"
    },
    "id": "gAYVvRLLv0bU",
    "outputId": "4bffd9c8-1f53-438e-d3ed-ac31a5557a8d"
   },
   "outputs": [
    {
     "name": "stdout",
     "output_type": "stream",
     "text": [
      "(16000, 1) (4000, 1)\n"
     ]
    }
   ],
   "source": [
    "from sklearn.preprocessing import StandardScaler\n",
    "scaler = StandardScaler()\n",
    "scaler.fit(X_train['f1'].values.reshape(-1, 1))\n",
    "\n",
    "f1_train = scaler.transform(X_train['f1'].values.reshape(-1, 1))\n",
    "f1_test = scaler.transform(X_test['f1'].values.reshape(-1, 1))\n",
    "print(f1_train.shape,f1_test.shape)"
   ]
  },
  {
   "cell_type": "code",
   "execution_count": 104,
   "metadata": {
    "colab": {
     "base_uri": "https://localhost:8080/"
    },
    "id": "ZxOLhOI12I7k",
    "outputId": "9e42bcf3-34ba-4337-e0b8-954f122417fc"
   },
   "outputs": [
    {
     "name": "stdout",
     "output_type": "stream",
     "text": [
      "(16000, 1) (4000, 1)\n"
     ]
    }
   ],
   "source": [
    "from sklearn.preprocessing import StandardScaler\n",
    "scaler = StandardScaler()\n",
    "scaler.fit(X_train['f2'].values.reshape(-1, 1))\n",
    "\n",
    "f2_train = scaler.transform(X_train['f2'].values.reshape(-1, 1))\n",
    "f2_test = scaler.transform(X_test['f2'].values.reshape(-1, 1))\n",
    "print(f2_train.shape,f2_test.shape)"
   ]
  },
  {
   "cell_type": "markdown",
   "metadata": {
    "id": "jZ5329ZI861V"
   },
   "source": [
    "### Encoding the output classes into labels rather than float values."
   ]
  },
  {
   "cell_type": "code",
   "execution_count": 105,
   "metadata": {
    "colab": {
     "base_uri": "https://localhost:8080/"
    },
    "id": "mq3XhC9w3QG8",
    "outputId": "4ce6e6c1-d577-41a5-9180-bf723c40628a"
   },
   "outputs": [
    {
     "name": "stdout",
     "output_type": "stream",
     "text": [
      "(16000,) (4000,)\n",
      "[1 0 0 1 1]\n",
      "[1 0 0 1 0]\n"
     ]
    }
   ],
   "source": [
    "from sklearn.preprocessing import LabelEncoder\n",
    "\n",
    "encoder = LabelEncoder()\n",
    "encoder.fit(y_train.values)\n",
    "\n",
    "y_train = encoder.transform(y_train.values)\n",
    "y_test = encoder.transform(y_test.values)\n",
    "print(y_train.shape,y_test.shape)\n",
    "print(y_train[:5])\n",
    "print(y_test[:5])"
   ]
  },
  {
   "cell_type": "markdown",
   "metadata": {
    "id": "Uuhdc6GL8p78"
   },
   "source": [
    "### Stacking all features"
   ]
  },
  {
   "cell_type": "code",
   "execution_count": 106,
   "metadata": {
    "colab": {
     "base_uri": "https://localhost:8080/"
    },
    "id": "SDApGCGw2PXN",
    "outputId": "1966c6f9-9607-4068-84fe-c61b8e4e4e18"
   },
   "outputs": [
    {
     "name": "stdout",
     "output_type": "stream",
     "text": [
      "Final Data matrix\n",
      "(16000, 2) (16000, 1)\n",
      "(4000, 2) (4000, 1)\n",
      "====================================================================================================\n"
     ]
    }
   ],
   "source": [
    "import numpy as np\n",
    "\n",
    "X_train_ftr = np.hstack((f1_train, f2_train))\n",
    "X_test_ftr = np.hstack((f1_test, f2_test))\n",
    "y_train = y_train.reshape((-1,1))\n",
    "y_test = y_test.reshape((-1,1))\n",
    "\n",
    "print(\"Final Data matrix\")\n",
    "print(X_train_ftr.shape, y_train.shape)\n",
    "print(X_test_ftr.shape, y_test.shape)\n",
    "print(\"=\"*100)"
   ]
  },
  {
   "cell_type": "code",
   "execution_count": 107,
   "metadata": {
    "colab": {
     "base_uri": "https://localhost:8080/",
     "height": 265
    },
    "id": "LX2fGH2E2jhY",
    "outputId": "9caf6043-abd8-4db2-905b-7f76ca418306"
   },
   "outputs": [
    {
     "data": {
      "image/png": "[encoded data removed]",
      "text/plain": [
       "<Figure size 432x288 with 1 Axes>"
      ]
     },
     "metadata": {
      "needs_background": "light"
     },
     "output_type": "display_data"
    }
   ],
   "source": [
    "import matplotlib.pyplot as plt\n",
    "plt.figure()\n",
    "color= ['red' if l == 0 else 'green' for l in y_train]\n",
    "plt.scatter(X_train_ftr[:,0],X_train_ftr[:,1],c =color)\n",
    "plt.show()"
   ]
  },
  {
   "cell_type": "code",
   "execution_count": 108,
   "metadata": {
    "colab": {
     "base_uri": "https://localhost:8080/",
     "height": 265
    },
    "id": "Djrj8PVFYO3h",
    "outputId": "01d5c983-9cbb-4df1-d6a4-450265cd45f7"
   },
   "outputs": [
    {
     "data": {
      "image/png": "[encoded data removed]",
      "text/plain": [
       "<Figure size 432x288 with 1 Axes>"
      ]
     },
     "metadata": {
      "needs_background": "light"
     },
     "output_type": "display_data"
    }
   ],
   "source": [
    "import matplotlib.pyplot as plt\n",
    "plt.figure()\n",
    "color= ['red' if l == 0 else 'green' for l in y_test]\n",
    "plt.scatter(X_test_ftr[:,0],X_test_ftr[:,1],c =color)\n",
    "plt.show()"
   ]
  },
  {
   "cell_type": "markdown",
   "metadata": {
    "id": "GuqswY9q5BIN"
   },
   "source": [
    "**Observation :**\n",
    "1. This is highly linearly unseparable data in 2D."
   ]
  },
  {
   "cell_type": "markdown",
   "metadata": {
    "id": "8u2zLxz88ZAV"
   },
   "source": [
    "## Applying Different models"
   ]
  },
  {
   "cell_type": "code",
   "execution_count": 109,
   "metadata": {
    "id": "Mt2SWmyY9Nrh"
   },
   "outputs": [],
   "source": [
    "from tensorflow import keras\n",
    "\n",
    "def create_model(activation_function, weights_intializer):\n",
    "  model = keras.Sequential()\n",
    "  model.add(keras.layers.InputLayer(input_shape=(2,),name='input'))\n",
    "  model.add(keras.layers.Dense(128, activation = activation_function, kernel_initializer= weights_intializer, name='dense_1'))\n",
    "  model.add(keras.layers.Dense(64, activation = activation_function, kernel_initializer= weights_intializer, name='dense_2'))\n",
    "  model.add(keras.layers.Dense(32, activation = activation_function, kernel_initializer= weights_intializer, name='dense_3'))\n",
    "  model.add(keras.layers.Dense(16, activation = activation_function, kernel_initializer= weights_intializer, name='dense_4'))\n",
    "  model.add(keras.layers.Dense(8, activation = activation_function, kernel_initializer= weights_intializer, name='dense_5'))\n",
    "  model.add(keras.layers.Dense(1, activation = 'sigmoid', kernel_initializer= weights_intializer, name='output'))\n",
    "\n",
    "  return model\n"
   ]
  },
  {
   "cell_type": "code",
   "execution_count": 110,
   "metadata": {
    "id": "bvJiBe3kV0SB"
   },
   "outputs": [],
   "source": [
    "from sklearn.metrics import f1_score\n",
    "from sklearn.metrics import roc_auc_score\n",
    "from sklearn import metrics\n",
    "\n",
    "def fptp(k,y_pred,y_actual):\n",
    "  cnf_matrix=np.zeros((2,2),dtype=int)    \n",
    "  y_label = np.array(list(map(lambda y: (1 if y>=k else 0) , y_pred))).reshape((-1,1))\n",
    "  for i in range(2):\n",
    "    for j in range(2):\n",
    "      cnf_matrix[i,j] = sum((y_label==i)&(y_actual == j))\n",
    "      \n",
    "  tpr=(cnf_matrix[1,1]/(cnf_matrix[0,1]+cnf_matrix[1,1]))\n",
    "  fpr=(cnf_matrix[1,0]/(cnf_matrix[1,0]+cnf_matrix[0,0]))\n",
    "  return tpr,fpr\n",
    "    \n",
    "def calcfprtpr(x,y_actual):\n",
    "    tpr_array=[]\n",
    "    fpr_array=[]    \n",
    "    for i in x:    \n",
    "      tpr,fpr=fptp(i[0],x,y_actual)\n",
    "      tpr_array.append(tpr)\n",
    "      fpr_array.append(fpr)\n",
    "\n",
    "    tpr,fpr=fptp(np.max(x)+1,x,y_actual)\n",
    "    tpr_array.append(tpr)\n",
    "    fpr_array.append(fpr)\n",
    "\n",
    "    return tpr_array,fpr_array\n",
    "\n",
    "def micro_f1_auc(y_pred,y_actual):\n",
    "  labels = np.unique(y_actual).size\n",
    "  TP = np.zeros((labels,1))\n",
    "  FP = np.zeros((labels,1))\n",
    "  FN = np.zeros((labels,1))\n",
    "  y_label = np.array(list(map(lambda y: (1 if y>=0.5 else 0) , y_pred))).reshape((-1,1))\n",
    "    \n",
    "  for i in range(labels):\n",
    "    TP[i,0] = sum((y_label == i)&(y_actual == i))\n",
    "    FP[i,0] = sum((y_label == i)&(y_actual != i))\n",
    "    FN[i,0] = sum((y_label != i)&(y_actual == i))\n",
    "\n",
    "  prec=sum(TP)/(sum(TP)+sum(FP))\n",
    "  recall=sum(TP)/(sum(TP)+sum(FN))\n",
    "  mu_F1=(2*prec*recall)/(prec+recall)\n",
    "  # mu_F1 = sum(TP)/(sum(TP)+(0.5*(sum(FP)+sum(FN))))\n",
    "  mu_F1_Sklearn = f1_score(y_actual, y_label,average='micro')\n",
    "\n",
    "  print(\"\\nMicro F1 by custom_function is \", mu_F1[0])\n",
    "  print(\"Micro F1 by sklearn is\", mu_F1_Sklearn)\n",
    "  # fpr, tpr, thresholds = metrics.roc_curve(y_actual, y_pred, pos_label=1)  \n",
    "\n",
    "  tpr_array,fpr_array=calcfprtpr(y_pred,y_actual)    \n",
    "  AUC = np.trapz(sorted(tpr_array), sorted(fpr_array))\n",
    "  \n",
    "  # print(\"Micro F1 score is \", mu_F1)\n",
    "  # print(\"AUC by sklearn auc is \",metrics.auc(fpr, tpr))\n",
    "  print(\"AUC by sklearn is \",roc_auc_score(y_actual, y_pred))\n",
    "  print(\"AUC by custom_function is\",AUC)"
   ]
  },
  {
   "cell_type": "code",
   "execution_count": 111,
   "metadata": {
    "id": "LZk-DtahPWf4"
   },
   "outputs": [],
   "source": [
    "from tensorflow import keras\n",
    "\n",
    "class print_f1_auc(keras.callbacks.Callback):\n",
    "  #custom class for printing the micro f1 score and auc score on end of epoch\n",
    "  def __init__(self,validation_data):\n",
    "    self.x = validation_data[0]\n",
    "    self.y = validation_data[1]    \n",
    "    super().__init__()  \n",
    "    \n",
    "  def on_epoch_end(self, epoch, logs = None):\n",
    "    model = self.model\n",
    "    y_pred = model.predict(self.x)     \n",
    "    micro_f1_auc(y_pred,self.y)\n",
    "\n"
   ]
  },
  {
   "cell_type": "code",
   "execution_count": 112,
   "metadata": {
    "id": "aVhevuJfRjzS"
   },
   "outputs": [],
   "source": [
    "from tensorflow import keras\n",
    "\n",
    "class model_save(keras.callbacks.Callback):\n",
    "  #custom class for saving the model if validation accuracy is improved from previous epoch's.\n",
    "  def __init__(self, filepath):\n",
    "    super().__init__()\n",
    "    self.prev_val_acc = 0\n",
    "    self.filepath = filepath\n",
    "  def on_epoch_end(self, epoch, logs = None):\n",
    "    model = self.model\n",
    "    cur_val_acc = logs['val_binary_accuracy']    \n",
    "    if(cur_val_acc>self.prev_val_acc):\n",
    "      # print(\"\\n Current validation accuracy is {0} \\n Prev validation accuracy is {1}\".format(cur_val_acc,self.prev_val_acc))\n",
    "      print(\"saving the model as val_acc > prev_val_acc\")      \n",
    "      model.save(filepath=self.filepath,overwrite=True)\n",
    "      self.prev_val_acc = cur_val_acc\n",
    "\n"
   ]
  },
  {
   "cell_type": "code",
   "execution_count": 113,
   "metadata": {
    "id": "Rq1krgZ0Rkr7"
   },
   "outputs": [],
   "source": [
    "from tensorflow import keras\n",
    "\n",
    "def epoch_3_scheduler(epoch,lr):\n",
    "  if((epoch+1)%3==0):\n",
    "    print(\"Setting the learning rate as epoch is multiple of 3\")\n",
    "    lr=0.95*lr\n",
    "    return lr\n",
    "  else:\n",
    "    return lr\n",
    "\n",
    "class decay_learning(keras.callbacks.Callback):\n",
    "  #custom class for decaying the learning rate based on conditions.\n",
    "  def __init__(self):\n",
    "    super().__init__()\n",
    "    self.prev_val_acc = 0\n",
    "\n",
    "  def on_epoch_end(self, epoch, logs = None):\n",
    "    model = self.model\n",
    "    cur_val_acc = logs['val_binary_accuracy']      \n",
    "    lr = float(keras.backend.get_value(self.model.optimizer.learning_rate))\n",
    "\n",
    "    if(cur_val_acc<self.prev_val_acc):   \n",
    "      print(\"Setting the learning rate as val_acc < prev_val_acc\")     \n",
    "      scheduled_lr = lr*0.9\n",
    "      # Set the value back to the optimizer before new epoch starts\n",
    "      keras.backend.set_value(self.model.optimizer.lr, scheduled_lr)      \n",
    "        \n",
    "    # Call schedule function to get the scheduled learning rate.\n",
    "    new_lr = epoch_3_scheduler(epoch,lr)\n",
    "    # Set the value back to the optimizer before new epoch starts\n",
    "    keras.backend.set_value(self.model.optimizer.lr, new_lr)\n",
    "    self.prev_val_acc = cur_val_acc\n",
    "\n",
    "\n"
   ]
  },
  {
   "cell_type": "code",
   "execution_count": 114,
   "metadata": {
    "id": "a3KoR0l9RlE0"
   },
   "outputs": [],
   "source": [
    "from tensorflow import keras\n",
    "import numpy as np\n",
    "# weights \n",
    "class stop_train_on_nan(keras.callbacks.Callback):\n",
    "  #custom class for printing the micro f1 score and auc score on end of epoch\n",
    "  def __init__(self):\n",
    "    super().__init__()\n",
    "\n",
    "  def on_train_batch_end(self, batch, logs = None):\n",
    "    train_loss = logs['loss']\n",
    "    weights = self.model.get_weights()\n",
    "    # print(len(weights))\n",
    "    if(np.isnan(train_loss)):\n",
    "      print(\"found nan values in loss.\")\n",
    "      self.model.stop_training = True\n",
    "    sam = np.any([np.isnan(np.sum(matrix)) for matrix in weights])\n",
    "    if(sam):\n",
    "      print(\"found nan values in weights or biases\")\n",
    "      self.model.stop_training = True\n",
    "      \n"
   ]
  },
  {
   "cell_type": "code",
   "execution_count": 115,
   "metadata": {
    "id": "D-8DJvyzSBoR"
   },
   "outputs": [],
   "source": [
    "from tensorflow import keras\n",
    "\n",
    "class stop_train_on_valacc(keras.callbacks.Callback):\n",
    "  #custom class for printing the micro f1 score and auc score on end of epoch\n",
    "  def __init__(self,patience):\n",
    "    super().__init__()\n",
    "    self.patience = 0\n",
    "    self.wait = patience\n",
    "    self.prev_val_acc = 0\n",
    "\n",
    "  def on_epoch_end(self, epoch, logs = None):\n",
    "    model = self.model\n",
    "    cur_val_acc = logs['val_binary_accuracy']\n",
    "    if(cur_val_acc<=self.prev_val_acc):\n",
    "      self.patience += 1\n",
    "      if(self.patience == self.wait):\n",
    "        # print(\"\\n Current validation accuracy is {0} \\n Prev validation accuracy is {1} and patience is {2}\".format(cur_val_acc,self.prev_val_acc,self.patience))\n",
    "        print(\"Stopping the model Training as val_acc <= prev_val_acc for continuous 2 epochs\")      \n",
    "        self.model.stop_training = True\n",
    "    else :\n",
    "      self.patience = 0\n",
    "    self.prev_val_acc = cur_val_acc\n",
    "    "
   ]
  },
  {
   "cell_type": "markdown",
   "metadata": {
    "id": "xCL3OGS0DsUa"
   },
   "source": [
    "<pre>\n",
    "<b>Model-1</b>\n",
    "<pre>\n",
    "1. Use tanh as an activation for every layer except output layer.\n",
    "2. use SGD with momentum as optimizer.\n",
    "3. use RandomUniform(0,1) as initilizer.\n",
    "3. Analyze your output and training process. \n",
    "</pre>\n",
    "</pre>"
   ]
  },
  {
   "cell_type": "code",
   "execution_count": 116,
   "metadata": {
    "id": "AoLBmzCtaqeb"
   },
   "outputs": [],
   "source": [
    "import os\n",
    "import datetime\n",
    "from itertools import combinations"
   ]
  },
  {
   "cell_type": "code",
   "execution_count": 117,
   "metadata": {
    "id": "evGVYXKfVc7z"
   },
   "outputs": [],
   "source": [
    "path_local = \"/Users/yamasanimanoj-kumarreddy/Documents/AAIC/Named_Assignments/Callbacks/Callbacks/\"\n",
    "model_saving_path = os.path.join(path_local,'model_1', \"weights\")\n",
    "graph_saving_dir = os.path.join(path_local,'model_1', \"Tensorboard_graphs\")"
   ]
  },
  {
   "cell_type": "markdown",
   "metadata": {
    "id": "0fM2CbziVc7z"
   },
   "source": [
    "Uncomment the above cell and comment the below cell if you are running this notebook in local machine."
   ]
  },
  {
   "cell_type": "code",
   "execution_count": 118,
   "metadata": {
    "id": "wxVouVKmVc7z"
   },
   "outputs": [],
   "source": [
    "# path = \"/content/drive/MyDrive/Named_Assignments/Callbacks/\"\n",
    "# model_saving_path = os.path.join(path,'model_1', \"weights\")\n",
    "# graph_saving_dir = os.path.join(path,'model_1', \"Tensorboard_graphs\")"
   ]
  },
  {
   "cell_type": "code",
   "execution_count": 119,
   "metadata": {
    "id": "FGMSIe6zITPU"
   },
   "outputs": [],
   "source": [
    "f1_auc_callback = print_f1_auc(validation_data= [X_test_ftr,y_test])\n",
    "model_save_callback = model_save(model_saving_path)\n",
    "decay_learning_callback = decay_learning()\n",
    "patience = 2\n",
    "stop_train_on_valacc_callback = stop_train_on_valacc(patience)\n",
    "stop_train_on_nan_callback = stop_train_on_nan()\n",
    "tensorboard_callback = keras.callbacks.TensorBoard(log_dir=graph_saving_dir,histogram_freq=1,write_graph=True)\n",
    "\n",
    "callbacksList = [f1_auc_callback, model_save_callback, decay_learning_callback, stop_train_on_valacc_callback, stop_train_on_nan_callback, tensorboard_callback]"
   ]
  },
  {
   "cell_type": "code",
   "execution_count": 120,
   "metadata": {
    "colab": {
     "base_uri": "https://localhost:8080/"
    },
    "id": "0maBUan3_UmK",
    "outputId": "f459100e-2804-4b3b-8948-c5b6100dd501"
   },
   "outputs": [
    {
     "name": "stdout",
     "output_type": "stream",
     "text": [
      "Model: \"sequential_5\"\n",
      "_________________________________________________________________\n",
      " Layer (type)                Output Shape              Param #   \n",
      "=================================================================\n",
      " dense_1 (Dense)             (None, 128)               384       \n",
      "                                                                 \n",
      " dense_2 (Dense)             (None, 64)                8256      \n",
      "                                                                 \n",
      " dense_3 (Dense)             (None, 32)                2080      \n",
      "                                                                 \n",
      " dense_4 (Dense)             (None, 16)                528       \n",
      "                                                                 \n",
      " dense_5 (Dense)             (None, 8)                 136       \n",
      "                                                                 \n",
      " output (Dense)              (None, 1)                 9         \n",
      "                                                                 \n",
      "=================================================================\n",
      "Total params: 11,393\n",
      "Trainable params: 11,393\n",
      "Non-trainable params: 0\n",
      "_________________________________________________________________\n"
     ]
    }
   ],
   "source": [
    "initializer = keras.initializers.RandomUniform(minval=0, maxval=1)\n",
    "model = create_model('tanh',initializer)\n",
    "eta = 0.0001\n",
    "optimizer = keras.optimizers.SGD(learning_rate=eta,momentum=0.9)\n",
    "model.compile(optimizer=optimizer,\n",
    "              metrics = [keras.metrics.BinaryAccuracy()],\n",
    "              loss=keras.losses.BinaryCrossentropy())\n",
    "model.summary()"
   ]
  },
  {
   "cell_type": "code",
   "execution_count": 122,
   "metadata": {
    "colab": {
     "base_uri": "https://localhost:8080/"
    },
    "id": "Z9ybMvJuIHyq",
    "outputId": "97f67f1a-4541-4ce5-b2f9-dfdef720462d"
   },
   "outputs": [
    {
     "name": "stdout",
     "output_type": "stream",
     "text": [
      "Epoch 1/10\n",
      "  1/500 [..............................] - ETA: 6s - loss: 1.6574 - binary_accuracy: 0.5312WARNING:tensorflow:Callback method `on_train_batch_end` is slow compared to the batch time (batch time: 0.0015s vs `on_train_batch_end` time: 0.0031s). Check your callbacks.\n",
      "125/125 [==============================] - 0s 812us/steps: 1.3844 - binary_accuracy: 0.\n",
      "\n",
      "Micro F1 by custom_function is  0.49225\n",
      "Micro F1 by sklearn is 0.49225\n",
      "AUC by sklearn is  0.4921247500000001\n",
      "AUC by custom_function is 0.49212475000000006\n",
      "saving the model as val_acc > prev_val_acc\n",
      "INFO:tensorflow:Assets written to: /Users/yamasanimanoj-kumarreddy/Documents/AAIC/Named_Assignments/Callbacks/Callbacks/model_1/weights/assets\n",
      "500/500 [==============================] - 72s 143ms/step - loss: 1.3729 - binary_accuracy: 0.5001 - val_loss: 1.0559 - val_binary_accuracy: 0.4922\n",
      "Epoch 2/10\n",
      "125/125 [==============================] - 0s 763us/steps: 0.8693 - binary_accuracy: 0.\n",
      "\n",
      "Micro F1 by custom_function is  0.49225\n",
      "Micro F1 by sklearn is 0.49225\n",
      "AUC by sklearn is  0.49263250000000003\n",
      "AUC by custom_function is 0.49263250000000003\n",
      "500/500 [==============================] - 72s 145ms/step - loss: 0.8663 - binary_accuracy: 0.5001 - val_loss: 0.7614 - val_binary_accuracy: 0.4922\n",
      "Epoch 3/10\n",
      "125/125 [==============================] - 0s 957us/steps: 0.7211 - binary_accuracy: \n",
      "\n",
      "Micro F1 by custom_function is  0.49225\n",
      "Micro F1 by sklearn is 0.49225\n",
      "AUC by sklearn is  0.49263250000000003\n",
      "AUC by custom_function is 0.49263250000000003\n",
      "Setting the learning rate as epoch is multiple of 3\n",
      "Stopping the model Training as val_acc <= prev_val_acc for continuous 2 epochs\n",
      "500/500 [==============================] - 72s 144ms/step - loss: 0.7205 - binary_accuracy: 0.5001 - val_loss: 0.7038 - val_binary_accuracy: 0.4922\n"
     ]
    },
    {
     "data": {
      "text/plain": [
       "<keras.callbacks.History at 0x7fd7c6466eb0>"
      ]
     },
     "execution_count": 122,
     "metadata": {},
     "output_type": "execute_result"
    }
   ],
   "source": [
    "model.fit(X_train_ftr, y_train, epochs = 10,validation_data= (X_test_ftr,y_test), callbacks=[callbacksList])"
   ]
  },
  {
   "cell_type": "code",
   "execution_count": 123,
   "metadata": {
    "id": "Rp0BEPk2JUUs"
   },
   "outputs": [
    {
     "name": "stdout",
     "output_type": "stream",
     "text": [
      "The tensorboard extension is already loaded. To reload it, use:\n",
      "  %reload_ext tensorboard\n"
     ]
    }
   ],
   "source": [
    "# there are other ways of doing this: https://www.dlology.com/blog/quick-guide-to-run-tensorboard-in-google-colab/ you can try this way also\n",
    "%load_ext tensorboard"
   ]
  },
  {
   "cell_type": "code",
   "execution_count": 124,
   "metadata": {
    "id": "aFfuXRNOTirN"
   },
   "outputs": [
    {
     "data": {
      "text/html": [
       "\n",
       "      <iframe id=\"tensorboard-frame-f2b28a09a31def15\" width=\"100%\" height=\"800\" frameborder=\"0\">\n",
       "      </iframe>\n",
       "      <script>\n",
       "        (function() {\n",
       "          const frame = document.getElementById(\"tensorboard-frame-f2b28a09a31def15\");\n",
       "          const url = new URL(\"/\", window.location);\n",
       "          const port = 6006;\n",
       "          if (port) {\n",
       "            url.port = port;\n",
       "          }\n",
       "          frame.src = url;\n",
       "        })();\n",
       "      </script>\n",
       "    "
      ],
      "text/plain": [
       "<IPython.core.display.HTML object>"
      ]
     },
     "metadata": {},
     "output_type": "display_data"
    }
   ],
   "source": [
    "%tensorboard --logdir /Users/yamasanimanoj-kumarreddy/Documents/AAIC/Named_Assignments/Callbacks/Callbacks/model_1/Tensorboard_graphs"
   ]
  },
  {
   "cell_type": "markdown",
   "metadata": {
    "id": "1TFpiKapTfHf"
   },
   "source": [
    "Uncomment the above cell and comment the below cell if you are running this notebook in local machine."
   ]
  },
  {
   "cell_type": "code",
   "execution_count": null,
   "metadata": {
    "id": "rlrz0VAmxSTX"
   },
   "outputs": [],
   "source": [
    "# %tensorboard --logdir /content/drive/MyDrive/Named_Assignments/Callbacks/model_1/Tensorboard_graphs"
   ]
  },
  {
   "cell_type": "markdown",
   "metadata": {
    "id": "zqd0rW-txQl4"
   },
   "source": [
    "1. The above model stopped as the validation accuracy is same for 2 continuous epochs.\n",
    "2. As we have intialized the weights with Random uniform(0,1), weight matrices are almost maintaining the same distribution even after some epochs.\n",
    "3.From weight and bias distributions we can observe that change in the w,b values is very insignificant. \n",
    "4. As we have used `tanh` activation function, the updates in weights are insignificant. So we are not getting much improvement in the results. \n",
    "4. We have achieved these results\n",
    "* Micro F1 score - **0.49225**\n",
    "* Area under the curve, AUC - **0.4926**\n",
    "* Training Accuracy - **0.5001**\n",
    "* Validation Accuracy - **0.4922**"
   ]
  },
  {
   "cell_type": "markdown",
   "metadata": {
    "id": "CRpsCx3NEAtx"
   },
   "source": [
    "<pre>\n",
    "<b>Model-2</b>\n",
    "<pre>\n",
    "1. Use relu as an activation for every layer except output layer.\n",
    "2. use SGD with momentum as optimizer.\n",
    "3. use RandomUniform(0,1) as initilizer.\n",
    "3. Analyze your output and training process. \n",
    "</pre>\n",
    "</pre>"
   ]
  },
  {
   "cell_type": "code",
   "execution_count": 152,
   "metadata": {
    "id": "jo30V5TSaYyr"
   },
   "outputs": [],
   "source": [
    "import os\n",
    "import datetime\n",
    "from itertools import combinations"
   ]
  },
  {
   "cell_type": "code",
   "execution_count": 126,
   "metadata": {
    "id": "qRw5628PVVTA"
   },
   "outputs": [],
   "source": [
    "path_local = \"/Users/yamasanimanoj-kumarreddy/Documents/AAIC/Named_Assignments/Callbacks/Callbacks/\"\n",
    "model_saving_path = os.path.join(path_local,'model_2', \"weights\")\n",
    "graph_saving_dir = os.path.join(path_local,'model_2', \"Tensorboard_graphs\")"
   ]
  },
  {
   "cell_type": "markdown",
   "metadata": {
    "id": "hMPlusMQVVTA"
   },
   "source": [
    "Uncomment the above cell and comment the below cell if you are running this notebook in local machine."
   ]
  },
  {
   "cell_type": "code",
   "execution_count": 127,
   "metadata": {
    "id": "Lt8yuO3TVVTA"
   },
   "outputs": [],
   "source": [
    "# path = \"/content/drive/MyDrive/Named_Assignments/Callbacks/\"\n",
    "# model_saving_path = os.path.join(path,'model_2', \"weights\")\n",
    "# graph_saving_dir = os.path.join(path,'model_2', \"Tensorboard_graphs\")"
   ]
  },
  {
   "cell_type": "code",
   "execution_count": 128,
   "metadata": {
    "id": "-xl9wxJMGPgU"
   },
   "outputs": [],
   "source": [
    "f1_auc_callback = print_f1_auc(validation_data= [X_test_ftr,y_test])\n",
    "model_save_callback = model_save(model_saving_path)\n",
    "decay_learning_callback = decay_learning()\n",
    "patience = 2\n",
    "stop_train_on_valacc_callback = stop_train_on_valacc(patience)\n",
    "stop_train_on_nan_callback = stop_train_on_nan()\n",
    "\n",
    "tensorboard_callback = keras.callbacks.TensorBoard(log_dir=graph_saving_dir,histogram_freq=1,write_graph=True)\n",
    "\n",
    "callbacksList = [f1_auc_callback, model_save_callback, decay_learning_callback, stop_train_on_valacc_callback, stop_train_on_nan_callback, tensorboard_callback]"
   ]
  },
  {
   "cell_type": "code",
   "execution_count": 129,
   "metadata": {
    "id": "JRu4aJ83JUac"
   },
   "outputs": [
    {
     "name": "stdout",
     "output_type": "stream",
     "text": [
      "Model: \"sequential_6\"\n",
      "_________________________________________________________________\n",
      " Layer (type)                Output Shape              Param #   \n",
      "=================================================================\n",
      " dense_1 (Dense)             (None, 128)               384       \n",
      "                                                                 \n",
      " dense_2 (Dense)             (None, 64)                8256      \n",
      "                                                                 \n",
      " dense_3 (Dense)             (None, 32)                2080      \n",
      "                                                                 \n",
      " dense_4 (Dense)             (None, 16)                528       \n",
      "                                                                 \n",
      " dense_5 (Dense)             (None, 8)                 136       \n",
      "                                                                 \n",
      " output (Dense)              (None, 1)                 9         \n",
      "                                                                 \n",
      "=================================================================\n",
      "Total params: 11,393\n",
      "Trainable params: 11,393\n",
      "Non-trainable params: 0\n",
      "_________________________________________________________________\n"
     ]
    }
   ],
   "source": [
    "initializer = keras.initializers.RandomUniform(minval=0, maxval=1)\n",
    "model = create_model('relu',initializer)\n",
    "eta = 0.0001\n",
    "optimizer = keras.optimizers.SGD(learning_rate=eta,momentum=0.9)\n",
    "model.compile(optimizer=optimizer,\n",
    "              metrics = [keras.metrics.BinaryAccuracy()],\n",
    "              loss=keras.losses.BinaryCrossentropy())\n",
    "model.summary()"
   ]
  },
  {
   "cell_type": "code",
   "execution_count": 130,
   "metadata": {
    "id": "xni4KQ-KJUac"
   },
   "outputs": [
    {
     "name": "stdout",
     "output_type": "stream",
     "text": [
      "Epoch 1/10\n",
      "  1/500 [..............................] - ETA: 4:10 - loss: 260099.5000 - binary_accuracy: 0.4375WARNING:tensorflow:Callback method `on_train_batch_end` is slow compared to the batch time (batch time: 0.0017s vs `on_train_batch_end` time: 0.0034s). Check your callbacks.\n",
      "125/125 [==============================] - 0s 1ms/steposs: 667.1182 - binary_accuracy: \n",
      "\n",
      "Micro F1 by custom_function is  0.5\n",
      "Micro F1 by sklearn is 0.5\n",
      "AUC by sklearn is  0.5\n",
      "AUC by custom_function is 0.5\n",
      "saving the model as val_acc > prev_val_acc\n",
      "INFO:tensorflow:Assets written to: /Users/yamasanimanoj-kumarreddy/Documents/AAIC/Named_Assignments/Callbacks/Callbacks/model_2/weights/assets\n",
      "500/500 [==============================] - 75s 150ms/step - loss: 659.1210 - binary_accuracy: 0.4986 - val_loss: 0.6931 - val_binary_accuracy: 0.5000\n",
      "Epoch 2/10\n",
      "125/125 [==============================] - 0s 1ms/steposs: 0.6932 - binary_accuracy: \n",
      "\n",
      "Micro F1 by custom_function is  0.5\n",
      "Micro F1 by sklearn is 0.5\n",
      "AUC by sklearn is  0.5\n",
      "AUC by custom_function is 0.5\n",
      "500/500 [==============================] - 73s 147ms/step - loss: 0.6932 - binary_accuracy: 0.4951 - val_loss: 0.6931 - val_binary_accuracy: 0.5000\n",
      "Epoch 3/10\n",
      "125/125 [==============================] - 0s 835us/steps: 0.6932 - binary_accuracy: \n",
      "\n",
      "Micro F1 by custom_function is  0.5\n",
      "Micro F1 by sklearn is 0.5\n",
      "AUC by sklearn is  0.5\n",
      "AUC by custom_function is 0.5\n",
      "Setting the learning rate as epoch is multiple of 3\n",
      "Stopping the model Training as val_acc <= prev_val_acc for continuous 2 epochs\n",
      "500/500 [==============================] - 72s 145ms/step - loss: 0.6932 - binary_accuracy: 0.4958 - val_loss: 0.6931 - val_binary_accuracy: 0.5000\n"
     ]
    },
    {
     "data": {
      "text/plain": [
       "<keras.callbacks.History at 0x7fd7c88457f0>"
      ]
     },
     "execution_count": 130,
     "metadata": {},
     "output_type": "execute_result"
    }
   ],
   "source": [
    "model.fit(X_train_ftr, y_train, epochs = 10,validation_data= (X_test_ftr,y_test), callbacks=callbacksList)"
   ]
  },
  {
   "cell_type": "code",
   "execution_count": 131,
   "metadata": {
    "id": "ZTVFllUSJbFY"
   },
   "outputs": [
    {
     "name": "stdout",
     "output_type": "stream",
     "text": [
      "The tensorboard extension is already loaded. To reload it, use:\n",
      "  %reload_ext tensorboard\n"
     ]
    }
   ],
   "source": [
    "# there are other ways of doing this: https://www.dlology.com/blog/quick-guide-to-run-tensorboard-in-google-colab/ you can try this way also\n",
    "%load_ext tensorboard"
   ]
  },
  {
   "cell_type": "code",
   "execution_count": 132,
   "metadata": {
    "id": "6yMTVCALUM-A"
   },
   "outputs": [
    {
     "data": {
      "text/html": [
       "\n",
       "      <iframe id=\"tensorboard-frame-837ff5291e9be86d\" width=\"100%\" height=\"800\" frameborder=\"0\">\n",
       "      </iframe>\n",
       "      <script>\n",
       "        (function() {\n",
       "          const frame = document.getElementById(\"tensorboard-frame-837ff5291e9be86d\");\n",
       "          const url = new URL(\"/\", window.location);\n",
       "          const port = 6007;\n",
       "          if (port) {\n",
       "            url.port = port;\n",
       "          }\n",
       "          frame.src = url;\n",
       "        })();\n",
       "      </script>\n",
       "    "
      ],
      "text/plain": [
       "<IPython.core.display.HTML object>"
      ]
     },
     "metadata": {},
     "output_type": "display_data"
    }
   ],
   "source": [
    "%tensorboard --logdir /Users/yamasanimanoj-kumarreddy/Documents/AAIC/Named_Assignments/Callbacks/Callbacks/model_2/Tensorboard_graphs"
   ]
  },
  {
   "cell_type": "markdown",
   "metadata": {
    "id": "nWj3ddNLUM-A"
   },
   "source": [
    "Uncomment the above cell and comment the below cell if you are running this notebook in local machine."
   ]
  },
  {
   "cell_type": "code",
   "execution_count": 133,
   "metadata": {
    "id": "b4G4qbGwGSvO"
   },
   "outputs": [],
   "source": [
    "# %tensorboard --logdir /content/drive/MyDrive/Named_Assignments/Callbacks/model_2/Tensorboard_graphs"
   ]
  },
  {
   "cell_type": "markdown",
   "metadata": {
    "id": "BKTaVMtC35yE"
   },
   "source": [
    "1. As we have intialized the weights with Random uniform(0,1), weight matrices are almost maintaining the same distribution even after some epochs.\n",
    "2. Even though we have used `relu` activation function, the updates in weights and biases are insignificant due to random uniform intialization. So we are not getting much improvement in the results. \n",
    "3. We have achieved these results\n",
    "* Micro F1 score - **0.5**\n",
    "* Area under the curve, AUC - **0.5**\n",
    "* Training Accuracy - **0.4958**\n",
    "* Validation Accuracy - **0.5**"
   ]
  },
  {
   "cell_type": "markdown",
   "metadata": {
    "id": "O1e2VaqfEEDE"
   },
   "source": [
    "<pre>\n",
    "<b>Model-3</b>\n",
    "<pre>\n",
    "1. Use relu as an activation for every layer except output layer.\n",
    "2. use SGD with momentum as optimizer.\n",
    "3. use he_uniform() as initilizer.\n",
    "3. Analyze your output and training process. \n",
    "</pre>\n",
    "</pre>"
   ]
  },
  {
   "cell_type": "code",
   "execution_count": 134,
   "metadata": {
    "id": "Mi8AKVySagy2"
   },
   "outputs": [],
   "source": [
    "import os\n",
    "import datetime\n",
    "from itertools import combinations"
   ]
  },
  {
   "cell_type": "code",
   "execution_count": 135,
   "metadata": {
    "id": "2Hpi9fZ5U3eC"
   },
   "outputs": [],
   "source": [
    "path_local = \"/Users/yamasanimanoj-kumarreddy/Documents/AAIC/Named_Assignments/Callbacks/Callbacks/\"\n",
    "model_saving_path = os.path.join(path_local,'model_3', \"weights\")\n",
    "graph_saving_dir = os.path.join(path_local,'model_3', \"Tensorboard_graphs\")"
   ]
  },
  {
   "cell_type": "markdown",
   "metadata": {
    "id": "O7fs-4W5Ujv9"
   },
   "source": [
    "Uncomment the above cell and comment the below cell if you are running this notebook in local machine."
   ]
  },
  {
   "cell_type": "code",
   "execution_count": 136,
   "metadata": {
    "id": "SMHON_JrU8IX"
   },
   "outputs": [],
   "source": [
    "# path = \"/content/drive/MyDrive/Named_Assignments/Callbacks/\"\n",
    "# model_saving_path = os.path.join(path,'model_3', \"weights\")\n",
    "# graph_saving_dir = os.path.join(path,'model_3', \"Tensorboard_graphs\")"
   ]
  },
  {
   "cell_type": "code",
   "execution_count": 137,
   "metadata": {
    "id": "lefws15VGZju"
   },
   "outputs": [],
   "source": [
    "f1_auc_callback = print_f1_auc(validation_data= [X_test_ftr,y_test])\n",
    "model_save_callback = model_save(model_saving_path)\n",
    "decay_learning_callback = decay_learning()\n",
    "patience = 2\n",
    "stop_train_on_valacc_callback = stop_train_on_valacc(patience)\n",
    "stop_train_on_nan_callback = stop_train_on_nan()\n",
    "\n",
    "tensorboard_callback = keras.callbacks.TensorBoard(log_dir=graph_saving_dir,histogram_freq=1,write_graph=True)\n",
    "\n",
    "callbacksList = [f1_auc_callback, model_save_callback, decay_learning_callback, stop_train_on_valacc_callback, stop_train_on_nan_callback, tensorboard_callback]"
   ]
  },
  {
   "cell_type": "code",
   "execution_count": 138,
   "metadata": {
    "id": "coVB3gV5Jj3_"
   },
   "outputs": [
    {
     "name": "stdout",
     "output_type": "stream",
     "text": [
      "Model: \"sequential_7\"\n",
      "_________________________________________________________________\n",
      " Layer (type)                Output Shape              Param #   \n",
      "=================================================================\n",
      " dense_1 (Dense)             (None, 128)               384       \n",
      "                                                                 \n",
      " dense_2 (Dense)             (None, 64)                8256      \n",
      "                                                                 \n",
      " dense_3 (Dense)             (None, 32)                2080      \n",
      "                                                                 \n",
      " dense_4 (Dense)             (None, 16)                528       \n",
      "                                                                 \n",
      " dense_5 (Dense)             (None, 8)                 136       \n",
      "                                                                 \n",
      " output (Dense)              (None, 1)                 9         \n",
      "                                                                 \n",
      "=================================================================\n",
      "Total params: 11,393\n",
      "Trainable params: 11,393\n",
      "Non-trainable params: 0\n",
      "_________________________________________________________________\n"
     ]
    }
   ],
   "source": [
    "initializer = keras.initializers.HeUniform()\n",
    "model = create_model('relu',initializer)\n",
    "eta = 0.0001\n",
    "optimizer = keras.optimizers.SGD(learning_rate=eta,momentum=0.9)\n",
    "model.compile(optimizer=optimizer,\n",
    "              metrics = [keras.metrics.BinaryAccuracy()],\n",
    "              loss=keras.losses.BinaryCrossentropy())\n",
    "model.summary()"
   ]
  },
  {
   "cell_type": "code",
   "execution_count": 139,
   "metadata": {
    "id": "W77_DJRrJj3_"
   },
   "outputs": [
    {
     "name": "stdout",
     "output_type": "stream",
     "text": [
      "Epoch 1/10\n",
      "  1/500 [..............................] - ETA: 3:13 - loss: 0.9625 - binary_accuracy: 0.4375WARNING:tensorflow:Callback method `on_train_batch_end` is slow compared to the batch time (batch time: 0.0026s vs `on_train_batch_end` time: 0.0030s). Check your callbacks.\n",
      "125/125 [==============================] - 0s 1ms/steposs: 0.7116 - binary_accuracy: \n",
      "\n",
      "Micro F1 by custom_function is  0.5\n",
      "Micro F1 by sklearn is 0.5\n",
      "AUC by sklearn is  0.589121\n",
      "AUC by custom_function is 0.589121\n",
      "saving the model as val_acc > prev_val_acc\n",
      "INFO:tensorflow:Assets written to: /Users/yamasanimanoj-kumarreddy/Documents/AAIC/Named_Assignments/Callbacks/Callbacks/model_3/weights/assets\n",
      "500/500 [==============================] - 74s 147ms/step - loss: 0.7114 - binary_accuracy: 0.4929 - val_loss: 0.6903 - val_binary_accuracy: 0.5000\n",
      "Epoch 2/10\n",
      "125/125 [==============================] - 0s 739us/steps: 0.6894 - binary_accuracy: 0.\n",
      "\n",
      "Micro F1 by custom_function is  0.5\n",
      "Micro F1 by sklearn is 0.5\n",
      "AUC by sklearn is  0.613290625\n",
      "AUC by custom_function is 0.613290625\n",
      "500/500 [==============================] - 70s 140ms/step - loss: 0.6894 - binary_accuracy: 0.5001 - val_loss: 0.6892 - val_binary_accuracy: 0.5000\n",
      "Epoch 3/10\n",
      "125/125 [==============================] - 0s 1ms/steposs: 0.6884 - binary_accuracy: \n",
      "\n",
      "Micro F1 by custom_function is  0.50075\n",
      "Micro F1 by sklearn is 0.50075\n",
      "AUC by sklearn is  0.62724275\n",
      "AUC by custom_function is 0.62724275\n",
      "saving the model as val_acc > prev_val_acc\n",
      "INFO:tensorflow:Assets written to: /Users/yamasanimanoj-kumarreddy/Documents/AAIC/Named_Assignments/Callbacks/Callbacks/model_3/weights/assets\n",
      "Setting the learning rate as epoch is multiple of 3\n",
      "500/500 [==============================] - 72s 144ms/step - loss: 0.6884 - binary_accuracy: 0.5005 - val_loss: 0.6882 - val_binary_accuracy: 0.5008\n",
      "Epoch 4/10\n",
      "125/125 [==============================] - 0s 692us/steps: 0.6874 - binary_accuracy: 0.\n",
      "\n",
      "Micro F1 by custom_function is  0.5035\n",
      "Micro F1 by sklearn is 0.5035\n",
      "AUC by sklearn is  0.639572625\n",
      "AUC by custom_function is 0.639572625\n",
      "saving the model as val_acc > prev_val_acc\n",
      "INFO:tensorflow:Assets written to: /Users/yamasanimanoj-kumarreddy/Documents/AAIC/Named_Assignments/Callbacks/Callbacks/model_3/weights/assets\n",
      "500/500 [==============================] - 73s 146ms/step - loss: 0.6875 - binary_accuracy: 0.5014 - val_loss: 0.6872 - val_binary_accuracy: 0.5035\n",
      "Epoch 5/10\n",
      "125/125 [==============================] - 0s 820us/steps: 0.6866 - binary_accuracy: \n",
      "\n",
      "Micro F1 by custom_function is  0.5065\n",
      "Micro F1 by sklearn is 0.5065\n",
      "AUC by sklearn is  0.650724625\n",
      "AUC by custom_function is 0.650724625\n",
      "saving the model as val_acc > prev_val_acc\n",
      "INFO:tensorflow:Assets written to: /Users/yamasanimanoj-kumarreddy/Documents/AAIC/Named_Assignments/Callbacks/Callbacks/model_3/weights/assets\n",
      "500/500 [==============================] - 70s 141ms/step - loss: 0.6865 - binary_accuracy: 0.5027 - val_loss: 0.6862 - val_binary_accuracy: 0.5065\n",
      "Epoch 6/10\n",
      "125/125 [==============================] - 0s 733us/steps: 0.6857 - binary_accuracy: 0.\n",
      "\n",
      "Micro F1 by custom_function is  0.50975\n",
      "Micro F1 by sklearn is 0.50975\n",
      "AUC by sklearn is  0.65802925\n",
      "AUC by custom_function is 0.65802925\n",
      "saving the model as val_acc > prev_val_acc\n",
      "INFO:tensorflow:Assets written to: /Users/yamasanimanoj-kumarreddy/Documents/AAIC/Named_Assignments/Callbacks/Callbacks/model_3/weights/assets\n",
      "Setting the learning rate as epoch is multiple of 3\n",
      "500/500 [==============================] - 68s 137ms/step - loss: 0.6856 - binary_accuracy: 0.5067 - val_loss: 0.6853 - val_binary_accuracy: 0.5098\n",
      "Epoch 7/10\n",
      "125/125 [==============================] - 0s 638us/steps: 0.6846 - binary_accuracy: 0.\n",
      "\n",
      "Micro F1 by custom_function is  0.51275\n",
      "Micro F1 by sklearn is 0.51275\n",
      "AUC by sklearn is  0.6646765\n",
      "AUC by custom_function is 0.6646765\n",
      "saving the model as val_acc > prev_val_acc\n",
      "INFO:tensorflow:Assets written to: /Users/yamasanimanoj-kumarreddy/Documents/AAIC/Named_Assignments/Callbacks/Callbacks/model_3/weights/assets\n",
      "500/500 [==============================] - 68s 135ms/step - loss: 0.6847 - binary_accuracy: 0.5106 - val_loss: 0.6844 - val_binary_accuracy: 0.5128\n",
      "Epoch 8/10\n",
      "125/125 [==============================] - 0s 568us/steps: 0.6840 - binary_accuracy: 0.\n",
      "\n",
      "Micro F1 by custom_function is  0.51725\n",
      "Micro F1 by sklearn is 0.51725\n",
      "AUC by sklearn is  0.6716701250000001\n",
      "AUC by custom_function is 0.671670125\n",
      "saving the model as val_acc > prev_val_acc\n",
      "INFO:tensorflow:Assets written to: /Users/yamasanimanoj-kumarreddy/Documents/AAIC/Named_Assignments/Callbacks/Callbacks/model_3/weights/assets\n",
      "500/500 [==============================] - 67s 134ms/step - loss: 0.6839 - binary_accuracy: 0.5139 - val_loss: 0.6835 - val_binary_accuracy: 0.5173\n",
      "Epoch 9/10\n",
      "125/125 [==============================] - 0s 582us/steps: 0.6831 - binary_accuracy: 0.\n",
      "\n",
      "Micro F1 by custom_function is  0.5215\n",
      "Micro F1 by sklearn is 0.5215\n",
      "AUC by sklearn is  0.6781792499999999\n",
      "AUC by custom_function is 0.6781792500000001\n",
      "saving the model as val_acc > prev_val_acc\n",
      "INFO:tensorflow:Assets written to: /Users/yamasanimanoj-kumarreddy/Documents/AAIC/Named_Assignments/Callbacks/Callbacks/model_3/weights/assets\n",
      "Setting the learning rate as epoch is multiple of 3\n",
      "500/500 [==============================] - 67s 135ms/step - loss: 0.6830 - binary_accuracy: 0.5202 - val_loss: 0.6825 - val_binary_accuracy: 0.5215\n",
      "Epoch 10/10\n",
      "125/125 [==============================] - 0s 614us/steps: 0.6821 - binary_accuracy: 0.\n",
      "\n",
      "Micro F1 by custom_function is  0.52975\n",
      "Micro F1 by sklearn is 0.52975\n",
      "AUC by sklearn is  0.68410025\n",
      "AUC by custom_function is 0.68410025\n",
      "saving the model as val_acc > prev_val_acc\n",
      "INFO:tensorflow:Assets written to: /Users/yamasanimanoj-kumarreddy/Documents/AAIC/Named_Assignments/Callbacks/Callbacks/model_3/weights/assets\n",
      "500/500 [==============================] - 68s 137ms/step - loss: 0.6821 - binary_accuracy: 0.5241 - val_loss: 0.6816 - val_binary_accuracy: 0.5297\n"
     ]
    },
    {
     "data": {
      "text/plain": [
       "<keras.callbacks.History at 0x7fd7caa991c0>"
      ]
     },
     "execution_count": 139,
     "metadata": {},
     "output_type": "execute_result"
    }
   ],
   "source": [
    "model.fit(X_train_ftr, y_train, epochs = 10,validation_data= (X_test_ftr,y_test), callbacks=callbacksList)"
   ]
  },
  {
   "cell_type": "code",
   "execution_count": 140,
   "metadata": {
    "id": "Wvo0Aw0eJcUy"
   },
   "outputs": [
    {
     "name": "stdout",
     "output_type": "stream",
     "text": [
      "The tensorboard extension is already loaded. To reload it, use:\n",
      "  %reload_ext tensorboard\n"
     ]
    }
   ],
   "source": [
    "# there are other ways of doing this: https://www.dlology.com/blog/quick-guide-to-run-tensorboard-in-google-colab/ you can try this way also\n",
    "%load_ext tensorboard"
   ]
  },
  {
   "cell_type": "code",
   "execution_count": 141,
   "metadata": {
    "id": "I_XWAVzCUUs9"
   },
   "outputs": [
    {
     "data": {
      "text/html": [
       "\n",
       "      <iframe id=\"tensorboard-frame-923ab7941c3ea318\" width=\"100%\" height=\"800\" frameborder=\"0\">\n",
       "      </iframe>\n",
       "      <script>\n",
       "        (function() {\n",
       "          const frame = document.getElementById(\"tensorboard-frame-923ab7941c3ea318\");\n",
       "          const url = new URL(\"/\", window.location);\n",
       "          const port = 6008;\n",
       "          if (port) {\n",
       "            url.port = port;\n",
       "          }\n",
       "          frame.src = url;\n",
       "        })();\n",
       "      </script>\n",
       "    "
      ],
      "text/plain": [
       "<IPython.core.display.HTML object>"
      ]
     },
     "metadata": {},
     "output_type": "display_data"
    }
   ],
   "source": [
    "%tensorboard --logdir /Users/yamasanimanoj-kumarreddy/Documents/AAIC/Named_Assignments/Callbacks/Callbacks/model_3/Tensorboard_graphs"
   ]
  },
  {
   "cell_type": "markdown",
   "metadata": {
    "id": "fwGDrYzyUUs9"
   },
   "source": [
    "Uncomment the above cell and comment the below cell if you are running this notebook in local machine."
   ]
  },
  {
   "cell_type": "code",
   "execution_count": 142,
   "metadata": {
    "id": "vBo2hlbeGU08"
   },
   "outputs": [],
   "source": [
    "# %tensorboard --logdir /content/drive/MyDrive/Named_Assignments/Callbacks/model_3/Tensorboard_graphs"
   ]
  },
  {
   "cell_type": "markdown",
   "metadata": {
    "id": "ZoCeTqYp5E2y"
   },
   "source": [
    "\n",
    "1. As we have intialized the weights with He uniform, weight matrices are almost maintaining the same distribution even after many epochs.\n",
    "3. From the distribution of weight matrices and bias vectors, we can observe a significant change in all w,b matirces of all layers except 1st dense layer from first epoch to last epoch. \n",
    "4. As we have used `relu` activation function, we got more update in the weights and biases and there is an improvemnt shown in the accuracy as well. \n",
    "3. We have achieved these results\n",
    "* Micro F1 score - **0.52975**\n",
    "* Area under the curve, AUC - **0.6841**\n",
    "* Training Accuracy - **0.5241**\n",
    "* Validation Accuracy - **0.5297**\n",
    "\n",
    "From Random Uniform to He uniform intialization, we can obseve these two differences. \n",
    "1. In Random Uniform intialization we are restricting the values of weight and bias matrices to come from only [0,1] range. \n",
    "2. But in He uniform we are intializing as sqrt(6/fan_in). As we have different layers and as layers have different fan_ins. We get different ranges of weights and bias for each layer. Due to this model will be able to learn different patterns of the data. \n",
    "3. Conclusion from the above is we should always try to intialize the weights and biases with different values, so that model can learn difffernt patterns of the data. "
   ]
  },
  {
   "cell_type": "markdown",
   "metadata": {
    "id": "w41Y3TFENCXk"
   },
   "source": [
    "\n",
    "\n",
    "\n",
    "<pre>\n",
    "<b>Model-4</b>\n",
    "<pre>\n",
    "1. Try with any values to get better accuracy/f1 score.  \n",
    "</pre>\n",
    "</pre>"
   ]
  },
  {
   "cell_type": "code",
   "execution_count": 143,
   "metadata": {
    "id": "SIgyZvWHajTG"
   },
   "outputs": [],
   "source": [
    "import os\n",
    "import datetime\n",
    "from itertools import combinations"
   ]
  },
  {
   "cell_type": "code",
   "execution_count": 144,
   "metadata": {
    "id": "sfyW1qWTV7n_"
   },
   "outputs": [],
   "source": [
    "path_local = \"/Users/yamasanimanoj-kumarreddy/Documents/AAIC/Named_Assignments/Callbacks/Callbacks/\"\n",
    "model_saving_path = os.path.join(path_local,'model_4', \"weights\")\n",
    "graph_saving_dir = os.path.join(path_local,'model_4', \"Tensorboard_graphs\")"
   ]
  },
  {
   "cell_type": "markdown",
   "metadata": {
    "id": "ZURdzWjvV7oA"
   },
   "source": [
    "Uncomment the above cell and comment the below cell if you are running this notebook in local machine."
   ]
  },
  {
   "cell_type": "code",
   "execution_count": 145,
   "metadata": {
    "id": "3U_mA8H0V7oA"
   },
   "outputs": [],
   "source": [
    "# path = \"/content/drive/MyDrive/Named_Assignments/Callbacks/\"\n",
    "# model_saving_path = os.path.join(path,'model_4', \"weights\")\n",
    "# graph_saving_dir = os.path.join(path,'model_4', \"Tensorboard_graphs\")"
   ]
  },
  {
   "cell_type": "code",
   "execution_count": 146,
   "metadata": {
    "id": "E4xMsgpWGdMp"
   },
   "outputs": [],
   "source": [
    "f1_auc_callback = print_f1_auc(validation_data= [X_test_ftr,y_test])\n",
    "model_save_callback = model_save(model_saving_path)\n",
    "decay_learning_callback = decay_learning()\n",
    "patience = 2\n",
    "stop_train_on_valacc_callback = stop_train_on_valacc(patience)\n",
    "stop_train_on_nan_callback = stop_train_on_nan()\n",
    "\n",
    "tensorboard_callback = keras.callbacks.TensorBoard(log_dir=graph_saving_dir,histogram_freq=1,write_graph=True)\n",
    "\n",
    "callbacksList = [f1_auc_callback, model_save_callback, decay_learning_callback, stop_train_on_valacc_callback, stop_train_on_nan_callback, tensorboard_callback]"
   ]
  },
  {
   "cell_type": "code",
   "execution_count": 147,
   "metadata": {
    "id": "f6zwOAe7KF5M"
   },
   "outputs": [
    {
     "name": "stdout",
     "output_type": "stream",
     "text": [
      "Model: \"sequential_8\"\n",
      "_________________________________________________________________\n",
      " Layer (type)                Output Shape              Param #   \n",
      "=================================================================\n",
      " dense_1 (Dense)             (None, 128)               384       \n",
      "                                                                 \n",
      " dense_2 (Dense)             (None, 64)                8256      \n",
      "                                                                 \n",
      " dense_3 (Dense)             (None, 32)                2080      \n",
      "                                                                 \n",
      " dense_4 (Dense)             (None, 16)                528       \n",
      "                                                                 \n",
      " dense_5 (Dense)             (None, 8)                 136       \n",
      "                                                                 \n",
      " output (Dense)              (None, 1)                 9         \n",
      "                                                                 \n",
      "=================================================================\n",
      "Total params: 11,393\n",
      "Trainable params: 11,393\n",
      "Non-trainable params: 0\n",
      "_________________________________________________________________\n"
     ]
    }
   ],
   "source": [
    "initializer = keras.initializers.HeUniform()\n",
    "model = create_model('relu',initializer)\n",
    "eta = 0.0001\n",
    "optimizer = keras.optimizers.Adam(learning_rate=eta)\n",
    "model.compile(optimizer=optimizer,\n",
    "              metrics = [keras.metrics.BinaryAccuracy()],\n",
    "              loss=keras.losses.BinaryCrossentropy())\n",
    "model.summary()"
   ]
  },
  {
   "cell_type": "code",
   "execution_count": 148,
   "metadata": {
    "id": "DL--2-y9KF5M"
   },
   "outputs": [
    {
     "name": "stdout",
     "output_type": "stream",
     "text": [
      "Epoch 1/10\n",
      "125/125 [==============================] - 0s 611us/steps: 0.6925 - binary_accuracy: 0.\n",
      "\n",
      "Micro F1 by custom_function is  0.531\n",
      "Micro F1 by sklearn is 0.531\n",
      "AUC by sklearn is  0.6460937499999999\n",
      "AUC by custom_function is 0.64609375\n",
      "saving the model as val_acc > prev_val_acc\n",
      "INFO:tensorflow:Assets written to: /Users/yamasanimanoj-kumarreddy/Documents/AAIC/Named_Assignments/Callbacks/Callbacks/model_4/weights/assets\n",
      "500/500 [==============================] - 70s 139ms/step - loss: 0.6922 - binary_accuracy: 0.5051 - val_loss: 0.6836 - val_binary_accuracy: 0.5310\n",
      "Epoch 2/10\n",
      "125/125 [==============================] - 0s 602us/steps: 0.6807 - binary_accuracy: 0.\n",
      "\n",
      "Micro F1 by custom_function is  0.54675\n",
      "Micro F1 by sklearn is 0.54675\n",
      "AUC by sklearn is  0.6455575\n",
      "AUC by custom_function is 0.6455575\n",
      "saving the model as val_acc > prev_val_acc\n",
      "INFO:tensorflow:Assets written to: /Users/yamasanimanoj-kumarreddy/Documents/AAIC/Named_Assignments/Callbacks/Callbacks/model_4/weights/assets\n",
      "500/500 [==============================] - 68s 136ms/step - loss: 0.6805 - binary_accuracy: 0.5400 - val_loss: 0.6770 - val_binary_accuracy: 0.5468\n",
      "Epoch 3/10\n",
      "125/125 [==============================] - 0s 609us/steps: 0.6664 - binary_accuracy: 0.\n",
      "\n",
      "Micro F1 by custom_function is  0.6345\n",
      "Micro F1 by sklearn is 0.6345\n",
      "AUC by sklearn is  0.7058344999999999\n",
      "AUC by custom_function is 0.7058344999999999\n",
      "saving the model as val_acc > prev_val_acc\n",
      "INFO:tensorflow:Assets written to: /Users/yamasanimanoj-kumarreddy/Documents/AAIC/Named_Assignments/Callbacks/Callbacks/model_4/weights/assets\n",
      "Setting the learning rate as epoch is multiple of 3\n",
      "500/500 [==============================] - 68s 137ms/step - loss: 0.6662 - binary_accuracy: 0.5994 - val_loss: 0.6544 - val_binary_accuracy: 0.6345\n",
      "Epoch 4/10\n",
      "125/125 [==============================] - 0s 749us/steps: 0.6480 - binary_accuracy: 0.\n",
      "\n",
      "Micro F1 by custom_function is  0.66375\n",
      "Micro F1 by sklearn is 0.66375\n",
      "AUC by sklearn is  0.7281407499999999\n",
      "AUC by custom_function is 0.72814075\n",
      "saving the model as val_acc > prev_val_acc\n",
      "INFO:tensorflow:Assets written to: /Users/yamasanimanoj-kumarreddy/Documents/AAIC/Named_Assignments/Callbacks/Callbacks/model_4/weights/assets\n",
      "500/500 [==============================] - 71s 142ms/step - loss: 0.6480 - binary_accuracy: 0.6425 - val_loss: 0.6367 - val_binary_accuracy: 0.6637\n",
      "Epoch 5/10\n",
      "125/125 [==============================] - 0s 2ms/steposs: 0.6334 - binary_accuracy\n",
      "\n",
      "Micro F1 by custom_function is  0.66275\n",
      "Micro F1 by sklearn is 0.66275\n",
      "AUC by sklearn is  0.727806875\n",
      "AUC by custom_function is 0.727806875\n",
      "Setting the learning rate as val_acc < prev_val_acc\n",
      "500/500 [==============================] - 73s 146ms/step - loss: 0.6332 - binary_accuracy: 0.6574 - val_loss: 0.6251 - val_binary_accuracy: 0.6628\n",
      "Epoch 6/10\n",
      "125/125 [==============================] - 0s 753us/steps: 0.6204 - binary_accuracy: 0.\n",
      "\n",
      "Micro F1 by custom_function is  0.66625\n",
      "Micro F1 by sklearn is 0.66625\n",
      "AUC by sklearn is  0.735336\n",
      "AUC by custom_function is 0.735336\n",
      "saving the model as val_acc > prev_val_acc\n",
      "INFO:tensorflow:Assets written to: /Users/yamasanimanoj-kumarreddy/Documents/AAIC/Named_Assignments/Callbacks/Callbacks/model_4/weights/assets\n",
      "Setting the learning rate as epoch is multiple of 3\n",
      "500/500 [==============================] - 71s 143ms/step - loss: 0.6204 - binary_accuracy: 0.6622 - val_loss: 0.6168 - val_binary_accuracy: 0.6662\n",
      "Epoch 7/10\n",
      "125/125 [==============================] - 0s 619us/steps: 0.6140 - binary_accuracy: 0.\n",
      "\n",
      "Micro F1 by custom_function is  0.671\n",
      "Micro F1 by sklearn is 0.671\n",
      "AUC by sklearn is  0.7357684999999999\n",
      "AUC by custom_function is 0.7357685\n",
      "saving the model as val_acc > prev_val_acc\n",
      "INFO:tensorflow:Assets written to: /Users/yamasanimanoj-kumarreddy/Documents/AAIC/Named_Assignments/Callbacks/Callbacks/model_4/weights/assets\n",
      "500/500 [==============================] - 72s 145ms/step - loss: 0.6140 - binary_accuracy: 0.6659 - val_loss: 0.6093 - val_binary_accuracy: 0.6710\n",
      "Epoch 8/10\n",
      "125/125 [==============================] - 0s 864us/steps: 0.6092 - binary_accuracy: \n",
      "\n",
      "Micro F1 by custom_function is  0.6675\n",
      "Micro F1 by sklearn is 0.6675\n",
      "AUC by sklearn is  0.7359469999999999\n",
      "AUC by custom_function is 0.735947\n",
      "Setting the learning rate as val_acc < prev_val_acc\n",
      "500/500 [==============================] - 69s 139ms/step - loss: 0.6091 - binary_accuracy: 0.6657 - val_loss: 0.6063 - val_binary_accuracy: 0.6675\n",
      "Epoch 9/10\n",
      "125/125 [==============================] - 0s 771us/steps: 0.6065 - binary_accuracy: 0.\n",
      "\n",
      "Micro F1 by custom_function is  0.66675\n",
      "Micro F1 by sklearn is 0.66675\n",
      "AUC by sklearn is  0.733200625\n",
      "AUC by custom_function is 0.7332006249999999\n",
      "Setting the learning rate as val_acc < prev_val_acc\n",
      "Setting the learning rate as epoch is multiple of 3\n",
      "Stopping the model Training as val_acc <= prev_val_acc for continuous 2 epochs\n",
      "500/500 [==============================] - 69s 139ms/step - loss: 0.6069 - binary_accuracy: 0.6683 - val_loss: 0.6129 - val_binary_accuracy: 0.6668\n"
     ]
    },
    {
     "data": {
      "text/plain": [
       "<keras.callbacks.History at 0x7fd7c77a1af0>"
      ]
     },
     "execution_count": 148,
     "metadata": {},
     "output_type": "execute_result"
    }
   ],
   "source": [
    "model.fit(X_train_ftr, y_train, epochs = 10,validation_data= (X_test_ftr,y_test), callbacks=callbacksList)"
   ]
  },
  {
   "cell_type": "code",
   "execution_count": 149,
   "metadata": {
    "id": "mXhQmOTIJdO-"
   },
   "outputs": [
    {
     "name": "stdout",
     "output_type": "stream",
     "text": [
      "The tensorboard extension is already loaded. To reload it, use:\n",
      "  %reload_ext tensorboard\n"
     ]
    }
   ],
   "source": [
    "# there are other ways of doing this: https://www.dlology.com/blog/quick-guide-to-run-tensorboard-in-google-colab/ you can try this way also\n",
    "%load_ext tensorboard"
   ]
  },
  {
   "cell_type": "code",
   "execution_count": 150,
   "metadata": {
    "id": "SSDlcFIoWF5M"
   },
   "outputs": [
    {
     "data": {
      "text/plain": [
       "Reusing TensorBoard on port 6008 (pid 38245), started 0:10:33 ago. (Use '!kill 38245' to kill it.)"
      ]
     },
     "metadata": {},
     "output_type": "display_data"
    },
    {
     "data": {
      "text/html": [
       "\n",
       "      <iframe id=\"tensorboard-frame-957689c7feb562ac\" width=\"100%\" height=\"800\" frameborder=\"0\">\n",
       "      </iframe>\n",
       "      <script>\n",
       "        (function() {\n",
       "          const frame = document.getElementById(\"tensorboard-frame-957689c7feb562ac\");\n",
       "          const url = new URL(\"/\", window.location);\n",
       "          const port = 6008;\n",
       "          if (port) {\n",
       "            url.port = port;\n",
       "          }\n",
       "          frame.src = url;\n",
       "        })();\n",
       "      </script>\n",
       "    "
      ],
      "text/plain": [
       "<IPython.core.display.HTML object>"
      ]
     },
     "metadata": {},
     "output_type": "display_data"
    }
   ],
   "source": [
    "%tensorboard --logdir /Users/yamasanimanoj-kumarreddy/Documents/AAIC/Named_Assignments/Callbacks/Callbacks/model_3/Tensorboard_graphs"
   ]
  },
  {
   "cell_type": "markdown",
   "metadata": {
    "id": "afxHvt00WF5N"
   },
   "source": [
    "Uncomment the above cell and comment the below cell if you are running this notebook in local machine."
   ]
  },
  {
   "cell_type": "code",
   "execution_count": 151,
   "metadata": {
    "id": "Tgq4by8oGjHz"
   },
   "outputs": [],
   "source": [
    "# %tensorboard --logdir /content/drive/MyDrive/Named_Assignments/Callbacks/model_4/Tensorboard_graphs"
   ]
  },
  {
   "cell_type": "markdown",
   "metadata": {
    "id": "2AZnqa42-GMk"
   },
   "source": [
    "\n",
    "1. As we have intialized the weights with He uniform, weight matrices are almost maintaining the same distribution even after many epochs.\n",
    "3. From the distribution of weight matrices and bias vectors, we can observe a significant change in all w,b matirces of all layers except 1st dense layer from first epoch to last epoch. \n",
    "4. As we have used `relu` activation function, we got more update in the weights and biases and there is an improvemnt shown in the accuracy as well. \n",
    "3. We have achieved these results\n",
    "* Micro F1 score - **0.6675**\n",
    "* Area under the curve, AUC - **0.7332**\n",
    "* Training Accuracy - **0.6683**\n",
    "* Validation Accuracy - **0.6668**\n",
    "\n",
    "1. From the above we can observe that AUC = 0.7332 which implies model a good classifier. \n",
    "2. F1 score = 0.6675 also represents model as a good classifier. \n",
    "\n",
    "From Model_3 to Model_4 we can observe these differences. \n",
    "1. Even though we have taken care of decreasing learning rate for every 3 epochs, SGD with momentum could not acheive better results than Adam optimizer. This is due to adapting change in the learning rate in Adam optimizer."
   ]
  },
  {
   "cell_type": "markdown",
   "metadata": {
    "id": "aP3-7U_4LhC6"
   },
   "source": [
    "# Note \n",
    "Make sure that you are plotting tensorboard plots either in your notebook or you can try to create a pdf file with all the tensorboard screenshots.Please write your analysis of tensorboard results for each model.\n"
   ]
  },
  {
   "cell_type": "markdown",
   "metadata": {
    "id": "9zGDc0D4TVhy"
   },
   "source": [
    "To achieve best model's performance, we can observe From above all models that\n",
    "1. By trying to have different weight and bias values we can make our model to learn different patterns of data. \n",
    "2. By decreasing the learning rate based on the above conditions, we could achieve better optimization of loss function. \n",
    "3. Always try with multiple optimizers to get better results. "
   ]
  }
 ],
 "metadata": {
  "colab": {
   "collapsed_sections": [],
   "name": "Call_Backs_Assignment.ipynb",
   "provenance": []
  },
  "gpuClass": "standard",
  "kernelspec": {
   "display_name": "Python 3 (ipykernel)",
   "language": "python",
   "name": "python3"
  },
  "language_info": {
   "codemirror_mode": {
    "name": "ipython",
    "version": 3
   },
   "file_extension": ".py",
   "mimetype": "text/x-python",
   "name": "python",
   "nbconvert_exporter": "python",
   "pygments_lexer": "ipython3",
   "version": "3.9.7"
  }
 },
 "nbformat": 4,
 "nbformat_minor": 1
}
